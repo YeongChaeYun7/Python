{
  "nbformat": 4,
  "nbformat_minor": 0,
  "metadata": {
    "colab": {
      "name": "data_structure_09.ipynb",
      "provenance": [],
      "collapsed_sections": [],
      "authorship_tag": "ABX9TyPB253M0bw/qCBltOIMn0nj"
    },
    "kernelspec": {
      "name": "python3",
      "display_name": "Python 3"
    },
    "language_info": {
      "name": "python"
    }
  },
  "cells": [
    {
      "cell_type": "markdown",
      "source": [
        "# 탐색(searching)\n",
        "\n",
        ": 테이블에서 원하는 탐색키를 가진 레코드를 찾는 작업\n",
        "\n",
        "테이블(table): 레코드들의 집합\n",
        "\n",
        "탐색키(search key): 레코드를 구별하여 인식할 수 있는 키\n",
        "\n",
        ">맵(map)\n",
        ": 탐색을 위한 자료구조. 엔트리라는 키를 가진 레코드의 집합\n",
        "\n",
        "자료구조에서의 맵은 딕셔너리(dictionary)로 많이 구현하고 리스트(list), 튜플(tuple) 모두 표현 가능하다.\n",
        "\n",
        "주의할 점은, 맵에 원 데이터의 모든 데이터가 있는건 아니다.설계에 따라 다름\n",
        "\n",
        ">엔트리(entry)\n",
        " \n",
        " key: 영단어나 사람의 이름과 같은 레코드를 구분할 수 있는 탐색키\n",
        "\n",
        " value: 영단어의 의미나 사람의 주소와 같이 탐색키와  관련된 값\n",
        ">맵 구현 방법\n",
        "\n",
        "리스트 이용 - 정렬 / 비정렬\n",
        "이진탐색트리 - 정렬(맵의 탐색 성능 향상 가능)\n",
        "해싱 - 정렬"
      ],
      "metadata": {
        "id": "SryggqqUThi1"
      }
    },
    {
      "cell_type": "markdown",
      "source": [
        "# 탐색 알고리즘 - 순차 탐색(sequential search)\n",
        "\n",
        "가장 직관적인 방법\n",
        "\n",
        "테이블의 각 레코드를 처음부터 하나씩 순서대로 검사\n",
        "\n",
        "정렬되지 않은 테이블에도 적용 가능"
      ],
      "metadata": {
        "id": "FB-KNABEWBED"
      }
    },
    {
      "cell_type": "code",
      "source": [
        "a={0:9,1:5,2:8,3:3,4:7}"
      ],
      "metadata": {
        "id": "mNRiZL350pfh"
      },
      "execution_count": null,
      "outputs": []
    },
    {
      "cell_type": "code",
      "source": [
        "def sequentialSearch(a,key,low,high):\n",
        "  for i in range(low, high+1): # for문의 range 범위라서 high + 1\n",
        "    if a[i] == key:\n",
        "      return i\n",
        "  return None\n",
        "\n",
        "sequentialSearch(a,8,0,9)"
      ],
      "metadata": {
        "colab": {
          "base_uri": "https://localhost:8080/"
        },
        "id": "Y9Z7Y7vB5E2w",
        "outputId": "35d7b040-ab50-4133-d327-6f7298293594"
      },
      "execution_count": null,
      "outputs": [
        {
          "output_type": "execute_result",
          "data": {
            "text/plain": [
              "2"
            ]
          },
          "metadata": {},
          "execution_count": 29
        }
      ]
    },
    {
      "cell_type": "markdown",
      "source": [
        "# 탐색 알고리즘 - 이진 탐색(binary search)\n",
        "\n",
        ": 테이블의 중앙에 있는 값(middle)을 기준으로 찾는 값이 왼쪽에 가까운지, 오른쪽에 가까운지  판단\n",
        "\n",
        "판단을 반복할 수록 검색할 함목 수가 반으로 감소  \n",
        "\n",
        "정렬된 테이블 검색에 적합\n",
        "\n",
        "초반엔 이진탐색으로 범위를 좁혀 순차 탐색으로 찾는 응용도 가능\n"
      ],
      "metadata": {
        "id": "LHHZ-5z1WMpS"
      }
    },
    {
      "cell_type": "code",
      "source": [
        "a = {0:2, 1:6, 2:11, 3:13, 4:18, 5:20, 6:22, 7:27, 8:29, 9:30, 10:34, 11:38, 12:41, 13:42, 14:45, 15:47}"
      ],
      "metadata": {
        "id": "HYHDDDT3Kf9a"
      },
      "execution_count": null,
      "outputs": []
    },
    {
      "cell_type": "code",
      "source": [
        "#정렬 방법 = 순환적 방법\n",
        "def binarySearch(a,key,low,high):\n",
        "  if (low <= high): # low와 high의 값이 역전될 경우. 더이상 탐색 필요가 없어짐\n",
        "    middle = (low+high) // 2 # middle(분할의 기준 값) 계산\n",
        "    if key == a[middle]: return middle \n",
        "    elif (key<a[middle]):\n",
        "      return binarySearch(a,key,low,middle-1) # 순환/재귀 -> 자기자신을 호출하면 속도가 느려져서 지양\n",
        "    else:\n",
        "      return binarySearch(a,key,middle+1,high) \n",
        "  return None\n",
        "\n",
        "res = binarySearch(a,34,0,15)\n",
        "print(res,'번째 인덱스에 있음')"
      ],
      "metadata": {
        "id": "--q26gpQWWeP",
        "colab": {
          "base_uri": "https://localhost:8080/"
        },
        "outputId": "f5688e84-eab6-4c8f-fcf2-2da481d7d1cf"
      },
      "execution_count": null,
      "outputs": [
        {
          "output_type": "stream",
          "name": "stdout",
          "text": [
            "10 번째 인덱스에 있음\n"
          ]
        }
      ]
    },
    {
      "cell_type": "code",
      "source": [
        "# 비정렬 방법\n",
        "def binarySearchIter(a,key,low,high):\n",
        "  if (low <= high):\n",
        "    middle = (low+high) // 2\n",
        "    if key == a[middle]: return middle\n",
        "    elif (key>a[middle]):\n",
        "      low = middle + 1\n",
        "    else:\n",
        "      high = middle - 1\n",
        "  return None\n",
        "\n",
        "res = binarySearch(a,34,0,15)\n",
        "print(res,'번째 인덱스에 있음')"
      ],
      "metadata": {
        "colab": {
          "base_uri": "https://localhost:8080/"
        },
        "id": "DH3LBqZ6LP0A",
        "outputId": "2bdfe554-cec2-466d-992e-953f38b1e721"
      },
      "execution_count": null,
      "outputs": [
        {
          "output_type": "stream",
          "name": "stdout",
          "text": [
            "10 번째 인덱스에 있음\n"
          ]
        }
      ]
    },
    {
      "cell_type": "markdown",
      "source": [
        "# 탐색 알고리즘 - 보간 탐색(interpolation search)\n",
        "\n",
        "이진탐색의 일종으로, middle값을 중앙값이 아니라 예측해서 할당\n",
        "\n",
        "정렬된 테이블에 사용하기 적합하다\n",
        "\n",
        "탐색값과 위치는 비례한다는 가정하에 리스트 분할함\n",
        "\n",
        "middle = low + (high - low) * (k - a[low]) / (a[high] - a[low])\n"
      ],
      "metadata": {
        "id": "Yqs_x08tWW0u"
      }
    },
    {
      "cell_type": "code",
      "source": [
        "def interpolationSearch(a,key,low,high):\n",
        "  if (low <= high): # low와 high의 값이 역전될 경우\n",
        "    middle = int(low + (high - low) * (key - a[low]) / (a[high] - a[low])) \n",
        "    # middle 계산. 인덱스로 들어갈 값이기 때문에 int처리로 정수만들어줘야 함\n",
        "    if key == a[middle]: return middle \n",
        "    elif (key < a[middle].key):\n",
        "      return binarySearch(a,key,low,middle-1)\n",
        "    else:\n",
        "      return binarySearch(a,key,middle+1,high) \n",
        "  return None\n",
        "\n",
        "res = interpolationSearch(a,34,0,15)\n",
        "print(res,'번째 인덱스에 있음')"
      ],
      "metadata": {
        "id": "sHwZFajekIF4",
        "colab": {
          "base_uri": "https://localhost:8080/"
        },
        "outputId": "b9cc6b77-0542-403b-862c-e5952edfde9c"
      },
      "execution_count": null,
      "outputs": [
        {
          "output_type": "stream",
          "name": "stdout",
          "text": [
            "10 번째 인덱스에 있음\n"
          ]
        }
      ]
    }
  ]
}