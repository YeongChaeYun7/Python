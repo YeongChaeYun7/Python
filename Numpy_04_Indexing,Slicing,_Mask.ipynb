{
  "nbformat": 4,
  "nbformat_minor": 0,
  "metadata": {
    "colab": {
      "name": "Numpy_04_Indexing,Slicing, Mask.ipynb",
      "provenance": [],
      "collapsed_sections": [],
      "authorship_tag": "ABX9TyNV3XbPZ/2oQ7blydJ+Qbpw"
    },
    "kernelspec": {
      "name": "python3",
      "display_name": "Python 3"
    },
    "language_info": {
      "name": "python"
    }
  },
  "cells": [
    {
      "cell_type": "markdown",
      "source": [
        "# Array Indexing,  Slicing\n",
        "\n",
        "Numpy에서 사용되는 Indexing과  Slicing은 기본적으로 Python 과 동일\n",
        "\n",
        "주의할 점은, Python에서와 같이 1번째로 시작하는 것이 아니라 0번째로 시작함\n"
      ],
      "metadata": {
        "id": "9AhP06Tad1-Q"
      }
    },
    {
      "cell_type": "code",
      "execution_count": 1,
      "metadata": {
        "id": "wsCyBShZSOV5"
      },
      "outputs": [],
      "source": [
        "import numpy as np"
      ]
    },
    {
      "cell_type": "markdown",
      "source": [
        "1D Array"
      ],
      "metadata": {
        "id": "wwpJVhqMZDvp"
      }
    },
    {
      "cell_type": "code",
      "source": [
        "arr1 = np.arange(10)\n",
        "arr1"
      ],
      "metadata": {
        "id": "aE97quVPRdJo",
        "colab": {
          "base_uri": "https://localhost:8080/"
        },
        "outputId": "9a2386ca-a870-4d53-f0ad-9a831940db4a"
      },
      "execution_count": 2,
      "outputs": [
        {
          "output_type": "execute_result",
          "data": {
            "text/plain": [
              "array([0, 1, 2, 3, 4, 5, 6, 7, 8, 9])"
            ]
          },
          "metadata": {},
          "execution_count": 2
        }
      ]
    },
    {
      "cell_type": "code",
      "source": [
        "arr1[1]"
      ],
      "metadata": {
        "id": "iXu5nnQsTiHP",
        "colab": {
          "base_uri": "https://localhost:8080/"
        },
        "outputId": "a0868c74-ada7-4901-9eaf-3615fd5d0987"
      },
      "execution_count": 3,
      "outputs": [
        {
          "output_type": "execute_result",
          "data": {
            "text/plain": [
              "1"
            ]
          },
          "metadata": {},
          "execution_count": 3
        }
      ]
    },
    {
      "cell_type": "code",
      "source": [
        "arr1[3:9]"
      ],
      "metadata": {
        "id": "sislBoPOTlzf",
        "colab": {
          "base_uri": "https://localhost:8080/"
        },
        "outputId": "0b3043ee-3b9c-4c45-d486-f35039ec846b"
      },
      "execution_count": 4,
      "outputs": [
        {
          "output_type": "execute_result",
          "data": {
            "text/plain": [
              "array([3, 4, 5, 6, 7, 8])"
            ]
          },
          "metadata": {},
          "execution_count": 4
        }
      ]
    },
    {
      "cell_type": "code",
      "source": [
        "arr1[:]"
      ],
      "metadata": {
        "id": "WWQjQb78Tlq3",
        "colab": {
          "base_uri": "https://localhost:8080/"
        },
        "outputId": "ae7346a9-db64-4379-dfc0-0bc255294b36"
      },
      "execution_count": 5,
      "outputs": [
        {
          "output_type": "execute_result",
          "data": {
            "text/plain": [
              "array([0, 1, 2, 3, 4, 5, 6, 7, 8, 9])"
            ]
          },
          "metadata": {},
          "execution_count": 5
        }
      ]
    },
    {
      "cell_type": "code",
      "source": [
        "arr1[::-1]"
      ],
      "metadata": {
        "colab": {
          "base_uri": "https://localhost:8080/"
        },
        "id": "gqJPQiLpeCJx",
        "outputId": "81186915-029b-49d6-88f5-168738e0428a"
      },
      "execution_count": 6,
      "outputs": [
        {
          "output_type": "execute_result",
          "data": {
            "text/plain": [
              "array([9, 8, 7, 6, 5, 4, 3, 2, 1, 0])"
            ]
          },
          "metadata": {},
          "execution_count": 6
        }
      ]
    },
    {
      "cell_type": "code",
      "source": [
        "arr1[-1:]"
      ],
      "metadata": {
        "colab": {
          "base_uri": "https://localhost:8080/"
        },
        "id": "gOhFpcx_eIRj",
        "outputId": "97ab0abf-25d7-42fa-af01-073eea8c970f"
      },
      "execution_count": 7,
      "outputs": [
        {
          "output_type": "execute_result",
          "data": {
            "text/plain": [
              "array([9])"
            ]
          },
          "metadata": {},
          "execution_count": 7
        }
      ]
    },
    {
      "cell_type": "markdown",
      "source": [
        "2D Array"
      ],
      "metadata": {
        "id": "tTi-6SxTTyMU"
      }
    },
    {
      "cell_type": "code",
      "source": [
        "arr2 = np.array([[1,2,3,4],[5,6,7,8],[9,10,11,12]])\n",
        "arr2"
      ],
      "metadata": {
        "id": "gqNVq1wLT6KE",
        "colab": {
          "base_uri": "https://localhost:8080/"
        },
        "outputId": "436e6cfa-756d-479d-a03e-c850a3c4b535"
      },
      "execution_count": 8,
      "outputs": [
        {
          "output_type": "execute_result",
          "data": {
            "text/plain": [
              "array([[ 1,  2,  3,  4],\n",
              "       [ 5,  6,  7,  8],\n",
              "       [ 9, 10, 11, 12]])"
            ]
          },
          "metadata": {},
          "execution_count": 8
        }
      ]
    },
    {
      "cell_type": "code",
      "source": [
        "# 2차원 array인덱싱을 위해선 2개 인자 입력 필요\n",
        "arr2[0,0]"
      ],
      "metadata": {
        "id": "WJQkPq48UKTd",
        "colab": {
          "base_uri": "https://localhost:8080/"
        },
        "outputId": "dc0d5cc5-8f52-473b-8bc7-7894780c1617"
      },
      "execution_count": 9,
      "outputs": [
        {
          "output_type": "execute_result",
          "data": {
            "text/plain": [
              "1"
            ]
          },
          "metadata": {},
          "execution_count": 9
        }
      ]
    },
    {
      "cell_type": "code",
      "source": [
        "arr2[2,:] # 2행의 모든 요소 꺼내기"
      ],
      "metadata": {
        "id": "ELs8EY_JUfZv",
        "colab": {
          "base_uri": "https://localhost:8080/"
        },
        "outputId": "a2d1bab9-b69d-4810-8b7a-640eca2e10f0"
      },
      "execution_count": 10,
      "outputs": [
        {
          "output_type": "execute_result",
          "data": {
            "text/plain": [
              "array([ 9, 10, 11, 12])"
            ]
          },
          "metadata": {},
          "execution_count": 10
        }
      ]
    },
    {
      "cell_type": "code",
      "source": [
        "arr2[:,3] # 모든 행의 3번째 요소 꺼내기"
      ],
      "metadata": {
        "id": "k1XBW5nbUfXL",
        "colab": {
          "base_uri": "https://localhost:8080/"
        },
        "outputId": "5ab86c85-7f0e-4646-8ec5-2f7f2fc0efe5"
      },
      "execution_count": 11,
      "outputs": [
        {
          "output_type": "execute_result",
          "data": {
            "text/plain": [
              "array([ 4,  8, 12])"
            ]
          },
          "metadata": {},
          "execution_count": 11
        }
      ]
    },
    {
      "cell_type": "code",
      "source": [
        "arr2[-1:]"
      ],
      "metadata": {
        "colab": {
          "base_uri": "https://localhost:8080/"
        },
        "id": "lUmH1QvDeUkW",
        "outputId": "c084e804-9b94-4099-99ea-d05560ab54e9"
      },
      "execution_count": 12,
      "outputs": [
        {
          "output_type": "execute_result",
          "data": {
            "text/plain": [
              "array([[ 9, 10, 11, 12]])"
            ]
          },
          "metadata": {},
          "execution_count": 12
        }
      ]
    },
    {
      "cell_type": "code",
      "source": [
        "arr2[-2:]"
      ],
      "metadata": {
        "colab": {
          "base_uri": "https://localhost:8080/"
        },
        "id": "9v5BXbFQenWq",
        "outputId": "5b91350c-c888-45e8-98cc-ec1c7b95dc7c"
      },
      "execution_count": 13,
      "outputs": [
        {
          "output_type": "execute_result",
          "data": {
            "text/plain": [
              "array([[ 5,  6,  7,  8],\n",
              "       [ 9, 10, 11, 12]])"
            ]
          },
          "metadata": {},
          "execution_count": 13
        }
      ]
    },
    {
      "cell_type": "code",
      "source": [
        "arr2[-3:]"
      ],
      "metadata": {
        "colab": {
          "base_uri": "https://localhost:8080/"
        },
        "id": "o1OMx_VmenR5",
        "outputId": "cb063659-e593-41f7-9c17-ddd2247a3418"
      },
      "execution_count": 14,
      "outputs": [
        {
          "output_type": "execute_result",
          "data": {
            "text/plain": [
              "array([[ 1,  2,  3,  4],\n",
              "       [ 5,  6,  7,  8],\n",
              "       [ 9, 10, 11, 12]])"
            ]
          },
          "metadata": {},
          "execution_count": 14
        }
      ]
    },
    {
      "cell_type": "code",
      "source": [
        "arr2[1:-1]"
      ],
      "metadata": {
        "colab": {
          "base_uri": "https://localhost:8080/"
        },
        "id": "7-ojRIWje7QH",
        "outputId": "07f5bf16-eb0d-43a5-8117-d4767abe9195"
      },
      "execution_count": 15,
      "outputs": [
        {
          "output_type": "execute_result",
          "data": {
            "text/plain": [
              "array([[5, 6, 7, 8]])"
            ]
          },
          "metadata": {},
          "execution_count": 15
        }
      ]
    },
    {
      "cell_type": "markdown",
      "source": [
        "# Array boolean Indexing(mask)\n",
        "위에서 이용한 다차원의 Indexing을 응용하여 boolean Indexing 가능\n",
        "\n",
        "해당 기능은 주로 mask라고 이야기하는데, boolean Indexing을 통해 만들어낸 array를 \n",
        "\n",
        "원하는 행 또는 열의 값만 쉽게 필터링 해 추출할 수 있다\n",
        "\n",
        "즉, 마스크처럼 우리가 가리고 싶은 부분은 가리고, 원하는 요소만 꺼낼 수 있다.\n"
      ],
      "metadata": {
        "id": "xx0x3lrRUxDg"
      }
    },
    {
      "cell_type": "code",
      "source": [
        "names = np.array(['Kim','Kim','Lee','Park','Yun','Kim','Park','Kim'])\n",
        "names \n",
        "# 문자열 Numpy arrat는 출력시 dtype='<U(최대 문자열 길이) 같이 출력"
      ],
      "metadata": {
        "id": "HHfG1aCMUfUU",
        "colab": {
          "base_uri": "https://localhost:8080/"
        },
        "outputId": "7be04168-4724-4705-c310-ecff449ae2a6"
      },
      "execution_count": 16,
      "outputs": [
        {
          "output_type": "execute_result",
          "data": {
            "text/plain": [
              "array(['Kim', 'Kim', 'Lee', 'Park', 'Yun', 'Kim', 'Park', 'Kim'],\n",
              "      dtype='<U4')"
            ]
          },
          "metadata": {},
          "execution_count": 16
        }
      ]
    },
    {
      "cell_type": "code",
      "source": [
        "names.shape"
      ],
      "metadata": {
        "id": "Viy4d6WgUfRh",
        "colab": {
          "base_uri": "https://localhost:8080/"
        },
        "outputId": "a32179a6-1108-4a72-c504-fd9fe213afbc"
      },
      "execution_count": 17,
      "outputs": [
        {
          "output_type": "execute_result",
          "data": {
            "text/plain": [
              "(8,)"
            ]
          },
          "metadata": {},
          "execution_count": 17
        }
      ]
    },
    {
      "cell_type": "code",
      "source": [
        "# 아래에서 사용되는 np.random.randn() 함수는 기대값이 0이고, 표준편차가 1인 가우시안 정규 분포를 따르는 난수를 발생시키는 함수\n",
        "# 이 외에도 0~1의 난수를 발생시키는 np.random.rand() 함수도 존재함\n",
        "data = np.random.randn(8,4)\n",
        "data"
      ],
      "metadata": {
        "id": "g_JDX69gVc2k",
        "colab": {
          "base_uri": "https://localhost:8080/"
        },
        "outputId": "3644931a-7ef8-4d66-b043-f65f2f1d824c"
      },
      "execution_count": 18,
      "outputs": [
        {
          "output_type": "execute_result",
          "data": {
            "text/plain": [
              "array([[ 0.22149424, -0.37195133, -0.92915665, -0.14619366],\n",
              "       [ 0.12556883,  0.29102078,  0.07550725,  1.30457518],\n",
              "       [ 1.04277429, -0.31610364, -1.2673502 ,  1.06518214],\n",
              "       [-0.94846972, -0.10954192, -0.36397832,  0.41769068],\n",
              "       [-1.58084661,  1.3484981 , -0.87232785,  1.12538683],\n",
              "       [-1.6769463 , -0.31895902, -0.86509253, -0.38875714],\n",
              "       [ 0.62057808,  1.49657712, -1.16760124, -0.9744188 ],\n",
              "       [-1.60182669, -0.37510781,  0.99510391, -1.86692746]])"
            ]
          },
          "metadata": {},
          "execution_count": 18
        }
      ]
    },
    {
      "cell_type": "code",
      "source": [
        "data.shape"
      ],
      "metadata": {
        "id": "JmJpRul2aINx",
        "colab": {
          "base_uri": "https://localhost:8080/"
        },
        "outputId": "da855781-6a53-4c07-91a2-ac3ec2d2b600"
      },
      "execution_count": 19,
      "outputs": [
        {
          "output_type": "execute_result",
          "data": {
            "text/plain": [
              "(8, 4)"
            ]
          },
          "metadata": {},
          "execution_count": 19
        }
      ]
    },
    {
      "cell_type": "markdown",
      "source": [
        "위의 names의 각 요소가 data의 각 행과 연결된다 가정하고\n",
        "\n",
        "names의 'Kim'인 행의 data만 보고싶을 때 마스크 사용"
      ],
      "metadata": {
        "id": "n3WrEK5TdDk9"
      }
    },
    {
      "cell_type": "code",
      "source": [
        "# 요소가 Kim인 행의 데이터만 꺼내기\n",
        "names_Kim_mask = (names == 'Kim')\n",
        "names_Kim_mask "
      ],
      "metadata": {
        "id": "VBm0G6_caIAo",
        "colab": {
          "base_uri": "https://localhost:8080/"
        },
        "outputId": "477afae3-49e1-486f-aa9e-a528b40bb3f9"
      },
      "execution_count": 20,
      "outputs": [
        {
          "output_type": "execute_result",
          "data": {
            "text/plain": [
              "array([ True,  True, False, False, False,  True, False,  True])"
            ]
          },
          "metadata": {},
          "execution_count": 20
        }
      ]
    },
    {
      "cell_type": "code",
      "source": [
        "data[names_Kim_mask,:] # 변수명 뒤에(,)과(:) 붙여 사용\n",
        "# Kim은 0,1,5,7행에 위치하므로 0,1,5,7행의 모든 요소 꺼내옴"
      ],
      "metadata": {
        "id": "0B-ewTpzaH3C",
        "colab": {
          "base_uri": "https://localhost:8080/"
        },
        "outputId": "77ff03af-bae7-4881-8baf-ab22ca5ac0ab"
      },
      "execution_count": 21,
      "outputs": [
        {
          "output_type": "execute_result",
          "data": {
            "text/plain": [
              "array([[ 0.22149424, -0.37195133, -0.92915665, -0.14619366],\n",
              "       [ 0.12556883,  0.29102078,  0.07550725,  1.30457518],\n",
              "       [-1.6769463 , -0.31895902, -0.86509253, -0.38875714],\n",
              "       [-1.60182669, -0.37510781,  0.99510391, -1.86692746]])"
            ]
          },
          "metadata": {},
          "execution_count": 21
        }
      ]
    },
    {
      "cell_type": "code",
      "source": [
        "# 요소가 Yun인 행의 데이터만 꺼내기\n",
        "data[names == 'Yun',:]"
      ],
      "metadata": {
        "id": "HYm594Get0qe",
        "colab": {
          "base_uri": "https://localhost:8080/"
        },
        "outputId": "551aed9a-f0a7-4814-cece-5efee489ed8e"
      },
      "execution_count": 22,
      "outputs": [
        {
          "output_type": "execute_result",
          "data": {
            "text/plain": [
              "array([[-1.58084661,  1.3484981 , -0.87232785,  1.12538683]])"
            ]
          },
          "metadata": {},
          "execution_count": 22
        }
      ]
    },
    {
      "cell_type": "code",
      "source": [
        "# 논리 연산을 응용하여, 요소가 Park또는 Yun 인 행의 데이터만 꺼내기\n",
        "data[(names == 'Park') | (names == 'Yun'),:]\n"
      ],
      "metadata": {
        "id": "FncLnB_mt1WI",
        "colab": {
          "base_uri": "https://localhost:8080/"
        },
        "outputId": "4eb76402-fbcb-4125-c685-593add05abfa"
      },
      "execution_count": 23,
      "outputs": [
        {
          "output_type": "execute_result",
          "data": {
            "text/plain": [
              "array([[-0.94846972, -0.10954192, -0.36397832,  0.41769068],\n",
              "       [-1.58084661,  1.3484981 , -0.87232785,  1.12538683],\n",
              "       [ 0.62057808,  1.49657712, -1.16760124, -0.9744188 ]])"
            ]
          },
          "metadata": {},
          "execution_count": 23
        }
      ]
    },
    {
      "cell_type": "markdown",
      "source": [
        "data array 자체적으로도 마스크를 만들고, 이를 응용하여 Indexing가능\n",
        "data array에서 0번째 열의 값이 0보다 작은 행을 구하기"
      ],
      "metadata": {
        "id": "lhZsQZ_9i6lp"
      }
    },
    {
      "cell_type": "code",
      "source": [
        "# 먼저 마스크 생성\n",
        "# data array에서 0번째 열이 0보다 작은 요소의 boolean 값은 다음과 같다 -> 6인덱스 하나\n",
        "data[:,0] < 0"
      ],
      "metadata": {
        "id": "_zhsz1sGt1RV",
        "colab": {
          "base_uri": "https://localhost:8080/"
        },
        "outputId": "5be1a72d-8700-457c-a065-c7a182ba37b9"
      },
      "execution_count": 24,
      "outputs": [
        {
          "output_type": "execute_result",
          "data": {
            "text/plain": [
              "array([False, False, False,  True,  True,  True, False,  True])"
            ]
          },
          "metadata": {},
          "execution_count": 24
        }
      ]
    },
    {
      "cell_type": "code",
      "source": [
        "# 위에서 만든 마스크를 이용하여 data의 0번째 열의 값이 0보다 작은 행을 구한다\n",
        "data[data[:,0]<0,:]\n",
        "# 이를 통해 특정 위치에만 우리가 원하는 값을 대입할 수 있다."
      ],
      "metadata": {
        "id": "7HDylUzijCPc",
        "colab": {
          "base_uri": "https://localhost:8080/"
        },
        "outputId": "62a6cca5-5479-4843-c4df-5445bf15ac90"
      },
      "execution_count": 25,
      "outputs": [
        {
          "output_type": "execute_result",
          "data": {
            "text/plain": [
              "array([[-0.94846972, -0.10954192, -0.36397832,  0.41769068],\n",
              "       [-1.58084661,  1.3484981 , -0.87232785,  1.12538683],\n",
              "       [-1.6769463 , -0.31895902, -0.86509253, -0.38875714],\n",
              "       [-1.60182669, -0.37510781,  0.99510391, -1.86692746]])"
            ]
          },
          "metadata": {},
          "execution_count": 25
        }
      ]
    },
    {
      "cell_type": "code",
      "source": [
        "# 0번째 열의 값이 0보다 작은 행의 2,3번째 열 값 변경\n",
        "data[data[:,0]<0,2:4]"
      ],
      "metadata": {
        "id": "9Do3qMc-jCML",
        "colab": {
          "base_uri": "https://localhost:8080/"
        },
        "outputId": "66eb72b3-d250-4264-c517-cb46d4bc060d"
      },
      "execution_count": 26,
      "outputs": [
        {
          "output_type": "execute_result",
          "data": {
            "text/plain": [
              "array([[-0.36397832,  0.41769068],\n",
              "       [-0.87232785,  1.12538683],\n",
              "       [-0.86509253, -0.38875714],\n",
              "       [ 0.99510391, -1.86692746]])"
            ]
          },
          "metadata": {},
          "execution_count": 26
        }
      ]
    },
    {
      "cell_type": "code",
      "source": [
        "data[data[:,0]<0,2:4] = 0\n",
        "data"
      ],
      "metadata": {
        "id": "knIxyqogjCJC",
        "colab": {
          "base_uri": "https://localhost:8080/"
        },
        "outputId": "3bf5bb0d-464c-49a5-f7e8-ab9aebd90164"
      },
      "execution_count": 27,
      "outputs": [
        {
          "output_type": "execute_result",
          "data": {
            "text/plain": [
              "array([[ 0.22149424, -0.37195133, -0.92915665, -0.14619366],\n",
              "       [ 0.12556883,  0.29102078,  0.07550725,  1.30457518],\n",
              "       [ 1.04277429, -0.31610364, -1.2673502 ,  1.06518214],\n",
              "       [-0.94846972, -0.10954192,  0.        ,  0.        ],\n",
              "       [-1.58084661,  1.3484981 ,  0.        ,  0.        ],\n",
              "       [-1.6769463 , -0.31895902,  0.        ,  0.        ],\n",
              "       [ 0.62057808,  1.49657712, -1.16760124, -0.9744188 ],\n",
              "       [-1.60182669, -0.37510781,  0.        ,  0.        ]])"
            ]
          },
          "metadata": {},
          "execution_count": 27
        }
      ]
    }
  ]
}