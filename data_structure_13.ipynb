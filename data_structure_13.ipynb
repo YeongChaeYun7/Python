{
  "nbformat": 4,
  "nbformat_minor": 0,
  "metadata": {
    "colab": {
      "name": "data_structure_13.ipynb",
      "provenance": [],
      "collapsed_sections": [],
      "authorship_tag": "ABX9TyNHQvsBk1JcWMx2fbTwtBCl"
    },
    "kernelspec": {
      "name": "python3",
      "display_name": "Python 3"
    },
    "language_info": {
      "name": "python"
    }
  },
  "cells": [
    {
      "cell_type": "markdown",
      "source": [
        "# 모르스코드 결정 트리\n",
        "\n",
        "점과 선의 조합으로 이루어진 메시지 전달 부호\n",
        "\n",
        "인코딩: 알파벳 -> 모르스코드 변환 (𝑂(1))\n",
        "\n",
        "디코딩: 모르스코드 -> 알파벳 변환 (𝑂(n))\n",
        "\n",
        "아래는 이진트리 응용으로, 후위순위이다"
      ],
      "metadata": {
        "id": "uM5mzbyxOnq7"
      }
    },
    {
      "cell_type": "code",
      "source": [
        "class morseTree:\n",
        "   def __init__(self):\n",
        "    self.char = input('')\n",
        "    self.table = [('A','.-'), ('B','-...'), ('C','-.-.'), ('D','-..'),# (문자, 코드)래퍼런스로 삼는 자료형은 값 변경이 불가능한 tuple자료형으로 쓰는 것이 바람직하다\n",
        "                  ('E','.'), ('F','..-.'), ('G','--.'), ('H','....'),\n",
        "                  ('I','..'), ('J','.---'), ('K','-.-'), ('L','.-..'),\n",
        "                  ('M','--'), ('N','-.'), ('O','---'), ('P','.--.'),\n",
        "                  ('Q','--.-'), ('R','.-.'), ('S','...'), ('T','-'),\n",
        "                  ('U','..-'), ('V','...-'), ('W','.--'), ('X','-..-'),\n",
        "                  ('Y','-.--'), ('Z','--..')]\n",
        "    # def TNode(self, data,left,right):\n",
        "\n",
        "    def make(self): # 완전 이진 트리 구현\n",
        "      root = TNode(None,None, None)# 빈 노드 root에서 시작\n",
        "      for tp in self.table:\n",
        "        code = tp[1] # 모르스 부호 코드\n",
        "        node = root # 노드 초기화\n",
        "        for c in code: # 코드 요소\n",
        "          if c == '.':\n",
        "            if node.left == None:# 비어있으면 새로운 노드 생성\n",
        "              node.left = TNode(None,None, None)\n",
        "            node = node.left # 다음 시작 위치로 설정\n",
        "          elif c == '-':\n",
        "            if node.right == None:\n",
        "              node.right = TNode(None,None, None)\n",
        "            node = node.right \n",
        "        node.data = tp[0]# 코드를 다가져오면 문자를 해당 위치에 문자 할당\n",
        "      return root\n",
        "\n",
        "    def decode(self,code):\n",
        "      node = self.make()\n",
        "      for c in code:\n",
        "        if c == '.':\n",
        "          node = node.left\n",
        "        elif c == '-':\n",
        "          node = node.right\n",
        "      return node.data\n",
        "\n",
        "    def encode(self):\n",
        "      moreseCodeTree = self.make()\n",
        "      ch = list(self.char)\n",
        "      idx = ord(ch) - ord('A')# ord(): 아스키 코드로 변경 내장함수\n",
        "      return table[idx][1]\n",
        "      mlist = []\n",
        "      for i in ch:\n",
        "        code = encode(i)#순환\n",
        "        mlist.append(code)\n",
        "      print('Morse Code:', mlist)\n",
        "      print('Decoding: ', end='')\n",
        "      for code in mlist:\n",
        "        ch = decode(moreseCodeTree, code)\n",
        "        print(ch,end='')\n",
        "      print()\n"
      ],
      "metadata": {
        "id": "GSqCwOhE2jkW"
      },
      "execution_count": null,
      "outputs": []
    }
  ]
}