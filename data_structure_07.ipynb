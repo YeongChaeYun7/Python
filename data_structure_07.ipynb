{
  "nbformat": 4,
  "nbformat_minor": 0,
  "metadata": {
    "colab": {
      "name": "data_structure_07.ipynb",
      "provenance": [],
      "collapsed_sections": [],
      "authorship_tag": "ABX9TyOYBnPbvOzH9ocWYQw5/pVA"
    },
    "kernelspec": {
      "name": "python3",
      "display_name": "Python 3"
    },
    "language_info": {
      "name": "python"
    }
  },
  "cells": [
    {
      "cell_type": "markdown",
      "source": [
        "\n",
        "\n",
        "# 연결된 구조 (Linked structure)\n",
        "\n",
        "연결된 구조: 흩어진 데이터를 링크(link)로 연결하여 관리, 표현하는 구조나 방법\n",
        "\n",
        "연결 리스트: 일렬로 나열할 수 있는 연결된 구조\n",
        "\n",
        ">연결리스트 구조\n",
        "\n",
        "Node: 데이터 필드(데이터 저장 변수)와 링크 필드(다른 노드의 주소를 저장하는 변수)\n",
        "\n",
        "\n",
        "head pointer: 시작 노드의 주소를 저장하는 변수\n",
        "\n",
        ">연결 리스트 종류\n",
        "\n",
        "단순 연결리스트(singly linked list)\n",
        ": 한 방향으로 연결되있는 구조 (링크의 수: 1)\n",
        "\n",
        "원형 연결리스트(circular linked list)\n",
        ": 맨 마지막 노드의 링크가 첫번째 노드를 가리키는 구조\n",
        "\n",
        "이중 연결리스트(doublly linked list)\n",
        ": 이전 노드와 다음 노드의 링크를 모두 알고있는 구조\n"
      ],
      "metadata": {
        "id": "HVN3IyrneyNy"
      }
    },
    {
      "cell_type": "code",
      "source": [
        "class Node:\n",
        "  def __init__(self, elem, link=None):\n",
        "    self.data = elem # data field\n",
        "    self.link = link # link field"
      ],
      "metadata": {
        "id": "IkISxrm5rVti"
      },
      "execution_count": 1,
      "outputs": []
    },
    {
      "cell_type": "code",
      "execution_count": 8,
      "metadata": {
        "id": "RuNJyo1hiVhj",
        "colab": {
          "base_uri": "https://localhost:8080/"
        },
        "outputId": "79aea9bd-b7e3-47e4-949c-4c8a00d6a7fa"
      },
      "outputs": [
        {
          "output_type": "stream",
          "name": "stdout",
          "text": [
            "LinkedStack:7 \n",
            "6 \n",
            "5 \n",
            "4 \n",
            "3 \n",
            "2 \n",
            "1 \n",
            "0 \n"
          ]
        }
      ],
      "source": [
        "# 연결된 스택 - 단순 연결 리스트\n",
        "class linkedStack:\n",
        "  def __init__(self):\n",
        "    self.top = None\n",
        "  def isEmpty(self): return self.top == None \n",
        "  def clear(self): self.top = None\n",
        "  def push(self, item): # 스택의 맨 위에 추가\n",
        "    n = Node(item, self.top)\n",
        "    self.top = n\n",
        "  def pop(self): # 스택의 맨 위의 항목 반환\n",
        "    if not self.isEmpty():\n",
        "      n  = self.top\n",
        "      self.top = n.link\n",
        "      return n.data\n",
        "  def peek(self):\n",
        "    if not self.isEmpty():\n",
        "      return self.top.data\n",
        "  def size(self):\n",
        "    node = self.top\n",
        "    count = 0\n",
        "    while not node == None:\n",
        "      node = node.link\n",
        "      count += 1\n",
        "      return count\n",
        "  def display(self, msg='LinkedStack:'):\n",
        "    print(msg,end='')\n",
        "    node = self.top\n",
        "    while not node == None:\n",
        "      print(node.data, end=' ')\n",
        "      node = node.link\n",
        "      print()\n",
        "\n",
        "q = linkedStack()\n",
        "for i in range(8): q.push(i)\t\t\n",
        "q.display()\t"
      ]
    },
    {
      "cell_type": "code",
      "source": [
        "# 연결된 리스트 - 단순 연결 리스트\n",
        "class linkedList:\n",
        "  def __init__(self):\n",
        "    self.head = None\n",
        "  def isEmpty(self): return self.headp == None \n",
        "  def clear (self):self.self.head =None\n",
        "  def size(self):\n",
        "    node = self.head\n",
        "    count = 0\n",
        "  def display(self, msg='LinkedList:'):\n",
        "    print(msg,end=' ')\n",
        "    node = self.head\n",
        "    while not node == None:\n",
        "      print(node.data, end='')\n",
        "      node = node.link\n",
        "      print()\n",
        "  def getNode (self,pos):# 특정 노드의 위치 확인. \n",
        "    if pos < 0 or pos < self.size(): return None\n",
        "    node = self.head; # 연결구조에서는 끝을 모르는 상태이기에 (-) 지원X\n",
        "    while pos > 0 and node != None:\n",
        "      node = node.link\n",
        "      pos -= 1\n",
        "      return node\n",
        "  def getEntry(self, pos):# 특정 위치의 값 확인\n",
        "    node = self.getNode(pos)\n",
        "    if node == None : return None\n",
        "    else : return node.data\n",
        "  def insert (self,pos,elem):\n",
        "    before = self.getNode(pos-1)# -1인 이유. 연결구조에서 n의 위치는 n-1의 노드가 가지기 때문\n",
        "    if before == None:\n",
        "      self.head = Node(elem, self.head)\n",
        "    else:\n",
        "      node = Node(elem, before.link)\n",
        "      before.link = node\n",
        "  def replace(self, pos, elem):\n",
        "    node = self.getNode(pos)\n",
        "    if node != None: node.data = elem\n",
        "  def delete (self, pos):\n",
        "    before = self.getNode(pos-1)# -1인 이유. 연결구조에서 n의 위치는 n-1의 노드가 가지기 때문\n",
        "    if before == None:\n",
        "      if self.head is not None:\n",
        "         self.head = self.head.link\n",
        "    elif before.link != None:\n",
        "      before.link = before.link.link\n",
        "  def find (self, data):# 특정 노드에 특정 데이터 값이 있는지 확인\n",
        "    node = self.head;\n",
        "    while node is not None:\n",
        "      if node.data == data:\n",
        "        return node\n",
        "      node = node.link\n",
        "    return node\n",
        "\n",
        "q = linkedList()\n",
        "for i in range(5): q.insert(0,i)\t\t\n",
        "q.display()\t"
      ],
      "metadata": {
        "id": "mbCelPtqlfL8",
        "colab": {
          "base_uri": "https://localhost:8080/"
        },
        "outputId": "91c9916c-c87d-4f32-9b1e-097c880a611e"
      },
      "execution_count": 6,
      "outputs": [
        {
          "output_type": "stream",
          "name": "stdout",
          "text": [
            "LinkedList:4\n",
            "3\n",
            "2\n",
            "1\n",
            "0\n"
          ]
        }
      ]
    },
    {
      "cell_type": "code",
      "source": [
        "# 원형 연결 리스트(연결된 큐)\n",
        "class CircularLinkedQueue:\n",
        "    def __init__( self ):\t\t\n",
        "        self.tail = None\t\t\t\n",
        "    def isEmpty( self ): return self.tail == None \n",
        "    def clear( self ): self.tail = None\t\t\n",
        "    def peek( self ):\t\t\t\t        \n",
        "        if not self.isEmpty():\t\t\t    \n",
        "            return self.tail.link.data\t\t\n",
        "    def enqueue( self, item ):\t#뒤에 요소 추가\n",
        "        node = Node(item, None)\t\n",
        "        if self.isEmpty() :\t\t\n",
        "           node.link = node\t\t\n",
        "           self.tail = node\t\t\n",
        "        else :\t\t\t\t           \n",
        "            node.link = self.tail.link\t\n",
        "            self.tail.link = node\t   \n",
        "            self.tail = node\t\t   \n",
        "    def dequeue( self ): # 앞의 요소 삭제\n",
        "        if not self.isEmpty():\n",
        "            data = self.tail.link.data\t\t   \n",
        "            if self.tail.link == self.tail :\n",
        "                self.tail = None\t\t               \n",
        "            else:\t\t\t                \t\n",
        "                self.tail.link = self.tail.link.link\n",
        "            return data\t\t\t\n",
        "    def size( self ):\n",
        "        if self.isEmpty() : return 0\t\n",
        "        else :\t\t\t\t            \n",
        "            count = 1\t\t\t        \n",
        "            node = self.tail.link   \t\n",
        "            while not node == self.tail:\n",
        "                node = node.link        \n",
        "                count += 1\t\t        \n",
        "            return count\t\t        \n",
        "    def display( self, msg='CircularLinkedQueue:' ):\n",
        "        print(msg, end='')\n",
        "        if not self.isEmpty() :\n",
        "            node = self.tail.link\t\t    \n",
        "            while not node == self.tail :\t\n",
        "                print(node.data, end=' ')\t\n",
        "                node = node.link\t\t    \n",
        "            print(node.data, end=' ')\t\t\n",
        "        print()\t\t\t\t\t            \n",
        "\n",
        "\n",
        "q = CircularLinkedQueue()\n",
        "for i in range(8): q.enqueue(i)\t\t\n",
        "q.display()\t\t\t            \t\n",
        "for i in range(5): q.dequeue();\t\t\n",
        "q.display()\n",
        "for i in range(8,14): q.enqueue(i)\t\n",
        "q.display()"
      ],
      "metadata": {
        "id": "HoFsjHtUxpFj",
        "colab": {
          "base_uri": "https://localhost:8080/"
        },
        "outputId": "bf280b0b-fd58-4502-acb1-4da0419c2b66"
      },
      "execution_count": null,
      "outputs": [
        {
          "output_type": "stream",
          "name": "stdout",
          "text": [
            "CircularLinkedQueue:0 1 2 3 4 5 6 7 \n",
            "CircularLinkedQueue:5 6 7 \n",
            "CircularLinkedQueue:5 6 7 8 9 10 11 12 13 \n"
          ]
        }
      ]
    },
    {
      "cell_type": "code",
      "source": [
        "# 이중 연결 리스트(연결된 덱)\n",
        "class DNode:\t\t\t\t\n",
        "    def __init__ (self, elem, prev = None, next = None):\n",
        "        self.data = elem \n",
        "        self.prev = prev\n",
        "        self.next = next\n",
        "class DoublyLinkedDeque:\n",
        "    def __init__( self ):\t\n",
        "        self.front = None\t\n",
        "        self.rear = None\n",
        "    def isEmpty( self ): return self.front == None\t\t\n",
        "    def clear( self ): self.front = self.front = None\t\n",
        "    def size( self ):\t\t\t\n",
        "        node = self.front\t\t\t\n",
        "        count = 0\n",
        "        while not node == None :\n",
        "            node = node.next\t\n",
        "            count += 1\t\t\t\n",
        "        return count\t\t\t\n",
        "    def display( self, msg='LinkedDeque:'): \n",
        "        print(msg, end='')\t\t\n",
        "        node = self.front\t\t\t\n",
        "        while not node == None :\t \t\n",
        "            print(node.data, end=' ')\t\n",
        "            node = node.next\t\t    \n",
        "        print()\n",
        "    def addFront( self, item ):# 덱 앞에 요소 추가\n",
        "        node = DNode(item, None, self.front)\n",
        "        if( self.isEmpty()):\t\t\t\t\n",
        "            self.front = self.rear = node\t\n",
        "        else :\t\t\t\t\t\t\t\t\n",
        "            self.front.prev = node\t\t\t\n",
        "            self.front = node\t\t\t\t\n",
        "    def addRear( self, item ):# 덱 뒤에 요소 추가\n",
        "        node = DNode(item, self.rear, None)\t\n",
        "        if( self.isEmpty()):\t\t\t\t\n",
        "            self.front = self.rear = node\t\n",
        "        else :\t\t\t\t\t\t\t\t\n",
        "            self.rear.next = node\t\t\t\n",
        "            self.rear = node\t\t\t\t\n",
        "    def deleteFront( self ):# 덱 앞에서 요소 삭제\n",
        "        if not self.isEmpty():\n",
        "            data = self.front.data\t\t\t\n",
        "            self.front = self.front.next\t\n",
        "            if self.front==None :\t\t\t\n",
        "                self.rear = None\t\t\t\n",
        "            else:\n",
        "                self.front.prev = None\t\t\n",
        "            return data\t\t\t\t\t\t\n",
        "    def deleteRear( self ):# 덱 뒤에서 요소 삭제\n",
        "        if not self.isEmpty():\n",
        "            data = self.rear.data\t\t\t\n",
        "            self.rear = self.rear.prev\t\t\n",
        "            if self.rear==None :\t\t\t\n",
        "                self.front = None\t\t\t\n",
        "            else:\n",
        "                self.rear.next = None\t\t\n",
        "            return data\t\t\t\t\t\t\n",
        "\n",
        "dq = DoublyLinkedDeque()\t\t \t\t\t\n",
        "for i in range(9):\t\t\t        \n",
        "\tif i%2==0 : dq.addRear(i)\t\t\n",
        "\telse : dq.addFront(i)\t\t    \n",
        "dq.display()\t\t\t\t        \n",
        "for i in range(2): dq.deleteFront()\t\n",
        "for i in range(3): dq.deleteRear()\t\n",
        "dq.display()\n",
        "for i in range(9,14): dq.addFront(i)\n",
        "dq.display()"
      ],
      "metadata": {
        "id": "NRx28kDKx01V",
        "colab": {
          "base_uri": "https://localhost:8080/"
        },
        "outputId": "4f8eafcf-a939-428e-d5f4-7be25b90df18"
      },
      "execution_count": 7,
      "outputs": [
        {
          "output_type": "stream",
          "name": "stdout",
          "text": [
            "LinkedDeque:7 5 3 1 0 2 4 6 8 \n",
            "LinkedDeque:3 1 0 2 \n",
            "LinkedDeque:13 12 11 10 9 3 1 0 2 \n"
          ]
        }
      ]
    }
  ]
}