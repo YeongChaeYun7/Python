{
  "nbformat": 4,
  "nbformat_minor": 0,
  "metadata": {
    "colab": {
      "name": "Numpy_01_Array,ndim.ipynb",
      "provenance": [],
      "collapsed_sections": [],
      "authorship_tag": "ABX9TyObCVditWD/iJtYTNW9t528"
    },
    "kernelspec": {
      "name": "python3",
      "display_name": "Python 3"
    },
    "language_info": {
      "name": "python"
    }
  },
  "cells": [
    {
      "cell_type": "markdown",
      "source": [
        "#**Numpy**\n",
        "\n",
        "Numpy는 Numerical + Python의 합성어로서, c언어로 구현된 수치해석용 파이썬 라이브러리\n",
        "\n",
        "ndarray 클래스(다차원의 배열 자료구조 클래스)를 지원하여 \n",
        "\n",
        "행렬이나 대규모 다차원 연산을 쉽게 처리하게 해준다\n",
        "\n",
        "데이터 분석 라이브러리인 pandas와 matplotlib의 기반으로 사용되기도 함\n"
      ],
      "metadata": {
        "id": "LszsfRZv1rJL"
      }
    },
    {
      "cell_type": "code",
      "execution_count": 3,
      "metadata": {
        "id": "6nQKYdtr1jQY"
      },
      "outputs": [],
      "source": [
        "import numpy as np\n",
        "# 넘파이 패키지 임포트는 관습적으로 'np'로 임포트함"
      ]
    },
    {
      "cell_type": "markdown",
      "source": [
        "#  Array\n",
        "\n",
        "Numpy에서는 Array(배열) 단위로 데이터 관리, 연산함\n",
        "\n",
        "Array는 Python List와 비슷하지만, C언어의 배열처럼 연속적인 메모리 배치를 가지기에\n",
        "\n",
        "1. 모든 원소가 같은 자료형이여야 함\n",
        "\n",
        "2. 원소의 갯수 변경 불가\n",
        "\n",
        "List에 비해 제약이 있지만 원소에 대한 접근과 반복문 실행이 빠르다"
      ],
      "metadata": {
        "id": "5Fl81NjOtUzH"
      }
    },
    {
      "cell_type": "code",
      "source": [
        "# array 정의\n",
        "data1 = [1,2,3,4,5]\n",
        "print(data1, type(data1)) # python list\n",
        "\n",
        "arr1 = np.array(data1)# python의 list 활용하여 생성한 array\n",
        "print(arr1, type(arr1))"
      ],
      "metadata": {
        "colab": {
          "base_uri": "https://localhost:8080/"
        },
        "id": "of99j8ah2ZIT",
        "outputId": "4b0b838d-9e72-436a-a6bc-799dfb700c1f"
      },
      "execution_count": 4,
      "outputs": [
        {
          "output_type": "stream",
          "name": "stdout",
          "text": [
            "[1, 2, 3, 4, 5] <class 'list'>\n",
            "[1 2 3 4 5] <class 'numpy.ndarray'>\n"
          ]
        }
      ]
    },
    {
      "cell_type": "code",
      "source": [
        "# list를 바로 넣어 생성\n",
        "arr2 = np.array([1,2,3,3,5,4])\n",
        "print(arr2, type(arr2))"
      ],
      "metadata": {
        "colab": {
          "base_uri": "https://localhost:8080/"
        },
        "id": "2aaqpeV53uTj",
        "outputId": "fbf6db8b-510f-4208-c3d3-f32741e3905b"
      },
      "execution_count": 5,
      "outputs": [
        {
          "output_type": "stream",
          "name": "stdout",
          "text": [
            "[1 2 3 3 5 4] <class 'numpy.ndarray'>\n"
          ]
        }
      ]
    },
    {
      "cell_type": "code",
      "source": [
        "# 2차원 array 생성. list의 list를 사용하면 쉽게 생성 가능\n",
        "arr3 = np.array([[1,2,3],\n",
        "                 [4,5,6],\n",
        "                 [7,8,9],\n",
        "                 [10,11,12]]) # 4 x 3 array\n",
        "print(arr3)\n",
        "print('row: ',len(arr3)) # arr3의 행의 갯수\n",
        "print('column: ',len(arr3[0]))# arr3의 열의 갯수"
      ],
      "metadata": {
        "colab": {
          "base_uri": "https://localhost:8080/"
        },
        "id": "dJno9aTS5AxZ",
        "outputId": "f7df12a2-6488-4526-cf0d-702072abb433"
      },
      "execution_count": 6,
      "outputs": [
        {
          "output_type": "stream",
          "name": "stdout",
          "text": [
            "[[ 1  2  3]\n",
            " [ 4  5  6]\n",
            " [ 7  8  9]\n",
            " [10 11 12]]\n",
            "row:  4\n",
            "column:  3\n"
          ]
        }
      ]
    },
    {
      "cell_type": "code",
      "source": [
        "# 3차원 array 생성.list의 list의 list 사용\n",
        "arr4 = np.array([[[1, 2, 3, 4],\n",
        "               [5, 6, 7, 8],\n",
        "               [9, 10, 11, 12]],\n",
        "              [[11, 12, 13, 14],\n",
        "               [15, 16, 17, 18],\n",
        "               [19, 20, 21, 22]]]) # 2 x 3 x 4 array\n",
        "print(arr4)\n",
        "print('depth: ',len(arr4)) # 깊이\n",
        "print('row: ',len(arr4[0])) # 행\n",
        "print('column: ',len(arr4[0][0])) # 열"
      ],
      "metadata": {
        "colab": {
          "base_uri": "https://localhost:8080/"
        },
        "id": "OMzfCv6kD6Fb",
        "outputId": "f9ebb4e6-f4b7-4282-daf0-b003d3173b77"
      },
      "execution_count": 7,
      "outputs": [
        {
          "output_type": "stream",
          "name": "stdout",
          "text": [
            "[[[ 1  2  3  4]\n",
            "  [ 5  6  7  8]\n",
            "  [ 9 10 11 12]]\n",
            "\n",
            " [[11 12 13 14]\n",
            "  [15 16 17 18]\n",
            "  [19 20 21 22]]]\n",
            "depth:  2\n",
            "row:  3\n",
            "column:  4\n"
          ]
        }
      ]
    },
    {
      "cell_type": "code",
      "source": [
        "# np.arange()를 활용한 1차원 Array 생성\n",
        "arr5 = np.arange(12)\n",
        "arr5"
      ],
      "metadata": {
        "colab": {
          "base_uri": "https://localhost:8080/"
        },
        "id": "PIVcg7nuLuGS",
        "outputId": "920fa371-0576-4425-a68a-8272fcd86d2e"
      },
      "execution_count": 8,
      "outputs": [
        {
          "output_type": "execute_result",
          "data": {
            "text/plain": [
              "array([ 0,  1,  2,  3,  4,  5,  6,  7,  8,  9, 10, 11])"
            ]
          },
          "metadata": {},
          "execution_count": 8
        }
      ]
    },
    {
      "cell_type": "code",
      "source": [
        "arr6 = np.arange(5,21)\n",
        "arr6"
      ],
      "metadata": {
        "colab": {
          "base_uri": "https://localhost:8080/"
        },
        "id": "mpTtSh6pL9EE",
        "outputId": "a08bc7d5-0ac3-47c1-fbf0-4fbb16c1a895"
      },
      "execution_count": 9,
      "outputs": [
        {
          "output_type": "execute_result",
          "data": {
            "text/plain": [
              "array([ 5,  6,  7,  8,  9, 10, 11, 12, 13, 14, 15, 16, 17, 18, 19, 20])"
            ]
          },
          "metadata": {},
          "execution_count": 9
        }
      ]
    },
    {
      "cell_type": "code",
      "source": [
        "arr7 = np.arange(2,40,5)\n",
        "arr7"
      ],
      "metadata": {
        "colab": {
          "base_uri": "https://localhost:8080/"
        },
        "id": "YO-IqUI9MQOe",
        "outputId": "a785d7b3-e6be-41ed-e762-2aeedd49a32f"
      },
      "execution_count": 10,
      "outputs": [
        {
          "output_type": "execute_result",
          "data": {
            "text/plain": [
              "array([ 2,  7, 12, 17, 22, 27, 32, 37])"
            ]
          },
          "metadata": {},
          "execution_count": 10
        }
      ]
    },
    {
      "cell_type": "markdown",
      "source": [
        "# ndim 배열의 차원 \n",
        "\n",
        "ndim은 array dimension(배열의 차원)을 의미"
      ],
      "metadata": {
        "id": "fAJo6_tpFops"
      }
    },
    {
      "cell_type": "code",
      "source": [
        "print(arr1.ndim)\n",
        "print(arr2.ndim)\n",
        "print(arr3.ndim)\n",
        "print(arr4.ndim)"
      ],
      "metadata": {
        "colab": {
          "base_uri": "https://localhost:8080/"
        },
        "id": "O0XWgKRGGdMG",
        "outputId": "620a732a-8929-42cf-aeaa-650c4469f6ee"
      },
      "execution_count": 11,
      "outputs": [
        {
          "output_type": "stream",
          "name": "stdout",
          "text": [
            "1\n",
            "1\n",
            "2\n",
            "3\n"
          ]
        }
      ]
    },
    {
      "cell_type": "code",
      "source": [
        "arr8 = np.array([[[[[[1],[2]]],[[[3],[4]]]]],[[[[[5],[6]]],[[[7],[8]]]]]])\n",
        "print(arr8.ndim)"
      ],
      "metadata": {
        "colab": {
          "base_uri": "https://localhost:8080/"
        },
        "id": "x1T2DfvBHUEI",
        "outputId": "a40b1387-9f51-4880-836e-5cb55b290f14"
      },
      "execution_count": 12,
      "outputs": [
        {
          "output_type": "stream",
          "name": "stdout",
          "text": [
            "6\n"
          ]
        }
      ]
    }
  ]
}