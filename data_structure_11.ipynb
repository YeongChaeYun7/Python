{
  "nbformat": 4,
  "nbformat_minor": 0,
  "metadata": {
    "colab": {
      "name": "data_structure_11.ipynb",
      "provenance": [],
      "collapsed_sections": [],
      "authorship_tag": "ABX9TyN949aYcDEnfQPRJIT91apZ"
    },
    "kernelspec": {
      "name": "python3",
      "display_name": "Python 3"
    },
    "language_info": {
      "name": "python"
    }
  },
  "cells": [
    {
      "cell_type": "markdown",
      "source": [
        "# 트리(tree)\n",
        "\n",
        ": 계층적인 자료의 표현에 적합한 자료 구조\n",
        "\n",
        "순환적으로 정의 = 어느 위치에서도 구조 전개(데이터가 존재하는 형태)가 같기에 사용되는 코드가 같음. 순환 알고리즘이 주로 사용되는 이유\n",
        "\n",
        "> 트리 용어\n",
        "\n",
        "Root node:계층구조에서 가장 높은 곳에 있는 노드\n",
        "\n",
        "edge: 간선. 노드와 노드를 연결하는 선\n",
        "\n",
        "parent / child node: 간선으로 직접 연결된 노드 중, 상위노드와 하위노드\n",
        "\n",
        "sibling node: 동일한 부모노드를 가진 노드\n",
        "\n",
        "ancestor / descendent node: 조상노드와 자손 노드. 상위노드와 하위노드들\n",
        "\n",
        "degree: 연결된 하위 노드의 개수\n",
        "\n",
        "leaf: 자식노드가 없는 노드. 단말노드(terminal node), 외부노드(external node)\n",
        "\n",
        "트리의 차수: 트리가 가진 degree 중 가장 큰 차수\n",
        "\n",
        "level: 트리의 각 층에 번호를 매기는 것(루트 = 1)\n",
        "\n",
        "height: 트리가 가진 최대 레벨\n",
        "\n",
        "forest: 트리들의 집합"
      ],
      "metadata": {
        "id": "U0XTdojKlXnL"
      }
    },
    {
      "cell_type": "markdown",
      "source": [
        "# 일반 트리\n",
        "\n",
        ": 노드들이 임의의 개수의 자식을 가질 수 있는 트리\n",
        "\n",
        "일반적으로 연결된 구조로 트리 노드를 표현"
      ],
      "metadata": {
        "id": "ptfFX0x8-SVI"
      }
    },
    {
      "cell_type": "markdown",
      "source": [
        "# 이진 트리(binary tree)\n",
        "\n",
        ": 모든 노드가 0~2개의 서브 트리를 갖는 트리\n",
        "\n",
        "서브 트리만 공집합이 가능하다\n",
        "\n",
        "자식사이에 순서가 존재하며, 반드시 구분되어야 함\n",
        "\n",
        "순환적으로 정의됨\n",
        "\n",
        "> 이진트리 종류\n",
        "\n",
        "포화 이진 트리: 트리의 각 레벨 노드가 꽉 차있는 이진트리. 노드의 번호는 항상 1이며, 오->왼 순서로 부여\n",
        "\n",
        "완전 이진 트리: 높이가 k인 트리에서 1~(k-1)까지 노드가 모두 채워졌고, 마지막 레벨 k에선 왼->오 순서로 노드가 채워진 이진트리\n",
        "\n",
        "> 이진 트리의 성질\n",
        "\n",
        "노드의 개수가 n이면 간선의 개수는 n-1\n",
        "\n",
        "높이가 k이면 h ~ 2**k-1개 이하의 노드를 가짐\n",
        "\n",
        "n개의 노드를 가지는 이진트리의 높이는 [log2(n+1)]~n \n",
        " (가장 낮을땐 포화 이진 트리 2**k-1)\n",
        "\n",
        "# 이진 트리 - 배열 표현법 \n",
        "\n",
        "트리의 높이k를 이용해 2**k-1 배열 할당\n",
        "\n",
        "포화이진트리의 번호를 인덱스로 활용해 배열에 노드 저장\n",
        "\n",
        "제일 간단하나 메모리 낭비와 배열에 따른 트리 높이 제한이 단점이다\n",
        "\n",
        "> 배열 표현에서 인덱스 계산\n",
        "\n",
        "노드 i의 부모노드 인덱스 = i / 2\n",
        "\n",
        "노드 i의 왼쪽자식 인덱스 = 2i\n",
        "\n",
        "노드 i의 오른쪽자식 인덱스 = 2i + 1\n",
        "\n",
        "# 이진 트리 - 링크 표현법 \n",
        "\n",
        "연결된 구조로 이진트리 표현\n",
        "\n",
        "두개의 링크를 사용하여 왼쪽과 오른쪽 자식 노드를 표현 "
      ],
      "metadata": {
        "id": "VDKknVIhgaP3"
      }
    },
    {
      "cell_type": "code",
      "source": [
        "# 링크표현법\n",
        "class TNode:\n",
        "  def __init__ (self, data, left, right):\n",
        "    self.data = data\n",
        "    self.left = left\n",
        "    self.right = right"
      ],
      "metadata": {
        "id": "vNZAZNN4i847"
      },
      "execution_count": 1,
      "outputs": []
    },
    {
      "cell_type": "markdown",
      "source": [
        "# 이진 트리 연산 -  순회(traversal)\n",
        "\n",
        "트리에 속하는 모든 노드를 한번씩 방문하는 것. 노드의 데이터를 특정 목적에 맞게 처리하기 위해 필요함\n",
        "\n",
        "루트노드를 V, 왼쪽 서브트리를 L, 오르쪽 서브트리를 R이라고 할 때, 순회 방향과 활용 예시는 아래와 같다\n",
        "\n",
        "전위(VLR): 노드의 레벨계산, 구조화된 문서 출력\n",
        "\n",
        "중위(LVR): 정렬\n",
        "\n",
        "후위(LRV): 폴더 용량 계산\n",
        "\n",
        "# 레벨순회(level traversal)\n",
        "\n",
        "각 노드를 레벨순으로 검사. 순환을 사용하지 않음\n",
        "\n",
        "큐를 이용하여 레벨 순회 구현"
      ],
      "metadata": {
        "id": "Hhh9DUlukeWe"
      }
    },
    {
      "cell_type": "code",
      "source": [
        "# 위의 TNode 클래스(링크표현법) 활용. \n",
        "# 전위순회\n",
        "def preorder (n):\n",
        "  if n is not None:\n",
        "    print(n.data, end='')\n",
        "    preorder(n.left)\n",
        "    preorder(n.right)"
      ],
      "metadata": {
        "id": "njGCzLKOE5ut"
      },
      "execution_count": 2,
      "outputs": []
    },
    {
      "cell_type": "code",
      "source": [
        "# 중위순회\n",
        "def postorder (n):\n",
        "  if n is not None:\n",
        "    postorder(n.left)\n",
        "    postorder(n.right)\n",
        "    print(n.data, end='')"
      ],
      "metadata": {
        "id": "n42E_IkxE5nZ"
      },
      "execution_count": 3,
      "outputs": []
    },
    {
      "cell_type": "code",
      "source": [
        "# 후위순회\n",
        "def inorder (n):\n",
        "  if n is not None:\n",
        "    inorder(n.left)\n",
        "    print(n.data, end='')\n",
        "    inorder(n.right)"
      ],
      "metadata": {
        "id": "TozOgee-E5qx"
      },
      "execution_count": 4,
      "outputs": []
    },
    {
      "cell_type": "code",
      "source": [
        "# 레벨순회(원형큐 활용)\n",
        "MAX_QSIZE = 10\n",
        "def levelorder(root):\n",
        "  front = 0 \n",
        "  rear = 0\t\t\t\n",
        "  items = [None] * MAX_QSIZE\n",
        "  if front != (rear+1)%MAX_QSIZE: # 큐가 포화상태가 아니면\n",
        "      rear = (rear+1)% MAX_QSIZE\n",
        "      items[rear] = root # root 추가\n",
        "  while not (items) == 0: # 큐가 빌 때까지\n",
        "    n = items.pop(0) # 큐에서 n 꺼냄\n",
        "    if n is not None:\n",
        "      print(n.data, end='')\n",
        "      items.append(n.left) # n.left,n.right  추가\n",
        "      items.append(n.right)"
      ],
      "metadata": {
        "id": "4JYPDKgpE5kT"
      },
      "execution_count": 5,
      "outputs": []
    }
  ]
}