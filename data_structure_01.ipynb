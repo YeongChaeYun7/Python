{
  "nbformat": 4,
  "nbformat_minor": 0,
  "metadata": {
    "colab": {
      "name": "data_structure_01.ipynb",
      "provenance": [],
      "authorship_tag": "ABX9TyO4XNJ/K6429PD2pB4FB+hw"
    },
    "kernelspec": {
      "name": "python3",
      "display_name": "Python 3"
    },
    "language_info": {
      "name": "python"
    }
  },
  "cells": [
    {
      "cell_type": "code",
      "execution_count": null,
      "metadata": {
        "id": "rxfDf5HiOGFp"
      },
      "outputs": [],
      "source": [
        ""
      ]
    },
    {
      "cell_type": "markdown",
      "source": [
        "# 자료구조\n",
        "\n",
        ": 컴퓨터에서 자료들을 정리하고 조짂화하는 여러가지 구조\n",
        "  \n",
        "  단수 자료구조: 숫자, 문자\n",
        "\n",
        "  복합 자료구조: 여러자료들을 한꺼번에 보관 (container)\n",
        "  \n",
        "  선형(linear)자료구조와 비선형(non-linear) 자료구조가 있다.\n",
        "\n",
        "# 알고리즘\n",
        "\n",
        ": 문제를 해결하기 위한 절차/방법,명령어 모음\n",
        "\n",
        "  알고리즘의 조건\n",
        "\n",
        "  - 출력이 1개 이상 존재\n",
        "\n",
        "  - 명백성 / 유한성 / 유효성\n",
        "\n",
        "# 추상자료형(Abstrack Data Type)\n",
        "\n",
        ": 추상적으로 정의한 자료형. \n",
        "\n",
        "  제공되는 자료와 연산만 정의하고 구현방법은 정의하지 않음\n",
        "\n",
        "  핵심적인 구조와 동작에 집중\n",
        "\n",
        "  인터페이스만 공개 - 정보은닉\n",
        "\n",
        "  클래스로 구현하는 것이 바람직함"
      ],
      "metadata": {
        "id": "CJxAc3T6fi6L"
      }
    },
    {
      "cell_type": "markdown",
      "source": [
        "ADT 예제\n",
        "\n",
        "데이터\n",
        "\n",
        ": 중복된 항목을 허용하는 자료들의 저장소. 항목들은 특별한 순서가 없이 개별적으로 저장 가능하나, 항목간 비교 가능.\n",
        "\n",
        "연산\n",
        "\n",
        ":\n",
        "\n",
        "Bag(): 비어있는 가방을 만든다\n",
        "\n",
        "insert(e): 가방에 항목 e를 넣는다\n",
        "\n",
        "remove(e):가방에 e가 있는지 검사하여 있으면 이 항목을 꺼낸다\n",
        "\n",
        "contains(e):e가 들어있으면 True, 없으면 False 반환\n",
        "\n",
        "count(e):가방에 들어있는 항목들의 수를 반환\n",
        "\n",
        "아래는 Python으로 구현한 것"
      ],
      "metadata": {
        "id": "-jXWGwxvhp_B"
      }
    },
    {
      "cell_type": "code",
      "execution_count": 1,
      "metadata": {
        "colab": {
          "base_uri": "https://localhost:8080/"
        },
        "id": "pkeNMIaVq89E",
        "outputId": "1ce292c0-4681-4193-b320-828238587ca9"
      },
      "outputs": [
        {
          "output_type": "stream",
          "name": "stdout",
          "text": [
            "가방에 pen를 넣고 pen이(가) 있는지 검사하여 꺼낸다.\n",
            "가방에 pen이(가) 있으면 True, 없으면 False를 알려주고 가방안의 모든 내용물 출력\n",
            "pen의 유무는 False, 가방의 모든 내용물은0개\n"
          ]
        }
      ],
      "source": [
        "# 함수 버전\n",
        "def _Bag (e):\n",
        "  bag = []\n",
        "  bag.insert(1,e)\n",
        "  bag.remove(e)\n",
        "  if e in bag:\n",
        "    c = True\n",
        "  else:\n",
        "    c = False\n",
        "  return   bag.count(e),c\n",
        "\n",
        "e = 'pen'\n",
        "a,b = _Bag(e)\n",
        "print('가방에 %s를 넣고 %s이(가) 있는지 검사하여 꺼낸다.\\n가방에 %s이(가) 있으면 True, 없으면 False를 알려주고 가방안의 모든 내용물 출력'%(e,e,e))\n",
        "print('%s의 유무는 %s, 가방의 모든 내용물은%s개'%(e,b,a))"
      ]
    },
    {
      "cell_type": "code",
      "source": [
        "# 클래스 버전. 함수의 입출력과 인자 확인. self가 없으면 자기자신 참조 안됨\n",
        "class Bag:\n",
        "  # 클래스 변수 위치\n",
        "  def __init__ (self): #클래스 인스턴스화, 자동으로 호출되는 함수\n",
        "    self._bag = [] # 인스턴스변수, 인스턴스의 속성으로 선언(개인화)\n",
        "  def _insert(self,e):\n",
        "    self._bag.append(e)\n",
        "    print('가방에 %s 추가'%e)\n",
        "    #self.remove(e) # 클래스 자기자신의 함수 호출시엔  self. 붙여 사용\n",
        "\n",
        "  def _remove(self,e):# 클래스명을 바로 인자로 적을 수도 있지만, self로 관용적으로 사용\n",
        "    self._bag.remove(e)\n",
        "    print('가방에서 %s 제거'%e)\n",
        "\n",
        "  def _contains(self,e):\n",
        "    if e in self._bag:\n",
        "      return 'True'\n",
        "    else:\n",
        "      return 'False'\n",
        "\n",
        "  def _count(self,e):\n",
        "    count = 0\n",
        "    for i in self._bag:\n",
        "      count += len(i)\n",
        "    return '가방안의 물건은 %s개'%count\n",
        "   # return  len(self._bag)\n",
        "\n",
        "  def clean(self):\n",
        "     self._bag.clear()\n",
        "    # self._bag=[]\n",
        "\n",
        "  def what (self):\n",
        "    print(self._bag)"
      ],
      "metadata": {
        "id": "Fr4xlzkmvP_Z"
      },
      "execution_count": 2,
      "outputs": []
    },
    {
      "cell_type": "code",
      "source": [
        "e = input('물건: ')"
      ],
      "metadata": {
        "colab": {
          "base_uri": "https://localhost:8080/"
        },
        "id": "oYQgi8mjxkat",
        "outputId": "0d6c72f7-0b26-44e3-9a7a-1960893664f1"
      },
      "execution_count": 3,
      "outputs": [
        {
          "name": "stdout",
          "output_type": "stream",
          "text": [
            "물건: pen\n"
          ]
        }
      ]
    },
    {
      "cell_type": "code",
      "source": [
        "myBag = Bag()\n",
        "\n",
        "print('가방 안에 %s 유무는 '%e,myBag._contains(e))\n",
        "print(myBag._count(e))"
      ],
      "metadata": {
        "colab": {
          "base_uri": "https://localhost:8080/"
        },
        "id": "Lroncat2xj11",
        "outputId": "bc9898ce-1f1e-4b70-ca35-b30568dd608c"
      },
      "execution_count": 4,
      "outputs": [
        {
          "output_type": "stream",
          "name": "stdout",
          "text": [
            "가방 안에 pen 유무는  False\n",
            "가방안의 물건은 0개\n"
          ]
        }
      ]
    }
  ]
}