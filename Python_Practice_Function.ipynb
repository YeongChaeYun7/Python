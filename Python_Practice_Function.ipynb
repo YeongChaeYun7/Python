{
  "nbformat": 4,
  "nbformat_minor": 0,
  "metadata": {
    "colab": {
      "name": "Python_Practice_Function.ipynb",
      "provenance": [],
      "collapsed_sections": [],
      "authorship_tag": "ABX9TyMqcBcwHMggDBl29CVnD75I"
    },
    "kernelspec": {
      "name": "python3",
      "display_name": "Python 3"
    },
    "language_info": {
      "name": "python"
    }
  },
  "cells": [
    {
      "cell_type": "code",
      "execution_count": 48,
      "metadata": {
        "colab": {
          "base_uri": "https://localhost:8080/"
        },
        "id": "Cwi-r5ws5b0O",
        "outputId": "b4790385-574b-483e-86b4-538b59f4755b"
      },
      "outputs": [
        {
          "output_type": "stream",
          "name": "stdout",
          "text": [
            "비트코인\n"
          ]
        }
      ],
      "source": [
        "def print_coin():\n",
        "  print('비트코인')\n",
        "\n",
        "print_coin()"
      ]
    },
    {
      "cell_type": "code",
      "source": [
        "def arthmetic_operation(a,b):\n",
        "  print(a,'+',b,'=',a+b)\n",
        "  print(a,'-',b,'=',a-b)\n",
        "  print(a,'*',b,'=',a*b)\n",
        "  print(a,'/',b,'=',a/b)\n",
        "\n",
        "arthmetic_operation(2,5)"
      ],
      "metadata": {
        "colab": {
          "base_uri": "https://localhost:8080/"
        },
        "id": "NcPI-7J579Z7",
        "outputId": "1b9aca41-e0d7-45ec-d2e4-eb8fc070a77e"
      },
      "execution_count": 49,
      "outputs": [
        {
          "output_type": "stream",
          "name": "stdout",
          "text": [
            "2 + 5 = 7\n",
            "2 - 5 = -3\n",
            "2 * 5 = 10\n",
            "2 / 5 = 0.4\n"
          ]
        }
      ]
    },
    {
      "cell_type": "code",
      "source": [
        "def print_max(num1,num2,num3):\n",
        "  a = max(num1,num2,num3)\n",
        "  return a\n",
        "\n",
        "print_max(1,2,3)"
      ],
      "metadata": {
        "colab": {
          "base_uri": "https://localhost:8080/"
        },
        "id": "yGbXXVnh8-pf",
        "outputId": "f631be69-218d-40a6-fae7-9b48e2ba53b9"
      },
      "execution_count": 50,
      "outputs": [
        {
          "output_type": "execute_result",
          "data": {
            "text/plain": [
              "3"
            ]
          },
          "metadata": {},
          "execution_count": 50
        }
      ]
    },
    {
      "cell_type": "code",
      "source": [
        "def print_reverse(string):\n",
        "  print(string[::-1])\n",
        "\n",
        "print_reverse('python')"
      ],
      "metadata": {
        "colab": {
          "base_uri": "https://localhost:8080/"
        },
        "id": "KNCgeixcCUMt",
        "outputId": "f972915c-8951-480b-d304-d957facd97f2"
      },
      "execution_count": 51,
      "outputs": [
        {
          "output_type": "stream",
          "name": "stdout",
          "text": [
            "nohtyp\n"
          ]
        }
      ]
    },
    {
      "cell_type": "code",
      "source": [
        "# 하나의 딕셔너리를 입력받아 key값만 화면에 출력\n",
        "def print_keys(dic):\n",
        "  return dic.keys()\n",
        "\n",
        "a = {'가':1,'나':2,'다':3,'라':4}\n",
        "print_keys(a)"
      ],
      "metadata": {
        "colab": {
          "base_uri": "https://localhost:8080/"
        },
        "id": "pWt-SKdxCUHh",
        "outputId": "966255b3-6490-49ed-dfd3-c36218993144"
      },
      "execution_count": 52,
      "outputs": [
        {
          "output_type": "execute_result",
          "data": {
            "text/plain": [
              "dict_keys(['가', '나', '다', '라'])"
            ]
          },
          "metadata": {},
          "execution_count": 52
        }
      ]
    },
    {
      "cell_type": "code",
      "source": [
        "# 입력 문자열을 한 줄에 다섯글자씩 출력하는 함수 작성\n",
        "def print_5xn(string):\n",
        "  s = int(len(string)/5)\n",
        "  for i in range(s+1):\n",
        "    print(string[i*5:i*5+5])\n",
        "\n",
        "print_5xn('가나다라마바사아자차카타파하')"
      ],
      "metadata": {
        "colab": {
          "base_uri": "https://localhost:8080/"
        },
        "id": "D3FW_nJuCUE3",
        "outputId": "dba0d625-92f7-4bc1-ed72-04680634675b"
      },
      "execution_count": 53,
      "outputs": [
        {
          "output_type": "stream",
          "name": "stdout",
          "text": [
            "가나다라마\n",
            "바사아자차\n",
            "카타파하\n"
          ]
        }
      ]
    },
    {
      "cell_type": "code",
      "source": [
        "# 문자열(string)과 한줄에 출력될 글자 수(n)를 입력 받아 한 줄에 n만큼 출력하는 함수\n",
        "def print_mxn(string,n):\n",
        "  s = int(len(string)/n)\n",
        "  for i in range(s+1):\n",
        "    print(string[i*n:i*n+n])\n",
        "\n",
        "print_mxn('가나다라마바사아자차카타파하',4)"
      ],
      "metadata": {
        "colab": {
          "base_uri": "https://localhost:8080/"
        },
        "id": "yJ9guENLMbHt",
        "outputId": "e2715f17-d28b-4650-aac6-1a29ef2718c4"
      },
      "execution_count": 54,
      "outputs": [
        {
          "output_type": "stream",
          "name": "stdout",
          "text": [
            "가나다라\n",
            "마바사아\n",
            "자차카타\n",
            "파하\n"
          ]
        }
      ]
    },
    {
      "cell_type": "code",
      "source": [
        "# 연봉을 입력받아 월급을 계산하는 함수\n",
        "# 1원 미만은 버리고 계산\n",
        "def calc_monthly_salary(annual_salary):\n",
        "  m = int(annual_salary/12)\n",
        "  return m\n",
        "\n",
        "calc_monthly_salary(5000)"
      ],
      "metadata": {
        "colab": {
          "base_uri": "https://localhost:8080/"
        },
        "id": "vHmHBkh_ODom",
        "outputId": "9245313d-06b2-404f-c9ec-1dcd3ea2fd94"
      },
      "execution_count": 55,
      "outputs": [
        {
          "output_type": "execute_result",
          "data": {
            "text/plain": [
              "416"
            ]
          },
          "metadata": {},
          "execution_count": 55
        }
      ]
    },
    {
      "cell_type": "code",
      "source": [
        "# 문자열 하나를 입력받아 인터넷 주소를 반환하는 함수\n",
        "def make_url(string):\n",
        "  print('www.%s.com'%string)\n",
        "\n",
        "make_url('colab')"
      ],
      "metadata": {
        "colab": {
          "base_uri": "https://localhost:8080/"
        },
        "id": "qhKsE8woPr8w",
        "outputId": "74bec03f-fdc6-449e-f1dc-d42c7c233067"
      },
      "execution_count": 56,
      "outputs": [
        {
          "output_type": "stream",
          "name": "stdout",
          "text": [
            "www.colab.com\n"
          ]
        }
      ]
    },
    {
      "cell_type": "code",
      "source": [
        "# 문자열을 입력받아 각 문자들로 구성된 리스트로 반환하는 함수\n",
        "def make_list(string):\n",
        "  L = []\n",
        "  for i in range(len(string)):\n",
        "    L.append(string[i])\n",
        "  return L\n",
        "\n",
        "print(make_list('가나다라'))\n",
        "\n",
        "def make_list2(string):\n",
        "  return list(string)\n",
        "\n",
        "print(make_list2('가나다라'))"
      ],
      "metadata": {
        "colab": {
          "base_uri": "https://localhost:8080/"
        },
        "id": "mCr79WRBPr2p",
        "outputId": "1f96df40-9503-4f67-aa00-46950d17250e"
      },
      "execution_count": 57,
      "outputs": [
        {
          "output_type": "stream",
          "name": "stdout",
          "text": [
            "['가', '나', '다', '라']\n",
            "['가', '나', '다', '라']\n"
          ]
        }
      ]
    },
    {
      "cell_type": "code",
      "source": [
        "# 콤마가 포함된 문자열 숫자를 입력받아 정수로 변환하는 함수\n",
        "def convert_int(str_num):\n",
        "  return int(str_num.replace(',',''))\n",
        "\n",
        "convert_int('1,234,567')"
      ],
      "metadata": {
        "colab": {
          "base_uri": "https://localhost:8080/"
        },
        "id": "8AtA1Yg1RGEl",
        "outputId": "c3e0a92f-fd46-4058-aaf3-fd790da464bb"
      },
      "execution_count": 58,
      "outputs": [
        {
          "output_type": "execute_result",
          "data": {
            "text/plain": [
              "1234567"
            ]
          },
          "metadata": {},
          "execution_count": 58
        }
      ]
    }
  ]
}