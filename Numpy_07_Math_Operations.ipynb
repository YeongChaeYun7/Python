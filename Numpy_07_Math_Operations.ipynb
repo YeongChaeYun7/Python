{
  "nbformat": 4,
  "nbformat_minor": 0,
  "metadata": {
    "colab": {
      "name": "Numpy_07_Math Operations.ipynb",
      "provenance": [],
      "collapsed_sections": [],
      "authorship_tag": "ABX9TyP/TisqGb6MpWAOksG4kLqC"
    },
    "kernelspec": {
      "name": "python3",
      "display_name": "Python 3"
    },
    "language_info": {
      "name": "python"
    }
  },
  "cells": [
    {
      "cell_type": "markdown",
      "source": [
        "# arithmetic operator\n",
        "\n",
        "Array의 산술 연산은 같은 위치의 각 원소간 연산이 이루어짐\n"
      ],
      "metadata": {
        "id": "-P6fjgl5GmXM"
      }
    },
    {
      "cell_type": "code",
      "execution_count": 1,
      "metadata": {
        "id": "64pGaKjhGMIJ"
      },
      "outputs": [],
      "source": [
        "import numpy as np"
      ]
    },
    {
      "cell_type": "code",
      "source": [
        "a = np.array([[1, 2, 3], [4, 5, 6]])\n",
        "a"
      ],
      "metadata": {
        "colab": {
          "base_uri": "https://localhost:8080/"
        },
        "id": "ED6dIL_QGlGU",
        "outputId": "7327dadd-43a7-4528-8d7d-c88a6dbafa47"
      },
      "execution_count": 97,
      "outputs": [
        {
          "output_type": "execute_result",
          "data": {
            "text/plain": [
              "array([[1, 2, 3],\n",
              "       [4, 5, 6]])"
            ]
          },
          "metadata": {},
          "execution_count": 97
        }
      ]
    },
    {
      "cell_type": "code",
      "source": [
        "b = np.array([[6, 5, 4], [3, 2, 1]])\n",
        "b"
      ],
      "metadata": {
        "colab": {
          "base_uri": "https://localhost:8080/"
        },
        "id": "tO3xF0XdG2L9",
        "outputId": "ba8694c7-607f-446b-ed24-8a3c6b477150"
      },
      "execution_count": 98,
      "outputs": [
        {
          "output_type": "execute_result",
          "data": {
            "text/plain": [
              "array([[6, 5, 4],\n",
              "       [3, 2, 1]])"
            ]
          },
          "metadata": {},
          "execution_count": 98
        }
      ]
    },
    {
      "cell_type": "code",
      "source": [
        "# +\n",
        "a + b"
      ],
      "metadata": {
        "colab": {
          "base_uri": "https://localhost:8080/"
        },
        "id": "RR5mltb0G2Jo",
        "outputId": "fede0cd7-9ba7-45d5-b758-3dc351aa13d2"
      },
      "execution_count": 4,
      "outputs": [
        {
          "output_type": "execute_result",
          "data": {
            "text/plain": [
              "array([[7, 7, 7],\n",
              "       [7, 7, 7]])"
            ]
          },
          "metadata": {},
          "execution_count": 4
        }
      ]
    },
    {
      "cell_type": "code",
      "source": [
        "# -\n",
        "a - b"
      ],
      "metadata": {
        "colab": {
          "base_uri": "https://localhost:8080/"
        },
        "id": "15sjxb9UG2G1",
        "outputId": "05d42c50-475b-4b1a-989e-402dbc96fc06"
      },
      "execution_count": 5,
      "outputs": [
        {
          "output_type": "execute_result",
          "data": {
            "text/plain": [
              "array([[-5, -3, -1],\n",
              "       [ 1,  3,  5]])"
            ]
          },
          "metadata": {},
          "execution_count": 5
        }
      ]
    },
    {
      "cell_type": "code",
      "source": [
        "# *\n",
        "a * b"
      ],
      "metadata": {
        "colab": {
          "base_uri": "https://localhost:8080/"
        },
        "id": "7UHiK5mBG2EC",
        "outputId": "2a146b34-9a46-466c-da46-7d141cdb23a2"
      },
      "execution_count": 6,
      "outputs": [
        {
          "output_type": "execute_result",
          "data": {
            "text/plain": [
              "array([[ 6, 10, 12],\n",
              "       [12, 10,  6]])"
            ]
          },
          "metadata": {},
          "execution_count": 6
        }
      ]
    },
    {
      "cell_type": "code",
      "source": [
        "# /\n",
        "a / b"
      ],
      "metadata": {
        "colab": {
          "base_uri": "https://localhost:8080/"
        },
        "id": "EtkmrV5fG2Ba",
        "outputId": "e6dcbcf3-282f-4db6-8aa3-79b68a12ccf2"
      },
      "execution_count": 7,
      "outputs": [
        {
          "output_type": "execute_result",
          "data": {
            "text/plain": [
              "array([[0.16666667, 0.4       , 0.75      ],\n",
              "       [1.33333333, 2.5       , 6.        ]])"
            ]
          },
          "metadata": {},
          "execution_count": 7
        }
      ]
    },
    {
      "cell_type": "code",
      "source": [
        "# **\n",
        "a ** b"
      ],
      "metadata": {
        "colab": {
          "base_uri": "https://localhost:8080/"
        },
        "id": "kJEsdI7WH0Zo",
        "outputId": "bf5f9001-9377-46e8-d452-65ddff4cba17"
      },
      "execution_count": 8,
      "outputs": [
        {
          "output_type": "execute_result",
          "data": {
            "text/plain": [
              "array([[ 1, 32, 81],\n",
              "       [64, 25,  6]])"
            ]
          },
          "metadata": {},
          "execution_count": 8
        }
      ]
    },
    {
      "cell_type": "code",
      "source": [
        "# // 몫\n",
        "a // b"
      ],
      "metadata": {
        "colab": {
          "base_uri": "https://localhost:8080/"
        },
        "id": "1LMRbs74H0Wt",
        "outputId": "d99fe2b6-5164-4c18-dec0-3c359ca5157a"
      },
      "execution_count": 99,
      "outputs": [
        {
          "output_type": "execute_result",
          "data": {
            "text/plain": [
              "array([[0, 0, 0],\n",
              "       [1, 2, 6]])"
            ]
          },
          "metadata": {},
          "execution_count": 99
        }
      ]
    },
    {
      "cell_type": "code",
      "source": [
        "# % 나머지\n",
        "a % b"
      ],
      "metadata": {
        "colab": {
          "base_uri": "https://localhost:8080/"
        },
        "id": "nGRFLiLrH0UO",
        "outputId": "5a3eb6e4-8932-4e35-898d-303181cc5186"
      },
      "execution_count": 100,
      "outputs": [
        {
          "output_type": "execute_result",
          "data": {
            "text/plain": [
              "array([[1, 2, 3],\n",
              "       [1, 1, 0]])"
            ]
          },
          "metadata": {},
          "execution_count": 100
        }
      ]
    },
    {
      "cell_type": "markdown",
      "source": [
        "하나의 array에 스칼라 연산도 가능"
      ],
      "metadata": {
        "id": "rzoUDKPvRkPn"
      }
    },
    {
      "cell_type": "code",
      "source": [
        "a * 10"
      ],
      "metadata": {
        "id": "0NRFgHL6RjlF",
        "colab": {
          "base_uri": "https://localhost:8080/"
        },
        "outputId": "3e6aa85f-4890-44c6-d084-b5735de22951"
      },
      "execution_count": 102,
      "outputs": [
        {
          "output_type": "execute_result",
          "data": {
            "text/plain": [
              "array([[10, 20, 30],\n",
              "       [40, 50, 60]])"
            ]
          },
          "metadata": {},
          "execution_count": 102
        }
      ]
    },
    {
      "cell_type": "code",
      "source": [
        "a **2"
      ],
      "metadata": {
        "id": "BGHgwA47RdMy",
        "colab": {
          "base_uri": "https://localhost:8080/"
        },
        "outputId": "244a54ad-2303-4d83-afdc-b59e941192ee"
      },
      "execution_count": 103,
      "outputs": [
        {
          "output_type": "execute_result",
          "data": {
            "text/plain": [
              "array([[ 1,  4,  9],\n",
              "       [16, 25, 36]])"
            ]
          },
          "metadata": {},
          "execution_count": 103
        }
      ]
    },
    {
      "cell_type": "markdown",
      "source": [
        "# Broadcasting\n",
        "\n",
        "일반적으로 array가 같은 크기를 가져야만 서로 연산이 가능하지만,\n",
        "\n",
        "numpy에서 제공하는 브로드캐스트 기능을 통해 서로 크기가 다른 array간 연산이 가능하다\n",
        "\n",
        "아래 예제를 보면\n",
        "\n",
        "서로 크기가 다른 arr1과 arr2의 연산이 가능\n",
        "\n",
        "이때, 연산은 각 array의 같은 인덱스 위치의 요소간 연산값 출력\n",
        " \n",
        "arr3이 [7,8,9] 에서 [[7,8,9],[7,8,9]]로 확장되어 계산되었음을 확인할 수 있음\n"
      ],
      "metadata": {
        "id": "tJoKvCDsQllq"
      }
    },
    {
      "cell_type": "code",
      "source": [
        "arr1 = np.array([[1,2,3],[4,5,6]])\n",
        "arr1"
      ],
      "metadata": {
        "colab": {
          "base_uri": "https://localhost:8080/"
        },
        "id": "lfHtzU6_IXPI",
        "outputId": "f33eca7d-f01c-4d02-9940-a0ade5ef0d45"
      },
      "execution_count": 11,
      "outputs": [
        {
          "output_type": "execute_result",
          "data": {
            "text/plain": [
              "array([[1, 2, 3],\n",
              "       [4, 5, 6]])"
            ]
          },
          "metadata": {},
          "execution_count": 11
        }
      ]
    },
    {
      "cell_type": "code",
      "source": [
        "arr2 = np.array([7,8,9])\n",
        "arr2"
      ],
      "metadata": {
        "id": "ZJx--2iTQ3U8",
        "colab": {
          "base_uri": "https://localhost:8080/"
        },
        "outputId": "791f22b4-7e54-4130-d9bf-ec070ec4a0e8"
      },
      "execution_count": 104,
      "outputs": [
        {
          "output_type": "execute_result",
          "data": {
            "text/plain": [
              "array([7, 8, 9])"
            ]
          },
          "metadata": {},
          "execution_count": 104
        }
      ]
    },
    {
      "cell_type": "code",
      "source": [
        "arr1 + arr2"
      ],
      "metadata": {
        "id": "Dce5khKTRNzq",
        "colab": {
          "base_uri": "https://localhost:8080/"
        },
        "outputId": "01c73915-8e82-4956-d044-8c9b348e2d94"
      },
      "execution_count": 105,
      "outputs": [
        {
          "output_type": "execute_result",
          "data": {
            "text/plain": [
              "array([[ 8, 10, 12],\n",
              "       [11, 13, 15]])"
            ]
          },
          "metadata": {},
          "execution_count": 105
        }
      ]
    },
    {
      "cell_type": "code",
      "source": [
        "arr1 - arr2"
      ],
      "metadata": {
        "id": "rPUX-NALRbwQ",
        "colab": {
          "base_uri": "https://localhost:8080/"
        },
        "outputId": "8b431562-6483-4d18-ff18-3cf9030613fd"
      },
      "execution_count": 106,
      "outputs": [
        {
          "output_type": "execute_result",
          "data": {
            "text/plain": [
              "array([[-6, -6, -6],\n",
              "       [-3, -3, -3]])"
            ]
          },
          "metadata": {},
          "execution_count": 106
        }
      ]
    },
    {
      "cell_type": "code",
      "source": [
        "arr1 * arr2"
      ],
      "metadata": {
        "id": "WYhSGFS_RdQE",
        "colab": {
          "base_uri": "https://localhost:8080/"
        },
        "outputId": "509dae5f-dedf-45ac-d8f1-c9d9b945e4ff"
      },
      "execution_count": 107,
      "outputs": [
        {
          "output_type": "execute_result",
          "data": {
            "text/plain": [
              "array([[ 7, 16, 27],\n",
              "       [28, 40, 54]])"
            ]
          },
          "metadata": {},
          "execution_count": 107
        }
      ]
    },
    {
      "cell_type": "markdown",
      "source": [
        "# Matrix Multiplication\n",
        "\n",
        "행렬곱 연산\n"
      ],
      "metadata": {
        "id": "LtWfId5KImQV"
      }
    },
    {
      "cell_type": "code",
      "source": [
        "a = np.array([[1, 2], [3, 4]])\n",
        "a"
      ],
      "metadata": {
        "colab": {
          "base_uri": "https://localhost:8080/"
        },
        "outputId": "08f10191-b993-4fd5-f8cd-743bfd398764",
        "id": "NYeGyPN2Iu-u"
      },
      "execution_count": 116,
      "outputs": [
        {
          "output_type": "execute_result",
          "data": {
            "text/plain": [
              "array([[1, 2],\n",
              "       [3, 4]])"
            ]
          },
          "metadata": {},
          "execution_count": 116
        }
      ]
    },
    {
      "cell_type": "code",
      "source": [
        "b = np.array([[5, 6], [7, 8]])\n",
        "b"
      ],
      "metadata": {
        "colab": {
          "base_uri": "https://localhost:8080/"
        },
        "outputId": "a11d788d-3741-488b-a62a-a4d0657ed1cc",
        "id": "TVyU-IhhIu-w"
      },
      "execution_count": 117,
      "outputs": [
        {
          "output_type": "execute_result",
          "data": {
            "text/plain": [
              "array([[5, 6],\n",
              "       [7, 8]])"
            ]
          },
          "metadata": {},
          "execution_count": 117
        }
      ]
    },
    {
      "cell_type": "markdown",
      "source": [
        "\n",
        "행렬곱은 다른 연산과 달리 같은 위치의 원소간 연산이 아님\n",
        "\n",
        "Array a와 b를 곱할 경우, a의 해당 위치가 속한 열과\n",
        "\n",
        "b의 해당 위치가 속한 행 단위로 연산이 이루어짐\n",
        "\n",
        "a @ b 의 경우\n",
        "\n",
        "(1 x 5) + (2 x 7) = 5 + 14 = 19 \n",
        "\n",
        "(1 x 6) + (2 x 8) = 22\n",
        "\n",
        "(3 x 5) + (4 x 7) = 43\n",
        "\n",
        "(3 x 6) + (4 x 8) = 50"
      ],
      "metadata": {
        "id": "rD7gf6s_ZQmB"
      }
    },
    {
      "cell_type": "code",
      "source": [
        "# @ 연산자는 ver 3.5 이상에서만 가능\n",
        "c = a @ b \n",
        "c"
      ],
      "metadata": {
        "colab": {
          "base_uri": "https://localhost:8080/"
        },
        "id": "p4T_iCTpH0Rb",
        "outputId": "ff089665-34b3-4b39-85bb-23ea3c49e3ff"
      },
      "execution_count": 119,
      "outputs": [
        {
          "output_type": "execute_result",
          "data": {
            "text/plain": [
              "array([[19, 22],\n",
              "       [43, 50]])"
            ]
          },
          "metadata": {},
          "execution_count": 119
        }
      ]
    },
    {
      "cell_type": "code",
      "source": [
        "# np.matmul\n",
        "d = np.matmul(a,b)\n",
        "d"
      ],
      "metadata": {
        "colab": {
          "base_uri": "https://localhost:8080/"
        },
        "id": "c6cF1EDhH0OX",
        "outputId": "35cc2651-2691-4795-a9cd-a8351ab0df83"
      },
      "execution_count": 120,
      "outputs": [
        {
          "output_type": "execute_result",
          "data": {
            "text/plain": [
              "array([[19, 22],\n",
              "       [43, 50]])"
            ]
          },
          "metadata": {},
          "execution_count": 120
        }
      ]
    },
    {
      "cell_type": "code",
      "source": [
        "# np.dot\n",
        "e = np.dot(a, b) #  a.dot(b)와 동일\n",
        "e"
      ],
      "metadata": {
        "colab": {
          "base_uri": "https://localhost:8080/"
        },
        "id": "Rr0eW1uMJLiA",
        "outputId": "54e145f3-045f-492d-91f8-89868cfff179"
      },
      "execution_count": 121,
      "outputs": [
        {
          "output_type": "execute_result",
          "data": {
            "text/plain": [
              "array([[19, 22],\n",
              "       [43, 50]])"
            ]
          },
          "metadata": {},
          "execution_count": 121
        }
      ]
    },
    {
      "cell_type": "markdown",
      "source": [
        "# Inner Product\n",
        "\n",
        "벡터 내적\n",
        "\n",
        "열벡터인 두개의 벡터 a,b가 주어졌을때, a를 전치해서 b를 곱하는 것\n",
        "\n",
        "x를 전치해서 y를 곱하거나 반대의 경우도 값이 같음\n",
        "\n",
        "결과값은 스칼라 형태"
      ],
      "metadata": {
        "id": "bn2ObzJyJpfw"
      }
    },
    {
      "cell_type": "code",
      "source": [
        "a = np.array([1, 2, 3])\n",
        "a"
      ],
      "metadata": {
        "colab": {
          "base_uri": "https://localhost:8080/"
        },
        "id": "6r2wHOx_fGWv",
        "outputId": "826e3b55-b0a9-4eaf-cd1e-6ffbc1c7844c"
      },
      "execution_count": 124,
      "outputs": [
        {
          "output_type": "execute_result",
          "data": {
            "text/plain": [
              "array([1, 2, 3])"
            ]
          },
          "metadata": {},
          "execution_count": 124
        }
      ]
    },
    {
      "cell_type": "code",
      "source": [
        "b = np.array([4, 5, 6])\n",
        "b"
      ],
      "metadata": {
        "colab": {
          "base_uri": "https://localhost:8080/"
        },
        "id": "7UkVczcMfMmH",
        "outputId": "55a96e50-0bc2-476d-a274-0e4122d17bed"
      },
      "execution_count": 125,
      "outputs": [
        {
          "output_type": "execute_result",
          "data": {
            "text/plain": [
              "array([4, 5, 6])"
            ]
          },
          "metadata": {},
          "execution_count": 125
        }
      ]
    },
    {
      "cell_type": "code",
      "source": [
        "c = a @ b\n",
        "c"
      ],
      "metadata": {
        "colab": {
          "base_uri": "https://localhost:8080/"
        },
        "id": "gzCpZA-kJLc3",
        "outputId": "7dab0413-47fc-439f-d1d6-8d21a2d30f0c"
      },
      "execution_count": 126,
      "outputs": [
        {
          "output_type": "execute_result",
          "data": {
            "text/plain": [
              "32"
            ]
          },
          "metadata": {},
          "execution_count": 126
        }
      ]
    },
    {
      "cell_type": "code",
      "source": [
        "c = np.matmul(a, b)\n",
        "c"
      ],
      "metadata": {
        "colab": {
          "base_uri": "https://localhost:8080/"
        },
        "id": "P10FT8sUJLaE",
        "outputId": "d81b2f7d-1dda-46ea-fc8a-5de53e16a1dc"
      },
      "execution_count": 127,
      "outputs": [
        {
          "output_type": "execute_result",
          "data": {
            "text/plain": [
              "32"
            ]
          },
          "metadata": {},
          "execution_count": 127
        }
      ]
    },
    {
      "cell_type": "code",
      "source": [
        "d = np.dot(a, b)\n",
        "d"
      ],
      "metadata": {
        "colab": {
          "base_uri": "https://localhost:8080/"
        },
        "id": "A6qlPR1QJ2u6",
        "outputId": "c5bee157-7b41-40ea-adcf-45a7a794b74c"
      },
      "execution_count": 128,
      "outputs": [
        {
          "output_type": "execute_result",
          "data": {
            "text/plain": [
              "32"
            ]
          },
          "metadata": {},
          "execution_count": 128
        }
      ]
    },
    {
      "cell_type": "code",
      "source": [
        "e = a.dot(b)\n",
        "e"
      ],
      "metadata": {
        "colab": {
          "base_uri": "https://localhost:8080/"
        },
        "id": "-V8LlEStJ1Da",
        "outputId": "726518dc-34d6-4aaf-fe33-15161eeacc7c"
      },
      "execution_count": 28,
      "outputs": [
        {
          "output_type": "execute_result",
          "data": {
            "text/plain": [
              "array([[19, 22],\n",
              "       [43, 50]])"
            ]
          },
          "metadata": {},
          "execution_count": 28
        }
      ]
    },
    {
      "cell_type": "markdown",
      "source": [
        "# Square\n",
        "배열 원소의 제곱값(square value) 반환\n",
        "\n",
        "# Square Root\n",
        "배열 원소의 제곱근(Square Root) 반환"
      ],
      "metadata": {
        "id": "jCqEmsJ6KGyO"
      }
    },
    {
      "cell_type": "code",
      "source": [
        "x = np.array([1, 2, 3, 4])\n",
        "x"
      ],
      "metadata": {
        "colab": {
          "base_uri": "https://localhost:8080/"
        },
        "id": "v_FowjfJJ1Ap",
        "outputId": "c00049f4-90a6-43cd-f2d3-56f05bbff1a2"
      },
      "execution_count": 29,
      "outputs": [
        {
          "output_type": "execute_result",
          "data": {
            "text/plain": [
              "array([1, 2, 3, 4])"
            ]
          },
          "metadata": {},
          "execution_count": 29
        }
      ]
    },
    {
      "cell_type": "code",
      "source": [
        "y = np.square(x)\n",
        "y"
      ],
      "metadata": {
        "colab": {
          "base_uri": "https://localhost:8080/"
        },
        "id": "GwqpAR1FJ09y",
        "outputId": "f6332983-8d17-40e9-eabe-eece9480efb8"
      },
      "execution_count": 129,
      "outputs": [
        {
          "output_type": "execute_result",
          "data": {
            "text/plain": [
              "array([ 1,  4,  9, 16])"
            ]
          },
          "metadata": {},
          "execution_count": 129
        }
      ]
    },
    {
      "cell_type": "code",
      "source": [
        "z = np.sqrt(x)\n",
        "z"
      ],
      "metadata": {
        "colab": {
          "base_uri": "https://localhost:8080/"
        },
        "id": "syBZ3pqgKOCA",
        "outputId": "fc5a9f40-766e-40ce-aa81-dc18fff93b6e"
      },
      "execution_count": 130,
      "outputs": [
        {
          "output_type": "execute_result",
          "data": {
            "text/plain": [
              "array([1.        , 1.41421356, 1.73205081, 2.        ])"
            ]
          },
          "metadata": {},
          "execution_count": 130
        }
      ]
    },
    {
      "cell_type": "markdown",
      "source": [
        "# Sum\n",
        "\n",
        "배열 원소 간 합 반환"
      ],
      "metadata": {
        "id": "crM1dCH8KN2g"
      }
    },
    {
      "cell_type": "code",
      "source": [
        "# 1D Array\n",
        "x = np.array([1, 2, 3, 4])\n",
        "x"
      ],
      "metadata": {
        "colab": {
          "base_uri": "https://localhost:8080/"
        },
        "outputId": "1cb0b20b-fb8d-4af9-cc35-851f6489f45f",
        "id": "u-sJ9ZGzv9wL"
      },
      "execution_count": 131,
      "outputs": [
        {
          "output_type": "execute_result",
          "data": {
            "text/plain": [
              "array([1, 2, 3, 4])"
            ]
          },
          "metadata": {},
          "execution_count": 131
        }
      ]
    },
    {
      "cell_type": "code",
      "source": [
        "x.sum() # 1 + 2 + 3 + 4 = 10"
      ],
      "metadata": {
        "colab": {
          "base_uri": "https://localhost:8080/"
        },
        "id": "yN4Sl5J8KTnS",
        "outputId": "8a572e85-6605-44fe-dda6-ffff54840900"
      },
      "execution_count": 133,
      "outputs": [
        {
          "output_type": "execute_result",
          "data": {
            "text/plain": [
              "10"
            ]
          },
          "metadata": {},
          "execution_count": 133
        }
      ]
    },
    {
      "cell_type": "code",
      "source": [
        "np.sum(x)"
      ],
      "metadata": {
        "colab": {
          "base_uri": "https://localhost:8080/"
        },
        "id": "9oeiijMEKTqm",
        "outputId": "1abf7512-ebe6-437f-a28b-72acf05fbc8f"
      },
      "execution_count": 34,
      "outputs": [
        {
          "output_type": "execute_result",
          "data": {
            "text/plain": [
              "10"
            ]
          },
          "metadata": {},
          "execution_count": 34
        }
      ]
    },
    {
      "cell_type": "code",
      "source": [
        "# 2D Array\n",
        "a = np.array([[1, 2, 3], [4, 5, 6]])"
      ],
      "metadata": {
        "id": "pWZUFuf0KhGO"
      },
      "execution_count": 134,
      "outputs": []
    },
    {
      "cell_type": "code",
      "source": [
        "b = a.sum() # 전체 원소 합 반환\n",
        "b"
      ],
      "metadata": {
        "colab": {
          "base_uri": "https://localhost:8080/"
        },
        "id": "q08Wt0lwKhDT",
        "outputId": "92eb7aa1-3ec5-4197-8b2d-1040757629c2"
      },
      "execution_count": 136,
      "outputs": [
        {
          "output_type": "execute_result",
          "data": {
            "text/plain": [
              "21"
            ]
          },
          "metadata": {},
          "execution_count": 136
        }
      ]
    },
    {
      "cell_type": "code",
      "source": [
        "c = a.sum(axis=0) # 행간 덧셈. 결과값의 원소수는 행의 수와 동일\n",
        "c"
      ],
      "metadata": {
        "colab": {
          "base_uri": "https://localhost:8080/"
        },
        "id": "Id1Adx_DKhAP",
        "outputId": "9b59cccb-9a02-4a75-a207-7fd9e7194025"
      },
      "execution_count": 137,
      "outputs": [
        {
          "output_type": "execute_result",
          "data": {
            "text/plain": [
              "array([5, 7, 9])"
            ]
          },
          "metadata": {},
          "execution_count": 137
        }
      ]
    },
    {
      "cell_type": "code",
      "source": [
        "e = a.sum(axis=1)# 열간 덧셈. 결과값의 원소수는 열의 수와 동일\n",
        "e"
      ],
      "metadata": {
        "colab": {
          "base_uri": "https://localhost:8080/"
        },
        "id": "d9QsfnxUKmRT",
        "outputId": "2676ccb9-296a-46a9-bdbf-1b256959dacf"
      },
      "execution_count": 138,
      "outputs": [
        {
          "output_type": "execute_result",
          "data": {
            "text/plain": [
              "array([ 6, 15])"
            ]
          },
          "metadata": {},
          "execution_count": 138
        }
      ]
    },
    {
      "cell_type": "markdown",
      "source": [
        "# Cumulative Sum\n",
        "\n",
        "배열에서 주어진 축에 따라 누적되는 원소들의 누적 합 반환"
      ],
      "metadata": {
        "id": "4bh6mSOtwiKA"
      }
    },
    {
      "cell_type": "code",
      "source": [
        "# 1D Array\n",
        "a = np.arange(10)\n",
        "a"
      ],
      "metadata": {
        "colab": {
          "base_uri": "https://localhost:8080/"
        },
        "id": "Jf53y3MowjL7",
        "outputId": "89c69a81-b9a8-49b1-9401-44f9c301c505"
      },
      "execution_count": 139,
      "outputs": [
        {
          "output_type": "execute_result",
          "data": {
            "text/plain": [
              "array([0, 1, 2, 3, 4, 5, 6, 7, 8, 9])"
            ]
          },
          "metadata": {},
          "execution_count": 139
        }
      ]
    },
    {
      "cell_type": "code",
      "source": [
        "a.cumsum()"
      ],
      "metadata": {
        "colab": {
          "base_uri": "https://localhost:8080/"
        },
        "id": "B35x4KhPwjSa",
        "outputId": "f9567734-e8f7-4d7c-c247-6c32b7382ea0"
      },
      "execution_count": 140,
      "outputs": [
        {
          "output_type": "execute_result",
          "data": {
            "text/plain": [
              "array([ 0,  1,  3,  6, 10, 15, 21, 28, 36, 45])"
            ]
          },
          "metadata": {},
          "execution_count": 140
        }
      ]
    },
    {
      "cell_type": "code",
      "source": [
        "np.cumsum(a)"
      ],
      "metadata": {
        "colab": {
          "base_uri": "https://localhost:8080/"
        },
        "id": "8Is4BNPXwt04",
        "outputId": "d671e56e-0cba-439a-a77c-5ddb007659e0"
      },
      "execution_count": 141,
      "outputs": [
        {
          "output_type": "execute_result",
          "data": {
            "text/plain": [
              "array([ 0,  1,  3,  6, 10, 15, 21, 28, 36, 45])"
            ]
          },
          "metadata": {},
          "execution_count": 141
        }
      ]
    },
    {
      "cell_type": "code",
      "source": [
        "# 2D Array\n",
        "a = np.arange(12).reshape(3, 4)\n",
        "a"
      ],
      "metadata": {
        "id": "a9YNcqMZwtx9",
        "colab": {
          "base_uri": "https://localhost:8080/"
        },
        "outputId": "83099593-63d3-490c-cdb9-96a2d61bc4e8"
      },
      "execution_count": 144,
      "outputs": [
        {
          "output_type": "execute_result",
          "data": {
            "text/plain": [
              "array([[ 0,  1,  2,  3],\n",
              "       [ 4,  5,  6,  7],\n",
              "       [ 8,  9, 10, 11]])"
            ]
          },
          "metadata": {},
          "execution_count": 144
        }
      ]
    },
    {
      "cell_type": "code",
      "source": [
        "a.cumsum() # 전체 원소 누적합 반환"
      ],
      "metadata": {
        "colab": {
          "base_uri": "https://localhost:8080/"
        },
        "id": "N6EnfoiHxALP",
        "outputId": "eca3697a-dbe9-4de4-ac54-8e9bc6addc81"
      },
      "execution_count": 145,
      "outputs": [
        {
          "output_type": "execute_result",
          "data": {
            "text/plain": [
              "array([ 0,  1,  3,  6, 10, 15, 21, 28, 36, 45, 55, 66])"
            ]
          },
          "metadata": {},
          "execution_count": 145
        }
      ]
    },
    {
      "cell_type": "code",
      "source": [
        "a.cumsum(axis=0) # 같은 행 끼리의 누적 합"
      ],
      "metadata": {
        "colab": {
          "base_uri": "https://localhost:8080/"
        },
        "id": "RA6E10nzxCMY",
        "outputId": "17317ebe-8c2b-4cde-85f5-efd267ab1283"
      },
      "execution_count": 148,
      "outputs": [
        {
          "output_type": "execute_result",
          "data": {
            "text/plain": [
              "array([[ 0,  1,  2,  3],\n",
              "       [ 4,  6,  8, 10],\n",
              "       [12, 15, 18, 21]])"
            ]
          },
          "metadata": {},
          "execution_count": 148
        }
      ]
    },
    {
      "cell_type": "code",
      "source": [
        "a.cumsum(axis=1)  # 같은 열 끼리의 누적 합"
      ],
      "metadata": {
        "colab": {
          "base_uri": "https://localhost:8080/"
        },
        "id": "TpvrOccWxCI4",
        "outputId": "d487b88e-7ac0-4699-d6ef-edeeb93eea53"
      },
      "execution_count": 149,
      "outputs": [
        {
          "output_type": "execute_result",
          "data": {
            "text/plain": [
              "array([[ 0,  1,  3,  6],\n",
              "       [ 4,  9, 15, 22],\n",
              "       [ 8, 17, 27, 38]])"
            ]
          },
          "metadata": {},
          "execution_count": 149
        }
      ]
    },
    {
      "cell_type": "markdown",
      "source": [
        "# Product\n",
        "\n",
        "주어진 축에서 배열 요소의 곱을 반환"
      ],
      "metadata": {
        "id": "jLJLqbLxviPS"
      }
    },
    {
      "cell_type": "code",
      "source": [
        "# 1D Array\n",
        "x = np.array([1, 2, 3, 4])\n",
        "x"
      ],
      "metadata": {
        "colab": {
          "base_uri": "https://localhost:8080/"
        },
        "outputId": "9148ac04-552c-4e92-cdb1-9b48c86e6e77",
        "id": "H2yUWrnwv_4l"
      },
      "execution_count": 46,
      "outputs": [
        {
          "output_type": "execute_result",
          "data": {
            "text/plain": [
              "array([1, 2, 3, 4])"
            ]
          },
          "metadata": {},
          "execution_count": 46
        }
      ]
    },
    {
      "cell_type": "code",
      "source": [
        "x.prod() # 1 * 2 * 3 * 4 = 24"
      ],
      "metadata": {
        "colab": {
          "base_uri": "https://localhost:8080/"
        },
        "id": "S7pScubQvoB0",
        "outputId": "a0290494-ac92-4a1d-bf96-24b8ecf8e961"
      },
      "execution_count": 150,
      "outputs": [
        {
          "output_type": "execute_result",
          "data": {
            "text/plain": [
              "24"
            ]
          },
          "metadata": {},
          "execution_count": 150
        }
      ]
    },
    {
      "cell_type": "code",
      "source": [
        "np.prod(x)"
      ],
      "metadata": {
        "colab": {
          "base_uri": "https://localhost:8080/"
        },
        "id": "f9rZxdxBvn_B",
        "outputId": "f2ef5922-33fc-4040-cdf0-5228f25fb01a"
      },
      "execution_count": 48,
      "outputs": [
        {
          "output_type": "execute_result",
          "data": {
            "text/plain": [
              "24"
            ]
          },
          "metadata": {},
          "execution_count": 48
        }
      ]
    },
    {
      "cell_type": "code",
      "source": [
        "np.product(x)"
      ],
      "metadata": {
        "colab": {
          "base_uri": "https://localhost:8080/"
        },
        "id": "UisqNaJavn8W",
        "outputId": "4eb6e5fe-69f1-47a9-e8cd-eca410d8bf65"
      },
      "execution_count": 49,
      "outputs": [
        {
          "output_type": "execute_result",
          "data": {
            "text/plain": [
              "24"
            ]
          },
          "metadata": {},
          "execution_count": 49
        }
      ]
    },
    {
      "cell_type": "code",
      "source": [
        "# 2D Array\n",
        "x = np.array([[1, 2, 3], [4, 5, 6]])\n",
        "x"
      ],
      "metadata": {
        "id": "gUkYiflAvn51",
        "colab": {
          "base_uri": "https://localhost:8080/"
        },
        "outputId": "e53390ea-5778-4ff4-ff7e-14cc654355e9"
      },
      "execution_count": 156,
      "outputs": [
        {
          "output_type": "execute_result",
          "data": {
            "text/plain": [
              "array([[1, 2, 3],\n",
              "       [4, 5, 6]])"
            ]
          },
          "metadata": {},
          "execution_count": 156
        }
      ]
    },
    {
      "cell_type": "code",
      "source": [
        "x.prod() # 전체 원소곱 반환"
      ],
      "metadata": {
        "colab": {
          "base_uri": "https://localhost:8080/"
        },
        "outputId": "79b86733-76be-4d46-e52b-b4019352a83a",
        "id": "aEBdLrppwLc_"
      },
      "execution_count": 157,
      "outputs": [
        {
          "output_type": "execute_result",
          "data": {
            "text/plain": [
              "720"
            ]
          },
          "metadata": {},
          "execution_count": 157
        }
      ]
    },
    {
      "cell_type": "code",
      "source": [
        "x.prod(axis=0) # 같은 행 끼리의 곱"
      ],
      "metadata": {
        "colab": {
          "base_uri": "https://localhost:8080/"
        },
        "id": "zf6hk3rMwUbf",
        "outputId": "65a6d042-138f-4c4d-962e-ec2d5df14b97"
      },
      "execution_count": 158,
      "outputs": [
        {
          "output_type": "execute_result",
          "data": {
            "text/plain": [
              "array([ 4, 10, 18])"
            ]
          },
          "metadata": {},
          "execution_count": 158
        }
      ]
    },
    {
      "cell_type": "code",
      "source": [
        "x.prod(axis=1)# 같은 열 끼리의 곱"
      ],
      "metadata": {
        "colab": {
          "base_uri": "https://localhost:8080/"
        },
        "id": "1ux-7lnrwUU_",
        "outputId": "18dbe9c2-3c44-4130-c373-c7544faa10ca"
      },
      "execution_count": 159,
      "outputs": [
        {
          "output_type": "execute_result",
          "data": {
            "text/plain": [
              "array([  6, 120])"
            ]
          },
          "metadata": {},
          "execution_count": 159
        }
      ]
    },
    {
      "cell_type": "markdown",
      "source": [
        "# Cumulative Product"
      ],
      "metadata": {
        "id": "wCyzOSdhxkkH"
      }
    },
    {
      "cell_type": "code",
      "source": [
        "# 1D Array\n",
        "a = np.arange(1,6)\n",
        "a"
      ],
      "metadata": {
        "colab": {
          "base_uri": "https://localhost:8080/"
        },
        "id": "quWVDaTkvn3Q",
        "outputId": "d31248a8-066e-46f2-a134-fcbde142be77"
      },
      "execution_count": 167,
      "outputs": [
        {
          "output_type": "execute_result",
          "data": {
            "text/plain": [
              "array([1, 2, 3, 4, 5])"
            ]
          },
          "metadata": {},
          "execution_count": 167
        }
      ]
    },
    {
      "cell_type": "code",
      "source": [
        "a.cumprod()"
      ],
      "metadata": {
        "colab": {
          "base_uri": "https://localhost:8080/"
        },
        "id": "aWYa79hNvn0u",
        "outputId": "9dbd1020-51a9-4fda-998c-4d575aacbb20"
      },
      "execution_count": 168,
      "outputs": [
        {
          "output_type": "execute_result",
          "data": {
            "text/plain": [
              "array([  1,   2,   6,  24, 120])"
            ]
          },
          "metadata": {},
          "execution_count": 168
        }
      ]
    },
    {
      "cell_type": "code",
      "source": [
        "np.cumprod(a)"
      ],
      "metadata": {
        "colab": {
          "base_uri": "https://localhost:8080/"
        },
        "id": "jtJsqnXAvnyH",
        "outputId": "6911756c-9290-4386-aee1-307fbcc01817"
      },
      "execution_count": 169,
      "outputs": [
        {
          "output_type": "execute_result",
          "data": {
            "text/plain": [
              "array([  1,   2,   6,  24, 120])"
            ]
          },
          "metadata": {},
          "execution_count": 169
        }
      ]
    },
    {
      "cell_type": "code",
      "source": [
        "# 2D Array\n",
        "a = np.arange(1, 10).reshape(3, 3)\n",
        "a"
      ],
      "metadata": {
        "id": "97Ozh1bXvnvy",
        "colab": {
          "base_uri": "https://localhost:8080/"
        },
        "outputId": "5b766311-3bc6-4ab5-d761-c6170eef069f"
      },
      "execution_count": 175,
      "outputs": [
        {
          "output_type": "execute_result",
          "data": {
            "text/plain": [
              "array([[1, 2, 3],\n",
              "       [4, 5, 6],\n",
              "       [7, 8, 9]])"
            ]
          },
          "metadata": {},
          "execution_count": 175
        }
      ]
    },
    {
      "cell_type": "code",
      "source": [
        "a.cumprod() # 전체 원소 누적곱 반환"
      ],
      "metadata": {
        "colab": {
          "base_uri": "https://localhost:8080/"
        },
        "id": "NDi8p_IdvntE",
        "outputId": "7da48d20-0e15-4f7c-dc6a-be81e25c37d7"
      },
      "execution_count": 173,
      "outputs": [
        {
          "output_type": "execute_result",
          "data": {
            "text/plain": [
              "array([     1,      2,      6,     24,    120,    720,   5040,  40320,\n",
              "       362880])"
            ]
          },
          "metadata": {},
          "execution_count": 173
        }
      ]
    },
    {
      "cell_type": "code",
      "source": [
        "a.cumprod(axis=0) # 같은 행 끼리의 누적곱"
      ],
      "metadata": {
        "colab": {
          "base_uri": "https://localhost:8080/"
        },
        "id": "P4efUTx1vnP0",
        "outputId": "0f9b4a91-df49-425b-8e8d-c5ca5d855925"
      },
      "execution_count": 176,
      "outputs": [
        {
          "output_type": "execute_result",
          "data": {
            "text/plain": [
              "array([[  1,   2,   3],\n",
              "       [  4,  10,  18],\n",
              "       [ 28,  80, 162]])"
            ]
          },
          "metadata": {},
          "execution_count": 176
        }
      ]
    },
    {
      "cell_type": "code",
      "source": [
        "a.cumprod(axis=1) # 같은 열 끼리의 누적곱"
      ],
      "metadata": {
        "colab": {
          "base_uri": "https://localhost:8080/"
        },
        "id": "m9zFkKp5vnM-",
        "outputId": "3c3dae5b-6050-440c-9650-b7368139fcc9"
      },
      "execution_count": 177,
      "outputs": [
        {
          "output_type": "execute_result",
          "data": {
            "text/plain": [
              "array([[  1,   2,   6],\n",
              "       [  4,  20, 120],\n",
              "       [  7,  56, 504]])"
            ]
          },
          "metadata": {},
          "execution_count": 177
        }
      ]
    },
    {
      "cell_type": "markdown",
      "source": [
        "# amin, amax\n",
        "\n",
        "배열의 최소/최댓값 또는 축의 최소/최댓값 반환\n",
        "\n",
        "np.amin은 Array의 최솟값을 반환해주며\n",
        "\n",
        "내 생각엔 np.min과 np.amin의 기능상 차이는 없는 것 같다. \n",
        "\n",
        "np.min도 axis 설정 가능함"
      ],
      "metadata": {
        "id": "n-UGXaRLx19D"
      }
    },
    {
      "cell_type": "code",
      "source": [
        "# 1D Array\n",
        "a = np.arange(1,6)\n",
        "a"
      ],
      "metadata": {
        "colab": {
          "base_uri": "https://localhost:8080/"
        },
        "outputId": "12e0b2f1-65bc-4470-d564-47c042064f47",
        "id": "x7LYOsDHx9AE"
      },
      "execution_count": 180,
      "outputs": [
        {
          "output_type": "execute_result",
          "data": {
            "text/plain": [
              "array([1, 2, 3, 4, 5])"
            ]
          },
          "metadata": {},
          "execution_count": 180
        }
      ]
    },
    {
      "cell_type": "code",
      "source": [
        "a.min()"
      ],
      "metadata": {
        "colab": {
          "base_uri": "https://localhost:8080/"
        },
        "id": "DnIxnOJjvnKF",
        "outputId": "ec75e47c-0f21-4aed-da9e-6eaa48ef8228"
      },
      "execution_count": 184,
      "outputs": [
        {
          "output_type": "execute_result",
          "data": {
            "text/plain": [
              "1"
            ]
          },
          "metadata": {},
          "execution_count": 184
        }
      ]
    },
    {
      "cell_type": "code",
      "source": [
        "np.min(a)"
      ],
      "metadata": {
        "colab": {
          "base_uri": "https://localhost:8080/"
        },
        "id": "LnAHgRB4vnGg",
        "outputId": "2442741c-887d-4be9-f602-3f875f95df8f"
      },
      "execution_count": 185,
      "outputs": [
        {
          "output_type": "execute_result",
          "data": {
            "text/plain": [
              "1"
            ]
          },
          "metadata": {},
          "execution_count": 185
        }
      ]
    },
    {
      "cell_type": "code",
      "source": [
        "np.amin(a)"
      ],
      "metadata": {
        "colab": {
          "base_uri": "https://localhost:8080/"
        },
        "id": "Bp0o4biCvnDs",
        "outputId": "082e62bf-8de6-4442-c32e-c2af56e4f3cd"
      },
      "execution_count": 186,
      "outputs": [
        {
          "output_type": "execute_result",
          "data": {
            "text/plain": [
              "1"
            ]
          },
          "metadata": {},
          "execution_count": 186
        }
      ]
    },
    {
      "cell_type": "code",
      "source": [
        "a.max()"
      ],
      "metadata": {
        "colab": {
          "base_uri": "https://localhost:8080/"
        },
        "id": "6g_FmjJ1vnAc",
        "outputId": "786cfdfe-f6d5-4589-9568-b8ecc94bbc24"
      },
      "execution_count": 187,
      "outputs": [
        {
          "output_type": "execute_result",
          "data": {
            "text/plain": [
              "5"
            ]
          },
          "metadata": {},
          "execution_count": 187
        }
      ]
    },
    {
      "cell_type": "code",
      "source": [
        "np.max(a)"
      ],
      "metadata": {
        "colab": {
          "base_uri": "https://localhost:8080/"
        },
        "id": "TuVoKBKUyEci",
        "outputId": "203b33aa-05ed-4455-8f62-e743b7c86f29"
      },
      "execution_count": 188,
      "outputs": [
        {
          "output_type": "execute_result",
          "data": {
            "text/plain": [
              "5"
            ]
          },
          "metadata": {},
          "execution_count": 188
        }
      ]
    },
    {
      "cell_type": "code",
      "source": [
        "np.amax(a)"
      ],
      "metadata": {
        "colab": {
          "base_uri": "https://localhost:8080/"
        },
        "id": "2Wkv4AV1yEVi",
        "outputId": "aeb3dba0-0ac0-468b-b54a-3131755f3970"
      },
      "execution_count": 189,
      "outputs": [
        {
          "output_type": "execute_result",
          "data": {
            "text/plain": [
              "5"
            ]
          },
          "metadata": {},
          "execution_count": 189
        }
      ]
    },
    {
      "cell_type": "code",
      "source": [
        "# 2D Array\n",
        "a = np.arange(1, 10).reshape(3, 3)\n",
        "a"
      ],
      "metadata": {
        "id": "C8XnufF4yaar",
        "colab": {
          "base_uri": "https://localhost:8080/"
        },
        "outputId": "78f4e3f9-5e81-4e49-da95-d4ffb6261d5b"
      },
      "execution_count": 191,
      "outputs": [
        {
          "output_type": "execute_result",
          "data": {
            "text/plain": [
              "array([[1, 2, 3],\n",
              "       [4, 5, 6],\n",
              "       [7, 8, 9]])"
            ]
          },
          "metadata": {},
          "execution_count": 191
        }
      ]
    },
    {
      "cell_type": "code",
      "source": [
        "a.min(axis=0) # 각 행에서 최솟값을 원소로 가지는 배열"
      ],
      "metadata": {
        "colab": {
          "base_uri": "https://localhost:8080/"
        },
        "id": "C-0dyAt8yUer",
        "outputId": "abc184c9-a895-4c56-9ec3-869e8f37627f"
      },
      "execution_count": 192,
      "outputs": [
        {
          "output_type": "execute_result",
          "data": {
            "text/plain": [
              "array([1, 2, 3])"
            ]
          },
          "metadata": {},
          "execution_count": 192
        }
      ]
    },
    {
      "cell_type": "code",
      "source": [
        "a.min(axis=1)# 각 열에서 최솟값을 원소로 가지는 배열"
      ],
      "metadata": {
        "colab": {
          "base_uri": "https://localhost:8080/"
        },
        "id": "6-PEpha6yUay",
        "outputId": "5f25e487-f1d5-4941-a345-0ececf07eb4d"
      },
      "execution_count": 193,
      "outputs": [
        {
          "output_type": "execute_result",
          "data": {
            "text/plain": [
              "array([1, 4, 7])"
            ]
          },
          "metadata": {},
          "execution_count": 193
        }
      ]
    },
    {
      "cell_type": "code",
      "source": [
        "a.max(axis=1)# 각 열에서 최댓값을 원소로 가지는 배열"
      ],
      "metadata": {
        "colab": {
          "base_uri": "https://localhost:8080/"
        },
        "id": "GLVdg5_fyUTD",
        "outputId": "5875924a-4df2-4747-d2af-e6dc92b8c2d2"
      },
      "execution_count": 194,
      "outputs": [
        {
          "output_type": "execute_result",
          "data": {
            "text/plain": [
              "array([3, 6, 9])"
            ]
          },
          "metadata": {},
          "execution_count": 194
        }
      ]
    },
    {
      "cell_type": "markdown",
      "source": [
        "# fmin, fmax\n",
        "\n",
        "인자로 받은 두 배열을 비교하고 요소 별 최소/최댓값을 가진 새 배열 반환"
      ],
      "metadata": {
        "id": "ZWckKLuOydYW"
      }
    },
    {
      "cell_type": "code",
      "source": [
        "a = np.array([[1, 2, 3], [4, 5, 6]])\n",
        "a"
      ],
      "metadata": {
        "colab": {
          "base_uri": "https://localhost:8080/"
        },
        "outputId": "3bc6f982-fdb5-45c4-cabc-b7d1d13a3bcc",
        "id": "nZp23zJVymJ4"
      },
      "execution_count": 195,
      "outputs": [
        {
          "output_type": "execute_result",
          "data": {
            "text/plain": [
              "array([[1, 2, 3],\n",
              "       [4, 5, 6]])"
            ]
          },
          "metadata": {},
          "execution_count": 195
        }
      ]
    },
    {
      "cell_type": "code",
      "source": [
        "b = np.array([[3, 2, 1], [6, 5, 4]])\n",
        "b"
      ],
      "metadata": {
        "colab": {
          "base_uri": "https://localhost:8080/"
        },
        "outputId": "7abf5019-f953-496b-e4ae-fb196476634c",
        "id": "Btu8fs_DymJ5"
      },
      "execution_count": 200,
      "outputs": [
        {
          "output_type": "execute_result",
          "data": {
            "text/plain": [
              "array([[3, 2, 1],\n",
              "       [6, 5, 4]])"
            ]
          },
          "metadata": {},
          "execution_count": 200
        }
      ]
    },
    {
      "cell_type": "code",
      "source": [
        "np.fmin(a, b) # 같은 위치의 원소 중 더 작은 값을 원소로 가짐"
      ],
      "metadata": {
        "colab": {
          "base_uri": "https://localhost:8080/"
        },
        "id": "HlahkrhnyenZ",
        "outputId": "a326c528-5136-41e4-bc60-e20363680e86"
      },
      "execution_count": 202,
      "outputs": [
        {
          "output_type": "execute_result",
          "data": {
            "text/plain": [
              "array([[1, 2, 1],\n",
              "       [4, 5, 4]])"
            ]
          },
          "metadata": {},
          "execution_count": 202
        }
      ]
    },
    {
      "cell_type": "code",
      "source": [
        "np.minimum(a, b)"
      ],
      "metadata": {
        "colab": {
          "base_uri": "https://localhost:8080/"
        },
        "id": "dFbAq9JKyfRm",
        "outputId": "66b26057-7b80-4f60-8cc8-f712fa77f687"
      },
      "execution_count": 203,
      "outputs": [
        {
          "output_type": "execute_result",
          "data": {
            "text/plain": [
              "array([[1, 2, 1],\n",
              "       [4, 5, 4]])"
            ]
          },
          "metadata": {},
          "execution_count": 203
        }
      ]
    },
    {
      "cell_type": "code",
      "source": [
        "np.fmax(a, b)"
      ],
      "metadata": {
        "colab": {
          "base_uri": "https://localhost:8080/"
        },
        "id": "dmWZdnDMyfPO",
        "outputId": "512ca9fa-d2d4-41d0-c113-ae5715ff26b4"
      },
      "execution_count": 204,
      "outputs": [
        {
          "output_type": "execute_result",
          "data": {
            "text/plain": [
              "array([[3, 2, 3],\n",
              "       [6, 5, 6]])"
            ]
          },
          "metadata": {},
          "execution_count": 204
        }
      ]
    },
    {
      "cell_type": "code",
      "source": [
        "np.maximum(a, b)"
      ],
      "metadata": {
        "colab": {
          "base_uri": "https://localhost:8080/"
        },
        "id": "ZYRsJk7KyfMH",
        "outputId": "2819b7e8-47dd-45c9-f2bf-d797a8ed0ca8"
      },
      "execution_count": 205,
      "outputs": [
        {
          "output_type": "execute_result",
          "data": {
            "text/plain": [
              "array([[3, 2, 3],\n",
              "       [6, 5, 6]])"
            ]
          },
          "metadata": {},
          "execution_count": 205
        }
      ]
    },
    {
      "cell_type": "markdown",
      "source": [
        "# Mean\n",
        "\n",
        "평균 반환"
      ],
      "metadata": {
        "id": "U7Zr9gsAVQdz"
      }
    },
    {
      "cell_type": "code",
      "source": [
        "# 1D Array\n",
        "a = np.array([1, 2, 3, 4])"
      ],
      "metadata": {
        "id": "Xjha3ZMbyfJP"
      },
      "execution_count": 206,
      "outputs": []
    },
    {
      "cell_type": "code",
      "source": [
        "a.mean()"
      ],
      "metadata": {
        "colab": {
          "base_uri": "https://localhost:8080/"
        },
        "id": "Lubj_rEiyfGO",
        "outputId": "410c541c-65d1-417c-dfc0-4bca08582e56"
      },
      "execution_count": 207,
      "outputs": [
        {
          "output_type": "execute_result",
          "data": {
            "text/plain": [
              "2.5"
            ]
          },
          "metadata": {},
          "execution_count": 207
        }
      ]
    },
    {
      "cell_type": "code",
      "source": [
        "np.mean(a)"
      ],
      "metadata": {
        "colab": {
          "base_uri": "https://localhost:8080/"
        },
        "id": "13vTyMK_yfDE",
        "outputId": "ad185d43-e3c0-4e32-f9f5-60e5734cf03e"
      },
      "execution_count": 208,
      "outputs": [
        {
          "output_type": "execute_result",
          "data": {
            "text/plain": [
              "2.5"
            ]
          },
          "metadata": {},
          "execution_count": 208
        }
      ]
    },
    {
      "cell_type": "code",
      "source": [
        "np.average(a)"
      ],
      "metadata": {
        "colab": {
          "base_uri": "https://localhost:8080/"
        },
        "id": "HwH_UezBWJyp",
        "outputId": "c3ea1ece-04f1-4f9b-d69a-7d7dbefc8992"
      },
      "execution_count": 209,
      "outputs": [
        {
          "output_type": "execute_result",
          "data": {
            "text/plain": [
              "2.5"
            ]
          },
          "metadata": {},
          "execution_count": 209
        }
      ]
    },
    {
      "cell_type": "code",
      "source": [
        "# 2D Array\n",
        "a = np.array([[1, 2], [3, 4]])\n",
        "a"
      ],
      "metadata": {
        "id": "x5KOPqy7WJwK",
        "colab": {
          "base_uri": "https://localhost:8080/"
        },
        "outputId": "50d136c7-0de6-4bdb-bfa3-9f49ed33aeb7"
      },
      "execution_count": 211,
      "outputs": [
        {
          "output_type": "execute_result",
          "data": {
            "text/plain": [
              "array([[1, 2],\n",
              "       [3, 4]])"
            ]
          },
          "metadata": {},
          "execution_count": 211
        }
      ]
    },
    {
      "cell_type": "code",
      "source": [
        "a.mean() # 전체 원소의 평균 반환"
      ],
      "metadata": {
        "colab": {
          "base_uri": "https://localhost:8080/"
        },
        "id": "0uy0H_qqWJtl",
        "outputId": "cca57835-b056-4975-aa6e-2f775ffb9784"
      },
      "execution_count": 212,
      "outputs": [
        {
          "output_type": "execute_result",
          "data": {
            "text/plain": [
              "2.5"
            ]
          },
          "metadata": {},
          "execution_count": 212
        }
      ]
    },
    {
      "cell_type": "code",
      "source": [
        "a.mean(axis=0) # 각 열의 평균 반환"
      ],
      "metadata": {
        "colab": {
          "base_uri": "https://localhost:8080/"
        },
        "id": "BXC_A5nPWJrJ",
        "outputId": "b324d7f3-3be2-4979-ae9b-6b2aa8f18ed5"
      },
      "execution_count": 213,
      "outputs": [
        {
          "output_type": "execute_result",
          "data": {
            "text/plain": [
              "array([2., 3.])"
            ]
          },
          "metadata": {},
          "execution_count": 213
        }
      ]
    },
    {
      "cell_type": "code",
      "source": [
        "a.mean(axis=1) # 각 행의 평균 반환"
      ],
      "metadata": {
        "colab": {
          "base_uri": "https://localhost:8080/"
        },
        "id": "evysh2CaWZDI",
        "outputId": "bb4980a5-83ba-49bf-f171-0a8e0d83b6ce"
      },
      "execution_count": 214,
      "outputs": [
        {
          "output_type": "execute_result",
          "data": {
            "text/plain": [
              "array([1.5, 3.5])"
            ]
          },
          "metadata": {},
          "execution_count": 214
        }
      ]
    },
    {
      "cell_type": "markdown",
      "source": [
        "# Weighted Average\n",
        "\n",
        "배열의 가중 평균 반환"
      ],
      "metadata": {
        "id": "YuhJFggfWjfF"
      }
    },
    {
      "cell_type": "code",
      "source": [
        "x = np.array([1, 2, 3, 4]) \n",
        "x"
      ],
      "metadata": {
        "id": "TUaHUdr4WmdD",
        "colab": {
          "base_uri": "https://localhost:8080/"
        },
        "outputId": "d0f56735-3418-4235-fe37-2daf3171bce7"
      },
      "execution_count": 218,
      "outputs": [
        {
          "output_type": "execute_result",
          "data": {
            "text/plain": [
              "array([1, 2, 3, 4])"
            ]
          },
          "metadata": {},
          "execution_count": 218
        }
      ]
    },
    {
      "cell_type": "code",
      "source": [
        "w = np.array([3, 3, 2, 1]) # 가중치\n",
        "w"
      ],
      "metadata": {
        "colab": {
          "base_uri": "https://localhost:8080/"
        },
        "id": "gfgD6WJlqwA4",
        "outputId": "f6fee1da-fcfc-4cac-9d23-9c2a24788a1d"
      },
      "execution_count": 219,
      "outputs": [
        {
          "output_type": "execute_result",
          "data": {
            "text/plain": [
              "array([3, 3, 2, 1])"
            ]
          },
          "metadata": {},
          "execution_count": 219
        }
      ]
    },
    {
      "cell_type": "markdown",
      "source": [
        "x원소에 가중치를 곱한 값 = (1 x 3) + (2 x 3) + (3 x 2) + (4 x 1) = 19\n",
        "\n",
        "가중치 w의 전체 합 = 9\n",
        "\n",
        "x 가중 평균 = 19 / 9 = 2.11111111111"
      ],
      "metadata": {
        "id": "6xcLXtJvrYOF"
      }
    },
    {
      "cell_type": "code",
      "source": [
        "np.average(x, weights=w) # x에 w라는 가중치를 주어 평균을 구한 것"
      ],
      "metadata": {
        "colab": {
          "base_uri": "https://localhost:8080/"
        },
        "id": "bJYIoY78Wpcb",
        "outputId": "9e10ae5f-ad58-45b7-f23d-c4de43aeb4b4"
      },
      "execution_count": 221,
      "outputs": [
        {
          "output_type": "execute_result",
          "data": {
            "text/plain": [
              "2.111111111111111"
            ]
          },
          "metadata": {},
          "execution_count": 221
        }
      ]
    },
    {
      "cell_type": "code",
      "source": [
        "(w*x).sum() / w.sum()"
      ],
      "metadata": {
        "colab": {
          "base_uri": "https://localhost:8080/"
        },
        "id": "ypt9fdJkWq1e",
        "outputId": "34131b3f-bcee-4e88-8c7c-30f15868dd1d"
      },
      "execution_count": 88,
      "outputs": [
        {
          "output_type": "execute_result",
          "data": {
            "text/plain": [
              "2.111111111111111"
            ]
          },
          "metadata": {},
          "execution_count": 88
        }
      ]
    },
    {
      "cell_type": "markdown",
      "source": [
        "# Variance, Standard Deviation\n",
        "\n",
        "분산과 표준편차 반환"
      ],
      "metadata": {
        "id": "lamYB9ZYWr81"
      }
    },
    {
      "cell_type": "code",
      "source": [
        "x = np.array([1, 2, 3, 4])"
      ],
      "metadata": {
        "id": "fwq94yJoWtVq"
      },
      "execution_count": 223,
      "outputs": []
    },
    {
      "cell_type": "code",
      "source": [
        "# 분산\n",
        "x.var()"
      ],
      "metadata": {
        "colab": {
          "base_uri": "https://localhost:8080/"
        },
        "id": "pUIzmiqMWtrI",
        "outputId": "783c66a0-fb63-45f2-e698-f4eefca3f409"
      },
      "execution_count": 228,
      "outputs": [
        {
          "output_type": "execute_result",
          "data": {
            "text/plain": [
              "1.25"
            ]
          },
          "metadata": {},
          "execution_count": 228
        }
      ]
    },
    {
      "cell_type": "code",
      "source": [
        "np.var(x)"
      ],
      "metadata": {
        "colab": {
          "base_uri": "https://localhost:8080/"
        },
        "id": "00P8L0WgWtin",
        "outputId": "8808df7f-fd1f-403d-fe3c-7e47e9f6d55a"
      },
      "execution_count": 225,
      "outputs": [
        {
          "output_type": "execute_result",
          "data": {
            "text/plain": [
              "1.25"
            ]
          },
          "metadata": {},
          "execution_count": 225
        }
      ]
    },
    {
      "cell_type": "code",
      "source": [
        "# 표준편차\n",
        "x.std()"
      ],
      "metadata": {
        "colab": {
          "base_uri": "https://localhost:8080/"
        },
        "id": "AFkI10tJWtbu",
        "outputId": "abd1061e-be73-42d0-afd4-018e7cfec74b"
      },
      "execution_count": 229,
      "outputs": [
        {
          "output_type": "execute_result",
          "data": {
            "text/plain": [
              "1.118033988749895"
            ]
          },
          "metadata": {},
          "execution_count": 229
        }
      ]
    },
    {
      "cell_type": "code",
      "source": [
        "np.std(x)"
      ],
      "metadata": {
        "id": "aSYwcX2nW1YL",
        "outputId": "b25dc655-9ce2-4509-c023-f68b237e6b34",
        "colab": {
          "base_uri": "https://localhost:8080/"
        }
      },
      "execution_count": 227,
      "outputs": [
        {
          "output_type": "execute_result",
          "data": {
            "text/plain": [
              "1.118033988749895"
            ]
          },
          "metadata": {},
          "execution_count": 227
        }
      ]
    }
  ]
}