{
  "nbformat": 4,
  "nbformat_minor": 0,
  "metadata": {
    "colab": {
      "provenance": [],
      "collapsed_sections": [],
      "authorship_tag": "ABX9TyMKQJ+JpyBbIz+pujHlCdKf"
    },
    "kernelspec": {
      "name": "python3",
      "display_name": "Python 3"
    },
    "language_info": {
      "name": "python"
    }
  },
  "cells": [
    {
      "cell_type": "markdown",
      "source": [
        "[Programmers_거스름돈](https://school.programmers.co.kr/learn/courses/30/lessons/12907)  \n",
        "Finn은 편의점에서 야간 아르바이트를 하고 있습니다.   \n",
        "야간에 손님이 너무 없어 심심한 Finn은 손님들께 거스름돈을 n 원을 줄 때 방법의 경우의 수를 구하기로 하였습니다.  \n",
        "\n",
        "예를 들어서 손님께 5원을 거슬러 줘야 하고 1원, 2원, 5원이 있다면   \n",
        "다음과 같이 4가지 방법으로 5원을 거슬러 줄 수 있습니다.  \n",
        "\n",
        "1원을 5개 사용해서 거슬러 준다.  \n",
        "1원을 3개 사용하고, 2원을 1개 사용해서 거슬러 준다.  \n",
        "1원을 1개 사용하고, 2원을 2개 사용해서 거슬러 준다.  \n",
        "5원을 1개 사용해서 거슬러 준다.  \n",
        "거슬러 줘야 하는 금액 n과 Finn이 현재 보유하고 있는 돈의 종류 money가 매개변수로 주어질 때,   \n",
        "Finn이 n 원을 거슬러 줄 방법의 수를 return 하도록 solution 함수를 완성해 주세요.\n",
        "\n",
        ">제한 사항  \n",
        "n은 100,000 이하의 자연수입니다.  \n",
        "화폐 단위는 100종류 이하입니다.  \n",
        "모든 화폐는 무한하게 있다고 가정합니다.  \n",
        "정답이 커질 수 있으니, 1,000,000,007로 나눈 나머지를 return 해주세요."
      ],
      "metadata": {
        "id": "UChwEMNGOCsF"
      }
    },
    {
      "cell_type": "code",
      "execution_count": 1,
      "metadata": {
        "id": "hKksqenMOA0h"
      },
      "outputs": [],
      "source": [
        "# 입출력 예\n",
        "n = 5\t\n",
        "money = [1,2,5]\t\n",
        "result = 4"
      ]
    },
    {
      "cell_type": "markdown",
      "source": [
        "memoization 방식으로 접근.   \n",
        "메모이제이션은 동일한 계산이 반복될 때,   \n",
        "이전 계산값을 메모리에 저장함으로써 반복 수행을 제거하여 실행 속도를 빠르게 하는 기술이다.  \n",
        "거스름돈 금액을 rest로 지정하고  입력된 money를 작은 동전 단위부터 접근하여 경우의 수를 기록  \n",
        "memo[rest] += memo[rest - coin]   \n",
        "  \n",
        "거스름돈n이 있으면 n+1의 길이 '메모리스트' 생성    \n",
        "메모리스트 각 인덱스 개수를 money의 각 요소로 만들 수 있는 가짓수로 설정    \n",
        "  \n",
        "가장 작은 money 요소부터 하나씩 연산하여 n원까지 메모이제이션 실행 후,   \n",
        "memo[n]에는 모든 동전을 사용하여 n원을 만들 수 있는 가짓수 가짐  \n"
      ],
      "metadata": {
        "id": "f7xPOx1eTAZc"
      }
    },
    {
      "cell_type": "code",
      "source": [
        "def solution(n, money):\n",
        "  # 각 인덱스에 해당하는 수를 누적하여 기록\n",
        "    memo = [1] + [0] * n \n",
        "    for coin in money: # 동전 하나씩 나누어 접근\n",
        "        for price in range(coin , n+1):\n",
        "            if price >= coin :\n",
        "                memo[price] += memo[price - coin ]\n",
        "                \n",
        "    return memo[n] % 1000000007 # 제한 사항으로  % 1000000007 추가"
      ],
      "metadata": {
        "id": "xTs-pzaCSqrL"
      },
      "execution_count": 2,
      "outputs": []
    }
  ]
}