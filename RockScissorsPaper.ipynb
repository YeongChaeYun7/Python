{
  "nbformat": 4,
  "nbformat_minor": 0,
  "metadata": {
    "colab": {
      "name": "RockScissorsPaper.ipynb",
      "provenance": [],
      "collapsed_sections": [],
      "authorship_tag": "ABX9TyMzBRG+B0Zoqg3t2/scM/yj"
    },
    "kernelspec": {
      "name": "python3",
      "display_name": "Python 3"
    },
    "language_info": {
      "name": "python"
    }
  },
  "cells": [
    {
      "cell_type": "markdown",
      "source": [
        ">가위바위보\n",
        "\n",
        "가위바위보는 낼 수 있는 경우의 수가 3가지이므로,\n",
        "\n",
        "가위 = 1, 바위 = 2, 보 = 3 으로 설정, 계산\n",
        "\n",
        "randist를 활용하여 컴퓨터의 수를 받고\n",
        "\n",
        "input을 활용하여 사용자의 수를 입력받는다.\n",
        "\n",
        "의도한 바와 다른 입력값이 들어오면 의도한 값이 입력 될 때까지 무한루프 설정\n",
        "\n",
        "결과와 함께 컴퓨터의 수도 문자열로 출력\n",
        "\n",
        "게임이 끝난 후 재시작/나가기 선택할 수 있도록 설정. 게임 가능 횟수는 무한"
      ],
      "metadata": {
        "id": "coZ4HhMlmFqg"
      }
    },
    {
      "cell_type": "code",
      "execution_count": 164,
      "metadata": {
        "id": "LwvTohjAleY8"
      },
      "outputs": [],
      "source": [
        "import random"
      ]
    },
    {
      "cell_type": "code",
      "source": [
        "# 다중문을 한 번에 중단하기위해 while문과 restart()에서 플래그 역할\n",
        "flag = 0"
      ],
      "metadata": {
        "id": "uciEXDMtmXzE"
      },
      "execution_count": 165,
      "outputs": []
    },
    {
      "cell_type": "code",
      "source": [
        "# 사용자 입력 \n",
        "def input_me ():\n",
        "  while True:\n",
        "    _me = int(input(\">>>>>>>가위 바위 보<<<<<<<\\n무엇을 내시겠어요?\\n1) 가위   2) 바위   3) 보\\n\"))\n",
        "    \n",
        "    if 0 < _me and _me < 4:\n",
        "      break\n",
        "\n",
        "    else : \n",
        "      print('번호로 입력해주세요')\n",
        "    \n",
        "  return _me"
      ],
      "metadata": {
        "id": "UjUFbLsCROtI"
      },
      "execution_count": 166,
      "outputs": []
    },
    {
      "cell_type": "code",
      "source": [
        "# 재시작 여부 입력\n",
        "def restart ():\n",
        "  global flag\n",
        "  while True:\n",
        "    _re = int(input(\"1) 다시 시작   2) 나가기 \\n\"))\n",
        "    \n",
        "    if _re == 1:\n",
        "      break\n",
        "\n",
        "    elif _re == 2:\n",
        "      flag = -1\n",
        "      break\n",
        "      \n",
        "    else : \n",
        "       print('번호로 입력해주세요')"
      ],
      "metadata": {
        "id": "ywczvl6CmelJ"
      },
      "execution_count": 167,
      "outputs": []
    },
    {
      "cell_type": "code",
      "source": [
        "# com 정수를 문자열로 전환\n",
        "def change(_num):\n",
        "  if _num == 1:\n",
        "    _com = \"가위\"\n",
        "\n",
        "  elif _num == 2:\n",
        "    _com = \"바위\"\n",
        "    \n",
        "  else:\n",
        "    _com = \"보\"\n",
        "\n",
        "  return _com"
      ],
      "metadata": {
        "id": "IXpeZRCK9bu5"
      },
      "execution_count": 168,
      "outputs": []
    },
    {
      "cell_type": "code",
      "source": [
        "while flag == 0:\n",
        "  com = random.randint(1,3)\n",
        "  me = input_me()\n",
        "\n",
        "  if com == me:\n",
        "    print('컴퓨터는 %s를 냈습니다.\\n 비겼군요!'%change(com))\n",
        "    restart()\n",
        "\n",
        "  elif (me - com) == 1 or (com - me == 2): \n",
        "    print('컴퓨터는 %s를 냈습니다.\\n 승리!!!'%change(com))\n",
        "    restart()\n",
        "\n",
        "  else : \n",
        "    print('컴퓨터는 %s를 냈습니다.\\n 졌습니다!'%change(com))\n",
        "    restart()"
      ],
      "metadata": {
        "colab": {
          "base_uri": "https://localhost:8080/"
        },
        "id": "VUj9aWD61Q1B",
        "outputId": "a3207c8b-9b66-4695-f1e3-27fa3b4270ff"
      },
      "execution_count": 169,
      "outputs": [
        {
          "name": "stdout",
          "output_type": "stream",
          "text": [
            ">>>>>>>가위 바위 보<<<<<<<\n",
            "무엇을 내시겠어요?\n",
            "1) 가위   2) 바위   3) 보\n",
            "1\n",
            "컴퓨터는 보를 냈습니다.\n",
            " 승리!!!\n",
            "1) 다시 시작   2) 나가기 \n",
            "2\n"
          ]
        }
      ]
    }
  ]
}