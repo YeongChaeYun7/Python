{
  "nbformat": 4,
  "nbformat_minor": 0,
  "metadata": {
    "colab": {
      "provenance": [],
      "collapsed_sections": [],
      "authorship_tag": "ABX9TyPb1gxXv1vxv9KZL7Ntd3qD"
    },
    "kernelspec": {
      "name": "python3",
      "display_name": "Python 3"
    },
    "language_info": {
      "name": "python"
    }
  },
  "cells": [
    {
      "cell_type": "markdown",
      "source": [
        "[programmers 가장 긴 펠린드롬](https://school.programmers.co.kr/learn/courses/30/lessons/12904)  \n",
        " \n",
        "앞뒤를 뒤집어도 똑같은 문자열을 팰린드롬(palindrome)이라고 합니다.  \n",
        "문자열 s가 주어질 때, s의 부분문자열(Substring)중 가장 긴 팰린드롬의 길이를 return 하는 solution 함수를 완성해 주세요.  \n",
        "\n",
        "예를들면, 문자열 s가 \"abcdcba\"이면 7을 return하고 \"abacde\"이면 3을 return합니다.  \n",
        "\n",
        ">제한사항  \n",
        "문자열 s의 길이 : 2,500 이하의 자연수  \n",
        "문자열 s는 알파벳 소문자로만 구성  "
      ],
      "metadata": {
        "id": "dNuVoXcg66fo"
      }
    },
    {
      "cell_type": "code",
      "execution_count": 4,
      "metadata": {
        "id": "hNtZp1qk61ee"
      },
      "outputs": [],
      "source": [
        "# 입출력 예\n",
        "s\t= [\"abcdcba\", \"abacde\"]\n",
        "answer = [7,3]"
      ]
    },
    {
      "cell_type": "markdown",
      "source": [
        "이중 for문을 활용하여 가능한 모든 부분 문자열을 검색하여 해결함  \n",
        "펠린드롬 판별은 문자열 슬라이싱으로 간단히 문자열을 뒤짐어 판별할 수 있었다 [::-1]  \n",
        "그때그때 펠린드롬 길이를 비교하여 answer값을 갱신하여 출력  \n",
        "  \n",
        "전체 부분 문자열을 비교하고  시간복잡도 O(n^3)가 커보이지만  \n",
        "제한사항이 크고, 중간 값이나 최대 길이부터 비교해도   \n",
        "다른 방법은 추가적인 연산의 필요해서  이 방법이 가장 효율적인 것 같다.\n"
      ],
      "metadata": {
        "id": "FvBRQGB68Jh5"
      }
    },
    {
      "cell_type": "code",
      "source": [
        "def solution(s):\n",
        "    answer = 1 # 최소값 1\n",
        "    for i in range(len(s)): \n",
        "        for j in range(len(s), i, -1): \n",
        "            pal = s[i:j] # i와 j사이 문자열 생성\n",
        "            if pal == pal[::-1]: # 뒤집을 때도 같은 문자열이면 펠린드롬이라 판단\n",
        "                answer = max(answer, len(pal)) # 최대 길이로 answer 갱신\n",
        "    return answer"
      ],
      "metadata": {
        "id": "pPKKB7PwNy3x"
      },
      "execution_count": 3,
      "outputs": []
    },
    {
      "cell_type": "code",
      "source": [
        "for i in range(len(s)):\n",
        "  print(answer[i] == solution(s[i]))"
      ],
      "metadata": {
        "colab": {
          "base_uri": "https://localhost:8080/"
        },
        "id": "6B_KIgbfBJJq",
        "outputId": "0b5c22b7-a43f-4b09-8f0c-c6a690c47174"
      },
      "execution_count": 5,
      "outputs": [
        {
          "output_type": "stream",
          "name": "stdout",
          "text": [
            "True\n",
            "True\n"
          ]
        }
      ]
    }
  ]
}