{
  "nbformat": 4,
  "nbformat_minor": 0,
  "metadata": {
    "colab": {
      "name": "Numpy_08_Mathematical Functions .ipynb",
      "provenance": [],
      "authorship_tag": "ABX9TyPgDO90CK0LGOiQwGmxydyW"
    },
    "kernelspec": {
      "name": "python3",
      "display_name": "Python 3"
    },
    "language_info": {
      "name": "python"
    }
  },
  "cells": [
    {
      "cell_type": "code",
      "execution_count": 7,
      "metadata": {
        "id": "64pGaKjhGMIJ"
      },
      "outputs": [],
      "source": [
        "import numpy as np"
      ]
    },
    {
      "cell_type": "markdown",
      "source": [
        "# 𝝿, e, exp\n",
        "\n",
        "numpy 라이브러리에서 지원하는 수학 기능들\n",
        "\n",
        "𝝿 - 원의 지름에 대한 원주의 비율\n",
        "\n",
        "e - 지수함수\n",
        "\n",
        "exp - 밑이 자연상수 e인 지수함수(e^x)로 변환"
      ],
      "metadata": {
        "id": "DUmf9cL9cpBC"
      }
    },
    {
      "cell_type": "code",
      "source": [
        "from numpy import pi\n",
        "pi"
      ],
      "metadata": {
        "colab": {
          "base_uri": "https://localhost:8080/"
        },
        "id": "AjctUy_jcf3l",
        "outputId": "e06436d7-95ba-44ad-d445-fafc960e44c5"
      },
      "execution_count": 8,
      "outputs": [
        {
          "output_type": "execute_result",
          "data": {
            "text/plain": [
              "3.141592653589793"
            ]
          },
          "metadata": {},
          "execution_count": 8
        }
      ]
    },
    {
      "cell_type": "code",
      "source": [
        "from numpy import e\n",
        "e"
      ],
      "metadata": {
        "colab": {
          "base_uri": "https://localhost:8080/"
        },
        "id": "HBpvBsUDcf02",
        "outputId": "3cd58641-ce70-4332-d9b5-ce994e7b413c"
      },
      "execution_count": 9,
      "outputs": [
        {
          "output_type": "execute_result",
          "data": {
            "text/plain": [
              "2.718281828459045"
            ]
          },
          "metadata": {},
          "execution_count": 9
        }
      ]
    },
    {
      "cell_type": "code",
      "source": [
        "np.exp(1) # e^1 와 동일"
      ],
      "metadata": {
        "colab": {
          "base_uri": "https://localhost:8080/"
        },
        "id": "xMvAnKLxdDR2",
        "outputId": "9b2f5474-eeff-4bb6-96da-2aefdfe95c6f"
      },
      "execution_count": 10,
      "outputs": [
        {
          "output_type": "execute_result",
          "data": {
            "text/plain": [
              "2.718281828459045"
            ]
          },
          "metadata": {},
          "execution_count": 10
        }
      ]
    },
    {
      "cell_type": "code",
      "source": [
        "x = np.array([0, 1, 10])\n",
        "y = np.exp(x)\n",
        "print(y,y.dtype)"
      ],
      "metadata": {
        "id": "HJM2FLMRdDPJ",
        "colab": {
          "base_uri": "https://localhost:8080/"
        },
        "outputId": "c92b4bad-30ad-443d-fe91-8ca4130c2ddb"
      },
      "execution_count": 11,
      "outputs": [
        {
          "output_type": "stream",
          "name": "stdout",
          "text": [
            "[1.00000000e+00 2.71828183e+00 2.20264658e+04] float64\n"
          ]
        }
      ]
    },
    {
      "cell_type": "code",
      "source": [
        "import matplotlib.pyplot as plt\n",
        "\n",
        "x = np.linspace(-2, 2, 100)\n",
        "y = np.exp(x)\n",
        "\n",
        "plt.plot(x, y)\n",
        "plt.show()"
      ],
      "metadata": {
        "colab": {
          "base_uri": "https://localhost:8080/",
          "height": 265
        },
        "id": "wDBoUum_dDJr",
        "outputId": "2082a2cd-b04b-4de3-ac2f-fd8dec0b54c8"
      },
      "execution_count": 12,
      "outputs": [
        {
          "output_type": "display_data",
          "data": {
            "text/plain": [
              "<Figure size 432x288 with 1 Axes>"
            ],
            "image/png": "[encoded data removed]"
          },
          "metadata": {
            "needs_background": "light"
          }
        }
      ]
    },
    {
      "cell_type": "markdown",
      "source": [
        "# sin, cos, tan\n",
        "\n",
        "numpy를 이용하여 삼각함수를 적용한 값을 얻을 수 있다\n",
        "\n",
        "라디안을 인자로 받는다\n",
        "\n",
        "π/2 * 1 = 90도\n",
        "\n",
        "π/2 * 2 = 180도\n",
        "\n",
        "π/2 * 3 = 270도\n",
        "\n",
        "π/2 * 4 = 360도"
      ],
      "metadata": {
        "id": "mrTAzz1Bds5K"
      }
    },
    {
      "cell_type": "code",
      "source": [
        "np.sin(0)"
      ],
      "metadata": {
        "colab": {
          "base_uri": "https://localhost:8080/"
        },
        "id": "61vdB8GWdsm4",
        "outputId": "5d9f73ea-8b2e-4573-c346-48c202eb03eb"
      },
      "execution_count": 13,
      "outputs": [
        {
          "output_type": "execute_result",
          "data": {
            "text/plain": [
              "0.0"
            ]
          },
          "metadata": {},
          "execution_count": 13
        }
      ]
    },
    {
      "cell_type": "code",
      "source": [
        "np.sin(pi/2) # 180도"
      ],
      "metadata": {
        "colab": {
          "base_uri": "https://localhost:8080/"
        },
        "id": "SgnO8RxTdskA",
        "outputId": "f81639f9-5a87-4944-9a10-c43c724984b6"
      },
      "execution_count": 14,
      "outputs": [
        {
          "output_type": "execute_result",
          "data": {
            "text/plain": [
              "1.0"
            ]
          },
          "metadata": {},
          "execution_count": 14
        }
      ]
    },
    {
      "cell_type": "code",
      "source": [
        "np.cos(0)"
      ],
      "metadata": {
        "colab": {
          "base_uri": "https://localhost:8080/"
        },
        "id": "o56Se6SGdshU",
        "outputId": "451a290b-3c0c-4c5a-ca1e-b1d497d6861c"
      },
      "execution_count": 15,
      "outputs": [
        {
          "output_type": "execute_result",
          "data": {
            "text/plain": [
              "1.0"
            ]
          },
          "metadata": {},
          "execution_count": 15
        }
      ]
    },
    {
      "cell_type": "code",
      "source": [
        "np.cos(pi/2)"
      ],
      "metadata": {
        "colab": {
          "base_uri": "https://localhost:8080/"
        },
        "id": "t7XxgxOBdscf",
        "outputId": "6f530af1-2547-4a14-a98c-17395ef2c544"
      },
      "execution_count": 16,
      "outputs": [
        {
          "output_type": "execute_result",
          "data": {
            "text/plain": [
              "6.123233995736766e-17"
            ]
          },
          "metadata": {},
          "execution_count": 16
        }
      ]
    },
    {
      "cell_type": "code",
      "source": [
        "x = np.array([0, pi/6, pi/3, pi/2])\n",
        "np.sin(x)"
      ],
      "metadata": {
        "id": "sIOwRSa_d7u7",
        "colab": {
          "base_uri": "https://localhost:8080/"
        },
        "outputId": "490f3c38-a7fe-49c9-bab4-c5e1b3098954"
      },
      "execution_count": 17,
      "outputs": [
        {
          "output_type": "execute_result",
          "data": {
            "text/plain": [
              "array([0.       , 0.5      , 0.8660254, 1.       ])"
            ]
          },
          "metadata": {},
          "execution_count": 17
        }
      ]
    },
    {
      "cell_type": "code",
      "source": [
        "np.cos(x)"
      ],
      "metadata": {
        "colab": {
          "base_uri": "https://localhost:8080/"
        },
        "id": "t4ZBxCeDd7pW",
        "outputId": "1f5f81f4-73f8-47e2-a0a1-6be63d6bff82"
      },
      "execution_count": 18,
      "outputs": [
        {
          "output_type": "execute_result",
          "data": {
            "text/plain": [
              "array([1.00000000e+00, 8.66025404e-01, 5.00000000e-01, 6.12323400e-17])"
            ]
          },
          "metadata": {},
          "execution_count": 18
        }
      ]
    },
    {
      "cell_type": "code",
      "source": [
        "import matplotlib.pyplot as plt\n",
        "\n",
        "x = np.linspace(0, 2*pi, 100) # 0 ~ 180도 사이의 값 100개를 뽑아 균등하게 채움\n",
        "\n",
        "plt.plot(x, np.sin(x), label='sin(x)')\n",
        "plt.plot(x, np.cos(x), label='cos(x)')\n",
        "\n",
        "plt.legend() # plot 함수 안에 입력한 label을 범례로 사용\n",
        "plt.show()"
      ],
      "metadata": {
        "colab": {
          "base_uri": "https://localhost:8080/",
          "height": 265
        },
        "id": "lhunUQlDd7m1",
        "outputId": "6d0b0466-fb58-4ce7-c7be-00b85e3a7a0f"
      },
      "execution_count": 19,
      "outputs": [
        {
          "output_type": "display_data",
          "data": {
            "text/plain": [
              "<Figure size 432x288 with 1 Axes>"
            ],
            "image/png": "[encoded data removed]"
          },
          "metadata": {
            "needs_background": "light"
          }
        }
      ]
    },
    {
      "cell_type": "code",
      "source": [
        "x = np.linspace(-pi/3, pi/3, 100) \n",
        "\n",
        "plt.plot(x, np.tan(x))\n",
        "plt.axis('scaled') # 'scaled'옵션은 플롯박스의 차원과 동일하게 축의 스케일 설정\n",
        "plt.show()"
      ],
      "metadata": {
        "colab": {
          "base_uri": "https://localhost:8080/",
          "height": 265
        },
        "id": "b9dw_NWveNLM",
        "outputId": "c870d9ad-9b61-42a1-d10d-2fc4b02463d9"
      },
      "execution_count": 20,
      "outputs": [
        {
          "output_type": "display_data",
          "data": {
            "text/plain": [
              "<Figure size 432x288 with 1 Axes>"
            ],
            "image/png": "[encoded data removed]"
          },
          "metadata": {
            "needs_background": "light"
          }
        }
      ]
    },
    {
      "cell_type": "markdown",
      "source": [
        "# log\n",
        "\n"
      ],
      "metadata": {
        "id": "qQFfn6YCeRHB"
      }
    },
    {
      "cell_type": "code",
      "source": [
        "# np.log() 인자로 받은 배열의 각 원소의 자연 로그 배열 반환\n",
        "x = [1, np.e, np.e**2, np.e**3]\n",
        "print(np.log(x))"
      ],
      "metadata": {
        "colab": {
          "base_uri": "https://localhost:8080/"
        },
        "id": "cknxVuMGsTzh",
        "outputId": "5f5d2055-5752-4221-a07c-ce8c2abb7b29"
      },
      "execution_count": 21,
      "outputs": [
        {
          "output_type": "stream",
          "name": "stdout",
          "text": [
            "[0. 1. 2. 3.]\n"
          ]
        }
      ]
    },
    {
      "cell_type": "code",
      "source": [
        "# np.log2() 2를 밑으로 하는 로그 배열 반환\n",
        "x = [1, np.e, np.e**2, np.e**3]\n",
        "print(np.log2(x))"
      ],
      "metadata": {
        "colab": {
          "base_uri": "https://localhost:8080/"
        },
        "id": "5jUKelSesTwN",
        "outputId": "8c12800c-bda5-4d93-df9f-70dc6c451da9"
      },
      "execution_count": 22,
      "outputs": [
        {
          "output_type": "stream",
          "name": "stdout",
          "text": [
            "[0.         1.44269504 2.88539008 4.32808512]\n"
          ]
        }
      ]
    },
    {
      "cell_type": "code",
      "source": [
        "# np.log10() 10을 밑으로 하는 배열 반환\n",
        "x = [1, np.e, np.e**2, np.e**3]\n",
        "print(np.log10(x))"
      ],
      "metadata": {
        "colab": {
          "base_uri": "https://localhost:8080/"
        },
        "id": "N4y9fLK8sTs0",
        "outputId": "18e9acc2-3b41-426c-eb15-3d33d9d03b1c"
      },
      "execution_count": 23,
      "outputs": [
        {
          "output_type": "stream",
          "name": "stdout",
          "text": [
            "[0.         0.43429448 0.86858896 1.30288345]\n"
          ]
        }
      ]
    },
    {
      "cell_type": "code",
      "source": [
        "import matplotlib.pyplot as plt\n",
        "\n",
        "x = np.linspace(0.1, 7.0, 100) # 0.1 ~ 7.0 사이의 값 100개를 뽑아 균등하게 채움\n",
        "\n",
        "plt.plot(x, np.log(x))\n",
        "plt.show()"
      ],
      "metadata": {
        "colab": {
          "base_uri": "https://localhost:8080/",
          "height": 265
        },
        "id": "JLedgtpfeQkx",
        "outputId": "8eacd5bd-4f68-423f-8a3d-64343ef30426"
      },
      "execution_count": 24,
      "outputs": [
        {
          "output_type": "display_data",
          "data": {
            "text/plain": [
              "<Figure size 432x288 with 1 Axes>"
            ],
            "image/png": "[encoded data removed]"
          },
          "metadata": {
            "needs_background": "light"
          }
        }
      ]
    }
  ]
}