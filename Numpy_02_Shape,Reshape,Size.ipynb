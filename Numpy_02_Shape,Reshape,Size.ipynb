{
  "nbformat": 4,
  "nbformat_minor": 0,
  "metadata": {
    "colab": {
      "name": "Numpy_02_Shape,Reshape,Size.ipynb",
      "provenance": [],
      "collapsed_sections": [],
      "authorship_tag": "ABX9TyOPoiwx3WR824QVGBGGfqre"
    },
    "kernelspec": {
      "name": "python3",
      "display_name": "Python 3"
    },
    "language_info": {
      "name": "python"
    }
  },
  "cells": [
    {
      "cell_type": "markdown",
      "source": [
        "# shape 배열의 크기\n",
        "\n",
        "array의 크기 반환\n",
        "\n",
        "shape 을 확인함으로써 몇개의 데이터가 있는지, 몇 차원으로 존재하는지 등을 확인 가능\n"
      ],
      "metadata": {
        "id": "CMudYQb55dS4"
      }
    },
    {
      "cell_type": "code",
      "execution_count": null,
      "metadata": {
        "id": "6nQKYdtr1jQY"
      },
      "outputs": [],
      "source": [
        "import numpy as np"
      ]
    },
    {
      "cell_type": "code",
      "source": [
        "arr1 = np.array([1,2,3,4,5])\n",
        "arr2 = np.array([[1,2,3],\n",
        "                 [4,5,6],\n",
        "                 [7,8,9]])"
      ],
      "metadata": {
        "id": "5N401ZtVKQDK"
      },
      "execution_count": null,
      "outputs": []
    },
    {
      "cell_type": "code",
      "source": [
        "# array 형태(크기)확인 (행 갯수, 열 갯수)\n",
        "arr1.shape \n",
        "# 1차원의 데이터이며 총 5라는 크기를 갖고 있음을 알 수 있다"
      ],
      "metadata": {
        "colab": {
          "base_uri": "https://localhost:8080/"
        },
        "id": "hU6AmD6X3hrE",
        "outputId": "2495c751-2c2a-4ee7-8639-58d02c5ce609"
      },
      "execution_count": null,
      "outputs": [
        {
          "output_type": "execute_result",
          "data": {
            "text/plain": [
              "(5,)"
            ]
          },
          "metadata": {},
          "execution_count": 3
        }
      ]
    },
    {
      "cell_type": "code",
      "source": [
        "arr2.shape\n",
        "# 2차원의 데이터이며 3 * 3 크기를 갖고 있음을 알 수 있다"
      ],
      "metadata": {
        "colab": {
          "base_uri": "https://localhost:8080/"
        },
        "id": "TSELIttP5Vg0",
        "outputId": "e8d6bd9a-25b0-4c08-efa2-3bc2716e6870"
      },
      "execution_count": null,
      "outputs": [
        {
          "output_type": "execute_result",
          "data": {
            "text/plain": [
              "(3, 3)"
            ]
          },
          "metadata": {},
          "execution_count": 4
        }
      ]
    },
    {
      "cell_type": "markdown",
      "source": [
        "#  reshape 배열과 차원(행,열) 변형\n",
        "\n",
        "np.reshape(변경할 배열, (행,열))  \n",
        "\n",
        "배열.reshape((행,열))\n",
        "\n",
        "현재의 배열의 차원(1차원,2차원,3차원)을 변경하여 행렬을 반환하거나 하는 경우 많이 활용"
      ],
      "metadata": {
        "id": "aKBkG9UXd2Nw"
      }
    },
    {
      "cell_type": "code",
      "source": [
        "# 2차원 변환\n",
        "a = np.array([1,2,3,4,5,6,7,8])\n",
        "\n",
        "b = np.reshape(a,(4,2))\n",
        "c = np.reshape(a,(2,4))"
      ],
      "metadata": {
        "id": "dUFuVlWEee-U"
      },
      "execution_count": null,
      "outputs": []
    },
    {
      "cell_type": "code",
      "source": [
        "a"
      ],
      "metadata": {
        "colab": {
          "base_uri": "https://localhost:8080/"
        },
        "id": "fF-hvunsdvhZ",
        "outputId": "540e4a89-f8aa-4e92-90b7-0e6a5cf88551"
      },
      "execution_count": null,
      "outputs": [
        {
          "output_type": "execute_result",
          "data": {
            "text/plain": [
              "array([1, 2, 3, 4, 5, 6, 7, 8])"
            ]
          },
          "metadata": {},
          "execution_count": 6
        }
      ]
    },
    {
      "cell_type": "code",
      "source": [
        "b"
      ],
      "metadata": {
        "colab": {
          "base_uri": "https://localhost:8080/"
        },
        "id": "9NEyVAvzei_R",
        "outputId": "746513ae-f0cb-4a72-a529-2bb16f6dc217"
      },
      "execution_count": null,
      "outputs": [
        {
          "output_type": "execute_result",
          "data": {
            "text/plain": [
              "array([[1, 2],\n",
              "       [3, 4],\n",
              "       [5, 6],\n",
              "       [7, 8]])"
            ]
          },
          "metadata": {},
          "execution_count": 7
        }
      ]
    },
    {
      "cell_type": "code",
      "source": [
        "c"
      ],
      "metadata": {
        "colab": {
          "base_uri": "https://localhost:8080/"
        },
        "id": "Evtb0qV0ei8p",
        "outputId": "379d1715-3b72-45e9-f9a2-27f3385d2e7e"
      },
      "execution_count": null,
      "outputs": [
        {
          "output_type": "execute_result",
          "data": {
            "text/plain": [
              "array([[1, 2, 3, 4],\n",
              "       [5, 6, 7, 8]])"
            ]
          },
          "metadata": {},
          "execution_count": 8
        }
      ]
    },
    {
      "cell_type": "code",
      "source": [
        "# 3차원 변환\n",
        "a = np.arange(1,13)\n",
        "b = a. reshape(2,2,3) \n",
        "b"
      ],
      "metadata": {
        "colab": {
          "base_uri": "https://localhost:8080/"
        },
        "id": "aYtUPGOcei57",
        "outputId": "0f7cac5d-be44-49fd-8018-c528cc0b5c63"
      },
      "execution_count": null,
      "outputs": [
        {
          "output_type": "execute_result",
          "data": {
            "text/plain": [
              "array([[[ 1,  2,  3],\n",
              "        [ 4,  5,  6]],\n",
              "\n",
              "       [[ 7,  8,  9],\n",
              "        [10, 11, 12]]])"
            ]
          },
          "metadata": {},
          "execution_count": 9
        }
      ]
    },
    {
      "cell_type": "markdown",
      "source": [
        "reshape에서 -1의 의미\n",
        "\n",
        "reshape()의 -1은 변경될 배열의 '-1'위치의 차원은 원래 배열의 길이와 남은 차원으로부터 추정해서 알아서 지정하라는 뜻\n",
        "\n",
        "즉, 행의 위치에 -1을 넣고 열의 값만 지정하면 변환될 행의 수는 알아서 자동 재배열이 된다"
      ],
      "metadata": {
        "id": "3Hrt7CsoLL40"
      }
    },
    {
      "cell_type": "code",
      "source": [
        "x = np.arange(12)\n",
        "x"
      ],
      "metadata": {
        "colab": {
          "base_uri": "https://localhost:8080/"
        },
        "id": "9CsGdZqE-tfn",
        "outputId": "5c86c990-51bd-4a4a-a14a-379812fc9a25"
      },
      "execution_count": null,
      "outputs": [
        {
          "output_type": "execute_result",
          "data": {
            "text/plain": [
              "array([ 0,  1,  2,  3,  4,  5,  6,  7,  8,  9, 10, 11])"
            ]
          },
          "metadata": {},
          "execution_count": 12
        }
      ]
    },
    {
      "cell_type": "code",
      "source": [
        "# 행 위치에 -1을 넣을 경우\n",
        "x.reshape(-1,1)"
      ],
      "metadata": {
        "colab": {
          "base_uri": "https://localhost:8080/"
        },
        "id": "51Xr0yO4Q3ls",
        "outputId": "a14baa33-6064-4040-dd71-33342d645aaa"
      },
      "execution_count": null,
      "outputs": [
        {
          "output_type": "execute_result",
          "data": {
            "text/plain": [
              "array([[ 0],\n",
              "       [ 1],\n",
              "       [ 2],\n",
              "       [ 3],\n",
              "       [ 4],\n",
              "       [ 5],\n",
              "       [ 6],\n",
              "       [ 7],\n",
              "       [ 8],\n",
              "       [ 9],\n",
              "       [10],\n",
              "       [11]])"
            ]
          },
          "metadata": {},
          "execution_count": 13
        }
      ]
    },
    {
      "cell_type": "code",
      "source": [
        "x.reshape(-1,3)"
      ],
      "metadata": {
        "colab": {
          "base_uri": "https://localhost:8080/"
        },
        "id": "dYcIHJtKGf51",
        "outputId": "987af005-239f-4172-cf9d-a7df18f76810"
      },
      "execution_count": null,
      "outputs": [
        {
          "output_type": "execute_result",
          "data": {
            "text/plain": [
              "array([[ 0,  1,  2],\n",
              "       [ 3,  4,  5],\n",
              "       [ 6,  7,  8],\n",
              "       [ 9, 10, 11]])"
            ]
          },
          "metadata": {},
          "execution_count": 14
        }
      ]
    },
    {
      "cell_type": "code",
      "source": [
        "# 열 위치에 -1을 넣을 경우\n",
        "x.reshape(1,-1)"
      ],
      "metadata": {
        "colab": {
          "base_uri": "https://localhost:8080/"
        },
        "id": "gX7mqN6NRfKD",
        "outputId": "4c0afad3-55f7-400c-85bb-0cb4f6772594"
      },
      "execution_count": null,
      "outputs": [
        {
          "output_type": "execute_result",
          "data": {
            "text/plain": [
              "array([[ 0,  1,  2,  3,  4,  5,  6,  7,  8,  9, 10, 11]])"
            ]
          },
          "metadata": {},
          "execution_count": 15
        }
      ]
    },
    {
      "cell_type": "code",
      "source": [
        "x.reshape(3,-1)"
      ],
      "metadata": {
        "colab": {
          "base_uri": "https://localhost:8080/"
        },
        "id": "KrBa9VjrQdeB",
        "outputId": "9e46e34d-9402-4265-f79c-94541e8b014a"
      },
      "execution_count": null,
      "outputs": [
        {
          "output_type": "execute_result",
          "data": {
            "text/plain": [
              "array([[ 0,  1,  2,  3],\n",
              "       [ 4,  5,  6,  7],\n",
              "       [ 8,  9, 10, 11]])"
            ]
          },
          "metadata": {},
          "execution_count": 16
        }
      ]
    },
    {
      "cell_type": "markdown",
      "source": [
        "# size 전체 원소의 갯수 반환"
      ],
      "metadata": {
        "id": "48y4prWgSyRW"
      }
    },
    {
      "cell_type": "code",
      "source": [
        "arr1 = np.arange(1,7)\n",
        "arr1.size"
      ],
      "metadata": {
        "colab": {
          "base_uri": "https://localhost:8080/"
        },
        "id": "5f0rU-VqTBdf",
        "outputId": "d5be5d1d-9652-4221-b555-127443a723ad"
      },
      "execution_count": null,
      "outputs": [
        {
          "output_type": "execute_result",
          "data": {
            "text/plain": [
              "6"
            ]
          },
          "metadata": {},
          "execution_count": 17
        }
      ]
    },
    {
      "cell_type": "code",
      "source": [
        "arr2 = arr1.reshape(2,-1)\n",
        "arr2.size\n",
        "# arr1과 arr2의 차원이 달라도 전체 원소의 수는 같으므로 같은 값 나타남"
      ],
      "metadata": {
        "colab": {
          "base_uri": "https://localhost:8080/"
        },
        "id": "7HBlsTy4Tyyv",
        "outputId": "73421d29-d970-4555-c3ae-fc108e68cc76"
      },
      "execution_count": null,
      "outputs": [
        {
          "output_type": "execute_result",
          "data": {
            "text/plain": [
              "6"
            ]
          },
          "metadata": {},
          "execution_count": 18
        }
      ]
    },
    {
      "cell_type": "code",
      "source": [
        "arr3 = np.arange(20)\n",
        "arr3.size"
      ],
      "metadata": {
        "colab": {
          "base_uri": "https://localhost:8080/"
        },
        "id": "tr4mZDHdT7Ct",
        "outputId": "5e16b7e6-60b5-4495-8b86-4a5dcd736e70"
      },
      "execution_count": null,
      "outputs": [
        {
          "output_type": "execute_result",
          "data": {
            "text/plain": [
              "20"
            ]
          },
          "metadata": {},
          "execution_count": 19
        }
      ]
    }
  ]
}