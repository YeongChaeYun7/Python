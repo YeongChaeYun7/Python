{
  "nbformat": 4,
  "nbformat_minor": 0,
  "metadata": {
    "colab": {
      "name": "UpDownGame.ipynb",
      "provenance": [],
      "collapsed_sections": [],
      "authorship_tag": "ABX9TyM4GSakU5KSLicd6tpqqKY7"
    },
    "kernelspec": {
      "name": "python3",
      "display_name": "Python 3"
    },
    "language_info": {
      "name": "python"
    }
  },
  "cells": [
    {
      "cell_type": "markdown",
      "source": [
        ">Up Down Game\n",
        "\n",
        "1 ~ 100까지의 랜덤으로 받은(randint 활용) 숫자를  맞추는 게임\n",
        "\n",
        "사용자가 예상 답을 입력하면\n",
        "\n",
        "컴퓨터는 정답이나 up/down을 출력한다\n",
        "\n",
        "정답을 맞출 때까지 입력 무한반복"
      ],
      "metadata": {
        "id": "NxbJT2b6eoNg"
      }
    },
    {
      "cell_type": "code",
      "execution_count": 25,
      "metadata": {
        "id": "4-5Poc7KHoJ4"
      },
      "outputs": [],
      "source": [
        "import random"
      ]
    },
    {
      "cell_type": "code",
      "source": [
        "num = random.randint(0,100)"
      ],
      "metadata": {
        "id": "akEaLZ_AHwFU"
      },
      "execution_count": 33,
      "outputs": []
    },
    {
      "cell_type": "code",
      "source": [
        "while True:\n",
        "  me = int(input('0~100 사이의 숫자 입력 '))\n",
        "  if num == me:\n",
        "    print('*** 성공 ***')\n",
        "    break\n",
        "  elif num < me: \n",
        "    print('*** Down ***')\n",
        "  else : \n",
        "    print('*** Up ***')"
      ],
      "metadata": {
        "id": "ChiqaB4RNN6t",
        "colab": {
          "base_uri": "https://localhost:8080/"
        },
        "outputId": "7ce7ac24-287c-49f1-9708-9d5ac0a26b7a"
      },
      "execution_count": 35,
      "outputs": [
        {
          "output_type": "stream",
          "name": "stdout",
          "text": [
            "0~100 사이의 숫자 입력 50\n",
            "***Down***\n",
            "0~100 사이의 숫자 입력 37\n",
            "***성공***\n"
          ]
        }
      ]
    },
    {
      "cell_type": "code",
      "source": [
        "while  me<0 and 4<me :\n",
        "  print('선택지의 번호를 입력하세요')\n",
        "  print(prompt)\n",
        "  me = int(input())\n",
        "  if n > num:\n",
        "    if me == 1:  print('*성공*')\n",
        "    else:  print ('*실패*')\n",
        "     \n",
        "  elif n < num:\n",
        "    if me == 2:   print('*성공*')\n",
        "    else: print ('*실패*')\n",
        "      \n",
        "  else:\n",
        "    if me == 3:  print('*성공*')\n",
        "    else:  print ('*실패*')"
      ],
      "metadata": {
        "id": "101jNIasgIKy"
      },
      "execution_count": null,
      "outputs": []
    }
  ]
}