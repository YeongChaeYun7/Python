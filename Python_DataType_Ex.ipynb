{
  "nbformat": 4,
  "nbformat_minor": 0,
  "metadata": {
    "colab": {
      "name": "Python_DataType_Ex.ipynb",
      "provenance": [],
      "collapsed_sections": [],
      "authorship_tag": "ABX9TyPB4Q+QHoTAUG4ochUz5L1a"
    },
    "kernelspec": {
      "name": "python3",
      "display_name": "Python 3"
    },
    "language_info": {
      "name": "python"
    }
  },
  "cells": [
    {
      "cell_type": "markdown",
      "source": [
        "# List 내장함수 Ex"
      ],
      "metadata": {
        "id": "ie8CUEOFUZya"
      }
    },
    {
      "cell_type": "code",
      "source": [
        "# 정렬 sort,reverse\n",
        "L = [3,1,6,2,4,7,5]\n",
        "\n",
        "print(sorted(L)) # 정렬\n",
        "\n",
        "L.sort() # 정렬\n",
        "print(L) \n",
        "\n",
        "L.reverse() # 역정렬\n",
        "print(L)"
      ],
      "metadata": {
        "colab": {
          "base_uri": "https://localhost:8080/"
        },
        "id": "-n6wAP0BZ18c",
        "outputId": "0b4e1ea6-2078-4c7c-b573-1464274ca5a1"
      },
      "execution_count": null,
      "outputs": [
        {
          "output_type": "stream",
          "name": "stdout",
          "text": [
            "[1, 2, 3, 4, 5, 6, 7]\n",
            "[1, 2, 3, 4, 5, 6, 7]\n",
            "[7, 6, 5, 4, 3, 2, 1]\n"
          ]
        }
      ]
    },
    {
      "cell_type": "code",
      "source": [
        "a = [1,2,3,4]\n",
        "b = [1,1,2,2,3,3]\n",
        "\n",
        "#추가 append\n",
        "a.append(5) #1개만 추가가능\n",
        "print(a)\n",
        "\n",
        "#삽입 insert(a,b) a번째에 값b 삽입\n",
        "a.insert(5,6)#1개만 추가가능\n",
        "print(a)\n",
        "\n",
        "#제거 remove() 중복 아이템 있으면 첫번째 값 1개 적용\n",
        "b.remove(1)\n",
        "print(b)\n",
        "\n",
        "#끄집어내기 pop 중복 아이템 있으면 첫번째 값 1개 적용\n",
        "p = b.pop(2) \n",
        "print(p, b)\n",
        "\n",
        "p = b.pop() #값 안넣으면 마지막 값 삭제\n",
        "print(p, b)\n",
        "\n",
        "#위치반환 index()  값 없으면 error/중복 아이템 있으면 첫번째 값 1개 적용\n",
        "print(b.index(3))\n",
        "\n",
        "#제거 del 한 번에 여러개 제거 가능 \n",
        "del b[:]\n",
        "print(b)"
      ],
      "metadata": {
        "colab": {
          "base_uri": "https://localhost:8080/"
        },
        "id": "TKUasw14Zihc",
        "outputId": "2eaf5aeb-ee73-42ce-f7ad-2fd571d42e64"
      },
      "execution_count": null,
      "outputs": [
        {
          "output_type": "stream",
          "name": "stdout",
          "text": [
            "[1, 2, 3, 4, 5]\n",
            "[1, 2, 3, 4, 5, 6]\n",
            "[1, 2, 2, 3, 3]\n",
            "2 [1, 2, 3, 3]\n",
            "3 [1, 2, 3]\n",
            "2\n",
            "[]\n"
          ]
        }
      ]
    },
    {
      "cell_type": "code",
      "source": [
        "# max, min, sum, len\n",
        "n = [1,2,3,4,5,6,7]\n",
        "\n",
        "print('max:',max(n))\n",
        "\n",
        "print('min:',min(n))\n",
        "\n",
        "print(sum(n))\n",
        "\n",
        "print(len(n))\n",
        "\n",
        "print('avg:',sum(n)/len(n))"
      ],
      "metadata": {
        "colab": {
          "base_uri": "https://localhost:8080/"
        },
        "id": "pinyR-mRVG4T",
        "outputId": "dc084f10-38b2-4c03-aa22-1ccb9f3a0b82"
      },
      "execution_count": null,
      "outputs": [
        {
          "output_type": "stream",
          "name": "stdout",
          "text": [
            "max: 7\n",
            "min: 1\n",
            "28\n",
            "7\n",
            "avg: 4.0\n"
          ]
        }
      ]
    },
    {
      "cell_type": "code",
      "source": [
        "#list 슬라이싱\n",
        "price = ['20180728',100,130,140,150,160,170]\n",
        "print(price[1:])\n",
        "\n",
        "n = [1,2,3,4,5,6,7,8,9,10]\n",
        "print(n[::2])\n",
        "print(n[1::2])\n",
        "print(n[::-1])\n",
        "\n",
        "# join, split 메서드\n",
        "interest = ['네이버','구글','카카오','삼성']\n",
        "del interest[1]\n",
        "print(interest)\n",
        "print(interest, sep=' ') #리스트 형식 출력\n",
        "print(' '.join(interest)) #요소만 출력\n",
        "print('\\n'.join(interest)) \n",
        "string = '네이버/카카오/삼성'\n",
        "print(string.split('/'))"
      ],
      "metadata": {
        "colab": {
          "base_uri": "https://localhost:8080/"
        },
        "id": "791eNJ1UVLi0",
        "outputId": "96bc6ab6-95b4-42ef-df99-70309cf9c0fb"
      },
      "execution_count": null,
      "outputs": [
        {
          "output_type": "stream",
          "name": "stdout",
          "text": [
            "[100, 130, 140, 150, 160, 170]\n",
            "[1, 3, 5, 7, 9]\n",
            "[2, 4, 6, 8, 10]\n",
            "[10, 9, 8, 7, 6, 5, 4, 3, 2, 1]\n",
            "['네이버', '카카오', '삼성']\n",
            "['네이버', '카카오', '삼성']\n",
            "네이버 카카오 삼성\n",
            "네이버\n",
            "카카오\n",
            "삼성\n",
            "['네이버', '카카오', '삼성']\n"
          ]
        }
      ]
    },
    {
      "cell_type": "code",
      "source": [
        "#list 값 수정\n",
        "a = [1,2,3,4,5,6,7]\n",
        "a[2] = 4\n",
        "print(a)\n",
        "\n",
        "#list 요소 삭제(del(객체))\n",
        "del a[:4]\n",
        "print(a)"
      ],
      "metadata": {
        "colab": {
          "base_uri": "https://localhost:8080/"
        },
        "id": "2I2_PbZ5VVVQ",
        "outputId": "8ca903c8-caa8-4c75-cad3-b440a9831184"
      },
      "execution_count": null,
      "outputs": [
        {
          "output_type": "stream",
          "name": "stdout",
          "text": [
            "[1, 2, 4, 4, 5, 6, 7]\n",
            "[5, 6, 7]\n"
          ]
        }
      ]
    },
    {
      "cell_type": "code",
      "source": [
        "#list 함수\n",
        "#요소 개수 세기count()\n",
        "a = [1,2,3,1]\n",
        "print(a.count(1))\n",
        "\n",
        "#list 확장 extend([x]) / x엔 list만 가능. 여러 값 추가\n",
        "#a list + x list 하나의 list로 확장\n",
        "a.extend([4,5])\n",
        "print(a)"
      ],
      "metadata": {
        "id": "UeIdh9_lVV4J",
        "colab": {
          "base_uri": "https://localhost:8080/"
        },
        "outputId": "f1d2fc7e-311d-42b7-eec0-499aba9b0aeb"
      },
      "execution_count": null,
      "outputs": [
        {
          "output_type": "stream",
          "name": "stdout",
          "text": [
            "2\n",
            "[1, 2, 3, 1, 4, 5]\n"
          ]
        }
      ]
    },
    {
      "cell_type": "markdown",
      "source": [
        "# Tuple 내장함수 Ex"
      ],
      "metadata": {
        "id": "BF0gyPuqUlEL"
      }
    },
    {
      "cell_type": "code",
      "source": [
        "# tuple\n",
        "my_tuple = (1,) # tule은 값 하나라도 (,)붙여야 튜플로 인식\n",
        "t =1,2,3,4\n",
        "print(type(t)) #튜플은 괄호 생략 가능\n",
        "\n",
        "#튜플은 수정 불가능\n",
        "#튜플을 가리키는 변수가 다른 튜플을 가리키도록 수정 \n",
        "a = ('a','b','c')\n",
        "aa = list(a)\n",
        "aa[0]='A'\n",
        "a = tuple(aa)\n",
        "print(a, type(a))\n",
        "\n",
        "# range함수\n",
        "# !~99중 짝수만 저장된 튜플 생성\n",
        "data = tuple(range(2,100,2))\n",
        "print(data, type(data))"
      ],
      "metadata": {
        "id": "GNMEH6AQVIEr",
        "colab": {
          "base_uri": "https://localhost:8080/"
        },
        "outputId": "17d95b34-6bfe-41e7-b5c4-fe041cb9af32"
      },
      "execution_count": null,
      "outputs": [
        {
          "output_type": "stream",
          "name": "stdout",
          "text": [
            "<class 'tuple'>\n",
            "('A', 'b', 'c') <class 'tuple'>\n",
            "(2, 4, 6, 8, 10, 12, 14, 16, 18, 20, 22, 24, 26, 28, 30, 32, 34, 36, 38, 40, 42, 44, 46, 48, 50, 52, 54, 56, 58, 60, 62, 64, 66, 68, 70, 72, 74, 76, 78, 80, 82, 84, 86, 88, 90, 92, 94, 96, 98) <class 'tuple'>\n"
          ]
        }
      ]
    },
    {
      "cell_type": "markdown",
      "source": [
        "# Dictionary 내장함수 Ex"
      ],
      "metadata": {
        "id": "0ODIQi1MVfD-"
      }
    },
    {
      "cell_type": "code",
      "source": [
        "#dic 쌍 추가\n",
        "dic = {1:'a'}\n",
        "dic[2] = 'b' #2:'b' 쌍 추가\n",
        "print(dic)\n",
        "dic['key'] = [1,2,3]#'key':[1,2,3] 쌍 추가\n",
        "print(dic)\n",
        "\n",
        "#dic 요소 삭제\n",
        "del dic['key']# 해당 key의 쌍 삭제\n",
        "print(dic)"
      ],
      "metadata": {
        "id": "DQPMQtC6VnXb",
        "colab": {
          "base_uri": "https://localhost:8080/"
        },
        "outputId": "07d7ff9e-ecd8-404d-993b-fce9726ea50e"
      },
      "execution_count": null,
      "outputs": [
        {
          "output_type": "stream",
          "name": "stdout",
          "text": [
            "{1: 'a', 2: 'b'}\n",
            "{1: 'a', 2: 'b', 'key': [1, 2, 3]}\n",
            "{1: 'a', 2: 'b'}\n"
          ]
        }
      ]
    },
    {
      "cell_type": "code",
      "source": [
        "#dictionary활용\n",
        "#key 사용해 value얻기 \n",
        "#dic변수명[key]\n",
        "score = {'pey':10, 'jin':99}\n",
        "print(score['pey'])#없는 key 요청 시,error\n",
        "\n",
        "#get()\n",
        "print(score.get('pey'))\n",
        "print(score.get('x')) #없는 key 요청 시, None 반환"
      ],
      "metadata": {
        "colab": {
          "base_uri": "https://localhost:8080/"
        },
        "id": "29j7VgAFVncZ",
        "outputId": "4192a778-a0b5-4196-8cc0-730154e11ea5"
      },
      "execution_count": null,
      "outputs": [
        {
          "output_type": "stream",
          "name": "stdout",
          "text": [
            "10\n",
            "10\n",
            "None\n"
          ]
        }
      ]
    },
    {
      "cell_type": "code",
      "source": [
        "#dictionary 주의점\n",
        "#key값 중복 시, 하나 제외 나머지 무시\n",
        "a = {1:'a', 1:'b'} #key 중복\n",
        "print(a)"
      ],
      "metadata": {
        "colab": {
          "base_uri": "https://localhost:8080/"
        },
        "id": "BikHaF2ZVxrF",
        "outputId": "20511757-4c31-4b64-f760-c59f3c34ae0d"
      },
      "execution_count": null,
      "outputs": [
        {
          "output_type": "stream",
          "name": "stdout",
          "text": [
            "{1: 'b'}\n"
          ]
        }
      ]
    },
    {
      "cell_type": "code",
      "source": [
        "#dictionary 함수\n",
        "#key 리스트 keys()\n",
        "a = {'name':'pey','phone':'0119933323','birth':'0722'}\n",
        "print(a.keys()) #key만 모아 dict_keys객체 반환\n",
        "print(list(a.keys())) #list로 출력\n",
        "\n",
        "#value 리스트 values()\n",
        "print(a.values())#value만 모아 dict_values객체 반환\n",
        "\n",
        "#key, value 쌍 얻기 items()\n",
        "print(a.items())#쌍을 tuple로 묶은 값 객체 반환 \n",
        "\n",
        "#key; value 쌍 삭제 clear()\n",
        "print(a.clear()) #dictionary 모든 요소 삭제. {}"
      ],
      "metadata": {
        "colab": {
          "base_uri": "https://localhost:8080/"
        },
        "id": "aFT15lhVV11q",
        "outputId": "ad2cf632-e0c9-4f3a-c8f6-8e2418d32e6a"
      },
      "execution_count": null,
      "outputs": [
        {
          "output_type": "stream",
          "name": "stdout",
          "text": [
            "dict_keys(['name', 'phone', 'birth'])\n",
            "['name', 'phone', 'birth']\n",
            "dict_values(['pey', '0119933323', '0722'])\n",
            "dict_items([('name', 'pey'), ('phone', '0119933323'), ('birth', '0722')])\n",
            "None\n"
          ]
        }
      ]
    },
    {
      "cell_type": "code",
      "source": [
        "#dictionary\n",
        "#key가 dictionary안에 있는지 조사 in\n",
        "a = {'name':'pey','phone':'0119933323','birth':'0722'}\n",
        "print('name' in a)\n",
        "print('x' in a)"
      ],
      "metadata": {
        "id": "jskTSb0zV45o",
        "colab": {
          "base_uri": "https://localhost:8080/"
        },
        "outputId": "f4b03fe6-8a21-4a25-d435-9fd104233c97"
      },
      "execution_count": null,
      "outputs": [
        {
          "output_type": "stream",
          "name": "stdout",
          "text": [
            "True\n",
            "False\n"
          ]
        }
      ]
    },
    {
      "cell_type": "markdown",
      "source": [
        "# Set 내장함수 Ex"
      ],
      "metadata": {
        "id": "lHJsTyoMVqzN"
      }
    },
    {
      "cell_type": "code",
      "source": [
        "#set\n",
        "#순서가 없고 중복을 허용하지 않음\n",
        "s = set(\"Hello\")\n",
        "print(s)\n",
        "\n",
        "#list로 변환 후 인덱싱 가능(tuple도 가능)\n",
        "S = set([1,2,3,3,3])\n",
        "L = list(S)#리스트 변환 선언 없이도 순차 출력? 굳이 해야될까\n",
        "print(S)\n",
        "print(L)"
      ],
      "metadata": {
        "colab": {
          "base_uri": "https://localhost:8080/"
        },
        "id": "FjnM3mfQVv_2",
        "outputId": "63eeb36b-524e-45ac-8fb2-67d6438a2bde"
      },
      "execution_count": null,
      "outputs": [
        {
          "output_type": "stream",
          "name": "stdout",
          "text": [
            "{'e', 'o', 'H', 'l'}\n",
            "{1, 2, 3}\n",
            "[1, 2, 3]\n"
          ]
        }
      ]
    },
    {
      "cell_type": "code",
      "source": [
        "#set\n",
        "#교집합, 합집합, 차집합구하기\n",
        "a = set([1,2,3,4,5,6])\n",
        "b = set([4,5,6,7,8,9])\n",
        "\n",
        "#교집합\n",
        "print(a&b)\n",
        "print(a.intersection(b))\n",
        "\n",
        "#합집합. 중복값은 하나씩만 표현\n",
        "print(a|b)\n",
        "print(a.union(b))\n",
        "\n",
        "#차집합\n",
        "print(a-b)\n",
        "print(b-a)\n",
        "print(a.difference(b))"
      ],
      "metadata": {
        "colab": {
          "base_uri": "https://localhost:8080/"
        },
        "id": "zBll7AqPWF0u",
        "outputId": "42fef8d9-d503-4065-d931-d9683ed755f4"
      },
      "execution_count": null,
      "outputs": [
        {
          "output_type": "stream",
          "name": "stdout",
          "text": [
            "{4, 5, 6}\n",
            "{4, 5, 6}\n",
            "{1, 2, 3, 4, 5, 6, 7, 8, 9}\n",
            "{1, 2, 3, 4, 5, 6, 7, 8, 9}\n",
            "{1, 2, 3}\n",
            "{8, 9, 7}\n",
            "{1, 2, 3}\n"
          ]
        }
      ]
    },
    {
      "cell_type": "code",
      "source": [
        "#set 함수\n",
        "s = set([1,2,3])\n",
        "#값 1개 추가 add\n",
        "s.add(4)\n",
        "print(s)\n",
        "\n",
        "#값 여러개 추가하기 update\n",
        "s.update([4,5,6])\n",
        "print(s)\n",
        "\n",
        "#특정 값 제거 remove\n",
        "s.remove(4)\n",
        "print(s)"
      ],
      "metadata": {
        "colab": {
          "base_uri": "https://localhost:8080/"
        },
        "id": "iIG7FeGPWGwh",
        "outputId": "d6972071-a537-4b8d-e1cf-33fca2add079"
      },
      "execution_count": null,
      "outputs": [
        {
          "output_type": "stream",
          "name": "stdout",
          "text": [
            "{1, 2, 3, 4}\n",
            "{1, 2, 3, 4, 5, 6}\n",
            "{1, 2, 3, 5, 6}\n"
          ]
        }
      ]
    }
  ]
}