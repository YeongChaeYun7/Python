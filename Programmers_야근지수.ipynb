{
  "nbformat": 4,
  "nbformat_minor": 0,
  "metadata": {
    "colab": {
      "provenance": [],
      "authorship_tag": "ABX9TyP///HwtOZaFdhsNsi9v5L1"
    },
    "kernelspec": {
      "name": "python3",
      "display_name": "Python 3"
    },
    "language_info": {
      "name": "python"
    }
  },
  "cells": [
    {
      "cell_type": "markdown",
      "source": [
        "[Programmers 야근지수](https://school.programmers.co.kr/learn/courses/30/lessons/12927)  \n",
        "회사원 Demi는 가끔은 야근을 하는데요, 야근을 하면 야근 피로도가 쌓입니다.  \n",
        "야근 피로도는 야근을 시작한 시점에서 남은 일의 작업량을 제곱하여 더한 값입니다.  \n",
        "Demi는 N시간 동안 야근 피로도를 최소화하도록 일할 겁니다.  \n",
        "Demi가 1시간 동안 작업량 1만큼을 처리할 수 있다고 할 때,  \n",
        "퇴근까지 남은 N 시간과 각 일에 대한 작업량 works에 대해 야근 피로도를 최소화한 값을 리턴하는 함수 solution을 완성해주세요.  \n",
        "\n",
        "> 제한 사항  \n",
        "works는 길이 1 이상, 20,000 이하인 배열입니다.  \n",
        "works의 원소는 50000 이하인 자연수입니다.  \n",
        "n은 1,000,000 이하인 자연수입니다.  "
      ],
      "metadata": {
        "id": "vw06IbfzuFSY"
      }
    },
    {
      "cell_type": "code",
      "execution_count": 9,
      "metadata": {
        "id": "5agyn3EFt2MN"
      },
      "outputs": [],
      "source": [
        "# 입출력 예\n",
        "works\t=[[4, 3, 3],[2, 1, 2],[1,1]]\n",
        "n\t=[4,1,3]\n",
        "result=[12,6,0]"
      ]
    },
    {
      "cell_type": "markdown",
      "source": [
        "최소화 목표인 야근피로도는 제곱의 합이다.  \n",
        "제곱은 아래로 향한 포물선 그래프이기에  \n",
        "최댓값에서 1씩 줄이며 전체 피로도를 작게 만드는 방식으로 진행  \n"
      ],
      "metadata": {
        "id": "-gvdE8xrusbB"
      }
    },
    {
      "cell_type": "code",
      "source": [
        "def solution(n, works):\n",
        "    if n >= sum(works):\n",
        "        return 0\n",
        "    \n",
        "    works.sort()\n",
        "    for _ in range(n):\n",
        "      works[-1] -= 1\n",
        "      works.sort()\n",
        "    \n",
        "    return sum([w ** 2 for w in works])"
      ],
      "metadata": {
        "id": "16Up84gkvVU2"
      },
      "execution_count": 4,
      "outputs": []
    },
    {
      "cell_type": "code",
      "source": [
        "for i in range(len(works)):\n",
        "  print (result[i] == solution(n[i], works[i]))"
      ],
      "metadata": {
        "colab": {
          "base_uri": "https://localhost:8080/"
        },
        "id": "GrmxUit4qjWI",
        "outputId": "4c7cbd40-c6ca-4579-dbb6-25b51eb458c4"
      },
      "execution_count": 6,
      "outputs": [
        {
          "output_type": "stream",
          "name": "stdout",
          "text": [
            "True\n",
            "True\n",
            "True\n"
          ]
        }
      ]
    },
    {
      "cell_type": "markdown",
      "source": [
        "문제를 해결할 수는 있지만 n번동안 매번 sort를 사용하니  \n",
        "시간 복잡도가 높아 프로그래머스 통과하지 못하였다. \n",
        "O(n * m log m) "
      ],
      "metadata": {
        "id": "BF5rzGaqvm4l"
      }
    },
    {
      "cell_type": "markdown",
      "source": [
        "시간 복잡도를 해결하기 위해 파이썬의  heap 라이브러리를 불러 사용함  \n",
        "리스트를 라이브러리로 max heap처럼 활용 \n"
      ],
      "metadata": {
        "id": "y6RuAMpnwBDO"
      }
    },
    {
      "cell_type": "code",
      "source": [
        "import heapq\n",
        "\n",
        "def solution(n, works):\n",
        "    if n >= sum(works):\n",
        "        return 0\n",
        "    \n",
        "    works = [-w for w in works]\n",
        "    heapq.heapify(works) # heapq는 가장 작은 값을 반환하기 때문에 (pop)-1를 곱하여 역 계산. 기본 제공이 min heap\n",
        "    for _ in range(n):\n",
        "        i = heapq.heappop(works)\n",
        "        i += 1\n",
        "        heapq.heappush(works, i)\n",
        "    \n",
        "    return sum([w ** 2 for w in works])"
      ],
      "metadata": {
        "id": "aw_s2F9osGzu"
      },
      "execution_count": 11,
      "outputs": []
    },
    {
      "cell_type": "code",
      "source": [
        "for i in range(len(works)):\n",
        "  print (result[i] == solution(n[i], works[i]))"
      ],
      "metadata": {
        "colab": {
          "base_uri": "https://localhost:8080/"
        },
        "id": "GQ0CYpQF-XgD",
        "outputId": "c43d81a6-0ed8-4266-d795-d36f0d6f95ec"
      },
      "execution_count": 12,
      "outputs": [
        {
          "output_type": "stream",
          "name": "stdout",
          "text": [
            "True\n",
            "True\n",
            "True\n"
          ]
        }
      ]
    }
  ]
}