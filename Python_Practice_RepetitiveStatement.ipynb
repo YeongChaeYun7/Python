{
  "nbformat": 4,
  "nbformat_minor": 0,
  "metadata": {
    "colab": {
      "name": "Python_Practice_RepetitiveStatement.ipynb",
      "provenance": [],
      "collapsed_sections": [],
      "authorship_tag": "ABX9TyNXdgikXbAFqm4oNGwCTg4e"
    },
    "kernelspec": {
      "name": "python3",
      "display_name": "Python 3"
    },
    "language_info": {
      "name": "python"
    }
  },
  "cells": [
    {
      "cell_type": "code",
      "execution_count": null,
      "metadata": {
        "colab": {
          "base_uri": "https://localhost:8080/"
        },
        "id": "HYrxkWKEi14s",
        "outputId": "5f51236b-593c-4d89-c739-c6db96ce88f9"
      },
      "outputs": [
        {
          "output_type": "stream",
          "name": "stdout",
          "text": [
            "2\n",
            "3\n",
            "7\n",
            "사\n",
            "초\n",
            "스\n"
          ]
        }
      ],
      "source": [
        "# 저장된 문자열의 길이 출력\n",
        "리스트=['사탕','초콜릿','스트로베리케잌']\n",
        "for i in 리스트:\n",
        "  print(len(i))\n",
        "\n",
        "# 저장된 문자열의 첫글자만 출력\n",
        "for i in 리스트:\n",
        "  print(i[0])"
      ]
    },
    {
      "cell_type": "code",
      "source": [
        "# for문에 슬라이싱 활용\n",
        "L =[1,2,3,4,5]\n",
        "for i in L[:-1]:\n",
        "  print(i)\n",
        "print()\n",
        "for i in L[::2]:\n",
        "  print(i)\n",
        "print()\n",
        "for i in L[::-1]:\n",
        "  print(i)"
      ],
      "metadata": {
        "colab": {
          "base_uri": "https://localhost:8080/"
        },
        "id": "8Dni5tUTpYdE",
        "outputId": "17f54c8f-7a35-47a2-a720-5520b6f2a0b3"
      },
      "execution_count": null,
      "outputs": [
        {
          "output_type": "stream",
          "name": "stdout",
          "text": [
            "1\n",
            "2\n",
            "3\n",
            "4\n",
            "\n",
            "1\n",
            "3\n",
            "5\n",
            "\n",
            "5\n",
            "4\n",
            "3\n",
            "2\n",
            "1\n"
          ]
        }
      ]
    },
    {
      "cell_type": "code",
      "source": [
        "# for문과 if문 조합 활용\n",
        "# 리스트에서 음수만 출력\n",
        "L = [-2, 3,6, -7,21,14,30,-18]\n",
        "for i in L:\n",
        "  if i<0:\n",
        "    print(i)\n",
        "print()\n",
        "# 3의 배수만 출력\n",
        "for i in L:\n",
        "  if i%3==0:\n",
        "    print(i)\n",
        "print()\n",
        "for i in L:\n",
        "  if i%3==0 and i<20:\n",
        "    print(i)"
      ],
      "metadata": {
        "colab": {
          "base_uri": "https://localhost:8080/"
        },
        "id": "2rXMOIUmqGW4",
        "outputId": "02b5a090-e6e6-4916-b7e4-5c2870b34d6c"
      },
      "execution_count": null,
      "outputs": [
        {
          "output_type": "stream",
          "name": "stdout",
          "text": [
            "-2\n",
            "-7\n",
            "-18\n",
            "\n",
            "3\n",
            "6\n",
            "21\n",
            "30\n",
            "-18\n",
            "\n",
            "3\n",
            "6\n",
            "-18\n"
          ]
        }
      ]
    },
    {
      "cell_type": "code",
      "source": [
        "# 문자열에서 for문과 if문 조합 활용\n",
        "리스트 = ['I','love','python','languge','!']\n",
        "# 문자열 길이가 3글자 이상만 출력\n",
        "for i in 리스트:\n",
        "  if 2<len(i):\n",
        "    print(i)\n",
        "print()\n",
        "# 대문자만 출력\n",
        "L = ['A','b','c','D','e']\n",
        "for i in L:\n",
        "  if i.isupper():\n",
        "    print(i)\n",
        "# 아이템의 첫글자를 대문자로 변환하여 출력\n",
        "L = ['dog', 'cat', 'bird']\n",
        "for i in L:\n",
        "  print(i[0].upper()+i[1:])"
      ],
      "metadata": {
        "colab": {
          "base_uri": "https://localhost:8080/"
        },
        "id": "mSJJqflqshjG",
        "outputId": "198d8f18-08a7-41f8-bb4b-172e7dd52276"
      },
      "execution_count": null,
      "outputs": [
        {
          "output_type": "stream",
          "name": "stdout",
          "text": [
            "love\n",
            "python\n",
            "languge\n",
            "\n",
            "A\n",
            "D\n",
            "Dog\n",
            "Cat\n",
            "Bird\n"
          ]
        }
      ]
    },
    {
      "cell_type": "code",
      "source": [
        "# for문과 range조합 활용\n",
        "\n",
        "# 0~4 사이 숫자 출력\n",
        "for i in range(0,5):\n",
        "  print(i)\n",
        "print()\n",
        "# 월드컵은 4년에 한 번씩 개최. 2002~2030까지 개최 연도 출력\n",
        "for i in range(2002,2030,4):\n",
        "  print(i)\n",
        "print()\n",
        "\n",
        "# 1~30 사이에서 3의 배수만 출력:\n",
        "for i in range(3,15,3):\n",
        "  print(i)\n",
        "print()\n",
        "for i in range (10):\n",
        "  print(i/10)"
      ],
      "metadata": {
        "colab": {
          "base_uri": "https://localhost:8080/"
        },
        "id": "y53scI1eshY5",
        "outputId": "05809677-cd13-49ec-eb8b-ded805751de2"
      },
      "execution_count": 1,
      "outputs": [
        {
          "output_type": "stream",
          "name": "stdout",
          "text": [
            "0\n",
            "1\n",
            "2\n",
            "3\n",
            "4\n",
            "\n",
            "2002\n",
            "2006\n",
            "2010\n",
            "2014\n",
            "2018\n",
            "2022\n",
            "2026\n",
            "\n",
            "3\n",
            "6\n",
            "9\n",
            "12\n",
            "\n",
            "0.0\n",
            "0.1\n",
            "0.2\n",
            "0.3\n",
            "0.4\n",
            "0.5\n",
            "0.6\n",
            "0.7\n",
            "0.8\n",
            "0.9\n"
          ]
        }
      ]
    },
    {
      "cell_type": "code",
      "source": [
        "# 99부터 0까지 감소하는 숫자들을 한 라인에 10개씩 출력\n",
        "for i in range(0,100,10):\n",
        "  for j in range(90,100):\n",
        "    a = j-i\n",
        "    print (a,end=' ')\n",
        "  print()"
      ],
      "metadata": {
        "id": "8I-xZ_ngwFul",
        "colab": {
          "base_uri": "https://localhost:8080/"
        },
        "outputId": "c1c6c664-dbc9-4e96-a96a-d93be865e6e5"
      },
      "execution_count": 21,
      "outputs": [
        {
          "output_type": "stream",
          "name": "stdout",
          "text": [
            "90 91 92 93 94 95 96 97 98 99 \n",
            "80 81 82 83 84 85 86 87 88 89 \n",
            "70 71 72 73 74 75 76 77 78 79 \n",
            "60 61 62 63 64 65 66 67 68 69 \n",
            "50 51 52 53 54 55 56 57 58 59 \n",
            "40 41 42 43 44 45 46 47 48 49 \n",
            "30 31 32 33 34 35 36 37 38 39 \n",
            "20 21 22 23 24 25 26 27 28 29 \n",
            "10 11 12 13 14 15 16 17 18 19 \n",
            "0 1 2 3 4 5 6 7 8 9 \n"
          ]
        }
      ]
    },
    {
      "cell_type": "code",
      "source": [
        "for i in range(10):\n",
        "  print(i/10)"
      ],
      "metadata": {
        "colab": {
          "base_uri": "https://localhost:8080/"
        },
        "id": "6FRVw8oCm8On",
        "outputId": "26e83c65-23f3-4681-c184-0b2044bf2fa5"
      },
      "execution_count": 23,
      "outputs": [
        {
          "output_type": "stream",
          "name": "stdout",
          "text": [
            "0.0\n",
            "0.1\n",
            "0.2\n",
            "0.3\n",
            "0.4\n",
            "0.5\n",
            "0.6\n",
            "0.7\n",
            "0.8\n",
            "0.9\n"
          ]
        }
      ]
    },
    {
      "cell_type": "code",
      "source": [
        "# 구구단\n",
        "for i in range(1,10):\n",
        "  for j in range(2,10):\n",
        "    print('%d*%d=%d '%(i,j,i*j),end=' ')\n",
        "  print()"
      ],
      "metadata": {
        "colab": {
          "base_uri": "https://localhost:8080/"
        },
        "id": "wI7XgaaundZo",
        "outputId": "a531159c-8f6a-4dab-c68d-63a92d2bcee7"
      },
      "execution_count": 27,
      "outputs": [
        {
          "output_type": "stream",
          "name": "stdout",
          "text": [
            "1*2=2  1*3=3  1*4=4  1*5=5  1*6=6  1*7=7  1*8=8  1*9=9  \n",
            "2*2=4  2*3=6  2*4=8  2*5=10  2*6=12  2*7=14  2*8=16  2*9=18  \n",
            "3*2=6  3*3=9  3*4=12  3*5=15  3*6=18  3*7=21  3*8=24  3*9=27  \n",
            "4*2=8  4*3=12  4*4=16  4*5=20  4*6=24  4*7=28  4*8=32  4*9=36  \n",
            "5*2=10  5*3=15  5*4=20  5*5=25  5*6=30  5*7=35  5*8=40  5*9=45  \n",
            "6*2=12  6*3=18  6*4=24  6*5=30  6*6=36  6*7=42  6*8=48  6*9=54  \n",
            "7*2=14  7*3=21  7*4=28  7*5=35  7*6=42  7*7=49  7*8=56  7*9=63  \n",
            "8*2=16  8*3=24  8*4=32  8*5=40  8*6=48  8*7=56  8*8=64  8*9=72  \n",
            "9*2=18  9*3=27  9*4=36  9*5=45  9*6=54  9*7=63  9*8=72  9*9=81  \n"
          ]
        }
      ]
    },
    {
      "cell_type": "code",
      "source": [
        "sum = 0\n",
        "for i in range(1,11):\n",
        "  sum += i\n",
        "print(sum)"
      ],
      "metadata": {
        "colab": {
          "base_uri": "https://localhost:8080/"
        },
        "id": "TCaKAsqbndVR",
        "outputId": "43e581e3-e45f-4f9a-ffda-41c75f6479fa"
      },
      "execution_count": 28,
      "outputs": [
        {
          "output_type": "stream",
          "name": "stdout",
          "text": [
            "55\n"
          ]
        }
      ]
    },
    {
      "cell_type": "code",
      "source": [
        "# 홀수 합만 출력\n",
        "sum = 0\n",
        "for i in  range(1,11):\n",
        "  if i%2 == 1:\n",
        "    sum += i\n",
        "print (sum)"
      ],
      "metadata": {
        "colab": {
          "base_uri": "https://localhost:8080/"
        },
        "id": "ZHPIXwqGndP6",
        "outputId": "aebf229f-cde0-49c4-884b-127b30681744"
      },
      "execution_count": 29,
      "outputs": [
        {
          "output_type": "stream",
          "name": "stdout",
          "text": [
            "25\n"
          ]
        }
      ]
    },
    {
      "cell_type": "code",
      "source": [
        "price = [1000,300,500,1200]\n",
        "for i in price:\n",
        "  print(price.index(i), ' ', i)"
      ],
      "metadata": {
        "colab": {
          "base_uri": "https://localhost:8080/"
        },
        "id": "DXa0qj1dreFH",
        "outputId": "7080af30-f133-4d36-c4c4-1e0475dcf42c"
      },
      "execution_count": 31,
      "outputs": [
        {
          "output_type": "stream",
          "name": "stdout",
          "text": [
            "0   1000\n",
            "1   300\n",
            "2   500\n",
            "3   1200\n"
          ]
        }
      ]
    },
    {
      "cell_type": "code",
      "source": [
        "L = ['a','b','c','d']\n",
        "for i in range(len(L)-1):\n",
        "  print(L[i],L[i+1])"
      ],
      "metadata": {
        "colab": {
          "base_uri": "https://localhost:8080/"
        },
        "id": "_-F4df9RsSf5",
        "outputId": "d5280527-bbc8-4f3a-8694-6619fed6b471"
      },
      "execution_count": 36,
      "outputs": [
        {
          "output_type": "stream",
          "name": "stdout",
          "text": [
            "a b\n",
            "b c\n",
            "c d\n"
          ]
        }
      ]
    },
    {
      "cell_type": "code",
      "source": [
        "L = ['가','나','다','라','마','바','사']\n",
        "for i in range(len(L)-2):\n",
        "  print(L[i], L[i+1],L[i+2])"
      ],
      "metadata": {
        "colab": {
          "base_uri": "https://localhost:8080/"
        },
        "id": "kE4hjFWLtnRa",
        "outputId": "de049879-86ec-44c4-f001-80b318b5af5c"
      },
      "execution_count": 38,
      "outputs": [
        {
          "output_type": "stream",
          "name": "stdout",
          "text": [
            "가 나 다\n",
            "나 다 라\n",
            "다 라 마\n",
            "라 마 바\n",
            "마 바 사\n"
          ]
        }
      ]
    },
    {
      "cell_type": "code",
      "source": [
        "apart = [[101,102,103,104],[201,202,203,204],[301,302,303,304]]\n",
        "\n",
        "for row in apart:\n",
        "  for col in row:\n",
        "    print(col,'호',end=' ')\n",
        "  print()"
      ],
      "metadata": {
        "colab": {
          "base_uri": "https://localhost:8080/"
        },
        "id": "QP4fLODvuLOi",
        "outputId": "2a711350-6376-4766-cec5-ffcddb8b9d26"
      },
      "execution_count": 45,
      "outputs": [
        {
          "output_type": "stream",
          "name": "stdout",
          "text": [
            "101 호 102 호 103 호 104 호 \n",
            "201 호 202 호 203 호 204 호 \n",
            "301 호 302 호 303 호 304 호 \n"
          ]
        }
      ]
    },
    {
      "cell_type": "code",
      "source": [
        "for row in apart[::-1]:\n",
        "  for col in row[::-1]:\n",
        "    print(col,'호',end=' ')\n",
        "  print()"
      ],
      "metadata": {
        "colab": {
          "base_uri": "https://localhost:8080/"
        },
        "id": "tWVDflssuLLh",
        "outputId": "86499ffa-e67a-4988-ce37-636b75aac657"
      },
      "execution_count": 46,
      "outputs": [
        {
          "output_type": "stream",
          "name": "stdout",
          "text": [
            "304 호 303 호 302 호 301 호 \n",
            "204 호 203 호 202 호 201 호 \n",
            "104 호 103 호 102 호 101 호 \n"
          ]
        }
      ]
    },
    {
      "cell_type": "code",
      "source": [
        "for row in apart:\n",
        "  for col in row:\n",
        "    print(col,'\\n----')"
      ],
      "metadata": {
        "colab": {
          "base_uri": "https://localhost:8080/"
        },
        "id": "uZOWIF7vuLJB",
        "outputId": "2a15ed79-c1ce-4056-a78e-aedce3e1b5e1"
      },
      "execution_count": 49,
      "outputs": [
        {
          "output_type": "stream",
          "name": "stdout",
          "text": [
            "101 \n",
            "----\n",
            "102 \n",
            "----\n",
            "103 \n",
            "----\n",
            "104 \n",
            "----\n",
            "201 \n",
            "----\n",
            "202 \n",
            "----\n",
            "203 \n",
            "----\n",
            "204 \n",
            "----\n",
            "301 \n",
            "----\n",
            "302 \n",
            "----\n",
            "303 \n",
            "----\n",
            "304 \n",
            "----\n"
          ]
        }
      ]
    },
    {
      "cell_type": "code",
      "source": [
        "# data에는 매수한 종목들이 open/high/low/close 가격 정보가 바인딩 되어 있다\n",
        "# 수수료 0.014%를 포함한 가격을 result에 data와 동일한 형태로 저장\n",
        "data = [\n",
        "        [2000,3050,2050,1980],\n",
        "        [7500,2050,2050,1980],\n",
        "        [15450,15050,15550,14900]\n",
        "]\n",
        "result = []\n",
        "for i in data:\n",
        "  a = []\n",
        "  for j in i:\n",
        "    a.append(j*1.00014)\n",
        "  result.append(a)\n",
        "print(result)"
      ],
      "metadata": {
        "colab": {
          "base_uri": "https://localhost:8080/"
        },
        "id": "0CBG-oOJx15K",
        "outputId": "43ff31b8-ef52-4af3-c7ad-0883bafabd81"
      },
      "execution_count": 72,
      "outputs": [
        {
          "output_type": "stream",
          "name": "stdout",
          "text": [
            "[[2000.28, 3050.427, 2050.2870000000003, 1980.2772], [7501.05, 2050.2870000000003, 2050.2870000000003, 1980.2772], [15452.163, 15052.107, 15552.177, 14902.086000000001]]\n"
          ]
        }
      ]
    },
    {
      "cell_type": "code",
      "source": [
        "# ohlc 리스트에는 시가(open), 고가 (high), 저가 (low) , 종가(close)가 날짜별로 저장\n",
        "ohlc = [[\"open\", \"high\", \"low\", \"close\"],\n",
        "        [100, 110, 70, 100],\n",
        "        [200, 210, 180, 190],\n",
        "        [300, 310, 300, 310]]\n",
        "\n",
        "# 종가만 print\n",
        "for i in ohlc[1:]:\n",
        "    print(i[3])\n",
        "print()\n",
        "# 종가가 시가보다 크거나 같은 경우에만 출력\n",
        "for i in ohlc[1:]:\n",
        "  if i[0] <= i[3]:\n",
        "    print(i[3])\n",
        "print()\n",
        "# 고가와 저가의 차이인 변동폭을 리스트로 저장\n",
        "volatility = []\n",
        "for i in ohlc[1:]:\n",
        "  volatility.append(i[1]-i[2])\n",
        "print(volatility)\n",
        "# 시가에 매수해서 종가에 매도했을 경우 총 수익금 계산\n",
        "sum = 0\n",
        "for i in ohlc[1:]:\n",
        "  sum += i[0]-i[3]\n",
        "print('총 수익금은',sum)"
      ],
      "metadata": {
        "colab": {
          "base_uri": "https://localhost:8080/"
        },
        "id": "dLw8P6-Nz0Z0",
        "outputId": "4532e3b6-a8d9-4d30-9e1b-42eef082fa6a"
      },
      "execution_count": 81,
      "outputs": [
        {
          "output_type": "stream",
          "name": "stdout",
          "text": [
            "100\n",
            "190\n",
            "310\n",
            "\n",
            "100\n",
            "310\n",
            "\n",
            "[40, 30, 10]\n",
            "총 수익금은 0\n"
          ]
        }
      ]
    }
  ]
}