{
  "nbformat": 4,
  "nbformat_minor": 0,
  "metadata": {
    "colab": {
      "name": "Numpy_03_dtype,Iteratingipynb",
      "provenance": [],
      "collapsed_sections": [],
      "authorship_tag": "ABX9TyNHpRZ7wqXbxFV693vKIj0E"
    },
    "kernelspec": {
      "name": "python3",
      "display_name": "Python 3"
    },
    "language_info": {
      "name": "python"
    }
  },
  "cells": [
    {
      "cell_type": "markdown",
      "source": [
        "# dtype 데이터형 확인 (Python 3.6.7 실행)\n",
        "\n",
        "\n",
        "**numpy에서 사용되는 자료형 종류**\n",
        "\n",
        "(자료형 뒤에 붙는 숫자는 몇 비트 크기인지를 의미)\n",
        "\n",
        "부호가 있는 정수 int(8, 16, 32, 64)\n",
        "\n",
        "부호가 없는 정수 uint(8 ,16, 32, 54)\n",
        "\n",
        "실수 float(16, 32, 64, 128)\n",
        "\n",
        "복소수 complex(64, 128, 256)"
      ],
      "metadata": {
        "id": "in9JKrbW5ksW"
      }
    },
    {
      "cell_type": "code",
      "execution_count": null,
      "metadata": {
        "id": "wsCyBShZSOV5"
      },
      "outputs": [],
      "source": [
        "import numpy as np"
      ]
    },
    {
      "cell_type": "code",
      "source": [
        "# array 자료형 확인 \n",
        "a = np.array([1, 3, 5, 7, 9])\n",
        "a.dtype"
      ],
      "metadata": {
        "id": "tICtois93hjl",
        "colab": {
          "base_uri": "https://localhost:8080/"
        },
        "outputId": "62630e39-4bec-4043-9900-09efaf488752"
      },
      "execution_count": null,
      "outputs": [
        {
          "output_type": "execute_result",
          "data": {
            "text/plain": [
              "dtype('int64')"
            ]
          },
          "metadata": {},
          "execution_count": 21
        }
      ]
    },
    {
      "cell_type": "code",
      "source": [
        "b = np.array([-1, -3, -5, -7, -9], np.int16)\n",
        "b.dtype"
      ],
      "metadata": {
        "colab": {
          "base_uri": "https://localhost:8080/"
        },
        "id": "PuGG37rzXCWV",
        "outputId": "8e844184-b3e3-4f30-bd67-416abf80eb98"
      },
      "execution_count": null,
      "outputs": [
        {
          "output_type": "execute_result",
          "data": {
            "text/plain": [
              "dtype('int16')"
            ]
          },
          "metadata": {},
          "execution_count": 26
        }
      ]
    },
    {
      "cell_type": "code",
      "source": [
        "c= np.array([1, 3, 5, 7, 9], np.uint16)\n",
        "c.dtype"
      ],
      "metadata": {
        "colab": {
          "base_uri": "https://localhost:8080/"
        },
        "outputId": "a8718922-a4aa-4af7-d482-b21ca7d4050a",
        "id": "1uIRN_KfXS9x"
      },
      "execution_count": null,
      "outputs": [
        {
          "output_type": "execute_result",
          "data": {
            "text/plain": [
              "dtype('uint16')"
            ]
          },
          "metadata": {},
          "execution_count": 27
        }
      ]
    },
    {
      "cell_type": "code",
      "source": [
        "d= np.array([1,2,3,3.5,4])\n",
        "d.dtype"
      ],
      "metadata": {
        "id": "Tb3JBGB84mgM",
        "colab": {
          "base_uri": "https://localhost:8080/"
        },
        "outputId": "38694fdc-00f4-484b-9743-dc2e1d01d899"
      },
      "execution_count": null,
      "outputs": [
        {
          "output_type": "execute_result",
          "data": {
            "text/plain": [
              "dtype('float64')"
            ]
          },
          "metadata": {},
          "execution_count": 28
        }
      ]
    },
    {
      "cell_type": "code",
      "source": [
        "e = np.array(2.718281828459045 + 3.141592653589793j, np.complex64)\n",
        "e.dtype"
      ],
      "metadata": {
        "colab": {
          "base_uri": "https://localhost:8080/"
        },
        "id": "FPHzcLpjVUWu",
        "outputId": "24121dae-588d-4d88-f2c8-a5649e6f8b3e"
      },
      "execution_count": null,
      "outputs": [
        {
          "output_type": "execute_result",
          "data": {
            "text/plain": [
              "dtype('complex64')"
            ]
          },
          "metadata": {},
          "execution_count": 29
        }
      ]
    },
    {
      "cell_type": "markdown",
      "source": [
        "# Iterating (배열 반복)"
      ],
      "metadata": {
        "id": "gArOuLyRfak0"
      }
    },
    {
      "cell_type": "markdown",
      "source": [
        "1D Array"
      ],
      "metadata": {
        "id": "mLPmVXHMfyXt"
      }
    },
    {
      "cell_type": "code",
      "source": [
        "x = np.arange(11)**2\n",
        "x"
      ],
      "metadata": {
        "colab": {
          "base_uri": "https://localhost:8080/"
        },
        "id": "kKzfBQuHfqHG",
        "outputId": "e9ed2dba-7f4e-4af0-b5f2-55f3dfc24fdc"
      },
      "execution_count": null,
      "outputs": [
        {
          "output_type": "execute_result",
          "data": {
            "text/plain": [
              "array([  0,   1,   4,   9,  16,  25,  36,  49,  64,  81, 100])"
            ]
          },
          "metadata": {},
          "execution_count": 60
        }
      ]
    },
    {
      "cell_type": "code",
      "source": [
        "# Python의 for 반복문 이용\n",
        "for i in x:\n",
        "    print(i)"
      ],
      "metadata": {
        "colab": {
          "base_uri": "https://localhost:8080/"
        },
        "id": "1Jx2_gaifqCo",
        "outputId": "aec1036d-a942-40f8-9aae-d3ba94d1f8c0"
      },
      "execution_count": null,
      "outputs": [
        {
          "output_type": "stream",
          "name": "stdout",
          "text": [
            "0\n",
            "1\n",
            "4\n",
            "9\n",
            "16\n",
            "25\n",
            "36\n",
            "49\n",
            "64\n",
            "81\n",
            "100\n"
          ]
        }
      ]
    },
    {
      "cell_type": "markdown",
      "source": [
        "2D Array\n",
        "\n",
        "n차원 배열의 각각의 개별 요소 접근 방법 3가지\n",
        "1. 차원 수 만큼의 중첩 for문 이용해 접근\n",
        "2. reshape(-1)로 평탄화 (1차원 배열 생성) 후 접근\n",
        "3. nditer() 함수로 다차원 배열의 원소(스칼라)에 바로 접근 가능"
      ],
      "metadata": {
        "id": "Ez1huCyYf1f8"
      }
    },
    {
      "cell_type": "code",
      "source": [
        "x = np.arange(10, 22).reshape(3, 4)\n",
        "x"
      ],
      "metadata": {
        "colab": {
          "base_uri": "https://localhost:8080/"
        },
        "id": "Huuk8SG9fqAB",
        "outputId": "b6a7d59a-3466-4b8b-ae5c-b74f260a594a"
      },
      "execution_count": null,
      "outputs": [
        {
          "output_type": "execute_result",
          "data": {
            "text/plain": [
              "array([[10, 11, 12, 13],\n",
              "       [14, 15, 16, 17],\n",
              "       [18, 19, 20, 21]])"
            ]
          },
          "metadata": {},
          "execution_count": 64
        }
      ]
    },
    {
      "cell_type": "code",
      "source": [
        "# Python의 for 반복문. 중첩 없을 경우\n",
        "for row in x:\n",
        "        print(row)"
      ],
      "metadata": {
        "colab": {
          "base_uri": "https://localhost:8080/"
        },
        "id": "qVPC2UDgfp7r",
        "outputId": "61fb9aa8-b0d3-488f-cc08-6402906c9ea6"
      },
      "execution_count": null,
      "outputs": [
        {
          "output_type": "stream",
          "name": "stdout",
          "text": [
            "[10 11 12 13]\n",
            "[14 15 16 17]\n",
            "[18 19 20 21]\n"
          ]
        }
      ]
    },
    {
      "cell_type": "code",
      "source": [
        "# n차원 배열일 경우, n-1 차원이 for 반복문을 각각 통과함\n",
        "for row in x:\n",
        "        for i in row:\n",
        "            print(i)"
      ],
      "metadata": {
        "colab": {
          "base_uri": "https://localhost:8080/"
        },
        "id": "OUpINUU_gdtF",
        "outputId": "cfa2d558-7115-46d7-9e21-a5b4ad54e0fd"
      },
      "execution_count": null,
      "outputs": [
        {
          "output_type": "stream",
          "name": "stdout",
          "text": [
            "10\n",
            "11\n",
            "12\n",
            "13\n",
            "14\n",
            "15\n",
            "16\n",
            "17\n",
            "18\n",
            "19\n",
            "20\n",
            "21\n"
          ]
        }
      ]
    },
    {
      "cell_type": "code",
      "source": [
        "# reshape(-1)로 평탄화\n",
        "newX = x.reshape(-1)\n",
        "for row in newX:\n",
        "        print(row)"
      ],
      "metadata": {
        "colab": {
          "base_uri": "https://localhost:8080/"
        },
        "id": "ZcmGUKJVgdpa",
        "outputId": "f4e3f209-aaac-4771-9636-f9e9137767a0"
      },
      "execution_count": null,
      "outputs": [
        {
          "output_type": "stream",
          "name": "stdout",
          "text": [
            "10\n",
            "11\n",
            "12\n",
            "13\n",
            "14\n",
            "15\n",
            "16\n",
            "17\n",
            "18\n",
            "19\n",
            "20\n",
            "21\n"
          ]
        }
      ]
    },
    {
      "cell_type": "code",
      "source": [
        "# nditer()\n",
        "for i in np.nditer(x):\n",
        "  print(i)"
      ],
      "metadata": {
        "colab": {
          "base_uri": "https://localhost:8080/"
        },
        "id": "oM-qM0-vgdmi",
        "outputId": "5d8cc4f5-dfc5-4069-d5aa-d82bbac644a8"
      },
      "execution_count": null,
      "outputs": [
        {
          "output_type": "stream",
          "name": "stdout",
          "text": [
            "10\n",
            "11\n",
            "12\n",
            "13\n",
            "14\n",
            "15\n",
            "16\n",
            "17\n",
            "18\n",
            "19\n",
            "20\n",
            "21\n"
          ]
        }
      ]
    }
  ]
}