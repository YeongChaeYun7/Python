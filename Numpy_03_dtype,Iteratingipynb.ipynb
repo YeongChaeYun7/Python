{
  "nbformat": 4,
  "nbformat_minor": 0,
  "metadata": {
    "colab": {
      "name": "Numpy_03_dtype,Iteratingipynb",
      "provenance": [],
      "collapsed_sections": [],
      "authorship_tag": "ABX9TyMK/rEOSvdothZwfrhZda2a"
    },
    "kernelspec": {
      "name": "python3",
      "display_name": "Python 3"
    },
    "language_info": {
      "name": "python"
    }
  },
  "cells": [
    {
      "cell_type": "markdown",
      "source": [
        "# dtype 데이터형 확인 (Python 3.6.7 실행)\n",
        "\n",
        "\n",
        "**numpy에서 사용되는 자료형 종류**\n",
        "\n",
        "(자료형 뒤에 붙는 숫자는 몇 비트 크기인지를 의미)\n",
        "\n",
        "부호가 있는 정수 int(8, 16, 32, 64)\n",
        "\n",
        "부호가 없는 정수 uint(8 ,16, 32, 54)\n",
        "\n",
        "실수 float(16, 32, 64, 128)\n",
        "\n",
        "복소수 complex(64, 128, 256)"
      ],
      "metadata": {
        "id": "in9JKrbW5ksW"
      }
    },
    {
      "cell_type": "code",
      "execution_count": 1,
      "metadata": {
        "id": "wsCyBShZSOV5"
      },
      "outputs": [],
      "source": [
        "import numpy as np"
      ]
    },
    {
      "cell_type": "code",
      "source": [
        "# array 자료형 확인 \n",
        "a = np.array([1, 3, 5, 7, 9])\n",
        "a.dtype"
      ],
      "metadata": {
        "id": "tICtois93hjl",
        "colab": {
          "base_uri": "https://localhost:8080/"
        },
        "outputId": "e95223b5-01bd-489e-c297-b78e73caf449"
      },
      "execution_count": 2,
      "outputs": [
        {
          "output_type": "execute_result",
          "data": {
            "text/plain": [
              "dtype('int64')"
            ]
          },
          "metadata": {},
          "execution_count": 2
        }
      ]
    },
    {
      "cell_type": "code",
      "source": [
        "b = np.array([-1, -3, -5, -7, -9], np.int16)\n",
        "b.dtype"
      ],
      "metadata": {
        "colab": {
          "base_uri": "https://localhost:8080/"
        },
        "id": "PuGG37rzXCWV",
        "outputId": "5e1ca2a7-6aa9-4585-8344-aee1124a1f7a"
      },
      "execution_count": 3,
      "outputs": [
        {
          "output_type": "execute_result",
          "data": {
            "text/plain": [
              "dtype('int16')"
            ]
          },
          "metadata": {},
          "execution_count": 3
        }
      ]
    },
    {
      "cell_type": "code",
      "source": [
        "c= np.array([1, 3, 5, 7, 9], np.uint16)\n",
        "c.dtype"
      ],
      "metadata": {
        "colab": {
          "base_uri": "https://localhost:8080/"
        },
        "outputId": "4d953d93-4289-4cb7-bc2d-35f2d1f374e3",
        "id": "1uIRN_KfXS9x"
      },
      "execution_count": 4,
      "outputs": [
        {
          "output_type": "execute_result",
          "data": {
            "text/plain": [
              "dtype('uint16')"
            ]
          },
          "metadata": {},
          "execution_count": 4
        }
      ]
    },
    {
      "cell_type": "code",
      "source": [
        "d= np.array([1,2,3,3.5,4])\n",
        "d.dtype"
      ],
      "metadata": {
        "id": "Tb3JBGB84mgM",
        "colab": {
          "base_uri": "https://localhost:8080/"
        },
        "outputId": "b7a5d5f0-a473-45f1-8bfd-1924689a2785"
      },
      "execution_count": 5,
      "outputs": [
        {
          "output_type": "execute_result",
          "data": {
            "text/plain": [
              "dtype('float64')"
            ]
          },
          "metadata": {},
          "execution_count": 5
        }
      ]
    },
    {
      "cell_type": "code",
      "source": [
        "e = np.array(2.718281828459045 + 3.141592653589793j, np.complex64)\n",
        "e.dtype"
      ],
      "metadata": {
        "colab": {
          "base_uri": "https://localhost:8080/"
        },
        "id": "FPHzcLpjVUWu",
        "outputId": "313f0aef-3f47-49dc-c419-bac409cdbb74"
      },
      "execution_count": 6,
      "outputs": [
        {
          "output_type": "execute_result",
          "data": {
            "text/plain": [
              "dtype('complex64')"
            ]
          },
          "metadata": {},
          "execution_count": 6
        }
      ]
    },
    {
      "cell_type": "markdown",
      "source": [
        "# Iterating (배열 반복)"
      ],
      "metadata": {
        "id": "gArOuLyRfak0"
      }
    },
    {
      "cell_type": "markdown",
      "source": [
        "1D Array"
      ],
      "metadata": {
        "id": "mLPmVXHMfyXt"
      }
    },
    {
      "cell_type": "code",
      "source": [
        "x = np.arange(11)**2\n",
        "x"
      ],
      "metadata": {
        "colab": {
          "base_uri": "https://localhost:8080/"
        },
        "id": "kKzfBQuHfqHG",
        "outputId": "5fcc924d-82d3-4fa7-f1a5-7b99246fe209"
      },
      "execution_count": 7,
      "outputs": [
        {
          "output_type": "execute_result",
          "data": {
            "text/plain": [
              "array([  0,   1,   4,   9,  16,  25,  36,  49,  64,  81, 100])"
            ]
          },
          "metadata": {},
          "execution_count": 7
        }
      ]
    },
    {
      "cell_type": "code",
      "source": [
        "# Python의 for 반복문 이용\n",
        "for i in x:\n",
        "    print(i)"
      ],
      "metadata": {
        "colab": {
          "base_uri": "https://localhost:8080/"
        },
        "id": "1Jx2_gaifqCo",
        "outputId": "e6b93c18-deb7-4d0a-d35e-a38345136ce0"
      },
      "execution_count": 8,
      "outputs": [
        {
          "output_type": "stream",
          "name": "stdout",
          "text": [
            "0\n",
            "1\n",
            "4\n",
            "9\n",
            "16\n",
            "25\n",
            "36\n",
            "49\n",
            "64\n",
            "81\n",
            "100\n"
          ]
        }
      ]
    },
    {
      "cell_type": "markdown",
      "source": [
        "2D Array\n",
        "\n",
        "n차원 배열의 각각의 개별 요소 접근 방법 3가지\n",
        "1. 차원 수 만큼의 중첩 for문 이용해 접근\n",
        "2. reshape(-1)로 평탄화 (1차원 배열 생성) 후 접근\n",
        "3. nditer() 함수로 다차원 배열의 원소(스칼라)에 바로 접근 가능"
      ],
      "metadata": {
        "id": "Ez1huCyYf1f8"
      }
    },
    {
      "cell_type": "code",
      "source": [
        "x = np.arange(10, 22).reshape(3, 4)\n",
        "x"
      ],
      "metadata": {
        "colab": {
          "base_uri": "https://localhost:8080/"
        },
        "id": "Huuk8SG9fqAB",
        "outputId": "c2fbedbc-8cbb-46d4-c67e-4a3b97c75909"
      },
      "execution_count": 9,
      "outputs": [
        {
          "output_type": "execute_result",
          "data": {
            "text/plain": [
              "array([[10, 11, 12, 13],\n",
              "       [14, 15, 16, 17],\n",
              "       [18, 19, 20, 21]])"
            ]
          },
          "metadata": {},
          "execution_count": 9
        }
      ]
    },
    {
      "cell_type": "code",
      "source": [
        "# Python의 for 반복문. 중첩 없을 경우\n",
        "for row in x:\n",
        "        print(row)"
      ],
      "metadata": {
        "colab": {
          "base_uri": "https://localhost:8080/"
        },
        "id": "qVPC2UDgfp7r",
        "outputId": "b817f1d6-aa6f-49ac-899d-f49db7072040"
      },
      "execution_count": 10,
      "outputs": [
        {
          "output_type": "stream",
          "name": "stdout",
          "text": [
            "[10 11 12 13]\n",
            "[14 15 16 17]\n",
            "[18 19 20 21]\n"
          ]
        }
      ]
    },
    {
      "cell_type": "code",
      "source": [
        "# n차원 배열일 경우, n-1 차원이 for 반복문을 각각 통과함\n",
        "for row in x:\n",
        "        for i in row:\n",
        "            print(i)"
      ],
      "metadata": {
        "colab": {
          "base_uri": "https://localhost:8080/"
        },
        "id": "OUpINUU_gdtF",
        "outputId": "ed235660-5224-4255-ef7a-90fd554030ec"
      },
      "execution_count": 11,
      "outputs": [
        {
          "output_type": "stream",
          "name": "stdout",
          "text": [
            "10\n",
            "11\n",
            "12\n",
            "13\n",
            "14\n",
            "15\n",
            "16\n",
            "17\n",
            "18\n",
            "19\n",
            "20\n",
            "21\n"
          ]
        }
      ]
    },
    {
      "cell_type": "code",
      "source": [
        "# reshape(-1)로 평탄화\n",
        "newX = x.reshape(-1)\n",
        "for row in newX:\n",
        "        print(row)"
      ],
      "metadata": {
        "colab": {
          "base_uri": "https://localhost:8080/"
        },
        "id": "ZcmGUKJVgdpa",
        "outputId": "4a79de8d-f14f-4a1f-d104-a9e68d878ca2"
      },
      "execution_count": 12,
      "outputs": [
        {
          "output_type": "stream",
          "name": "stdout",
          "text": [
            "10\n",
            "11\n",
            "12\n",
            "13\n",
            "14\n",
            "15\n",
            "16\n",
            "17\n",
            "18\n",
            "19\n",
            "20\n",
            "21\n"
          ]
        }
      ]
    },
    {
      "cell_type": "code",
      "source": [
        "# nditer()\n",
        "for i in np.nditer(x):\n",
        "  print(i)"
      ],
      "metadata": {
        "colab": {
          "base_uri": "https://localhost:8080/"
        },
        "id": "oM-qM0-vgdmi",
        "outputId": "129fc550-d735-4287-bf77-8174800afe6e"
      },
      "execution_count": 13,
      "outputs": [
        {
          "output_type": "stream",
          "name": "stdout",
          "text": [
            "10\n",
            "11\n",
            "12\n",
            "13\n",
            "14\n",
            "15\n",
            "16\n",
            "17\n",
            "18\n",
            "19\n",
            "20\n",
            "21\n"
          ]
        }
      ]
    },
    {
      "cell_type": "markdown",
      "source": [
        "nditer() 응용 - 다른 dtype의 array 반복\n",
        "\n",
        "> np.nditer(arr, flags=['buffered'], op_dtypes=['data_type'])\n",
        "\n",
        "arr: 배열\n",
        "\n",
        "flags=['buffered']: 데이터타입 변환을 위해 필요한 버퍼 공간(option)\n",
        "\n",
        "op_dtypes=['data_type']: 변환하고자 하는 데이터 타입(option)"
      ],
      "metadata": {
        "id": "7i13MHnZkZoQ"
      }
    },
    {
      "cell_type": "code",
      "source": [
        "# 정수 타입 → 문자열 타입) 변환 후, 접근\n",
        "x = np.array([1, 2, 3])\n",
        "\n",
        "for i in np.nditer(x, flags=['buffered'], op_dtypes=['S']):\n",
        "\n",
        "  print(i)"
      ],
      "metadata": {
        "colab": {
          "base_uri": "https://localhost:8080/"
        },
        "id": "pjp9wHDokhPI",
        "outputId": "963e0334-fc76-431e-e9e7-09b50c20215a"
      },
      "execution_count": 14,
      "outputs": [
        {
          "output_type": "stream",
          "name": "stdout",
          "text": [
            "b'1'\n",
            "b'2'\n",
            "b'3'\n"
          ]
        }
      ]
    },
    {
      "cell_type": "markdown",
      "source": [
        "nditer() 응용 - 다른 step으로 일부 요소만 array 반복 \n",
        "\n",
        "1차원의 각 차원에 대해 1씩 증가하게 색인 후, \n",
        "\n",
        "2차원의 각 요소를 2씩 증가하게 색인하여 선택함\n",
        "\n"
      ],
      "metadata": {
        "id": "E-XJg0IElIsC"
      }
    },
    {
      "cell_type": "code",
      "source": [
        "x = np.array([[1, 2, 3, 4], [5, 6, 7, 8]])\n",
        "\n",
        "for i in np.nditer(x[:, ::2]):\n",
        "\n",
        "  print(i)"
      ],
      "metadata": {
        "id": "FbYz4FaHlFq7",
        "colab": {
          "base_uri": "https://localhost:8080/"
        },
        "outputId": "2b0c32ab-9007-4746-a640-435ce33963f7"
      },
      "execution_count": 15,
      "outputs": [
        {
          "output_type": "stream",
          "name": "stdout",
          "text": [
            "1\n",
            "3\n",
            "5\n",
            "7\n"
          ]
        }
      ]
    }
  ]
}