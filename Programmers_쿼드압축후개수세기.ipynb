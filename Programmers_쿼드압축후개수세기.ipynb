{
  "nbformat": 4,
  "nbformat_minor": 0,
  "metadata": {
    "colab": {
      "provenance": [],
      "authorship_tag": "ABX9TyMyQINhqi8brk8yR8XtvuQR"
    },
    "kernelspec": {
      "name": "python3",
      "display_name": "Python 3"
    },
    "language_info": {
      "name": "python"
    }
  },
  "cells": [
    {
      "cell_type": "markdown",
      "source": [
        "[Programmers쿼드압축 후 개수 세기](https://school.programmers.co.kr/learn/courses/30/lessons/68936)  \n",
        "0과 1로 이루어진 2n x 2n 크기의 2차원 정수 배열 arr이 있습니다.  \n",
        "당신은 이 arr을 쿼드 트리와 같은 방식으로 압축하고자 합니다.   \n",
        "구체적인 방식은 다음과 같습니다.  \n",
        "\n",
        "당신이 압축하고자 하는 특정 영역을 S라고 정의합니다.  \n",
        "만약 S 내부에 있는 모든 수가 같은 값이라면, S를 해당 수 하나로 압축시킵니다.  \n",
        "그렇지 않다면, S를 정확히 4개의 균일한 정사각형 영역(입출력 예를 참고해주시기 바랍니다.)으로 쪼갠 뒤,   \n",
        "각 정사각형 영역에 대해 같은 방식의 압축을 시도합니다.  \n",
        "arr이 매개변수로 주어집니다. 위와 같은 방식으로 arr을 압축했을 때,   \n",
        "배열에 최종적으로 남는 0의 개수와 1의 개수를 배열에 담아서 return 하도록 solution 함수를 완성해주세요.  \n",
        "  \n",
        ">제한사항  \n",
        "    arr의 행의 개수는 1 이상 1024 이하이며, 2의 거듭 제곱수 형태를 하고 있습니다.   \n",
        "    즉, arr의 행의 개수는 1, 2, 4, 8, ..., 1024 중 하나입니다.  \n",
        "    arr의 각 행의 길이는 arr의 행의 개수와 같습니다.   \n",
        "    즉, arr은 정사각형 배열입니다.  \n",
        "    arr의 각 행에 있는 모든 값은 0 또는 1 입니다.  "
      ],
      "metadata": {
        "id": "kOOC6djXGncT"
      }
    },
    {
      "cell_type": "code",
      "execution_count": 1,
      "metadata": {
        "id": "1FhFZmhKGKW-"
      },
      "outputs": [],
      "source": [
        "# 입출력 예\n",
        "arr = [[[1,1,0,0],[1,0,0,0],[1,0,0,1],[1,1,1,1]], [[1,1,1,1,1,1,1,1],[0,1,1,1,1,1,1,1],[0,0,0,0,1,1,1,1],[0,1,0,0,1,1,1,1],[0,0,0,0,0,0,1,1],[0,0,0,0,0,0,0,1],[0,0,0,0,1,0,0,1],[0,0,0,0,1,1,1,1]]]\n",
        "result = [[4,9], [10,15]]"
      ]
    },
    {
      "cell_type": "markdown",
      "source": [
        "리스트의 인덱스를 구해서 해결하는 방향으로 문제 품  \n",
        "1. 리스트를 정사각형으로 쪼갤 때, 각 사각형의 시작점(x,y)과 길이(l)를 compression의 인자로 입력  \n",
        "2. 쪼갠 네모 안의 숫자가 모두 같은 값인지 판별. 초기값을 하나 잡고 비교  \n",
        "  2-1. 모두 같은 숫자이면\n",
        "  2-2. 초기값과 다른 숫자가 보이면 1번으로 가서 다시 사각형 쪼갬"
      ],
      "metadata": {
        "id": "QA9dHbraIIlM"
      }
    },
    {
      "cell_type": "code",
      "source": [
        "def solution(arr):\n",
        "    result=[0,0]\n",
        "    length=len(arr)\n",
        "    \n",
        "    def compression(x,y,l):\n",
        "        start = arr[x][y] # 초기값. 모두 같은 숫자인지 비교하는 기준\n",
        "        for i in range(x,x+l):\n",
        "            for j in range(y,y+l):\n",
        "                if arr[i][j] != start: # 초기값과 다를 경우, 재분할\n",
        "                    l=l//2\n",
        "                    compression(x,y,l)\n",
        "                    compression(x,y+l,l)\n",
        "                    compression(x+l,y,l)\n",
        "                    compression(x+l,y+l,l)\n",
        "                    return\n",
        "        result[start] += 1 # 초기값과 모두 같을 경우, 사각형 압축 가능\n",
        "        \n",
        "    compression(0,0,length)\n",
        "    \n",
        "    return (result)"
      ],
      "metadata": {
        "id": "38S8DbBjH6zB"
      },
      "execution_count": 2,
      "outputs": []
    },
    {
      "cell_type": "code",
      "source": [
        "for i in range(len(arr)):\n",
        "  print(solution(arr[i]) == result[i])"
      ],
      "metadata": {
        "colab": {
          "base_uri": "https://localhost:8080/"
        },
        "id": "XFQk6-lSpI-d",
        "outputId": "06350c48-a274-4212-b7a1-eef0a09d20cc"
      },
      "execution_count": 3,
      "outputs": [
        {
          "output_type": "stream",
          "name": "stdout",
          "text": [
            "True\n",
            "True\n"
          ]
        }
      ]
    }
  ]
}