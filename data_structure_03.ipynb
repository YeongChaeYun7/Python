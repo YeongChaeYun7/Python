{
  "nbformat": 4,
  "nbformat_minor": 0,
  "metadata": {
    "colab": {
      "name": "data_structure_03.ipynb",
      "provenance": [],
      "collapsed_sections": [],
      "authorship_tag": "ABX9TyOduaaIug2fMX6sHFdOIi4T"
    },
    "kernelspec": {
      "name": "python3",
      "display_name": "Python 3"
    },
    "language_info": {
      "name": "python"
    }
  },
  "cells": [
    {
      "cell_type": "markdown",
      "source": [
        "# 자료구조 집합\n",
        "\n",
        "원소들의 중복을 허용하지 않음\n",
        "\n",
        "원소들 사이에 순서가 없음\n",
        "\n",
        "자료구조의 set과 파이썬의 set은 다르다.\n",
        "\n",
        "아래는 Set ADT 구현\n"
      ],
      "metadata": {
        "id": "kOxEUvRetP9A"
      }
    },
    {
      "cell_type": "code",
      "source": [
        "class _Set: # 파이썬 set으로 만든 클래스.\n",
        "  def __init__(self):\n",
        "    self.S = set()\n",
        "\n",
        "  def size(self):\n",
        "      count = 0\n",
        "      for i in self.S:\n",
        "        count += len(i)\n",
        "      print('집합의 요소 갯수는 %s개'%count)\n",
        "\n",
        "  def contains(self,e):\n",
        "    if e in self.S:\n",
        "      return True\n",
        "    else:\n",
        "      return False\n",
        "\n",
        "  def insert(self,e):\n",
        "    if self.contains(e) == False: \n",
        "      self.S.add(e)\n",
        "      print('집합에 %s 추가'%(e))\n",
        "    else:\n",
        "      print('이미 집합 내에 있음')\n",
        "    \n",
        "  def delete (self,e):\n",
        "    if self.contains(e) == True: \n",
        "      print('집합에서 %s제거'%e)\n",
        "      self.S.remove(e)\n",
        "    else:\n",
        "      print('집합 내에 존재하지 않음')\n",
        "\n",
        "  def equals(self,setB):\n",
        "    if self.S == setB:\n",
        "      return True\n",
        "    else:\n",
        "      return False\n",
        "  \n",
        "  def union(self,setB):# 합집합\n",
        "    #print(self.S&setB)\n",
        "    print('%s와 %s의 합집합은'%(self.S,setB),self.S.union(setB))\n",
        "\n",
        "  def intersect(self,setB):# 교집합\n",
        "    print('%s와 %s의 교집합은'%(self.S,setB),self.S.intersection(setB))\n",
        "\n",
        "  def difference(self,setB):# 차집합\n",
        "    print('%s에서 %s를 뺀 차집합은'%(self.S,setB),self.S.difference(setB))\n",
        "\n",
        "  def display(self):\n",
        "    print('집합',set(self.S))"
      ],
      "metadata": {
        "id": "8YPXGZybtPWF"
      },
      "execution_count": null,
      "outputs": []
    },
    {
      "cell_type": "code",
      "source": [
        "s = _Set()\n",
        "s.size()\n",
        "s.contains(7)\n",
        "s.insert(7)\n",
        "s.insert(7)\n",
        "s.delete(7)\n",
        "s.display()\n",
        "\n",
        "s.insert(1)\n",
        "s.insert(2)\n",
        "s.insert(3)\n",
        "s.insert(4)\n",
        "s.insert(5)\n",
        "s.display()\n",
        "\n",
        "a = set([1,2,3,6,7])\n",
        "s.equals(a)\n",
        "s.union(a)\n",
        "s.intersect(a)\n",
        "s.difference(a)"
      ],
      "metadata": {
        "colab": {
          "base_uri": "https://localhost:8080/"
        },
        "id": "vGrzgtyCyRUt",
        "outputId": "04caffa1-d767-4e06-f41b-cacf7b60b03c"
      },
      "execution_count": null,
      "outputs": [
        {
          "output_type": "stream",
          "name": "stdout",
          "text": [
            "집합의 요소 갯수는 0개\n",
            "집합에 7 추가\n",
            "이미 집합 내에 있음\n",
            "집합에서 7제거\n",
            "집합 set()\n",
            "집합에 1 추가\n",
            "집합에 2 추가\n",
            "집합에 3 추가\n",
            "집합에 4 추가\n",
            "집합에 5 추가\n",
            "집합 {1, 2, 3, 4, 5}\n",
            "{1, 2, 3, 4, 5}와 {1, 2, 3, 6, 7}의 합집합은 {1, 2, 3, 4, 5, 6, 7}\n",
            "{1, 2, 3, 4, 5}와 {1, 2, 3, 6, 7}의 교집합은 {1, 2, 3}\n",
            "{1, 2, 3, 4, 5}에서 {1, 2, 3, 6, 7}를 뺀 차집합은 {4, 5}\n"
          ]
        }
      ]
    },
    {
      "cell_type": "code",
      "source": [
        "class Set: # 파이썬 list로 만든 클래스\n",
        "  def __init__(self):\n",
        "    self.S = []\n",
        "\n",
        "  def size(self):\n",
        "      count = 0\n",
        "      for i in self.S:\n",
        "        count += len(i)\n",
        "      print('set의 요소 갯수는 %s개'%count)\n",
        "\n",
        "  def contains(self,e):\n",
        "    if e in self.S:\n",
        "      return True\n",
        "    else:\n",
        "      return False\n",
        "\n",
        "  def insert(self,e):\n",
        "    if self.contains(e) == False: \n",
        "      self.S.append(e)\n",
        "      print('set에 %s 추가'%(e))\n",
        "    else:\n",
        "      print('이미 집합 내에 있음')\n",
        "    \n",
        "  def delete (self,e):\n",
        "    if self.contains(e) == True: \n",
        "      print('set에서 %s제거'%e)\n",
        "      self.S.remove(e)\n",
        "    else:\n",
        "      print('set 내에 존재하지 않음')\n",
        "\n",
        "  def equals(self,setB):\n",
        "    if self.S == setB:\n",
        "      return True\n",
        "    else:\n",
        "      return False\n",
        "  \n",
        "  def union(self,setB):# 합집합\n",
        "    #print(self.S&setB)\n",
        "    print('%s와 %s의 합집합은'%(self.S,setB),set(self.S).union(set(setB)))\n",
        "\n",
        "  def intersect(self,setB):# 교집합\n",
        "    print('%s와 %s의 교집합은'%(self.S,setB),set(self.S).intersection(set(setB)))\n",
        "\n",
        "  def difference(self,setB):# 차집합\n",
        "    print('%s에서 %s를 뺀 차집합은'%(self.S,setB),set(self.S).difference(set(setB)))\n",
        "\n",
        "  def display(self):\n",
        "    print('집합',(self.S))"
      ],
      "metadata": {
        "id": "j1kI5RT8DMH6"
      },
      "execution_count": null,
      "outputs": []
    },
    {
      "cell_type": "code",
      "source": [
        "s = Set()\n",
        "s.size()\n",
        "s.contains(7)\n",
        "s.insert(7)\n",
        "s.insert(7)\n",
        "s.delete(7)\n",
        "s.display()\n",
        "\n",
        "s.insert(1)\n",
        "s.insert(2)\n",
        "s.insert(3)\n",
        "s.insert(4)\n",
        "s.insert(5)\n",
        "s.display()\n",
        "\n",
        "a = [1,2,3,6,7]\n",
        "s.equals(a)\n",
        "s.union(a)\n",
        "s.intersect(a)\n",
        "s.difference(a)"
      ],
      "metadata": {
        "colab": {
          "base_uri": "https://localhost:8080/"
        },
        "id": "yWjO0j71Gctq",
        "outputId": "670290e8-e92f-4a23-a58a-1592cefd9d9d"
      },
      "execution_count": null,
      "outputs": [
        {
          "output_type": "stream",
          "name": "stdout",
          "text": [
            "set의 요소 갯수는 0개\n",
            "set에 7 추가\n",
            "이미 집합 내에 있음\n",
            "set에서 7제거\n",
            "집합 []\n",
            "set에 1 추가\n",
            "set에 2 추가\n",
            "set에 3 추가\n",
            "set에 4 추가\n",
            "set에 5 추가\n",
            "집합 [1, 2, 3, 4, 5]\n",
            "[1, 2, 3, 4, 5]와 [1, 2, 3, 6, 7]의 합집합은 {1, 2, 3, 4, 5, 6, 7}\n",
            "[1, 2, 3, 4, 5]와 [1, 2, 3, 6, 7]의 교집합은 {1, 2, 3}\n",
            "[1, 2, 3, 4, 5]에서 [1, 2, 3, 6, 7]를 뺀 차집합은 {4, 5}\n"
          ]
        }
      ]
    }
  ]
}