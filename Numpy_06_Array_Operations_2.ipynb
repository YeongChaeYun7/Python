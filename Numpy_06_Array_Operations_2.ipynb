{
  "nbformat": 4,
  "nbformat_minor": 0,
  "metadata": {
    "colab": {
      "name": "Numpy_06_Array Operations_2.ipynb",
      "provenance": [],
      "collapsed_sections": [],
      "authorship_tag": "ABX9TyNMY2W/TbivEPjWLRqHXLDV"
    },
    "kernelspec": {
      "name": "python3",
      "display_name": "Python 3"
    },
    "language_info": {
      "name": "python"
    }
  },
  "cells": [
    {
      "cell_type": "markdown",
      "source": [
        "# Array Operations \n",
        "\n",
        "zeros()\n",
        "\n",
        "ones()\n",
        "\n",
        "full()\n",
        "\n",
        "empty()\n",
        "\n",
        "zeros_like()\n",
        "\n",
        "ones_like()\n",
        "\n",
        "full_like()\n",
        "\n",
        "empty_like()\n",
        "\n",
        "fromfunction()"
      ],
      "metadata": {
        "id": "Dd2CynEDx5tI"
      }
    },
    {
      "cell_type": "code",
      "execution_count": 1,
      "metadata": {
        "id": "wsCyBShZSOV5"
      },
      "outputs": [],
      "source": [
        "import numpy as np"
      ]
    },
    {
      "cell_type": "markdown",
      "source": [
        "\n",
        "# zeros\n",
        "\n",
        "인자로 받는 크기만큼, 모든 요소가 0인 Array 생성"
      ],
      "metadata": {
        "id": "rPHpoF9mvh1v"
      }
    },
    {
      "cell_type": "code",
      "source": [
        "a = np.zeros(10)\n",
        "print(a, a.dtype)"
      ],
      "metadata": {
        "id": "sU_I_t9Z4mdK",
        "colab": {
          "base_uri": "https://localhost:8080/"
        },
        "outputId": "6869b4b3-a566-44ef-f604-3da3b34852d1"
      },
      "execution_count": 2,
      "outputs": [
        {
          "output_type": "stream",
          "name": "stdout",
          "text": [
            "[0. 0. 0. 0. 0. 0. 0. 0. 0. 0.] float64\n"
          ]
        }
      ]
    },
    {
      "cell_type": "code",
      "source": [
        "np.zeros((3,5))"
      ],
      "metadata": {
        "id": "U9B3_O-MLXoU",
        "colab": {
          "base_uri": "https://localhost:8080/"
        },
        "outputId": "e0dcd898-efc8-4a0a-e9f2-d6569d9ac0a7"
      },
      "execution_count": 3,
      "outputs": [
        {
          "output_type": "execute_result",
          "data": {
            "text/plain": [
              "array([[0., 0., 0., 0., 0.],\n",
              "       [0., 0., 0., 0., 0.],\n",
              "       [0., 0., 0., 0., 0.]])"
            ]
          },
          "metadata": {},
          "execution_count": 3
        }
      ]
    },
    {
      "cell_type": "markdown",
      "source": [
        "# ones\n",
        "\n",
        "인자로 받는 크기만큼, 모든 요소가 1인 Array 생성"
      ],
      "metadata": {
        "id": "dn_mHedIvkt2"
      }
    },
    {
      "cell_type": "code",
      "source": [
        "a = np.ones(7)\n",
        "print(a, a.dtype)"
      ],
      "metadata": {
        "id": "gMYW8354LXkZ",
        "colab": {
          "base_uri": "https://localhost:8080/"
        },
        "outputId": "85ccbe55-b075-4742-81ee-9f607b8f3a35"
      },
      "execution_count": 4,
      "outputs": [
        {
          "output_type": "stream",
          "name": "stdout",
          "text": [
            "[1. 1. 1. 1. 1. 1. 1.] float64\n"
          ]
        }
      ]
    },
    {
      "cell_type": "code",
      "source": [
        "a = np.ones((2,5))\n",
        "print(a, a.dtype)"
      ],
      "metadata": {
        "id": "kz9P9JHeM_Mq",
        "colab": {
          "base_uri": "https://localhost:8080/"
        },
        "outputId": "bd6ab2ec-7867-4abb-cfd1-debce1fa84b2"
      },
      "execution_count": 5,
      "outputs": [
        {
          "output_type": "stream",
          "name": "stdout",
          "text": [
            "[[1. 1. 1. 1. 1.]\n",
            " [1. 1. 1. 1. 1.]] float64\n"
          ]
        }
      ]
    },
    {
      "cell_type": "markdown",
      "source": [
        "#  full\n",
        "\n",
        "지정된 모양의, 입력한 값으로만 채워진 Array 생성\n",
        "\n"
      ],
      "metadata": {
        "id": "dSKmiYYevkqu"
      }
    },
    {
      "cell_type": "code",
      "source": [
        "a = np.full(5, 7) # 첫번째 인자로 크기, 두번째 인자가 값\n",
        "print(a, a.dtype)"
      ],
      "metadata": {
        "colab": {
          "base_uri": "https://localhost:8080/"
        },
        "id": "kC8qXTJ4t_DR",
        "outputId": "a2fc164a-8380-4a78-8729-2b60814521ba"
      },
      "execution_count": 6,
      "outputs": [
        {
          "output_type": "stream",
          "name": "stdout",
          "text": [
            "[7 7 7 7 7] int64\n"
          ]
        }
      ]
    },
    {
      "cell_type": "code",
      "source": [
        "a = np.full(5, 3.14)\n",
        "print(a, a.dtype)"
      ],
      "metadata": {
        "colab": {
          "base_uri": "https://localhost:8080/"
        },
        "id": "5gi124pouEZA",
        "outputId": "5eb2b0a0-293b-4617-a9e0-f5055ac34084"
      },
      "execution_count": 7,
      "outputs": [
        {
          "output_type": "stream",
          "name": "stdout",
          "text": [
            "[3.14 3.14 3.14 3.14 3.14] float64\n"
          ]
        }
      ]
    },
    {
      "cell_type": "code",
      "source": [
        "a = np.full((3, 5), 3.14) \n",
        "print(a, a.dtype)"
      ],
      "metadata": {
        "colab": {
          "base_uri": "https://localhost:8080/"
        },
        "id": "ckxqklFfuEVg",
        "outputId": "e75c74e1-c456-43e6-94b6-687a4e4ae8c4"
      },
      "execution_count": 8,
      "outputs": [
        {
          "output_type": "stream",
          "name": "stdout",
          "text": [
            "[[3.14 3.14 3.14 3.14 3.14]\n",
            " [3.14 3.14 3.14 3.14 3.14]\n",
            " [3.14 3.14 3.14 3.14 3.14]] float64\n"
          ]
        }
      ]
    },
    {
      "cell_type": "markdown",
      "source": [
        "# empty\n",
        "\n",
        "지정된 모양의 Array 생성\n",
        "\n",
        "각 원소는 '초기화되지않은 값'으로 채워짐\n",
        "\n",
        "for문을 사용하여 배열의 각 요소에 단일 값을 할당하여 사용"
      ],
      "metadata": {
        "id": "6i2HX8VIwgEW"
      }
    },
    {
      "cell_type": "code",
      "source": [
        "a = np.empty(5) \n",
        "\n",
        "for i in range(5):\n",
        "    a[i] = 7 # 각 원소를 7로 채워줌\n",
        "print(a)"
      ],
      "metadata": {
        "colab": {
          "base_uri": "https://localhost:8080/"
        },
        "id": "MtYV8xUkuERm",
        "outputId": "d375cb4f-b955-4dd9-c3d8-28ffdc8c1521"
      },
      "execution_count": 9,
      "outputs": [
        {
          "output_type": "stream",
          "name": "stdout",
          "text": [
            "[7. 7. 7. 7. 7.]\n"
          ]
        }
      ]
    },
    {
      "cell_type": "code",
      "source": [
        "b = np.empty((3, 4))\n",
        "print(b, b.dtype)\n",
        "# 7로 채워진 이유는 앞의 연산에서 초기화되지 않은 값이기때문"
      ],
      "metadata": {
        "colab": {
          "base_uri": "https://localhost:8080/"
        },
        "id": "0Ig2NHp_6evr",
        "outputId": "6d693bc5-b621-42bd-c5fd-86e7690eb062"
      },
      "execution_count": 10,
      "outputs": [
        {
          "output_type": "stream",
          "name": "stdout",
          "text": [
            "[[2.01482500e-316 2.84612167e-316 3.95252517e-323 2.84612167e-316]\n",
            " [3.95252517e-323 2.84612167e-316 4.44659081e-323 0.00000000e+000]\n",
            " [2.84614697e-316 2.84614697e-316 2.84614697e-316 0.00000000e+000]] float64\n"
          ]
        }
      ]
    },
    {
      "cell_type": "markdown",
      "source": [
        "# zeros_like\n",
        "\n",
        "Array의 shape 크기만큼 0값으로 채워 Array 반환"
      ],
      "metadata": {
        "id": "_Z8ODe10u0TH"
      }
    },
    {
      "cell_type": "code",
      "source": [
        "a = np.array([1, 3, 5, 7, 9])"
      ],
      "metadata": {
        "id": "pxdVNwrnuV4X"
      },
      "execution_count": 11,
      "outputs": []
    },
    {
      "cell_type": "code",
      "source": [
        "b = np.zeros_like(a) # 원래 값 대신 0으로 채워져 반환\n",
        "print(b, b.dtype)"
      ],
      "metadata": {
        "colab": {
          "base_uri": "https://localhost:8080/"
        },
        "id": "Ac83XafUF3tL",
        "outputId": "092bfc98-8dd6-4aaf-d8ce-75bf2edc5fe6"
      },
      "execution_count": 12,
      "outputs": [
        {
          "output_type": "stream",
          "name": "stdout",
          "text": [
            "[0 0 0 0 0] int64\n"
          ]
        }
      ]
    },
    {
      "cell_type": "code",
      "source": [
        "a = np.array([1.41, 2.72, 3.14])\n",
        "b = np.zeros_like(a)\n",
        "print(b, b.dtype) # 값은 변해도 type은 그대로 상속 받음"
      ],
      "metadata": {
        "colab": {
          "base_uri": "https://localhost:8080/"
        },
        "id": "TpYs3ZNvF3p6",
        "outputId": "07fc47c2-91b2-49e4-e4db-373ed295a9c5"
      },
      "execution_count": 13,
      "outputs": [
        {
          "output_type": "stream",
          "name": "stdout",
          "text": [
            "[0. 0. 0.] float64\n"
          ]
        }
      ]
    },
    {
      "cell_type": "code",
      "source": [
        "a = np.array([[1, 2, 3], [4, 5, 6]])"
      ],
      "metadata": {
        "id": "Mkf-Qh7LF3nO"
      },
      "execution_count": 14,
      "outputs": []
    },
    {
      "cell_type": "code",
      "source": [
        "b = np.zeros_like(a)\n",
        "print(b, b.dtype)"
      ],
      "metadata": {
        "colab": {
          "base_uri": "https://localhost:8080/"
        },
        "id": "i_5s3ISvGn3m",
        "outputId": "787eb4e8-0ff9-4e19-d4fb-d95b5b3d3a7e"
      },
      "execution_count": 15,
      "outputs": [
        {
          "output_type": "stream",
          "name": "stdout",
          "text": [
            "[[0 0 0]\n",
            " [0 0 0]] int64\n"
          ]
        }
      ]
    },
    {
      "cell_type": "markdown",
      "source": [
        "# ones_like\n",
        "\n",
        "Array의 shape 크기만큼 1값으로 채워 Array 반환"
      ],
      "metadata": {
        "id": "BdgShvTaGsAk"
      }
    },
    {
      "cell_type": "code",
      "source": [
        "a = np.array([1, 3, 5, 7, 9])"
      ],
      "metadata": {
        "id": "UpgJzu1XGnzL"
      },
      "execution_count": 16,
      "outputs": []
    },
    {
      "cell_type": "code",
      "source": [
        "b = np.ones_like(a)\n",
        "b"
      ],
      "metadata": {
        "colab": {
          "base_uri": "https://localhost:8080/"
        },
        "id": "35Q7HaULJI1V",
        "outputId": "6a0401db-eda1-465c-83ba-79a30eb43dba"
      },
      "execution_count": 17,
      "outputs": [
        {
          "output_type": "execute_result",
          "data": {
            "text/plain": [
              "array([1, 1, 1, 1, 1])"
            ]
          },
          "metadata": {},
          "execution_count": 17
        }
      ]
    },
    {
      "cell_type": "code",
      "source": [
        "a = np.array([1.41, 2.72, 3.14])"
      ],
      "metadata": {
        "id": "KfHE1oMaJIrR"
      },
      "execution_count": 18,
      "outputs": []
    },
    {
      "cell_type": "code",
      "source": [
        "b = np.ones_like(a)\n",
        "b"
      ],
      "metadata": {
        "colab": {
          "base_uri": "https://localhost:8080/"
        },
        "id": "NO5RRYw_JmCN",
        "outputId": "21844a54-afc0-4348-895b-f825052ddc3b"
      },
      "execution_count": 19,
      "outputs": [
        {
          "output_type": "execute_result",
          "data": {
            "text/plain": [
              "array([1., 1., 1.])"
            ]
          },
          "metadata": {},
          "execution_count": 19
        }
      ]
    },
    {
      "cell_type": "code",
      "source": [
        "b = np.ones_like(a, dtype=np.int64)\n",
        "b"
      ],
      "metadata": {
        "colab": {
          "base_uri": "https://localhost:8080/"
        },
        "id": "nWFGC3zSJl5e",
        "outputId": "5f83715c-73e5-4888-afe5-2d0994d86da8"
      },
      "execution_count": 20,
      "outputs": [
        {
          "output_type": "execute_result",
          "data": {
            "text/plain": [
              "array([1, 1, 1])"
            ]
          },
          "metadata": {},
          "execution_count": 20
        }
      ]
    },
    {
      "cell_type": "code",
      "source": [
        "a = np.array([[1, 2, 3], [4, 5, 6]])"
      ],
      "metadata": {
        "id": "5o1v31vkJ0Yl"
      },
      "execution_count": 21,
      "outputs": []
    },
    {
      "cell_type": "code",
      "source": [
        "b = np.ones_like(a)"
      ],
      "metadata": {
        "id": "64hbF30PJ0Q8"
      },
      "execution_count": 22,
      "outputs": []
    },
    {
      "cell_type": "markdown",
      "source": [
        "# full_like\n",
        "\n",
        "Array의 shape 크기만큼 0값으로 채워 Array 반환"
      ],
      "metadata": {
        "id": "oaCOmFz2J6ce"
      }
    },
    {
      "cell_type": "code",
      "source": [
        "a = np.array([[1, 2, 3], [4, 5, 6]])"
      ],
      "metadata": {
        "id": "BvuflOt_J5-V"
      },
      "execution_count": 23,
      "outputs": []
    },
    {
      "cell_type": "code",
      "source": [
        "b = np.full_like(a, 7) # 채울 값을 7로 설정\n",
        "b"
      ],
      "metadata": {
        "colab": {
          "base_uri": "https://localhost:8080/"
        },
        "id": "v793kvG-J57a",
        "outputId": "54c6a874-fd7b-4f74-d093-478614397d82"
      },
      "execution_count": 24,
      "outputs": [
        {
          "output_type": "execute_result",
          "data": {
            "text/plain": [
              "array([[7, 7, 7],\n",
              "       [7, 7, 7]])"
            ]
          },
          "metadata": {},
          "execution_count": 24
        }
      ]
    },
    {
      "cell_type": "code",
      "source": [
        "b = np.full_like(a, 7, dtype=np.float64)\n",
        "b"
      ],
      "metadata": {
        "colab": {
          "base_uri": "https://localhost:8080/"
        },
        "id": "Xg2SIPUrJ54n",
        "outputId": "a3d50f03-efb7-4130-edb8-127fb4e7bc69"
      },
      "execution_count": 25,
      "outputs": [
        {
          "output_type": "execute_result",
          "data": {
            "text/plain": [
              "array([[7., 7., 7.],\n",
              "       [7., 7., 7.]])"
            ]
          },
          "metadata": {},
          "execution_count": 25
        }
      ]
    },
    {
      "cell_type": "code",
      "source": [
        "a = np.array([1.41, 2.72, 3.14])"
      ],
      "metadata": {
        "id": "N7NSvKEGJ51n"
      },
      "execution_count": 26,
      "outputs": []
    },
    {
      "cell_type": "code",
      "source": [
        "b = np.full_like(a, 5)\n",
        "b"
      ],
      "metadata": {
        "colab": {
          "base_uri": "https://localhost:8080/"
        },
        "id": "2AQS8ojuKwmI",
        "outputId": "48d37d0f-d53b-4422-9105-9371ccf0ef93"
      },
      "execution_count": 27,
      "outputs": [
        {
          "output_type": "execute_result",
          "data": {
            "text/plain": [
              "array([5., 5., 5.])"
            ]
          },
          "metadata": {},
          "execution_count": 27
        }
      ]
    },
    {
      "cell_type": "code",
      "source": [
        "b = np.full_like(a, 5, dtype=np.int64)\n",
        "b"
      ],
      "metadata": {
        "colab": {
          "base_uri": "https://localhost:8080/"
        },
        "id": "vbPTO69RKwfL",
        "outputId": "8a0cab2d-48a1-4721-e74f-0e8bd8b25365"
      },
      "execution_count": 28,
      "outputs": [
        {
          "output_type": "execute_result",
          "data": {
            "text/plain": [
              "array([5, 5, 5])"
            ]
          },
          "metadata": {},
          "execution_count": 28
        }
      ]
    },
    {
      "cell_type": "markdown",
      "source": [
        "# empty_like\n",
        "\n",
        "Array의 shape 크기만큼 초기화되지 않은 값으로 채워 Array 반환"
      ],
      "metadata": {
        "id": "lKmEccz0J5pB"
      }
    },
    {
      "cell_type": "code",
      "source": [
        "a = np.array([1, 3, 5])\n",
        "a"
      ],
      "metadata": {
        "id": "Regkghz9J5fi",
        "colab": {
          "base_uri": "https://localhost:8080/"
        },
        "outputId": "f215d54f-2208-4509-c3cd-bb86bbad255c"
      },
      "execution_count": 29,
      "outputs": [
        {
          "output_type": "execute_result",
          "data": {
            "text/plain": [
              "array([1, 3, 5])"
            ]
          },
          "metadata": {},
          "execution_count": 29
        }
      ]
    },
    {
      "cell_type": "code",
      "source": [
        "b = np.empty_like(a) \n",
        "b # a의 형태를 따르나 쓰레기값으로 채워져있음"
      ],
      "metadata": {
        "colab": {
          "base_uri": "https://localhost:8080/"
        },
        "id": "KLdHeZbZJ5b_",
        "outputId": "31c61f0c-ea7f-4856-f2be-f7a822a60b02"
      },
      "execution_count": 30,
      "outputs": [
        {
          "output_type": "execute_result",
          "data": {
            "text/plain": [
              "array([4609028894647239311, 4613307314293241283, 4614253070214989087])"
            ]
          },
          "metadata": {},
          "execution_count": 30
        }
      ]
    },
    {
      "cell_type": "code",
      "source": [
        "a = np.array([1.41, 2.72, 3.14])"
      ],
      "metadata": {
        "id": "sIz5bGG7J5V4"
      },
      "execution_count": 31,
      "outputs": []
    },
    {
      "cell_type": "code",
      "source": [
        "b = np.empty_like(a)\n",
        "b"
      ],
      "metadata": {
        "colab": {
          "base_uri": "https://localhost:8080/"
        },
        "id": "kb3yFeClJ5NA",
        "outputId": "6c5448f0-4899-43d1-f523-46336e5c26b7"
      },
      "execution_count": 32,
      "outputs": [
        {
          "output_type": "execute_result",
          "data": {
            "text/plain": [
              "array([2.1469911e-316, 0.0000000e+000, 0.0000000e+000])"
            ]
          },
          "metadata": {},
          "execution_count": 32
        }
      ]
    },
    {
      "cell_type": "code",
      "source": [
        "b = np.empty_like(a, dtype=np.int64)\n",
        "b"
      ],
      "metadata": {
        "colab": {
          "base_uri": "https://localhost:8080/"
        },
        "id": "aehP3tUBNEaO",
        "outputId": "9a3a2f31-5f86-489d-cffb-105d940a7349"
      },
      "execution_count": 33,
      "outputs": [
        {
          "output_type": "execute_result",
          "data": {
            "text/plain": [
              "array([43455584,        0,        0])"
            ]
          },
          "metadata": {},
          "execution_count": 33
        }
      ]
    },
    {
      "cell_type": "code",
      "source": [
        "a = np.array([[1, 2, 3], [4, 5, 6]])"
      ],
      "metadata": {
        "id": "X7MADh_rNHft"
      },
      "execution_count": 34,
      "outputs": []
    },
    {
      "cell_type": "code",
      "source": [
        "b = np.empty_like(a)\n",
        "b"
      ],
      "metadata": {
        "colab": {
          "base_uri": "https://localhost:8080/"
        },
        "id": "xzZOD9lbNHb7",
        "outputId": "1dc9e6ab-2cf9-4066-9c42-dc427f52adf4"
      },
      "execution_count": 35,
      "outputs": [
        {
          "output_type": "execute_result",
          "data": {
            "text/plain": [
              "array([[4619567317775286272, 4619567317775286272, 4619567317775286272],\n",
              "       [4619567317775286272, 4619567317775286272, 4619567317775286272]])"
            ]
          },
          "metadata": {},
          "execution_count": 35
        }
      ]
    },
    {
      "cell_type": "code",
      "source": [
        "b = np.empty_like(a, dtype=np.float64)\n",
        "\n",
        "for i in range(2):\n",
        "    b[i] = 8 # 각 원소값을 8로 지정\n",
        "print(b)"
      ],
      "metadata": {
        "colab": {
          "base_uri": "https://localhost:8080/"
        },
        "id": "8Bq_oDVJQz7F",
        "outputId": "ac7441c3-b9a5-4fc9-dce6-1909fd8b7799"
      },
      "execution_count": 36,
      "outputs": [
        {
          "output_type": "stream",
          "name": "stdout",
          "text": [
            "[[8. 8. 8.]\n",
            " [8. 8. 8.]]\n"
          ]
        }
      ]
    },
    {
      "cell_type": "markdown",
      "source": [
        "# fromfunction\n",
        "\n",
        "함수 형식을 가져와 Array 생성\n",
        "\n",
        "Array의 형태는 전적으로 함수에 의해 결정된다"
      ],
      "metadata": {
        "id": "JvrasFxZJ5At"
      }
    },
    {
      "cell_type": "code",
      "source": [
        "I = np.fromfunction(lambda i, j: i == j, (5, 5)) # 5x5 형태 생성\n",
        "I"
      ],
      "metadata": {
        "colab": {
          "base_uri": "https://localhost:8080/"
        },
        "id": "kIBffmuvRaYP",
        "outputId": "831d506d-7cc5-4542-e365-3a085a896370"
      },
      "execution_count": 37,
      "outputs": [
        {
          "output_type": "execute_result",
          "data": {
            "text/plain": [
              "array([[ True, False, False, False, False],\n",
              "       [False,  True, False, False, False],\n",
              "       [False, False,  True, False, False],\n",
              "       [False, False, False,  True, False],\n",
              "       [False, False, False, False,  True]])"
            ]
          },
          "metadata": {},
          "execution_count": 37
        }
      ]
    },
    {
      "cell_type": "code",
      "source": [
        "a = np.fromfunction(lambda i, j: i + j, (5, 5), dtype=np.int64)\n",
        "a"
      ],
      "metadata": {
        "colab": {
          "base_uri": "https://localhost:8080/"
        },
        "id": "EV3w-xq1RaU4",
        "outputId": "45f94eb0-a58d-4796-ddb9-5f6f6af17221"
      },
      "execution_count": 38,
      "outputs": [
        {
          "output_type": "execute_result",
          "data": {
            "text/plain": [
              "array([[0, 1, 2, 3, 4],\n",
              "       [1, 2, 3, 4, 5],\n",
              "       [2, 3, 4, 5, 6],\n",
              "       [3, 4, 5, 6, 7],\n",
              "       [4, 5, 6, 7, 8]])"
            ]
          },
          "metadata": {},
          "execution_count": 38
        }
      ]
    },
    {
      "cell_type": "code",
      "source": [
        "a = np.fromfunction(lambda i, j: 10*i + j, (3, 5), dtype=np.int64)\n",
        "a"
      ],
      "metadata": {
        "colab": {
          "base_uri": "https://localhost:8080/"
        },
        "id": "f2Znpx8gRaR1",
        "outputId": "55d74a76-c017-40b4-f041-fb8061522f07"
      },
      "execution_count": 39,
      "outputs": [
        {
          "output_type": "execute_result",
          "data": {
            "text/plain": [
              "array([[ 0,  1,  2,  3,  4],\n",
              "       [10, 11, 12, 13, 14],\n",
              "       [20, 21, 22, 23, 24]])"
            ]
          },
          "metadata": {},
          "execution_count": 39
        }
      ]
    }
  ]
}