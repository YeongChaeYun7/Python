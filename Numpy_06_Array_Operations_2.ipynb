{
  "nbformat": 4,
  "nbformat_minor": 0,
  "metadata": {
    "colab": {
      "name": "Numpy_06_Array Operations_2.ipynb",
      "provenance": [],
      "collapsed_sections": [],
      "authorship_tag": "ABX9TyMeOzLPEaahif7oYKgluJ3x"
    },
    "kernelspec": {
      "name": "python3",
      "display_name": "Python 3"
    },
    "language_info": {
      "name": "python"
    }
  },
  "cells": [
    {
      "cell_type": "markdown",
      "source": [
        "# Array Operations \n",
        "\n",
        "zeros()\n",
        "\n",
        "ones()\n",
        "\n",
        "full()\n",
        "\n",
        "empty()\n",
        "\n",
        "zeros_like()\n",
        "\n",
        "ones_like()\n",
        "\n",
        "full_like()\n",
        "\n",
        "empty_like()\n",
        "\n",
        "fromfunction()"
      ],
      "metadata": {
        "id": "Dd2CynEDx5tI"
      }
    },
    {
      "cell_type": "code",
      "execution_count": 1,
      "metadata": {
        "id": "wsCyBShZSOV5"
      },
      "outputs": [],
      "source": [
        "import numpy as np"
      ]
    },
    {
      "cell_type": "markdown",
      "source": [
        "\n",
        "# zeros\n",
        "\n",
        "인자로 받는 크기만큼, 모든 요소가 0인 Array 생성"
      ],
      "metadata": {
        "id": "rPHpoF9mvh1v"
      }
    },
    {
      "cell_type": "code",
      "source": [
        "a = np.zeros(10)\n",
        "print(a, a.dtype)"
      ],
      "metadata": {
        "id": "sU_I_t9Z4mdK",
        "colab": {
          "base_uri": "https://localhost:8080/"
        },
        "outputId": "7fb4ddfb-9e1f-40ae-b40b-efbeb9b8b025"
      },
      "execution_count": 2,
      "outputs": [
        {
          "output_type": "stream",
          "name": "stdout",
          "text": [
            "[0. 0. 0. 0. 0. 0. 0. 0. 0. 0.] float64\n"
          ]
        }
      ]
    },
    {
      "cell_type": "code",
      "source": [
        "np.zeros((3,5))"
      ],
      "metadata": {
        "id": "U9B3_O-MLXoU",
        "colab": {
          "base_uri": "https://localhost:8080/"
        },
        "outputId": "d1a4891c-a27b-467e-fd8d-5896325b1f20"
      },
      "execution_count": 3,
      "outputs": [
        {
          "output_type": "execute_result",
          "data": {
            "text/plain": [
              "array([[0., 0., 0., 0., 0.],\n",
              "       [0., 0., 0., 0., 0.],\n",
              "       [0., 0., 0., 0., 0.]])"
            ]
          },
          "metadata": {},
          "execution_count": 3
        }
      ]
    },
    {
      "cell_type": "markdown",
      "source": [
        "# ones\n",
        "\n",
        "인자로 받는 크기만큼, 모든 요소가 1인 Array 생성"
      ],
      "metadata": {
        "id": "dn_mHedIvkt2"
      }
    },
    {
      "cell_type": "code",
      "source": [
        "a = np.ones(7)\n",
        "print(a, a.dtype)"
      ],
      "metadata": {
        "id": "gMYW8354LXkZ",
        "colab": {
          "base_uri": "https://localhost:8080/"
        },
        "outputId": "a1682868-6a75-415a-daad-4d54b1b37c2d"
      },
      "execution_count": 5,
      "outputs": [
        {
          "output_type": "stream",
          "name": "stdout",
          "text": [
            "[1. 1. 1. 1. 1. 1. 1.] float64\n"
          ]
        }
      ]
    },
    {
      "cell_type": "code",
      "source": [
        "a = np.ones((2,5))\n",
        "print(a, a.dtype)"
      ],
      "metadata": {
        "id": "kz9P9JHeM_Mq",
        "colab": {
          "base_uri": "https://localhost:8080/"
        },
        "outputId": "73027c4d-6350-4941-f454-5041a71b62aa"
      },
      "execution_count": 6,
      "outputs": [
        {
          "output_type": "stream",
          "name": "stdout",
          "text": [
            "[[1. 1. 1. 1. 1.]\n",
            " [1. 1. 1. 1. 1.]] float64\n"
          ]
        }
      ]
    },
    {
      "cell_type": "markdown",
      "source": [
        "#  full\n",
        "\n",
        "지정된 모양의, 입력한 값으로만 채워진 Array 생성\n",
        "\n"
      ],
      "metadata": {
        "id": "dSKmiYYevkqu"
      }
    },
    {
      "cell_type": "code",
      "source": [
        "a = np.full(5, 7) # 첫번째 인자로 크기, 두번째 인자가 값\n",
        "print(a, a.dtype)"
      ],
      "metadata": {
        "colab": {
          "base_uri": "https://localhost:8080/"
        },
        "id": "kC8qXTJ4t_DR",
        "outputId": "a9e03865-50da-43a0-873a-81acbddbe70c"
      },
      "execution_count": 11,
      "outputs": [
        {
          "output_type": "stream",
          "name": "stdout",
          "text": [
            "[7 7 7 7 7] int64\n"
          ]
        }
      ]
    },
    {
      "cell_type": "code",
      "source": [
        "a = np.full(5, 3.14)\n",
        "print(a, a.dtype)"
      ],
      "metadata": {
        "colab": {
          "base_uri": "https://localhost:8080/"
        },
        "id": "5gi124pouEZA",
        "outputId": "805f002a-91cf-4edb-e672-6c6229bfccb2"
      },
      "execution_count": 9,
      "outputs": [
        {
          "output_type": "stream",
          "name": "stdout",
          "text": [
            "[3.14 3.14 3.14 3.14 3.14] float64\n"
          ]
        }
      ]
    },
    {
      "cell_type": "code",
      "source": [
        "a = np.full((3, 5), 3.14) \n",
        "print(a, a.dtype)"
      ],
      "metadata": {
        "colab": {
          "base_uri": "https://localhost:8080/"
        },
        "id": "ckxqklFfuEVg",
        "outputId": "f4cbb8e6-8843-4afd-ffe9-6a2657baa4ec"
      },
      "execution_count": 13,
      "outputs": [
        {
          "output_type": "stream",
          "name": "stdout",
          "text": [
            "[[3.14 3.14 3.14 3.14 3.14]\n",
            " [3.14 3.14 3.14 3.14 3.14]\n",
            " [3.14 3.14 3.14 3.14 3.14]] float64\n"
          ]
        }
      ]
    },
    {
      "cell_type": "markdown",
      "source": [
        "# empty\n",
        "\n",
        "지정된 모양의 Array 생성\n",
        "\n",
        "각 원소는 '초기화되지않은 값'으로 채워짐\n",
        "\n",
        "for문을 사용하여 배열의 각 요소에 단일 값을 할당하여 사용"
      ],
      "metadata": {
        "id": "6i2HX8VIwgEW"
      }
    },
    {
      "cell_type": "code",
      "source": [
        "a = np.empty(5) \n",
        "\n",
        "for i in range(5):\n",
        "    a[i] = 7 # 각 원소를 7로 채워줌\n",
        "print(a)"
      ],
      "metadata": {
        "colab": {
          "base_uri": "https://localhost:8080/"
        },
        "id": "MtYV8xUkuERm",
        "outputId": "fcf2f3aa-c518-4975-dad4-1d9e84f0426c"
      },
      "execution_count": 32,
      "outputs": [
        {
          "output_type": "stream",
          "name": "stdout",
          "text": [
            "[7. 7. 7. 7. 7.]\n"
          ]
        }
      ]
    },
    {
      "cell_type": "code",
      "source": [
        "b = np.empty((3, 4))\n",
        "print(b, b.dtype)\n",
        "# 7로 채워진 이유는 앞의 연산에서 초기화되지 않은 값이기때문"
      ],
      "metadata": {
        "colab": {
          "base_uri": "https://localhost:8080/"
        },
        "id": "0Ig2NHp_6evr",
        "outputId": "b03bbb5a-d90a-474c-9975-3b4776226a10"
      },
      "execution_count": 38,
      "outputs": [
        {
          "output_type": "stream",
          "name": "stdout",
          "text": [
            "[[7. 7. 7. 7.]\n",
            " [7. 7. 7. 7.]\n",
            " [7. 7. 7. 7.]] float64\n"
          ]
        }
      ]
    },
    {
      "cell_type": "markdown",
      "source": [
        "# zeros_like\n",
        "\n",
        "Array의 shape 크기만큼 0값으로 채워 Array 반환"
      ],
      "metadata": {
        "id": "_Z8ODe10u0TH"
      }
    },
    {
      "cell_type": "code",
      "source": [
        "a = np.array([1, 3, 5, 7, 9])"
      ],
      "metadata": {
        "id": "pxdVNwrnuV4X"
      },
      "execution_count": 39,
      "outputs": []
    },
    {
      "cell_type": "code",
      "source": [
        "b = np.zeros_like(a) # 원래 값 대신 0으로 채워져 반환\n",
        "print(b, b.dtype)"
      ],
      "metadata": {
        "colab": {
          "base_uri": "https://localhost:8080/"
        },
        "id": "Ac83XafUF3tL",
        "outputId": "a12542fb-3b67-4c29-e4f6-cea55f9f25f8"
      },
      "execution_count": 40,
      "outputs": [
        {
          "output_type": "stream",
          "name": "stdout",
          "text": [
            "[0 0 0 0 0] int64\n"
          ]
        }
      ]
    },
    {
      "cell_type": "code",
      "source": [
        "a = np.array([1.41, 2.72, 3.14])\n",
        "b = np.zeros_like(a)\n",
        "print(b, b.dtype) # 값은 변해도 type은 그대로 상속 받음"
      ],
      "metadata": {
        "colab": {
          "base_uri": "https://localhost:8080/"
        },
        "id": "TpYs3ZNvF3p6",
        "outputId": "13903d34-9848-42e6-dda8-33fddb9411cc"
      },
      "execution_count": 41,
      "outputs": [
        {
          "output_type": "stream",
          "name": "stdout",
          "text": [
            "[0. 0. 0.] float64\n"
          ]
        }
      ]
    },
    {
      "cell_type": "code",
      "source": [
        "a = np.array([[1, 2, 3], [4, 5, 6]])"
      ],
      "metadata": {
        "id": "Mkf-Qh7LF3nO"
      },
      "execution_count": 42,
      "outputs": []
    },
    {
      "cell_type": "code",
      "source": [
        "b = np.zeros_like(a)\n",
        "print(b, b.dtype)"
      ],
      "metadata": {
        "colab": {
          "base_uri": "https://localhost:8080/"
        },
        "id": "i_5s3ISvGn3m",
        "outputId": "1711bd66-bcdb-4808-cbe9-947aba8128d1"
      },
      "execution_count": 43,
      "outputs": [
        {
          "output_type": "stream",
          "name": "stdout",
          "text": [
            "[[0 0 0]\n",
            " [0 0 0]] int64\n"
          ]
        }
      ]
    },
    {
      "cell_type": "markdown",
      "source": [
        "# ones_like\n",
        "\n",
        "Array의 shape 크기만큼 1값으로 채워 Array 반환"
      ],
      "metadata": {
        "id": "BdgShvTaGsAk"
      }
    },
    {
      "cell_type": "code",
      "source": [
        "a = np.array([1, 3, 5, 7, 9])"
      ],
      "metadata": {
        "id": "UpgJzu1XGnzL"
      },
      "execution_count": 44,
      "outputs": []
    },
    {
      "cell_type": "code",
      "source": [
        "b = np.ones_like(a)\n",
        "b"
      ],
      "metadata": {
        "colab": {
          "base_uri": "https://localhost:8080/"
        },
        "id": "35Q7HaULJI1V",
        "outputId": "09b27163-9e02-4908-857d-73e2070084e9"
      },
      "execution_count": 45,
      "outputs": [
        {
          "output_type": "execute_result",
          "data": {
            "text/plain": [
              "array([1, 1, 1, 1, 1])"
            ]
          },
          "metadata": {},
          "execution_count": 45
        }
      ]
    },
    {
      "cell_type": "code",
      "source": [
        "a = np.array([1.41, 2.72, 3.14])"
      ],
      "metadata": {
        "id": "KfHE1oMaJIrR"
      },
      "execution_count": 46,
      "outputs": []
    },
    {
      "cell_type": "code",
      "source": [
        "b = np.ones_like(a)\n",
        "b"
      ],
      "metadata": {
        "colab": {
          "base_uri": "https://localhost:8080/"
        },
        "id": "NO5RRYw_JmCN",
        "outputId": "674b27ce-923a-459f-f138-dc372af87fab"
      },
      "execution_count": 47,
      "outputs": [
        {
          "output_type": "execute_result",
          "data": {
            "text/plain": [
              "array([1., 1., 1.])"
            ]
          },
          "metadata": {},
          "execution_count": 47
        }
      ]
    },
    {
      "cell_type": "code",
      "source": [
        "b = np.ones_like(a, dtype=np.int64)\n",
        "b"
      ],
      "metadata": {
        "colab": {
          "base_uri": "https://localhost:8080/"
        },
        "id": "nWFGC3zSJl5e",
        "outputId": "294bd7de-bc67-4c3f-afa7-56a22c6c2b39"
      },
      "execution_count": 48,
      "outputs": [
        {
          "output_type": "execute_result",
          "data": {
            "text/plain": [
              "array([1, 1, 1])"
            ]
          },
          "metadata": {},
          "execution_count": 48
        }
      ]
    },
    {
      "cell_type": "code",
      "source": [
        "a = np.array([[1, 2, 3], [4, 5, 6]])"
      ],
      "metadata": {
        "id": "5o1v31vkJ0Yl"
      },
      "execution_count": 49,
      "outputs": []
    },
    {
      "cell_type": "code",
      "source": [
        "b = np.ones_like(a)"
      ],
      "metadata": {
        "id": "64hbF30PJ0Q8"
      },
      "execution_count": 50,
      "outputs": []
    },
    {
      "cell_type": "markdown",
      "source": [
        "# full_like\n",
        "\n",
        "Array의 shape 크기만큼 0값으로 채워 Array 반환"
      ],
      "metadata": {
        "id": "oaCOmFz2J6ce"
      }
    },
    {
      "cell_type": "code",
      "source": [
        "a = np.array([[1, 2, 3], [4, 5, 6]])"
      ],
      "metadata": {
        "id": "BvuflOt_J5-V"
      },
      "execution_count": 51,
      "outputs": []
    },
    {
      "cell_type": "code",
      "source": [
        "b = np.full_like(a, 7) # 채울 값을 7로 설정\n",
        "b"
      ],
      "metadata": {
        "colab": {
          "base_uri": "https://localhost:8080/"
        },
        "id": "v793kvG-J57a",
        "outputId": "f6c69808-1139-4298-a969-df6f65f803da"
      },
      "execution_count": 52,
      "outputs": [
        {
          "output_type": "execute_result",
          "data": {
            "text/plain": [
              "array([[7, 7, 7],\n",
              "       [7, 7, 7]])"
            ]
          },
          "metadata": {},
          "execution_count": 52
        }
      ]
    },
    {
      "cell_type": "code",
      "source": [
        "b = np.full_like(a, 7, dtype=np.float64)\n",
        "b"
      ],
      "metadata": {
        "colab": {
          "base_uri": "https://localhost:8080/"
        },
        "id": "Xg2SIPUrJ54n",
        "outputId": "0951130d-46df-4da4-c8ec-22681af00f06"
      },
      "execution_count": 54,
      "outputs": [
        {
          "output_type": "execute_result",
          "data": {
            "text/plain": [
              "array([[7., 7., 7.],\n",
              "       [7., 7., 7.]])"
            ]
          },
          "metadata": {},
          "execution_count": 54
        }
      ]
    },
    {
      "cell_type": "code",
      "source": [
        "a = np.array([1.41, 2.72, 3.14])"
      ],
      "metadata": {
        "id": "N7NSvKEGJ51n"
      },
      "execution_count": 55,
      "outputs": []
    },
    {
      "cell_type": "code",
      "source": [
        "b = np.full_like(a, 5)\n",
        "b"
      ],
      "metadata": {
        "colab": {
          "base_uri": "https://localhost:8080/"
        },
        "id": "2AQS8ojuKwmI",
        "outputId": "ff72e516-5a12-4b14-f1a9-d9f48730f951"
      },
      "execution_count": 58,
      "outputs": [
        {
          "output_type": "execute_result",
          "data": {
            "text/plain": [
              "array([5., 5., 5.])"
            ]
          },
          "metadata": {},
          "execution_count": 58
        }
      ]
    },
    {
      "cell_type": "code",
      "source": [
        "b = np.full_like(a, 5, dtype=np.int64)\n",
        "b"
      ],
      "metadata": {
        "colab": {
          "base_uri": "https://localhost:8080/"
        },
        "id": "vbPTO69RKwfL",
        "outputId": "cfb51f43-2dcd-4933-a0f1-62116df56330"
      },
      "execution_count": 59,
      "outputs": [
        {
          "output_type": "execute_result",
          "data": {
            "text/plain": [
              "array([5, 5, 5])"
            ]
          },
          "metadata": {},
          "execution_count": 59
        }
      ]
    },
    {
      "cell_type": "markdown",
      "source": [
        "# empty_like\n",
        "\n",
        "Array의 shape 크기만큼 초기화되지 않은 값으로 채워 Array 반환"
      ],
      "metadata": {
        "id": "lKmEccz0J5pB"
      }
    },
    {
      "cell_type": "code",
      "source": [
        "a = np.array([1, 3, 5])\n",
        "a"
      ],
      "metadata": {
        "id": "Regkghz9J5fi",
        "colab": {
          "base_uri": "https://localhost:8080/"
        },
        "outputId": "4e7f0fdd-08ab-47ee-94c5-cc67b9fae1d3"
      },
      "execution_count": 62,
      "outputs": [
        {
          "output_type": "execute_result",
          "data": {
            "text/plain": [
              "array([1, 3, 5])"
            ]
          },
          "metadata": {},
          "execution_count": 62
        }
      ]
    },
    {
      "cell_type": "code",
      "source": [
        "b = np.empty_like(a) \n",
        "b # a의 형태를 따르나 쓰레기값으로 채워져있음"
      ],
      "metadata": {
        "colab": {
          "base_uri": "https://localhost:8080/"
        },
        "id": "KLdHeZbZJ5b_",
        "outputId": "bfa851fa-9866-49a4-9e34-3389cd1ceb8b"
      },
      "execution_count": 69,
      "outputs": [
        {
          "output_type": "execute_result",
          "data": {
            "text/plain": [
              "array([2.80651895e-316, 6.18604229e+223, 6.21435204e-310])"
            ]
          },
          "metadata": {},
          "execution_count": 69
        }
      ]
    },
    {
      "cell_type": "code",
      "source": [
        "a = np.array([1.41, 2.72, 3.14])"
      ],
      "metadata": {
        "id": "sIz5bGG7J5V4"
      },
      "execution_count": 66,
      "outputs": []
    },
    {
      "cell_type": "code",
      "source": [
        "b = np.empty_like(a)\n",
        "b"
      ],
      "metadata": {
        "colab": {
          "base_uri": "https://localhost:8080/"
        },
        "id": "kb3yFeClJ5NA",
        "outputId": "bf1263f2-b96f-43bc-840e-76b347393bc1"
      },
      "execution_count": 67,
      "outputs": [
        {
          "output_type": "execute_result",
          "data": {
            "text/plain": [
              "array([2.80651895e-316, 6.18604229e+223, 6.21435204e-310])"
            ]
          },
          "metadata": {},
          "execution_count": 67
        }
      ]
    },
    {
      "cell_type": "code",
      "source": [
        "b = np.empty_like(a, dtype=np.int64)\n",
        "b"
      ],
      "metadata": {
        "colab": {
          "base_uri": "https://localhost:8080/"
        },
        "id": "aehP3tUBNEaO",
        "outputId": "40469188-90a7-4d9d-ae0f-23f371c00845"
      },
      "execution_count": 71,
      "outputs": [
        {
          "output_type": "execute_result",
          "data": {
            "text/plain": [
              "array([           56804576, 7954874581515239424,     125779885582708])"
            ]
          },
          "metadata": {},
          "execution_count": 71
        }
      ]
    },
    {
      "cell_type": "code",
      "source": [
        "a = np.array([[1, 2, 3], [4, 5, 6]])"
      ],
      "metadata": {
        "id": "X7MADh_rNHft"
      },
      "execution_count": 72,
      "outputs": []
    },
    {
      "cell_type": "code",
      "source": [
        "b = np.empty_like(a)\n",
        "b"
      ],
      "metadata": {
        "colab": {
          "base_uri": "https://localhost:8080/"
        },
        "id": "xzZOD9lbNHb7",
        "outputId": "8bfdfa78-df12-46fd-e42f-e1ec434e0966"
      },
      "execution_count": 73,
      "outputs": [
        {
          "output_type": "execute_result",
          "data": {
            "text/plain": [
              "array([[4619567317775286272, 4619567317775286272, 4619567317775286272],\n",
              "       [4619567317775286272, 4619567317775286272, 4619567317775286272]])"
            ]
          },
          "metadata": {},
          "execution_count": 73
        }
      ]
    },
    {
      "cell_type": "code",
      "source": [
        "b = np.empty_like(a, dtype=np.float64)\n",
        "\n",
        "for i in range(2):\n",
        "    b[i] = 8 # 각 원소값을 8로 지정\n",
        "print(b)"
      ],
      "metadata": {
        "colab": {
          "base_uri": "https://localhost:8080/"
        },
        "id": "8Bq_oDVJQz7F",
        "outputId": "835d53a8-ca6e-406c-a6b3-bca193b35604"
      },
      "execution_count": 76,
      "outputs": [
        {
          "output_type": "stream",
          "name": "stdout",
          "text": [
            "[[8. 8. 8.]\n",
            " [8. 8. 8.]]\n"
          ]
        }
      ]
    }
  ]
}