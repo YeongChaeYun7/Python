{
  "nbformat": 4,
  "nbformat_minor": 0,
  "metadata": {
    "colab": {
      "name": "data_structure_12.ipynb",
      "provenance": [],
      "collapsed_sections": [],
      "authorship_tag": "ABX9TyOeirN74Q9ldWwpSdHl70PD"
    },
    "kernelspec": {
      "name": "python3",
      "display_name": "Python 3"
    },
    "language_info": {
      "name": "python"
    }
  },
  "cells": [
    {
      "cell_type": "markdown",
      "source": [
        "# 힙 트리(heap tree)\n",
        "\n",
        "heap: 완전 이진 트리 기반의 자료 구조\n",
        "\n",
        "여러개의 값들 중에서 가장 크거나 작은 값을 빠르게 찾아내도록 만들어진 자료 구조\n",
        "\n",
        "반정렬(느슨한 정렬) 상태만을 유지\n",
        "\n",
        "단순 순차 탐색으로 최댓값, 최솟값을 찾을 경우 O(N)의 탐색 시간이 소요되지만\n",
        "\n",
        "힙은 O(logN), 즉 트리의 높이만큼만 비교를 하기에 탐색 속도가 빠르다\n",
        "\n",
        "최대 힙(max heap): 부모노드의 키 값이 자식 노드의 키 값보다 크거나 같은 완전이진트리 -> root가 가장 큰 값\n",
        "\n",
        "최소 힙(min heap): 부모노드의 키 값이 자식 노드의 키 값보다 작거나 같은 완전이진트리 -> root가가장 작은 값\n",
        "\n",
        "식제는 보통 root에서 이루어짐. 힙의 구조는 보통 최대, 최솟값을 알기위해 쓰기에 가장 최대, 최솟값을 가진 root에서 값 호출함\n"
      ],
      "metadata": {
        "id": "IExFZwDSMroM"
      }
    },
    {
      "cell_type": "markdown",
      "source": [
        "힙을 저장하는 효과적인 자료구조는 배열 -> 완전 이진 트리\n",
        "\n",
        "> 배열 인덱스 위치 공식\n",
        "\n",
        "부모: 자식 인덱스 / 2 \n",
        "\n",
        "왼쪽 자식:부모 인덱스 x 2\n",
        "\n",
        "오른쪽 자식: 부모 인덱스 x 2 + 1"
      ],
      "metadata": {
        "id": "SabKJPIMrJnq"
      }
    },
    {
      "cell_type": "code",
      "source": [
        "# 최대 힙 구현\n",
        "class maxHeap:\n",
        "  def __init__(self):\n",
        "    self.heap = [] # 배열형태로 구현\n",
        "    self.heap.append(0) # 리스트의 처음을 비움. 알아보기 쉽기위해 인덱스의 0을 쓰지않기 때문에 넣음\n",
        "  def size(self):\n",
        "    return len(self.heap) - 1\n",
        "  def isEmpty(self):\n",
        "    return self.size() == 0\n",
        "  def parent (self,i): return self.heap[i // 2] # 위의 배열 인덱스 위치 공식 따름\n",
        "  def left (self, i): return self.heap[i * 2]\n",
        "  def right (self, i): return self.heap[i * 2 + 1]\n",
        "  def display(self,msg='heap tree: '): print(msg, self.heap[1:]) # [1:]은 리스트 처음은 쓰지 않기때문\n",
        "  def insert (self,n):\n",
        "    self.heap.append(n)# 노드를 배열 가장 끝에 집어넣음\n",
        "    i =  self.size() \n",
        "    while (i != 1 and n > self.parent(i)): # 부모노드 값이 더 작을 경우, 부모노드와 비교-교환. \n",
        "      self.heap[i] = self.parent(i)\n",
        "      i = i // 2 \n",
        "    self.heap[i] = n \n",
        "  def delete (self): # 루트노드에서 값이 빠져나간다 가정\n",
        "    parent = 1\n",
        "    child = 2\n",
        "    if not self.isEmpty():# heap이 비면 가지고 올게 없으므로 패스\n",
        "      hroot = self.heap[1] # 힙의 첫번째 값\n",
        "      last = self.heap[self.size()] # 힙의 끝자리 값\n",
        "      while (child <=  self.size()):# 자식노드를 가져와 부모노드와 비교\n",
        "        if child <self.size() and self.left(parent) < self.right(parent): \n",
        "          child +=1 # child가 범위 내에 있고 좌가 우보다 작으면 교환\n",
        "          if last >=  self.heap[child]:\n",
        "           break;\n",
        "          self.heap[parent] = self.heap[child]# 내가 현재 내려갈 곳의 위치를 child. parent와 교환 반복\n",
        "          parent = child\n",
        "          child *= 2 # 왼쪽 자식을 기준으로 삼음. 왼쪽 자식의 인덱스는 부모 인덱스의 * 2 이다\n",
        "      self.heap[parent] = last\n",
        "      self.heap.pop(-1)\n",
        "      return hroot\n"
      ],
      "metadata": {
        "id": "nq_kNkzZMrLt"
      },
      "execution_count": 1,
      "outputs": []
    },
    {
      "cell_type": "code",
      "source": [
        "# 최소 힙 구현 (최대힙 구현에서 부호만 바꿈)\n",
        "class minHeap:\n",
        "  def __init__(self):\n",
        "    self.heap = [] \n",
        "    self.heap.append(0) \n",
        "  def size(self):\n",
        "    return len(self.heap) - 1\n",
        "  def isEmpty(self):\n",
        "    return self.size() == 0\n",
        "  def parent (self,i): return self.heap[i // 2] # 위의 배열 인덱스 위치 공식\n",
        "  def left (self, i): return self.heap[i * 2]\n",
        "  def right (self, i): return self.heap[i * 2 + 1]\n",
        "  def display(self,msg='heap tree: '): print(msg, self.heap[1:]) \n",
        "  def insert (self,n):\n",
        "    self.heap.append(n)\n",
        "    i =  self.size() \n",
        "    while (i != 1 and n < self.parent(i)): # 부모노드 값이 더 클 경우 교환\n",
        "      self.heap[i] = self.parent(i)\n",
        "      i = i // 2 \n",
        "    self.heap[i] = n \n",
        "  def delete (self): \n",
        "    parent = 1\n",
        "    child = 2\n",
        "    if not self.isEmpty():\n",
        "      hroot = self.heap[1] \n",
        "      last = self.heap[self.size()] \n",
        "      while (child <=  self.size()):\n",
        "        if child < self.size() and self.left(parent) > self.right(parent): \n",
        "          child +=1\n",
        "          if last <=  self.heap[child]:# 부호 변경\n",
        "           break;\n",
        "          self.heap[parent] = self.heap[child]\n",
        "          parent = child\n",
        "          child *= 2 # 왼쪽 자식을 기준으로\n",
        "      self.heap[parent] = last\n",
        "      self.heap.pop(-1)\n",
        "      return hroot"
      ],
      "metadata": {
        "id": "eEUPFcMaSe-Q"
      },
      "execution_count": 2,
      "outputs": []
    }
  ]
}