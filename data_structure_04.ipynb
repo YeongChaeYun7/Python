{
  "nbformat": 4,
  "nbformat_minor": 0,
  "metadata": {
    "colab": {
      "name": "data_structure_04.ipynb",
      "provenance": [],
      "collapsed_sections": [],
      "authorship_tag": "ABX9TyM6k8yDWNxAWZ/lGwIdOT/b"
    },
    "kernelspec": {
      "name": "python3",
      "display_name": "Python 3"
    },
    "language_info": {
      "name": "python"
    }
  },
  "cells": [
    {
      "cell_type": "markdown",
      "source": [
        "# stack\n",
        "\n",
        "후입선출(LIFO) 형태의 자료구조\n",
        "\n",
        "스택 상단으로만 삽입, 삭제가 가능한 구조\n",
        "\n",
        "상단의 위치는 리스트의 맨 앞 또는 맨 뒤를 사용할 수 있음\n",
        "\n",
        "입출력의 제한으로 리스트에 비해 연산과정 간단"
      ],
      "metadata": {
        "id": "1p7XCQGdZr6m"
      }
    },
    {
      "cell_type": "code",
      "source": [
        "# Stack ADT 구현\n",
        "class Stack:\n",
        "  def __init__(self):\n",
        "    self.stack = []\n",
        "\n",
        "  def isEmpty(self):\n",
        "      if len(self.stack) == 0:\n",
        "        return True\n",
        "      else:\n",
        "        return False\n",
        "      \n",
        "  def push(self,e):\n",
        "    self.stack.append(e)\n",
        "    print('stack에 \\'%s\\' 추가'%e)\n",
        " \n",
        "  def pop (self):\n",
        "    if self.isEmpty() == True:\n",
        "      print('스택이 비어있음')\n",
        "    else:\n",
        "      self.stack.pop(-1)\n",
        "\n",
        "  def peek (self):\n",
        "      if self.isEmpty() == True:\n",
        "        print('스택이 비어있음')\n",
        "      else:\n",
        "        return self.stack[-1]\n",
        "\n",
        "  def size(self):\n",
        "      count = len(self.stack)\n",
        "      print('stack 항목의 개수는 %s개'%count)\n",
        "\n",
        "  def clear(self):\n",
        "    self.stack=[]\n",
        "    print('stack 비움')\n"
      ],
      "metadata": {
        "id": "wULAyuljKnI3"
      },
      "execution_count": null,
      "outputs": []
    },
    {
      "cell_type": "code",
      "source": [
        "s = Stack()\n",
        "print(s.isEmpty())\n",
        "s.push(5)\n",
        "s.size()\n",
        "print(s.isEmpty())\n",
        "s.peek()\n",
        "s.clear()\n",
        "s.pop()"
      ],
      "metadata": {
        "colab": {
          "base_uri": "https://localhost:8080/"
        },
        "id": "OtHZXZm8NlkX",
        "outputId": "2338160b-1609-4550-924e-54c07f2b6153"
      },
      "execution_count": null,
      "outputs": [
        {
          "output_type": "stream",
          "name": "stdout",
          "text": [
            "True\n",
            "stack에 '5' 추가\n",
            "stack 항목의 개수는 1개\n",
            "False\n",
            "stack 비움\n",
            "스택이 비어있음\n"
          ]
        }
      ]
    },
    {
      "cell_type": "markdown",
      "source": [
        "- 스택 응용 - 소스코드 검사 코드(괄호 닫기)"
      ],
      "metadata": {
        "id": "yq-gT3SVlv73"
      }
    },
    {
      "cell_type": "code",
      "source": [
        "def checkBrackets(formula):\n",
        "    s = Stack()\n",
        "    for i in formula:\t\t    \n",
        "        if i in ('{', '[', '('):\t\n",
        "            s.push(i)\n",
        "        elif i in ('}', ']', ')'):\n",
        "          if (i == \"}\" and s.peek ==\"{\") or \\\n",
        "            (i == \"]\" and s.peek ==\"[\") or \\\n",
        "            (i == \")\" and s.peek ==\"(\"):\n",
        "            s.pop()\n",
        "          else:\n",
        "            print('괄호\\'%s\\'와 대응되는 괄호 없음'%i)\t\n",
        "                            \n",
        "\n",
        "    if s.isEmpty:\n",
        "      print('모든 괄호가 대응됨')\n",
        "    elif s.isEmpty== False:\n",
        "      print('괄호\\'%s\\'와 대응되는 괄호 없음!'%s.pop())\n",
        "\n",
        "str = ( \"{ A[(i+1)] = 0; }\", \"if( (i==0) && (j==0 )\", \"A[ (i+1] ) = 0;\" )\n",
        "for s in str:\n",
        "    m = checkBrackets(s)\n",
        "    print(s,\" : \", m)"
      ],
      "metadata": {
        "colab": {
          "base_uri": "https://localhost:8080/"
        },
        "id": "4ZM8aNbCa7Qb",
        "outputId": "1da887b0-c596-48af-f0e0-082f38f25727"
      },
      "execution_count": null,
      "outputs": [
        {
          "output_type": "stream",
          "name": "stdout",
          "text": [
            "stack에 '{' 추가\n",
            "stack에 '[' 추가\n",
            "stack에 '(' 추가\n",
            "괄호')'와 대응되는 괄호 없음\n",
            "괄호']'와 대응되는 괄호 없음\n",
            "괄호'}'와 대응되는 괄호 없음\n",
            "모든 괄호가 대응됨\n",
            "{ A[(i+1)] = 0; }  :  None\n",
            "stack에 '(' 추가\n",
            "stack에 '(' 추가\n",
            "괄호')'와 대응되는 괄호 없음\n",
            "stack에 '(' 추가\n",
            "괄호')'와 대응되는 괄호 없음\n",
            "모든 괄호가 대응됨\n",
            "if( (i==0) && (j==0 )  :  None\n",
            "stack에 '[' 추가\n",
            "stack에 '(' 추가\n",
            "괄호']'와 대응되는 괄호 없음\n",
            "괄호')'와 대응되는 괄호 없음\n",
            "모든 괄호가 대응됨\n",
            "A[ (i+1] ) = 0;  :  None\n"
          ]
        }
      ]
    },
    {
      "cell_type": "markdown",
      "source": [
        "- 스택 응용 - 계산기 프로그램(수식 계산 과정)\n",
        "\n",
        "일반적으로 많이 쓰이는 중위방식 식을 후위호 변경하여 계산"
      ],
      "metadata": {
        "id": "krkvsKhGcmFU"
      }
    },
    {
      "cell_type": "code",
      "source": [
        "class _Stack:\n",
        "    def __init__( self ):   \n",
        "        self.top = []       \n",
        "\n",
        "\n",
        "    def isEmpty( self ): return len(self.top) == 0\n",
        "    def size( self ): return len(self.top)\n",
        "    def clear( self ): self.top = []\t\n",
        "\n",
        "    def push( self, item ):\n",
        "        self.top.append(item)\n",
        "\n",
        "    def pop( self ):\n",
        "        if not self.isEmpty():\n",
        "            return self.top.pop(-1)\n",
        "\n",
        "    def peek( self ):\n",
        "        if not self.isEmpty():\n",
        "            return self.top[-1]\n",
        "\n",
        "    def __str__(self ):\n",
        "        return str(self.top[::-1])"
      ],
      "metadata": {
        "id": "B5R1BgoNvM78"
      },
      "execution_count": null,
      "outputs": []
    },
    {
      "cell_type": "code",
      "source": [
        "#연산자 우선순위 부여\n",
        "def precedence(op):\t\t\t        \n",
        "    if   op == '(' or op== ')' :\n",
        "        return 0\t\n",
        "    elif op=='+' or op=='-' :\n",
        "        return 1\t\n",
        "    elif op=='*' or op=='/' :\n",
        "        return 2\t\n",
        "    else :\n",
        "        return -1"
      ],
      "metadata": {
        "id": "PDL9Dk_dynhe"
      },
      "execution_count": null,
      "outputs": []
    },
    {
      "cell_type": "code",
      "source": [
        "def change(formula): #중위표기식->후기표기식\n",
        "  s = _Stack()#연산자 저장용\n",
        "  res = [] \n",
        "  for i in formula:\n",
        "      '''\n",
        "      f = formula.index('(')  # 괄호 안의 식 스택에 저장\n",
        "      print(f)\n",
        "      l = formula.index(')')\n",
        "      for i in formula[f+1:l]:\n",
        "        s.push(i)\n",
        "        res.append(formula[f+1:l])\n",
        "      '''\n",
        "      if i in '(': \n",
        "        s.push('(')\n",
        "      elif i in ')':\n",
        "        while not s.isEmpty():# 스택이 비어있지 않으면 실행\n",
        "          op = s.pop()\n",
        "          if op =='(': break;\n",
        "          else:\n",
        "            res.append(op)\n",
        "      if i in ('+','-','/','*'):#연산자\n",
        "        while not s.isEmpty():\n",
        "          op = s.peek()\n",
        "          if( precedence(i) <= precedence(op)):\n",
        "            res.append(op)\n",
        "            s.pop()#스택 내용물을 우선 순위 따라 res에 저장하고 제거\n",
        "          else:\n",
        "            break\n",
        "        s.push(i)\n",
        "      else :\t\t\t\t    \n",
        "          res.append(i)\n",
        "\n",
        "  while not s.isEmpty() :\t\t# 괄호 빼기\n",
        "      res.append(s.pop())\t\n",
        "  for i in res:\n",
        "    if i in ('(' ,')'): \n",
        "      res.remove(i)\t\n",
        "\n",
        "  return res"
      ],
      "metadata": {
        "id": "kmozZnw9iCRx"
      },
      "execution_count": null,
      "outputs": []
    },
    {
      "cell_type": "code",
      "source": [
        "def cal(formula): # 후위 계산식 연산\n",
        "    s = _Stack()\t\t\t       \n",
        "    for i in formula :\n",
        "      if i in ('+','-','/','*') :\t\n",
        "          #val1 = s.pop(); print(val1);\n",
        "          #val2 = s.pop(); print(val2);\n",
        "          #val1 = int(val1);  val2 = int(val2)\n",
        "          val1 = float(s.pop())\n",
        "          val2 = float(s.pop())\n",
        "          if (i == '+'):\n",
        "               s.push(val1 + val2)\t\n",
        "          elif (i == '-'):\n",
        "               s.push(val1 - val2)\n",
        "          elif (i == '*'):\n",
        "               s.push(val1 * val2)\n",
        "          elif (i == '/'):\n",
        "               s.push(val1 / val2)\n",
        "      else :\t\t\t\t        \n",
        "          s.push(int(i))\n",
        "\n",
        "    return s.pop()\t\n",
        "    # 숫자를 스택에 저장하다가 연산기호를 만나면, 가장 앞의 숫자 2개를 연산하여 저장\n",
        "    # 마지막으로 들어간 숫자 2개씩 꺼내 계산하면, 최종적으로 남은 값이 연산 결과값"
      ],
      "metadata": {
        "id": "Ams_3SnEiEru"
      },
      "execution_count": null,
      "outputs": []
    },
    {
      "cell_type": "code",
      "source": [
        "f = [ '8', '/', '2', '-', '3', '+', '(','3', '*', '2',')']\n",
        "print('  중위표기: ', f)\n",
        "a = change(f)\n",
        "print('  후위표기: ', a) #82/3-32*+ / ['8','2','/','3','-','3','2','*','+']\n",
        "b = cal(a) \n",
        "print('  계산결과: ', b )"
      ],
      "metadata": {
        "colab": {
          "base_uri": "https://localhost:8080/"
        },
        "outputId": "965527b5-cbf9-469a-8a4b-51917300beca",
        "id": "9Ci5oZtTiK5M"
      },
      "execution_count": null,
      "outputs": [
        {
          "output_type": "stream",
          "name": "stdout",
          "text": [
            "  중위표기:  ['8', '/', '2', '-', '3', '+', '(', '3', '*', '2', ')']\n",
            "  후위표기:  ['8', '2', '/', '3', '-', '3', '2', '*', '+']\n",
            "  계산결과:  8.75\n"
          ]
        }
      ]
    }
  ]
}