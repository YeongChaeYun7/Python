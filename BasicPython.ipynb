{
  "nbformat": 4,
  "nbformat_minor": 0,
  "metadata": {
    "colab": {
      "name": "BasicPython.ipynb",
      "provenance": [],
      "collapsed_sections": [],
      "toc_visible": true,
      "authorship_tag": "ABX9TyOv5xkpELaThVni6HXOIgm+"
    },
    "kernelspec": {
      "name": "python3",
      "display_name": "Python 3"
    },
    "language_info": {
      "name": "python"
    }
  },
  "cells": [
    {
      "cell_type": "markdown",
      "source": [
        "# 문자열 자료형"
      ],
      "metadata": {
        "id": "j17mvFSAkiib"
      }
    },
    {
      "cell_type": "code",
      "execution_count": null,
      "metadata": {
        "id": "EH99FTmY9j-I",
        "colab": {
          "base_uri": "https://localhost:8080/"
        },
        "outputId": "f59d712b-a7a8-4493-dcff-5685b0dc6e1d"
      },
      "outputs": [
        {
          "output_type": "stream",
          "name": "stdout",
          "text": [
            "==================================================\n",
            "My Program\n",
            "==================================================\n"
          ]
        }
      ],
      "source": [
        "#문자열 곱하기\n",
        "print(\"=\"*50)\n",
        "print(\"My Program\")\n",
        "print(\"=\"*50)"
      ]
    },
    {
      "cell_type": "code",
      "source": [
        "#문자열 길이 구하기, len함수\n",
        "a=\"life is too short, you need Python\"\n",
        "print(len(a))\n",
        "#문자열 인덱싱\n",
        "print(a[3])\n",
        "#(-)뒤에서부터 읽기\n",
        "print(a[-1])"
      ],
      "metadata": {
        "colab": {
          "base_uri": "https://localhost:8080/"
        },
        "id": "3p86-Ego-ZkV",
        "outputId": "c7f1d109-1648-4bd9-e258-bbdd50d6133c"
      },
      "execution_count": null,
      "outputs": [
        {
          "output_type": "stream",
          "name": "stdout",
          "text": [
            "34\n",
            "e\n",
            "n\n"
          ]
        }
      ]
    },
    {
      "cell_type": "code",
      "source": [
        "#문자열 슬라이싱 [시작:끝+1 번호]\n",
        "a=\"life is too short, you need Python\"\n",
        "b=a[0]+a[1]+a[2]+a[3]\n",
        "print(b)\n",
        "print(a[0:4])\n",
        "print(a[5:7])\n",
        "print(a[:])\n",
        "#슬라이싱으로 문자열 나누기\n",
        "a=\"20010331Rainy\"\n",
        "year=a[:4]\n",
        "date=a[4:8]\n",
        "weather=a[8:]\n",
        "print(year)\n",
        "print(date)\n",
        "print(weather)"
      ],
      "metadata": {
        "colab": {
          "base_uri": "https://localhost:8080/"
        },
        "id": "S02uFklO-h8j",
        "outputId": "a1750d2f-9fd6-4ebc-b701-c3a3f51c4758"
      },
      "execution_count": null,
      "outputs": [
        {
          "output_type": "stream",
          "name": "stdout",
          "text": [
            "life\n",
            "life\n",
            "is\n",
            "life is too short, you need Python\n",
            "2001\n",
            "0331\n",
            "Rainy\n"
          ]
        }
      ]
    },
    {
      "cell_type": "code",
      "source": [
        "#문자열 문자변경/아이템 변경 불가능\n",
        "a=\"Pithon\"\n",
        "a[:1]+'y'+a[2:]"
      ],
      "metadata": {
        "colab": {
          "base_uri": "https://localhost:8080/",
          "height": 36
        },
        "id": "XF8cpgpf-kof",
        "outputId": "bdb32212-3b73-4be1-9f34-2c92fc2bf127"
      },
      "execution_count": null,
      "outputs": [
        {
          "output_type": "execute_result",
          "data": {
            "text/plain": [
              "'Python'"
            ],
            "application/vnd.google.colaboratory.intrinsic+json": {
              "type": "string"
            }
          },
          "metadata": {},
          "execution_count": 14
        }
      ]
    },
    {
      "cell_type": "code",
      "source": [
        "#문자열 포매팅. 문자열 안에 값 삽입\n",
        "#숫자 대입. 문자열 안에 정수 5 대입 / 문자열 포맷코드 %d\n",
        "print(\"I eat %d apples.\"%5)\n",
        "\n",
        "#숫자값을 나타내는 변수 대입\n",
        "number = 5\n",
        "print(\"I eat %d apples.\"%number)\n",
        "\n",
        "#문자열 대입 / 문자열 포맷코드 %s\n",
        "print(\"I eat %s apples.\"%\"five\")\n",
        "#%s는 어떤 타입이든 문자열로 자동 변환하여 인식\n",
        "print(\"I eat %s apples.\"%5)\n",
        "\n",
        "#2개 이상의 값 넣기\n",
        "day = \"two\"\n",
        "print(\"I ate %d apples. so I was sick for %s days.\"%(number, day))\n",
        "\n",
        "#문자 1개 대입\n",
        "print(\"I eat %c apples.\"%\"오\")\n",
        "\n",
        "#부동소수 대입\n",
        "print(\"I eat %f apples.\"%5)"
      ],
      "metadata": {
        "colab": {
          "base_uri": "https://localhost:8080/"
        },
        "id": "i3ahHQSsJGnp",
        "outputId": "1398d012-f0e0-45cc-d60e-f5c4bdd3606e"
      },
      "execution_count": null,
      "outputs": [
        {
          "output_type": "stream",
          "name": "stdout",
          "text": [
            "I eat 5 apples.\n",
            "I eat 5 apples.\n",
            "I eat five apples.\n",
            "I eat 5 apples.\n",
            "I ate 5 apples. so I was sick for two days.\n",
            "I eat 오 apples.\n",
            "I eat 5.000000 apples.\n"
          ]
        }
      ]
    },
    {
      "cell_type": "code",
      "source": [
        "#포맷 코드와 숫자 함께 사용\n",
        "#길이 10인 문자열 공간에서 오른쪽에 값 정렬, 나머지 공백 처리\n",
        "print(\"Yun %10s\"%\"hi\")\n",
        "\n",
        "#길이 10인 문자열 공간에서 왼쪽에 값 정렬, 나머지 공백 처리\n",
        "print(\"%-10s Yun\"%\"hi\")\n",
        "\n",
        "#소수점 표현. %0.(소수점 뒤 숫자 개수)f\n",
        "print(\"%0.4f\"%3.123456789)\n",
        "\n",
        "#길이 10인 문자열 공간에서 오른쪽에 값 정렬, 나머지 공백 처리\n",
        "print(\"%10.4f\"%3.123456789)"
      ],
      "metadata": {
        "colab": {
          "base_uri": "https://localhost:8080/"
        },
        "id": "6JDnaD6EOEqC",
        "outputId": "738f7450-6f63-490f-d96a-d50b63933dc5"
      },
      "execution_count": null,
      "outputs": [
        {
          "output_type": "stream",
          "name": "stdout",
          "text": [
            "Yun         hi\n",
            "hi         Yun\n",
            "3.1235\n",
            "    3.1235\n"
          ]
        }
      ]
    },
    {
      "cell_type": "code",
      "source": [
        "#format 함수를 사용한  formatting / .format()\n",
        "# 숫자 대입\n",
        "print(\"I eat {0} apples.\".format(5))\n",
        "#숫자값을 가진 변수 대입\n",
        "number = 5\n",
        "print(\"I eat {0} apples.\".format(number))\n",
        "\n",
        "#문자열 대입\n",
        "print(\"I eat {0} apples.\".format(\"five\"))\n",
        "\n",
        "#2개이상의 값 넣기 / 문자열의 인덱스 항복이 순차적으로 변환\n",
        "day = \"two\"\n",
        "print(\"I ate {0} apples. so I was sick for {1} days.\".format(number, day))\n",
        "\n",
        "#이름으로 대입\n",
        "print(\"I ate {a} apples. so I was sick for {b} days.\".format(a=5, b=\"two\"))\n",
        "\n",
        "#인덱스와 이름 혼용해서 대입\n",
        "print(\"I ate {0} apples. so I was sick for {day} days.\".format(5, day=\"2\"))"
      ],
      "metadata": {
        "colab": {
          "base_uri": "https://localhost:8080/"
        },
        "id": "ITN-4BwtJN3r",
        "outputId": "5fdb0749-6795-4396-a7e8-dc6d1c8db063"
      },
      "execution_count": null,
      "outputs": [
        {
          "output_type": "stream",
          "name": "stdout",
          "text": [
            "I eat 5 apples.\n",
            "I eat 5 apples.\n",
            "I eat five apples.\n",
            "I ate 5 apples. so I was sick for two days.\n",
            "I ate 5 apples. so I was sick for two days.\n",
            "I ate 5 apples. so I was sick for 2 days.\n"
          ]
        }
      ]
    },
    {
      "cell_type": "code",
      "source": [
        "#format 함수를 사용한  formatting / .format()\n",
        "#왼쪽 정렬 / ':<10 표현식으로 총 자릿 수10 제한 + 왼쪽 정렬\n",
        "print(\"{0:<10}\".format(\"hi\"))\n",
        "\n",
        "#오른쪽 정렬 / ':>10 표현식으로 총 자릿 수10 제한 + 오른쪽 정렬\n",
        "print(\"{0:>10}\".format(\"hi\"))\n",
        "\n",
        "#가운데 정렬 / ':<10 표현식으로 총 자릿 수10 제한 \n",
        "print(\"{0:^10}\".format(\"hi\"))\n",
        "\n",
        "#공백 채우기\n",
        "print(\"{0:=^10}\".format(\"hi\"))\n",
        "print(\"{0:!<10}\".format(\"hi\"))"
      ],
      "metadata": {
        "colab": {
          "base_uri": "https://localhost:8080/"
        },
        "id": "XzFExS9nSqFZ",
        "outputId": "30e1d8f1-972e-417c-f347-ccd02ab30a13"
      },
      "execution_count": null,
      "outputs": [
        {
          "output_type": "stream",
          "name": "stdout",
          "text": [
            "hi        \n",
            "        hi\n",
            "    hi    \n",
            "====hi====\n",
            "hi!!!!!!!!\n"
          ]
        }
      ]
    },
    {
      "cell_type": "code",
      "source": [
        "#format 함수를 사용한  formatting / .format()\n",
        "#'{'또는'}' 문자 표현\n",
        "#중괄호를 문자 그대로 사용하고 싶은 경우엔 2개 연속 사용\n",
        "\"{{and}}\".format()"
      ],
      "metadata": {
        "colab": {
          "base_uri": "https://localhost:8080/",
          "height": 36
        },
        "id": "4HGBo1ACTtqz",
        "outputId": "965ce444-44ed-4b1d-e932-aa60292675ae"
      },
      "execution_count": null,
      "outputs": [
        {
          "output_type": "execute_result",
          "data": {
            "text/plain": [
              "'{and}'"
            ],
            "application/vnd.google.colaboratory.intrinsic+json": {
              "type": "string"
            }
          },
          "metadata": {},
          "execution_count": 40
        }
      ]
    },
    {
      "cell_type": "code",
      "source": [
        "# f문자열 formatting / Python 3.6 이상부터 가능\n",
        "#문자열 앞에 접두사f 붙여 사용  \n",
        "#변수 값 생성 후, 그 값을 참조 가능, 표현식 지원\n",
        "name = \"홍길동\"\n",
        "age = 25\n",
        "print(f'내 이름은 {name}이고, 나이는 {age}살이다.')\n",
        "print(f'내년에 나는{age+1}살이 된다.')\n",
        "\n",
        "#f문자열 formatting에서 dictionary 활용\n",
        "d={'name':'홍길동','age':25}\n",
        "print(f'내 이름은 {d[\"name\"]}이고, 나이는 {d[\"age\"]}살 이다.')\n",
        "\n",
        "#왼쪽, 오른쪽, 가운데 정렬\n",
        "print(f'{\"hi\":<10}')\n",
        "print(f'{\"hi\":>10}')\n",
        "print(f'{\"hi\":^10}')\n",
        "\n",
        "#소수점 표현\n",
        "y = 3.123456789\n",
        "print(f'{y:0.4f}')\n",
        "print(f'{y:10.4f}')"
      ],
      "metadata": {
        "colab": {
          "base_uri": "https://localhost:8080/"
        },
        "id": "8-Cb1yunYhzi",
        "outputId": "3ab439a0-a4a1-4314-db63-a25f613b4395"
      },
      "execution_count": null,
      "outputs": [
        {
          "output_type": "stream",
          "name": "stdout",
          "text": [
            "내 이름은 홍길동이고, 나이는 25살이다.\n",
            "내년에 나는26살이 된다.\n",
            "내 이름은 홍길동이고, 나이는 25살 이다.\n",
            "hi        \n",
            "        hi\n",
            "    hi    \n",
            "3.1235\n",
            "    3.1235\n"
          ]
        }
      ]
    },
    {
      "cell_type": "code",
      "source": [
        "#문자열 내장 함수/ 문자열 변수명.함수명\n",
        "#특정 문자 개수 세기(count)\n",
        "a = \"hobby\"\n",
        "print(a.count('b'))\n",
        "\n",
        "#위치 알림(find, index)\n",
        "b = \"Python is best choice\"\n",
        "print(b.find('b')) \n",
        "print(b.find('k')) #찾는 값 없으면 -1 반환\n",
        "print(b.index('o')) #제일 처음 나온 위치 반환\n",
        "#index는 찾는 값 없으면 error. find와 차이점\n",
        "\n",
        "#삽입(join)/ 각각 아이템 사이에 삽입/ list, tuple가능\n",
        "print(\",\".join('abcd'))\n",
        "print(\",\".join(['a','b','c','d']))\n",
        "\n",
        "#대, 소문자 변환(upper, lower)\n",
        "c = \"hi\"\n",
        "print(c.upper())\n",
        "print(c.lower())"
      ],
      "metadata": {
        "colab": {
          "base_uri": "https://localhost:8080/"
        },
        "id": "EKXj-e48eL4Z",
        "outputId": "c7661cd6-4d78-450e-9dca-2e2e15c3518a"
      },
      "execution_count": null,
      "outputs": [
        {
          "output_type": "stream",
          "name": "stdout",
          "text": [
            "2\n",
            "10\n",
            "-1\n",
            "4\n",
            "a,b,c,d\n",
            "a,b,c,d\n",
            "HI\n",
            "hi\n"
          ]
        }
      ]
    },
    {
      "cell_type": "code",
      "source": [
        "#문자열 내장 함수(strip)\n",
        "#공백 지우기(왼쪽, 오른쪽, 양쪽)/ 아이템 사이x, 양 끝의 공백만\n",
        "a = \"     hi     \" \n",
        "b = \"~\"\n",
        "print(a.lstrip() + b)\n",
        "print(a.rstrip() + b)\n",
        "print(a.strip( )+ b)\n",
        "\n",
        "#문자열 변경(replace(바뀌게 될, 바꿀 문자열))\n",
        "c= \"Life is too short\"\n",
        "print(c.replace(\"Life\",\"Time\"))\n",
        "\n",
        "#문자열 나누기(split(구분자))\n",
        "d = \"a : b : c : d\"\n",
        "print(d.split(':')) \n",
        "print(c.split()) #괄호 공백은 공백 기준 나눔"
      ],
      "metadata": {
        "colab": {
          "base_uri": "https://localhost:8080/"
        },
        "id": "GiIx-kyAiak6",
        "outputId": "e32e690c-33ff-4cfa-ce1b-483359a91446"
      },
      "execution_count": null,
      "outputs": [
        {
          "output_type": "stream",
          "name": "stdout",
          "text": [
            "hi     ~\n",
            "     hi~\n",
            "hi~\n",
            "Time is too short\n",
            "['a ', ' b ', ' c ', ' d']\n",
            "['Life', 'is', 'too', 'short']\n"
          ]
        }
      ]
    },
    {
      "cell_type": "markdown",
      "source": [
        "# 리스트 자료형"
      ],
      "metadata": {
        "id": "x_gmIgxKk0dY"
      }
    },
    {
      "cell_type": "code",
      "source": [
        "#List indexing. 3차원 구조\n",
        "a = [1,2,['a','b',['Life','is']]]\n",
        "print(a[2][2][0])"
      ],
      "metadata": {
        "colab": {
          "base_uri": "https://localhost:8080/"
        },
        "id": "N9RXxbYtpcs9",
        "outputId": "3609cf16-ded4-4202-f69b-8ae20aeda181"
      },
      "execution_count": null,
      "outputs": [
        {
          "output_type": "stream",
          "name": "stdout",
          "text": [
            "Life\n"
          ]
        }
      ]
    },
    {
      "cell_type": "code",
      "source": [
        "#List slicing\n",
        "a = [1,2,3,['a','b','c'],4,5]\n",
        "print(a[3][:2])"
      ],
      "metadata": {
        "colab": {
          "base_uri": "https://localhost:8080/"
        },
        "id": "diSYJgk0rVI1",
        "outputId": "1d506659-9fc7-45b2-a98f-be062c09a00d"
      },
      "execution_count": null,
      "outputs": [
        {
          "output_type": "stream",
          "name": "stdout",
          "text": [
            "['a', 'b']\n"
          ]
        }
      ]
    },
    {
      "cell_type": "code",
      "source": [
        "#list 값 수정\n",
        "a = [1,2,3,4,5,6,7]\n",
        "a[2] = 4\n",
        "print(a)\n",
        "\n",
        "#list 요소 삭제(del(객체))\n",
        "del a[:4]\n",
        "print(a)"
      ],
      "metadata": {
        "colab": {
          "base_uri": "https://localhost:8080/"
        },
        "id": "eMSYGWygsAZB",
        "outputId": "dd790716-f07c-485a-e480-c87c807c05d8"
      },
      "execution_count": null,
      "outputs": [
        {
          "output_type": "stream",
          "name": "stdout",
          "text": [
            "[1, 2, 4, 4, 5, 6, 7]\n",
            "[5, 6, 7]\n"
          ]
        }
      ]
    },
    {
      "cell_type": "code",
      "source": [
        "#list 함수\n",
        "a = [1,2,3,4]\n",
        "b = [1,1,2,3,4]\n",
        "c = [4,3,4,1,2]\n",
        "\n",
        "#추가 append()\n",
        "a.append(5) #1개만 추가가능\n",
        "a.append([6,7])\n",
        "\n",
        "#삽입 insert(a,b) a번째에 값b 삽입\n",
        "a.insert(5,[1,2,3])#1개만 추가가능\n",
        "print(a)\n",
        "\n",
        "#제거 remove() 첫번째 값 제거\n",
        "b.remove(1)\n",
        "print(b)\n",
        "\n",
        "#끄집어내기 pop\n",
        "A = b.pop() #값 안넣으면 마지막 값 삭제\n",
        "print(A, b)\n",
        "\n",
        "#정렬 sort(), 뒤집기reverse()\n",
        "c.sort() #\n",
        "c.reverse()\n",
        "print(c)\n",
        "\n",
        "#위치반환 index()/ 값 없으면 error/여러개면 앞의 값 1개 반환\n",
        "print(c.index(4))\n",
        "\n",
        "#위치반환 여러개 filter() 사용\n",
        "def m (A):\n",
        "  return 4==A #fiter() bool값이 있어야 함\n",
        "print(list(filter(m,c)))"
      ],
      "metadata": {
        "colab": {
          "base_uri": "https://localhost:8080/"
        },
        "id": "HvmKJFoLtjYS",
        "outputId": "a597ad52-0915-4146-98f7-2b8252b0c6f2"
      },
      "execution_count": null,
      "outputs": [
        {
          "output_type": "stream",
          "name": "stdout",
          "text": [
            "[1, 2, 3, 4, 5, [1, 2, 3], [6, 7]]\n",
            "[1, 2, 3, 4]\n",
            "4 [1, 2, 3]\n",
            "[4, 4, 3, 2, 1]\n",
            "0\n",
            "[4, 4]\n"
          ]
        }
      ]
    },
    {
      "cell_type": "code",
      "source": [
        "#list 함수\n",
        "#요소 개수 세기count()\n",
        "a = [1,2,3,1]\n",
        "print(a.count(1))\n",
        "\n",
        "#list 확장 extend([x]) / x엔 list만 가능. 여러 값 추가\n",
        "#a list + x list 하나의 list로 확장\n",
        "a.extend([4,5])\n",
        "print(a)"
      ],
      "metadata": {
        "id": "fsHE_CTntAOA",
        "colab": {
          "base_uri": "https://localhost:8080/"
        },
        "outputId": "be823193-504f-4b7c-e1fc-459e67bd7ef3"
      },
      "execution_count": null,
      "outputs": [
        {
          "output_type": "stream",
          "name": "stdout",
          "text": [
            "2\n",
            "[1, 2, 3, 1, 4, 5]\n"
          ]
        }
      ]
    },
    {
      "cell_type": "markdown",
      "source": [
        "# 딕셔너리 자료형"
      ],
      "metadata": {
        "id": "fx_9FFqYk-hj"
      }
    },
    {
      "cell_type": "code",
      "source": [
        "#dictionary\n",
        "#dic 쌍 추가\n",
        "dic = {1:'a'}\n",
        "dic[2] = 'b' #2:'b' 쌍 추가\n",
        "print(dic)\n",
        "dic['key'] = [1,2,3]#'key':[1,2,3] 쌍 추가\n",
        "print(dic)\n",
        "\n",
        "#dic 요소 삭제\n",
        "del dic['key']# 해당 key의 쌍 삭제\n",
        "print(dic)"
      ],
      "metadata": {
        "colab": {
          "base_uri": "https://localhost:8080/"
        },
        "id": "f5BDDdhdsfGf",
        "outputId": "3ffa4f50-3686-4248-c503-f075711dd2e7"
      },
      "execution_count": null,
      "outputs": [
        {
          "output_type": "stream",
          "name": "stdout",
          "text": [
            "{1: 'a', 2: 'b'}\n",
            "{1: 'a', 2: 'b', 'key': [1, 2, 3]}\n",
            "{1: 'a', 2: 'b'}\n"
          ]
        }
      ]
    },
    {
      "cell_type": "code",
      "source": [
        "#dictionary활용\n",
        "#key 사용해 value얻기 \n",
        "#dic변수명[key]\n",
        "score = {'pey':10, 'jin':99}\n",
        "print(score['pey'])#없는 key 요청 시,error\n",
        "\n",
        "#get()\n",
        "print(score.get('pey'))\n",
        "print(score.get('x')) #없는 key 요청 시, None 반환"
      ],
      "metadata": {
        "colab": {
          "base_uri": "https://localhost:8080/"
        },
        "id": "JdNtKL9Fwe-e",
        "outputId": "0d93e77a-25cb-4379-90e9-f47a3b0f2e2e"
      },
      "execution_count": null,
      "outputs": [
        {
          "output_type": "stream",
          "name": "stdout",
          "text": [
            "10\n",
            "10\n",
            "None\n"
          ]
        }
      ]
    },
    {
      "cell_type": "code",
      "source": [
        "#dictionary 주의점\n",
        "#key값 중복 시, 하나 제외 나머지 무시\n",
        "a = {1:'a', 1:'b'} #key 중복\n",
        "print(a)"
      ],
      "metadata": {
        "colab": {
          "base_uri": "https://localhost:8080/"
        },
        "id": "QxCEZUHF1EAc",
        "outputId": "c51d454e-8899-44e2-c915-0ad955bf470b"
      },
      "execution_count": null,
      "outputs": [
        {
          "output_type": "stream",
          "name": "stdout",
          "text": [
            "{1: 'b'}\n"
          ]
        }
      ]
    },
    {
      "cell_type": "code",
      "source": [
        "#dictionary 함수\n",
        "#key 리스트 keys()\n",
        "a = {'name':'pey','phone':'0119933323','birth':'0722'}\n",
        "print(a.keys()) #key만 모아 dict_keys객체 반환\n",
        "print(list(a.keys())) #list로 출력\n",
        "\n",
        "#value 리스트 values()\n",
        "print(a.values())#value만 모아 dict_values객체 반환\n",
        "\n",
        "#key, value 쌍 얻기 items()\n",
        "print(a.items())#쌍을 tuple로 묶은 값 객체 반환 \n",
        "\n",
        "#key; value 쌍 삭제 clear()\n",
        "print(a.clear()) #dictionary 모든 요소 삭제. {}"
      ],
      "metadata": {
        "colab": {
          "base_uri": "https://localhost:8080/"
        },
        "id": "te0EMap61h2K",
        "outputId": "9af575c6-9f0e-447d-f563-4a7b12f500c1"
      },
      "execution_count": null,
      "outputs": [
        {
          "output_type": "stream",
          "name": "stdout",
          "text": [
            "dict_keys(['name', 'phone', 'birth'])\n",
            "['name', 'phone', 'birth']\n",
            "dict_values(['pey', '0119933323', '0722'])\n",
            "dict_items([('name', 'pey'), ('phone', '0119933323'), ('birth', '0722')])\n",
            "None\n"
          ]
        }
      ]
    },
    {
      "cell_type": "code",
      "source": [
        "#dictionary\n",
        "#key가 dictionary안에 있는지 조사 in\n",
        "a = {'name':'pey','phone':'0119933323','birth':'0722'}\n",
        "print('name' in a)\n",
        "print('x' in a)"
      ],
      "metadata": {
        "colab": {
          "base_uri": "https://localhost:8080/"
        },
        "id": "D4syn-_Y3j0L",
        "outputId": "94bdd2c3-ddec-4922-ff29-5d5bb240607d"
      },
      "execution_count": null,
      "outputs": [
        {
          "output_type": "stream",
          "name": "stdout",
          "text": [
            "True\n",
            "False\n"
          ]
        }
      ]
    },
    {
      "cell_type": "markdown",
      "source": [
        "# 집합 자료형"
      ],
      "metadata": {
        "id": "pbIBisISlD4V"
      }
    },
    {
      "cell_type": "code",
      "source": [
        "#set\n",
        "#순서가 없고 중복을 허용하지 않음\n",
        "s = set(\"Hello\")\n",
        "print(s)\n",
        "\n",
        "#list로 변환 후 인덱싱 가능(tuple도 가능)\n",
        "S = set([1,2,3,3,3])\n",
        "L = list(S)#리스트 변환 선언 없이도 순차 출력? 굳이 해야될까\n",
        "print(S)\n",
        "print(L)"
      ],
      "metadata": {
        "colab": {
          "base_uri": "https://localhost:8080/"
        },
        "id": "1caScMTjlh6x",
        "outputId": "f42205b7-e77f-45ec-9c99-9db3bbb73f91"
      },
      "execution_count": null,
      "outputs": [
        {
          "output_type": "stream",
          "name": "stdout",
          "text": [
            "{'o', 'l', 'H', 'e'}\n",
            "{1, 2, 3}\n",
            "[1, 2, 3]\n"
          ]
        }
      ]
    },
    {
      "cell_type": "code",
      "source": [
        "#set\n",
        "#교집합, 합집합, 차집합구하기\n",
        "a = set([1,2,3,4,5,6])\n",
        "b = set([4,5,6,7,8,9])\n",
        "\n",
        "#교집합\n",
        "print(a&b)\n",
        "print(a.intersection(b))\n",
        "\n",
        "#합집합. 중복값은 하나씩만 표현\n",
        "print(a|b)\n",
        "print(a.union(b))\n",
        "\n",
        "#차집합\n",
        "print(a-b)\n",
        "print(b-a)\n",
        "print(a.difference(b))"
      ],
      "metadata": {
        "colab": {
          "base_uri": "https://localhost:8080/"
        },
        "id": "TTupHglwpK1l",
        "outputId": "bcf77f5b-407a-492d-9d14-32dcc703f0d5"
      },
      "execution_count": null,
      "outputs": [
        {
          "output_type": "stream",
          "name": "stdout",
          "text": [
            "{4, 5, 6}\n",
            "{4, 5, 6}\n",
            "{1, 2, 3, 4, 5, 6, 7, 8, 9}\n",
            "{1, 2, 3, 4, 5, 6, 7, 8, 9}\n",
            "{1, 2, 3}\n",
            "{8, 9, 7}\n",
            "{1, 2, 3}\n"
          ]
        }
      ]
    },
    {
      "cell_type": "code",
      "source": [
        "#set 함수\n",
        "s = set([1,2,3])\n",
        "#값 1개 추가 add\n",
        "s.add(4)\n",
        "print(s)\n",
        "\n",
        "#값 여러개 추가하기 update\n",
        "s.update([4,5,6])\n",
        "print(s)\n",
        "\n",
        "#특정 값 제거 remove\n",
        "s.remove(4)\n",
        "print(s)"
      ],
      "metadata": {
        "colab": {
          "base_uri": "https://localhost:8080/"
        },
        "id": "lbPQAgDaqxDl",
        "outputId": "4b49d826-cfb9-40c3-8b70-cc14359c1972"
      },
      "execution_count": null,
      "outputs": [
        {
          "output_type": "stream",
          "name": "stdout",
          "text": [
            "{1, 2, 3, 4}\n",
            "{1, 2, 3, 4, 5, 6}\n",
            "{1, 2, 3, 5, 6}\n"
          ]
        }
      ]
    },
    {
      "cell_type": "markdown",
      "source": [
        "# bool 자료형"
      ],
      "metadata": {
        "id": "LSniPcwslO4y"
      }
    },
    {
      "cell_type": "code",
      "source": [
        "#bool자료형 지정, 자료형 확인\n",
        "a = True\n",
        "b = False\n",
        "print(type(a))\n",
        "print(type(b))\n",
        "\n",
        "#조건문의 반환값으로 사용되는 bool\n",
        "1 == 1"
      ],
      "metadata": {
        "colab": {
          "base_uri": "https://localhost:8080/"
        },
        "id": "uJJ8l5YNqycb",
        "outputId": "bf8e03d5-3c7c-454a-8f5b-f1a66314994f"
      },
      "execution_count": null,
      "outputs": [
        {
          "output_type": "stream",
          "name": "stdout",
          "text": [
            "<class 'bool'>\n",
            "<class 'bool'>\n"
          ]
        },
        {
          "output_type": "execute_result",
          "data": {
            "text/plain": [
              "True"
            ]
          },
          "metadata": {},
          "execution_count": 27
        }
      ]
    },
    {
      "cell_type": "markdown",
      "source": [
        "# 변수, 자료형의 값을 저장하는 공간"
      ],
      "metadata": {
        "id": "UnKoLCaElY8P"
      }
    },
    {
      "cell_type": "code",
      "source": [
        "#변수 복사\n",
        "#같은 주소로 복사\n",
        "a = [1,0,3]\n",
        "b = a\n",
        "print(a)\n",
        "print(b)\n",
        "a[1]= 2\n",
        "print(a)\n",
        "print(b)"
      ],
      "metadata": {
        "id": "20-Nq4BAwPFc",
        "colab": {
          "base_uri": "https://localhost:8080/"
        },
        "outputId": "599fb2d4-bbef-4173-8120-24f4cbb6178d"
      },
      "execution_count": null,
      "outputs": [
        {
          "output_type": "stream",
          "name": "stdout",
          "text": [
            "[1, 0, 3]\n",
            "[1, 0, 3]\n",
            "[1, 2, 3]\n",
            "[1, 2, 3]\n"
          ]
        }
      ]
    },
    {
      "cell_type": "code",
      "source": [
        "#다른 주소 값을 가지는 변수 복사\n",
        "#리스트 전체를 가리키는 [:]사용\n",
        "a = [1,2,3]\n",
        "b = a[:]\n",
        "print(b)\n",
        "print(b is a)\n",
        "\n",
        "#copy 모듈 이용\n",
        "c = a.copy()\n",
        "print(c)\n",
        "from copy import copy\n",
        "d = copy(a) # d = a[:]와 동일\n",
        "print(d)\n",
        "print(c is a)\n",
        "print(d is a)"
      ],
      "metadata": {
        "colab": {
          "base_uri": "https://localhost:8080/"
        },
        "id": "59YS5_vRXGlj",
        "outputId": "3c605375-4a17-4629-fe7e-c6a38f691655"
      },
      "execution_count": null,
      "outputs": [
        {
          "output_type": "stream",
          "name": "stdout",
          "text": [
            "[1, 2, 3]\n",
            "False\n",
            "[1, 2, 3]\n",
            "[1, 2, 3]\n",
            "False\n",
            "False\n"
          ]
        }
      ]
    },
    {
      "cell_type": "markdown",
      "source": [
        "# if 제어문"
      ],
      "metadata": {
        "id": "OgY96tO7lo7J"
      }
    },
    {
      "cell_type": "code",
      "source": [
        "#if문\n",
        "money = 2000\n",
        "card = True\n",
        "if money >= 3000 or card:\n",
        "  print('택시를 타고 가라')\n",
        "else:\n",
        "    print('걸어 가라')"
      ],
      "metadata": {
        "id": "Aa1ONU7oln5M",
        "colab": {
          "base_uri": "https://localhost:8080/"
        },
        "outputId": "7ec79231-0b7e-480a-e389-4eb6682d625b"
      },
      "execution_count": null,
      "outputs": [
        {
          "output_type": "stream",
          "name": "stdout",
          "text": [
            "택시를 타고 가라\n"
          ]
        }
      ]
    },
    {
      "cell_type": "code",
      "source": [
        "#if문. pass(빈 명령문)\n",
        "pocket = ['paper','cellphon','money']\n",
        "if 'card' not in pocket:\n",
        "  pass #아무런 작업 수행 없음\n",
        "else:\n",
        "  print('택시를 타고 가라')"
      ],
      "metadata": {
        "id": "i5eNBV6E-_tD"
      },
      "execution_count": null,
      "outputs": []
    },
    {
      "cell_type": "code",
      "source": [
        "#if문 조건부 표현식\n",
        "score = 55\n",
        "if score >= 60:\n",
        "  message = \"success\"\n",
        "else:\n",
        "  message = \"failure\"\n",
        "\n",
        "massage = \"success\" if score >= 60 else \"failure\""
      ],
      "metadata": {
        "id": "_ysJnroO_IRD"
      },
      "execution_count": null,
      "outputs": []
    },
    {
      "cell_type": "markdown",
      "source": [
        "# while 제어문(continue, break)"
      ],
      "metadata": {
        "id": "o3OH0mCvl1wl"
      }
    },
    {
      "cell_type": "code",
      "source": [
        "#while문\n",
        "treeHit = 0\n",
        "while treeHit <10:\n",
        "  treeHit += 1\n",
        "  print(\"나무를 %d번 찍었습니다\"%treeHit) \n",
        "  if treeHit == 10:\n",
        "    print(\"나무가 넘어갔습니다\")"
      ],
      "metadata": {
        "colab": {
          "base_uri": "https://localhost:8080/"
        },
        "id": "DSgBAvT3_Bfq",
        "outputId": "faa74122-14b5-481c-af39-6441ecc4d2bf"
      },
      "execution_count": null,
      "outputs": [
        {
          "output_type": "stream",
          "name": "stdout",
          "text": [
            "나무를 1번 찍었습니다\n",
            "나무를 2번 찍었습니다\n",
            "나무를 3번 찍었습니다\n",
            "나무를 4번 찍었습니다\n",
            "나무를 5번 찍었습니다\n",
            "나무를 6번 찍었습니다\n",
            "나무를 7번 찍었습니다\n",
            "나무를 8번 찍었습니다\n",
            "나무를 9번 찍었습니다\n",
            "나무를 10번 찍었습니다\n",
            "나무가 넘어갔습니다\n"
          ]
        }
      ]
    },
    {
      "cell_type": "code",
      "source": [
        "#while문. 여러가지 선택지 중 하나를 선택해 입력받기\n",
        "prompt = '''\n",
        "  1. Add\n",
        "  2. Del\n",
        "  3. List\n",
        "  4. Quit\n",
        "Enter number: '''\n",
        "number = 0 #바로 인풋?\n",
        "while number != 4:\n",
        "  print(prompt)\n",
        "  number = int(input())\n",
        "  #4입력하면 조건문이 거짓이되에 While문 빠져나감 "
      ],
      "metadata": {
        "colab": {
          "base_uri": "https://localhost:8080/"
        },
        "id": "GlqswCWV_Oi_",
        "outputId": "8f5dc71f-787e-40e3-81c2-e78ff62e0ab5"
      },
      "execution_count": null,
      "outputs": [
        {
          "name": "stdout",
          "output_type": "stream",
          "text": [
            "\n",
            "  1. Add\n",
            "  2. Del\n",
            "  3. List\n",
            "  4. Quit\n",
            "Enter number: \n",
            "4\n"
          ]
        }
      ]
    },
    {
      "cell_type": "code",
      "source": [
        "#break문. while문 강제로 빠져 나가기\n",
        "coffee = 10\n",
        "money = 100 #항상 참\n",
        "while money:\n",
        "  print(\"돈을 받고 커피 제공\")\n",
        "  coffee -= 1\n",
        "  print(\"커피 재고 %d개\"%coffee)\n",
        "  print()\n",
        "  if coffee == 0:\n",
        "    print(\"커피 재고 부족. 판매중지\")\n",
        "    break"
      ],
      "metadata": {
        "colab": {
          "base_uri": "https://localhost:8080/"
        },
        "id": "pOQsGNke_Qt6",
        "outputId": "7b2e23cc-ba4b-4e53-e430-6421ed1860d5"
      },
      "execution_count": null,
      "outputs": [
        {
          "output_type": "stream",
          "name": "stdout",
          "text": [
            "돈을 받고 커피 제공\n",
            "커피 재고 9개\n",
            "\n",
            "돈을 받고 커피 제공\n",
            "커피 재고 8개\n",
            "\n",
            "돈을 받고 커피 제공\n",
            "커피 재고 7개\n",
            "\n",
            "돈을 받고 커피 제공\n",
            "커피 재고 6개\n",
            "\n",
            "돈을 받고 커피 제공\n",
            "커피 재고 5개\n",
            "\n",
            "돈을 받고 커피 제공\n",
            "커피 재고 4개\n",
            "\n",
            "돈을 받고 커피 제공\n",
            "커피 재고 3개\n",
            "\n",
            "돈을 받고 커피 제공\n",
            "커피 재고 2개\n",
            "\n",
            "돈을 받고 커피 제공\n",
            "커피 재고 1개\n",
            "\n",
            "돈을 받고 커피 제공\n",
            "커피 재고 0개\n",
            "\n",
            "커피 재고 부족. 판매중지\n"
          ]
        }
      ]
    },
    {
      "cell_type": "code",
      "source": [
        "#continue\n",
        "#1부터 10까지 홀수만 출력\n",
        "a = 0\n",
        "while a <10:\n",
        "  a += 1\n",
        "  if a % 2 == 0: \n",
        "    continue\n",
        "  print(a)"
      ],
      "metadata": {
        "colab": {
          "base_uri": "https://localhost:8080/"
        },
        "id": "IWK6bWaf_TJl",
        "outputId": "7850aa27-26bb-478e-fff3-5a7019861f4f"
      },
      "execution_count": null,
      "outputs": [
        {
          "output_type": "stream",
          "name": "stdout",
          "text": [
            "1\n",
            "3\n",
            "5\n",
            "7\n",
            "9\n"
          ]
        }
      ]
    },
    {
      "cell_type": "code",
      "source": [
        "#while문 무한루프\n",
        "#while True:\n",
        "  print(\"Ctrl + C를 눌러야 while문을 빠져나갈 수 있습니다\")"
      ],
      "metadata": {
        "colab": {
          "base_uri": "https://localhost:8080/",
          "height": 138
        },
        "id": "9R4JLf9R_V9b",
        "outputId": "5a10edac-eccb-4454-fdfc-f774e889f891"
      },
      "execution_count": null,
      "outputs": [
        {
          "output_type": "error",
          "ename": "IndentationError",
          "evalue": "ignored",
          "traceback": [
            "\u001b[0;36m  File \u001b[0;32m\"<ipython-input-7-fed9c140594b>\"\u001b[0;36m, line \u001b[0;32m3\u001b[0m\n\u001b[0;31m    print(\"Ctrl + C를 눌러야 while문을 빠져나갈 수 있습니다\")\u001b[0m\n\u001b[0m    ^\u001b[0m\n\u001b[0;31mIndentationError\u001b[0m\u001b[0;31m:\u001b[0m unexpected indent\n"
          ]
        }
      ]
    },
    {
      "cell_type": "markdown",
      "source": [
        "# for 제어문"
      ],
      "metadata": {
        "id": "2urPyr7GmECi"
      }
    },
    {
      "cell_type": "code",
      "source": [
        "#for문. for 변수 in list\n",
        "test_list = ['one','two','three']\n",
        "for i in test_list:\n",
        "  print(i)\n",
        "\n",
        "  a = [(1,2),(3,4),(5,6)]\n",
        "  for(first, last)in a:\n",
        "    print(first + last)"
      ],
      "metadata": {
        "id": "CeHKeXWX_ZJB"
      },
      "execution_count": null,
      "outputs": []
    },
    {
      "cell_type": "code",
      "source": [
        "#for문. 학생 5명의 시험점수 판별. 60점이상 합격\n",
        "marks = [90,27,67,45,80]\n",
        "number = 0\n",
        "for mark in marks:\n",
        "  number += 1\n",
        "  if mark >= 60:\n",
        "    print(\"%d번 학생은 시험점수 %d점으로 합격입니다.\"%(number,mark))\n",
        "  else: print(\"%d번 학생은 시험점수 %d점으로 불합격입니다.\"%(number,mark))"
      ],
      "metadata": {
        "colab": {
          "base_uri": "https://localhost:8080/"
        },
        "id": "5B4_IQR9_bI-",
        "outputId": "4509670c-543c-4413-c8f5-f9a19a0708d5"
      },
      "execution_count": null,
      "outputs": [
        {
          "output_type": "stream",
          "name": "stdout",
          "text": [
            "1번 학생은 시험점수 90점으로 합격입니다.\n",
            "2번 학생은 시험점수 27점으로 불합격입니다.\n",
            "3번 학생은 시험점수 67점으로 합격입니다.\n",
            "4번 학생은 시험점수 45점으로 불합격입니다.\n",
            "5번 학생은 시험점수 80점으로 합격입니다.\n"
          ]
        }
      ]
    },
    {
      "cell_type": "code",
      "source": [
        "#for문과 continue\n",
        "marks = [90,27,67,45,80]\n",
        "for mark in marks:\n",
        "  number += 1\n",
        "  if mark < 60:\n",
        "    continue\n",
        "  print(\"%d번 학생은 합격입니다.\"%number)"
      ],
      "metadata": {
        "id": "Qg92Aw3SAZht",
        "colab": {
          "base_uri": "https://localhost:8080/"
        },
        "outputId": "ab7abf1b-825c-4e17-9068-a653f971fe17"
      },
      "execution_count": null,
      "outputs": [
        {
          "output_type": "stream",
          "name": "stdout",
          "text": [
            "11번 학생은 합격입니다.\n",
            "13번 학생은 합격입니다.\n",
            "15번 학생은 합격입니다.\n"
          ]
        }
      ]
    },
    {
      "cell_type": "code",
      "source": [
        "#for문과 range(start,stop,step_size)\n",
        "a = range(10) #0부터 10미만 숫자 리스트 가진 range객체 생성\n",
        "print(a)\n",
        "\n",
        "add = 0\n",
        "for i in range(1,11):\n",
        "  add += i\n",
        "print(add)"
      ],
      "metadata": {
        "colab": {
          "base_uri": "https://localhost:8080/"
        },
        "id": "tuZ_AanSoJxo",
        "outputId": "9501ec03-bc1c-4727-f121-43e1c905d038"
      },
      "execution_count": null,
      "outputs": [
        {
          "output_type": "stream",
          "name": "stdout",
          "text": [
            "range(0, 10)\n",
            "55\n"
          ]
        }
      ]
    },
    {
      "cell_type": "code",
      "source": [
        "#for문과 range이용 구구단\n",
        "for i in range(2,10):\n",
        "  for j in range(1,10):\n",
        "    print(i*j,end=\" \")#end매개변수는 다음 값을 그 줄에 계속 출력\n",
        "  print('') #i 단별로 줄 나누기"
      ],
      "metadata": {
        "id": "YrwlDj7jo7yd",
        "colab": {
          "base_uri": "https://localhost:8080/"
        },
        "outputId": "b2102d88-4a62-4937-cccd-e3f21894d575"
      },
      "execution_count": null,
      "outputs": [
        {
          "output_type": "stream",
          "name": "stdout",
          "text": [
            "2 4 6 8 10 12 14 16 18 \n",
            "3 6 9 12 15 18 21 24 27 \n",
            "4 8 12 16 20 24 28 32 36 \n",
            "5 10 15 20 25 30 35 40 45 \n",
            "6 12 18 24 30 36 42 48 54 \n",
            "7 14 21 28 35 42 49 56 63 \n",
            "8 16 24 32 40 48 56 64 72 \n",
            "9 18 27 36 45 54 63 72 81 \n"
          ]
        }
      ]
    },
    {
      "cell_type": "code",
      "source": [
        "#list안에 for문 내포 list comprehension\n",
        "#기본 for문\n",
        "a = [1,2,3,4]\n",
        "result = []\n",
        "for num in a:\n",
        "  result.append(num*3)\n",
        "print(result)\n",
        "\n",
        "#list안에 for문 내포\n",
        "result = [num*3 for num in a if num % 2 == 0]#if문은 생략가능\n",
        "print(result)"
      ],
      "metadata": {
        "id": "mB-9RAqBoKF8",
        "colab": {
          "base_uri": "https://localhost:8080/"
        },
        "outputId": "52d03afd-567b-4152-d7bf-8891db028cc9"
      },
      "execution_count": null,
      "outputs": [
        {
          "output_type": "stream",
          "name": "stdout",
          "text": [
            "[3, 6, 9, 12]\n",
            "[6, 12]\n"
          ]
        }
      ]
    },
    {
      "cell_type": "code",
      "source": [
        "#list comprehension 구구단\n",
        "r = [i*j for i in range(2,10)\n",
        "        for j in range(1,10)]\n",
        "print(r)"
      ],
      "metadata": {
        "id": "U0o_MSyCJ40m",
        "colab": {
          "base_uri": "https://localhost:8080/"
        },
        "outputId": "57a07ae7-9ccc-4f13-be3e-701761362116"
      },
      "execution_count": null,
      "outputs": [
        {
          "output_type": "stream",
          "name": "stdout",
          "text": [
            "[2, 4, 6, 8, 10, 12, 14, 16, 18, 3, 6, 9, 12, 15, 18, 21, 24, 27, 4, 8, 12, 16, 20, 24, 28, 32, 36, 5, 10, 15, 20, 25, 30, 35, 40, 45, 6, 12, 18, 24, 30, 36, 42, 48, 54, 7, 14, 21, 28, 35, 42, 49, 56, 63, 8, 16, 24, 32, 40, 48, 56, 64, 72, 9, 18, 27, 36, 45, 54, 63, 72, 81]\n"
          ]
        }
      ]
    },
    {
      "cell_type": "markdown",
      "source": [
        "# 함수"
      ],
      "metadata": {
        "id": "u8U_NatAmJV7"
      }
    },
    {
      "cell_type": "code",
      "source": [
        "#함수. def 함수명(매개변수)\n",
        "def add(a,b):\n",
        "  return a + b #결과값은 오로지 return 명령어로만 돌려받음\n",
        "print(add(3,4)) #3,4는 인수. 입력값\n",
        "\n",
        "#결과값이 없는 함수. 함수명(인수1, 인수2. . . )\n",
        "def add(n,m):\n",
        "  print(\"%d,%d의 합은 %d입니다.\"%(a,b,a+b))\n",
        "x = add(3,4)#결과값이 아니라 수행할 문장의 하나\n",
        "print(x) #결과값은 없다\n",
        "\n",
        "#문자열 대입시 입력값 없이 쓰기도 함\n",
        "def say(): \n",
        "  return'Hi'\n",
        "print(say())\n",
        "\n",
        "#입력, 결과값이 모두 없는 함수\n",
        "def act():\n",
        "  print('run')\n",
        "act()"
      ],
      "metadata": {
        "id": "DC9A3HU-AapZ",
        "colab": {
          "base_uri": "https://localhost:8080/"
        },
        "outputId": "ae45f849-33d9-4d16-f3a6-7b797476b339"
      },
      "execution_count": null,
      "outputs": [
        {
          "output_type": "stream",
          "name": "stdout",
          "text": [
            "7\n",
            "3,4의 합은 7입니다.\n",
            "None\n",
            "Hi\n",
            "run\n"
          ]
        }
      ]
    },
    {
      "cell_type": "code",
      "source": [
        "#함수. 매개변수 지정하여 호출\n",
        "def add(a,b):\n",
        "  return a + b\n",
        "result = add(a=3, b=7)\n",
        "print(result)\n",
        "\n",
        "result = add(b=5, a=3)#지정하면 순서 상관없이 입력 가능\n",
        "print(result)"
      ],
      "metadata": {
        "colab": {
          "base_uri": "https://localhost:8080/"
        },
        "id": "pXpjNfoVQ7EZ",
        "outputId": "d40f8be4-f979-4c81-b212-f84128b4e9b1"
      },
      "execution_count": null,
      "outputs": [
        {
          "output_type": "stream",
          "name": "stdout",
          "text": [
            "10\n",
            "8\n"
          ]
        }
      ]
    },
    {
      "cell_type": "code",
      "source": [
        "#함수. 입력값이 몇개가 될 지 모를 때 매개변수에 '*'붙임\n",
        "def many_add(*args):\n",
        "  result = 0\n",
        "  for i in args:\n",
        "    result += i\n",
        "  return result\n",
        "  \n",
        "result = many_add(1,2,3) #함수 호출\n",
        "print(result)"
      ],
      "metadata": {
        "colab": {
          "base_uri": "https://localhost:8080/"
        },
        "id": "FdwVcS14SAF2",
        "outputId": "3da00721-7176-4b49-8b6f-e6bad9e4a204"
      },
      "execution_count": null,
      "outputs": [
        {
          "output_type": "stream",
          "name": "stdout",
          "text": [
            "6\n"
          ]
        }
      ]
    },
    {
      "cell_type": "code",
      "source": [
        "#add_mul 함수. 여러개의 입력 처리\n",
        "def add_mul(choice,*args): \n",
        "  if choice == 'add': #모든 입력값 합산\n",
        "    result = 0\n",
        "    for i in args:\n",
        "      result = result + i\n",
        "  elif choice == 'mul': #모든 입력값 곱함\n",
        "    result = 1\n",
        "    for i in args:\n",
        "      result = result * i\n",
        "  return result\n",
        "\n",
        "result = add_mul('add',1,2,3,4,5)\n",
        "print(result)\n",
        "\n",
        "result = add_mul('mul',1,2,3,4,5)\n",
        "print(result)"
      ],
      "metadata": {
        "colab": {
          "base_uri": "https://localhost:8080/"
        },
        "id": "myJnUzW6SAM7",
        "outputId": "8ddad4d4-c27f-4c2d-a728-f1cb2ca9882d"
      },
      "execution_count": null,
      "outputs": [
        {
          "output_type": "stream",
          "name": "stdout",
          "text": [
            "15\n",
            "120\n"
          ]
        }
      ]
    },
    {
      "cell_type": "code",
      "source": [
        "#키워드 파라미터 kwargs(keyword arguments)\n",
        "#사용 시 매개변수 앞에 **붙여야 함\n",
        "def print_kwargs(**kwargs):\n",
        "  print(kwargs)\n",
        "\n",
        "print_kwargs(a=1)\n",
        "print_kwargs(name='foo',age=3)\n",
        "#딕셔너리로 저장, 출력"
      ],
      "metadata": {
        "id": "pkr2EGXat11H",
        "colab": {
          "base_uri": "https://localhost:8080/"
        },
        "outputId": "b0209713-3822-4954-cc27-a73faaeb6fd3"
      },
      "execution_count": null,
      "outputs": [
        {
          "output_type": "stream",
          "name": "stdout",
          "text": [
            "{'a': 1}\n",
            "{'name': 'foo', 'age': 3}\n"
          ]
        }
      ]
    },
    {
      "cell_type": "code",
      "source": [
        "#함수의 결과값은 언제나 하나\n",
        "def add_and_mul(a,b):\n",
        "  return a+b, a*b\n",
        "\n",
        "result = add_and_mul(3,4)\n",
        "print(result) #함수의 결과값은 2개지만 튜플값 하나인(a+b,a*b)로 출력\n",
        "\n",
        "r1, r2 = add_and_mul(3,4)\n",
        "print(r1) #2개의 결과값처럼 받고싶으면 2개로 나눠 호출\n",
        "print(r2)"
      ],
      "metadata": {
        "colab": {
          "base_uri": "https://localhost:8080/"
        },
        "id": "uBpB2timDf7Z",
        "outputId": "051d53a3-2c4e-4f65-c3ac-760dd0cef6f6"
      },
      "execution_count": null,
      "outputs": [
        {
          "output_type": "stream",
          "name": "stdout",
          "text": [
            "(7, 12)\n",
            "7\n",
            "12\n"
          ]
        }
      ]
    },
    {
      "cell_type": "code",
      "source": [
        "#return 단독 사용으로 함수를 즉시 나갈 수 있음\n",
        "def say_tom(tom):\n",
        "  if tom == '바보':\n",
        "    return #입력값으로 tom이 들어오면 바로 출력 없이 함수 나감\n",
        "  print('나의 별명은 %s 입니다.'%tom)\n",
        "\n",
        "say_tom('Hi')\n",
        "say_tom('tom')"
      ],
      "metadata": {
        "colab": {
          "base_uri": "https://localhost:8080/"
        },
        "id": "_OwPXoXvEolc",
        "outputId": "35a7a7e5-6fd9-42f1-a600-9e480b088a92"
      },
      "execution_count": null,
      "outputs": [
        {
          "output_type": "stream",
          "name": "stdout",
          "text": [
            "나의 별명은 Hi 입니다.\n",
            "나의 별명은 tom 입니다.\n"
          ]
        }
      ]
    },
    {
      "cell_type": "code",
      "source": [
        "#매개변수에 초깃값 미리 설정하여 함수의 인자 전달\n",
        "def say_myself(name, old, man=True): \n",
        "  print('나의 이름은 %s, %d살 입니다.'%(name,old))\n",
        "  if man:\n",
        "    print('남자입니다.')\n",
        "  else:\n",
        "    print('여자입니다.')\n",
        "#3개의 매개변수를 받아 마지막 인수인 man이 True면 '남자입니다.' 출력\n",
        "#man매개변수에 True초깃값이 고정되어서 값이 없으면 True\n",
        "say_myself('홍길동',27)\n",
        "say_myself('홍길동',27, False)"
      ],
      "metadata": {
        "colab": {
          "base_uri": "https://localhost:8080/"
        },
        "id": "w30FguWeDgCQ",
        "outputId": "7c8346a2-e810-4f34-f80f-a3b3f734371a"
      },
      "execution_count": null,
      "outputs": [
        {
          "output_type": "stream",
          "name": "stdout",
          "text": [
            "나의 이름은 홍길동, 27살 입니다.\n",
            "남자입니다.\n",
            "나의 이름은 홍길동, 27살 입니다.\n",
            "여자입니다.\n"
          ]
        }
      ]
    },
    {
      "cell_type": "code",
      "source": [
        "#함수 안에서 선언한 변수의 효력 범위\n",
        "a = 1\n",
        "def vartest(a):\n",
        "  a += 1\n",
        "vartest(a)\n",
        "print(a)\n",
        "#한수안에서 새로 만든 매개변수는 함수 안에서만 사용 가능\n",
        "#함수 안의 a와 밖의 a는 다른 변수"
      ],
      "metadata": {
        "colab": {
          "base_uri": "https://localhost:8080/"
        },
        "id": "gVdvvMttJjE6",
        "outputId": "6b27fe68-f734-4c60-e502-10b12f4a48f2"
      },
      "execution_count": null,
      "outputs": [
        {
          "output_type": "stream",
          "name": "stdout",
          "text": [
            "1\n",
            "None\n"
          ]
        }
      ]
    },
    {
      "cell_type": "code",
      "source": [
        "#함수 안에서 함수 밖의 변수 변경\n",
        "#1. return 사용\n",
        "a = 1\n",
        "def vartest1(b):\n",
        "  b += 1\n",
        "  return b\n",
        "\n",
        "a = vartest1(a)\n",
        "print(a) \n",
        "\n",
        "#2. global 명령어 사용\n",
        "def vartest2():\n",
        "  global a #함수안에서 함수 밖의 a변수를 직접 사용하겠단 뜻\n",
        "  a += 1\n",
        "vartest2()\n",
        "print(a)\n",
        "#변수는 독립적으로 존재하는게 바람직하므로 권장안함"
      ],
      "metadata": {
        "colab": {
          "base_uri": "https://localhost:8080/"
        },
        "id": "Wum6AAAeSKSz",
        "outputId": "c44b7f3d-a53a-46c9-dd15-6b681382338a"
      },
      "execution_count": null,
      "outputs": [
        {
          "output_type": "stream",
          "name": "stdout",
          "text": [
            "2\n",
            "3\n"
          ]
        }
      ]
    },
    {
      "cell_type": "code",
      "source": [
        "#주어진 자연수가 홀수인지, 짝수인지 함수이용 판별.\n",
        "def is_odd(num): #홀수 체크\n",
        "  return num % 2 != 0 #bool값으로 반환\n",
        "\n",
        "def is_even(num): #짝수체크\n",
        "  return num % 2 == 0\n",
        "\n",
        "print(is_odd(input('홀수 체크: '))\n",
        "print(is_odd(input('짝수 체크: '))"
      ],
      "metadata": {
        "id": "hBLksk4cb0Cm"
      },
      "execution_count": null,
      "outputs": []
    },
    {
      "cell_type": "markdown",
      "source": [
        "# Lambda"
      ],
      "metadata": {
        "id": "kuAAKZKjmRKS"
      }
    },
    {
      "cell_type": "code",
      "source": [
        "#lambda 매개변수1,2,3,...: 매개변수이용한 표현식\n",
        "#lambda는 함수를 생성할 때 쓰는 예약어로 def와 역할 동일\n",
        "#return 명령어가 없어도 결과값 돌려줌\n",
        "add = lambda a,b:a+b\n",
        "result = add(3,4)\n",
        "print(result)"
      ],
      "metadata": {
        "colab": {
          "base_uri": "https://localhost:8080/"
        },
        "id": "A6uUzu1lWq6p",
        "outputId": "5a67e250-fd6c-430c-8a61-15df0f6bff55"
      },
      "execution_count": null,
      "outputs": [
        {
          "output_type": "stream",
          "name": "stdout",
          "text": [
            "7\n"
          ]
        }
      ]
    },
    {
      "cell_type": "markdown",
      "source": [
        "# 사용자 입출력"
      ],
      "metadata": {
        "id": "ypT0t9g8mWkI"
      }
    },
    {
      "cell_type": "code",
      "source": [
        "#사용자입력 input. 입력되는 모든 것을 문자열 취급\n",
        "a = input(\"입력 :\")\n",
        "print(a)\n",
        "\n",
        "#값 여러개 받기\n",
        "b = (list(map(int,input().split(' '))))\n",
        "print(b)\n",
        "#space로 값을 구분해 입력, int형으로 받아 list로 출력"
      ],
      "metadata": {
        "colab": {
          "base_uri": "https://localhost:8080/"
        },
        "id": "SNHutn35YmXY",
        "outputId": "037e5ce3-c5cd-42b1-950c-5f5be33d1342"
      },
      "execution_count": null,
      "outputs": [
        {
          "output_type": "stream",
          "name": "stdout",
          "text": [
            "입력 :j\n",
            "j\n",
            "5 6 5 4\n",
            "[5, 6, 5, 4]\n"
          ]
        }
      ]
    },
    {
      "cell_type": "code",
      "source": [
        "#출력 print\n",
        "#큰따옴표(\"\")로 둘러싸인 문자열은 +연산과 동일\n",
        "print(\"Life\"\"is\"\"too\"\"short\")\n",
        "print(\"Life\"+\"is\"+\"too\"+\"short\")\n",
        "\n",
        "#문자열 띄어쓰기는 콤마(,)\n",
        "print(\"Life\",\"is\",\"too\",\"short\")\n",
        "\n",
        "#한 줄에 결과값 출력 end\n",
        "for i in range(10):\n",
        "  print(i, end=' ')"
      ],
      "metadata": {
        "colab": {
          "base_uri": "https://localhost:8080/"
        },
        "id": "Nv6z9wU0Y_e2",
        "outputId": "6038f5fb-bf9a-442a-f7c2-719c30a30939"
      },
      "execution_count": null,
      "outputs": [
        {
          "output_type": "stream",
          "name": "stdout",
          "text": [
            "Lifeistooshort\n",
            "Lifeistooshort\n",
            "Life is too short\n",
            "0 1 2 3 4 5 6 7 8 9 "
          ]
        }
      ]
    },
    {
      "cell_type": "code",
      "source": [
        "#파일 읽고 쓰기"
      ],
      "metadata": {
        "id": "iqHvh2Z4Y_lm"
      },
      "execution_count": null,
      "outputs": []
    }
  ]
}