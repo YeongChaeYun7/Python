{
  "nbformat": 4,
  "nbformat_minor": 0,
  "metadata": {
    "colab": {
      "name": "Python_Practice_dictionary.ipynb",
      "provenance": [],
      "collapsed_sections": [],
      "authorship_tag": "ABX9TyNNHwoaLZIXcPloscvvCPDl"
    },
    "kernelspec": {
      "name": "python3",
      "display_name": "Python 3"
    },
    "language_info": {
      "name": "python"
    }
  },
  "cells": [
    {
      "cell_type": "code",
      "execution_count": 13,
      "metadata": {
        "id": "xEJzmjQwehm3",
        "colab": {
          "base_uri": "https://localhost:8080/"
        },
        "outputId": "cbc3d0f3-17d4-4215-cc48-0d7a4e6860b3"
      },
      "outputs": [
        {
          "output_type": "stream",
          "name": "stdout",
          "text": [
            "0\n",
            "1\n",
            "[2, 3, 4, 5]\n",
            "[8.8, 8.9, 8.7, 9.2, 9.3, 9.7, 9.9, 9.5]\n",
            "[8.9, 8.7, 9.2, 9.3, 9.7, 9.9, 9.5, 7.8]\n",
            "[8.7, 9.2, 9.3, 9.7, 9.9, 9.5, 7.8, 9.4]\n"
          ]
        }
      ],
      "source": [
        "# star expression \n",
        "# 좌우 데이터 개수가 달라도  데이터언패킹 가능\n",
        "a,b,*c = (0,1,2,3,4,5)\n",
        "print(a)\n",
        "print(b)\n",
        "print(c)\n",
        "\n",
        "# star expression 활용. 좌, 우, 중간의 8개 값만 따로 출력\n",
        "scores = [8.8, 8.9, 8.7, 9.2, 9.3, 9.7, 9.9, 9.5, 7.8, 9.4]\n",
        "\n",
        "*valid_score_l, _, _= scores\n",
        "print(valid_score_l)\n",
        "\n",
        "_,*valid_score_m, _= scores\n",
        "print(valid_score_m)\n",
        "\n",
        "_,_,*valid_score_r= scores\n",
        "print(valid_score_r)"
      ]
    },
    {
      "cell_type": "code",
      "source": [
        "# 딕셔너리 생성과 추가, 수정, 삭제\n",
        "ice = {'메로나':1000, '폴라포':1200, '빵빠레':1800}\n",
        "print(ice)\n",
        "ice['죠스바'] = 1200\n",
        "\n",
        "ice['월드콘'] = 1500\n",
        "print(ice)\n",
        "\n",
        "ice['메로나'] = 1300\n",
        "print(ice)\n",
        "\n",
        "del ice['폴라포']\n",
        "print(ice)\n",
        "\n",
        "# key값으로 value 값 출력\n",
        "print('메로나 가격:',ice['메로나'])"
      ],
      "metadata": {
        "colab": {
          "base_uri": "https://localhost:8080/"
        },
        "id": "rADUB7hHcNos",
        "outputId": "63475262-7b7a-4e30-efb2-b4fbfbee1fd6"
      },
      "execution_count": 14,
      "outputs": [
        {
          "output_type": "stream",
          "name": "stdout",
          "text": [
            "{'메로나': 1000, '폴라포': 1200, '빵빠레': 1800}\n",
            "{'메로나': 1000, '폴라포': 1200, '빵빠레': 1800, '죠스바': 1200, '월드콘': 1500}\n",
            "{'메로나': 1300, '폴라포': 1200, '빵빠레': 1800, '죠스바': 1200, '월드콘': 1500}\n",
            "{'메로나': 1300, '빵빠레': 1800, '죠스바': 1200, '월드콘': 1500}\n",
            "메로나 가격: 1300\n"
          ]
        }
      ]
    },
    {
      "cell_type": "code",
      "source": [
        "# value값이 list인 딕셔너리 생성, 추가\n",
        "inventory = {'와':[300,20], '비비빅':[400,3], '빵빠레':[250,100]}\n",
        "print(inventory)\n",
        "\n",
        "inventory['호두마루'] = [700,10]\n",
        "print(inventory)\n",
        "\n",
        "# 딕셔너리 인덱싱. value list의 한 요소만 출력\n",
        "print(inventory['와'][0])\n",
        "print(inventory['와'][1])"
      ],
      "metadata": {
        "colab": {
          "base_uri": "https://localhost:8080/"
        },
        "id": "KpgsGqEUqv7q",
        "outputId": "137deacd-75aa-40f5-ea20-895115614fea"
      },
      "execution_count": 15,
      "outputs": [
        {
          "output_type": "stream",
          "name": "stdout",
          "text": [
            "{'와': [300, 20], '비비빅': [400, 3], '빵빠레': [250, 100]}\n",
            "{'와': [300, 20], '비비빅': [400, 3], '빵빠레': [250, 100], '호두마루': [700, 10]}\n",
            "300\n",
            "20\n"
          ]
        }
      ]
    },
    {
      "cell_type": "code",
      "source": [
        "# 딕셔너리 메서드\n",
        "snack = {'꼬북칩':1000,'빈츠':700, '빼빼로': 800, '몽쉘':200}\n",
        "\n",
        "# keys() key값만 모아 list로 반환\n",
        "snack_k = snack.keys()\n",
        "print(snack_k)\n",
        "\n",
        "# values() value값만 모아 list로 반환\n",
        "snack_v = snack.values()\n",
        "print(snack_v)\n",
        "print(sum(snack_v))\n",
        "\n",
        "# update() 서로 다른 딕셔너리 추가\n",
        "new_snack = {'꼬깔콘':400, '마가렛트':200}\n",
        "snack.update(new_snack)\n",
        "print(snack)"
      ],
      "metadata": {
        "colab": {
          "base_uri": "https://localhost:8080/"
        },
        "id": "zW-TbCn9I1kD",
        "outputId": "f5d03643-c8ed-46f0-8c4d-56b1c39ab078"
      },
      "execution_count": 16,
      "outputs": [
        {
          "output_type": "stream",
          "name": "stdout",
          "text": [
            "dict_keys(['꼬북칩', '빈츠', '빼빼로', '몽쉘'])\n",
            "dict_values([1000, 700, 800, 200])\n",
            "2700\n",
            "{'꼬북칩': 1000, '빈츠': 700, '빼빼로': 800, '몽쉘': 200, '꼬깔콘': 400, '마가렛트': 200}\n"
          ]
        }
      ]
    },
    {
      "cell_type": "code",
      "source": [
        "# zip과 dict\n",
        "# 아래의 두개의 튜플을 하나의 딕셔너리로 변환\n",
        "keys = (\"apple\", \"pear\", \"peach\")\n",
        "vals = (300, 250, 400)\n",
        "result=dict(zip(keys, vals))\n",
        "print(result)\n",
        "\n",
        "date = ['09/05', '09/06', '09/07', '09/08', '09/09']\n",
        "close_price = [10500, 10300, 10100, 10800, 11000]\n",
        "close_table = dict(zip(date, close_price))\n",
        "print(close_table)"
      ],
      "metadata": {
        "colab": {
          "base_uri": "https://localhost:8080/"
        },
        "id": "SXHmVf-LKrIR",
        "outputId": "6bea6543-8ae4-454c-fcea-4146d1e34024"
      },
      "execution_count": 17,
      "outputs": [
        {
          "output_type": "stream",
          "name": "stdout",
          "text": [
            "{'apple': 300, 'pear': 250, 'peach': 400}\n",
            "{'09/05': 10500, '09/06': 10300, '09/07': 10100, '09/08': 10800, '09/09': 11000}\n"
          ]
        }
      ]
    }
  ]
}