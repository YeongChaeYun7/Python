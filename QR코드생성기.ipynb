{
  "nbformat": 4,
  "nbformat_minor": 0,
  "metadata": {
    "colab": {
      "name": "QR코드생성기.ipynb",
      "provenance": [],
      "authorship_tag": "ABX9TyPhz5o2JUSqLDGw89bWb4Ms"
    },
    "kernelspec": {
      "name": "python3",
      "display_name": "Python 3"
    },
    "language_info": {
      "name": "python"
    }
  },
  "cells": [
    {
      "cell_type": "markdown",
      "source": [
        "Python에서 2차원 바코드 QRcode를 만들기 위해서 qrcode 모듈 설치 필요\n",
        "\n",
        "import문 이전에 모듈이 선행되어야 함"
      ],
      "metadata": {
        "id": "OsSSzni1pY4n"
      }
    },
    {
      "cell_type": "code",
      "execution_count": 51,
      "metadata": {
        "colab": {
          "base_uri": "https://localhost:8080/"
        },
        "id": "AxAFawULohn7",
        "outputId": "05575730-2c11-420f-a213-7c4f6fea5209"
      },
      "outputs": [
        {
          "output_type": "stream",
          "name": "stdout",
          "text": [
            "Looking in indexes: https://pypi.org/simple, https://us-python.pkg.dev/colab-wheels/public/simple/\n",
            "Requirement already satisfied: qrcode[pil] in /usr/local/lib/python3.7/dist-packages (7.3.1)\n",
            "Requirement already satisfied: pillow in /usr/local/lib/python3.7/dist-packages (from qrcode[pil]) (7.1.2)\n"
          ]
        }
      ],
      "source": [
        "# qrcode 모듈 설치\n",
        "!pip install qrcode[pil]"
      ]
    },
    {
      "cell_type": "code",
      "source": [
        "import qrcode"
      ],
      "metadata": {
        "id": "pSdnuWkEpBG5"
      },
      "execution_count": 52,
      "outputs": []
    },
    {
      "cell_type": "markdown",
      "source": [
        "# 기초적인 QRcode 생성\n",
        "\n",
        "colab 메인 화면의 url을 사용"
      ],
      "metadata": {
        "id": "ysKpenSTrLwW"
      }
    },
    {
      "cell_type": "code",
      "source": [
        "# make() 함수를 통해 코드에 담을 내용을 데이터로 전달\n",
        "qr = qrcode.make(\"https://colab.research.google.com/notebooks/welcome\")"
      ],
      "metadata": {
        "id": "V0jH79c7o3VY"
      },
      "execution_count": 53,
      "outputs": []
    },
    {
      "cell_type": "code",
      "source": [
        "qr"
      ],
      "metadata": {
        "colab": {
          "base_uri": "https://localhost:8080/",
          "height": 427
        },
        "id": "KYqMUq7Gq36i",
        "outputId": "c7d598d0-55c4-4bf9-a6c7-a7bf968eaef6"
      },
      "execution_count": 54,
      "outputs": [
        {
          "output_type": "execute_result",
          "data": {
            "text/plain": [
              "<qrcode.image.pil.PilImage at 0x7f218849b210>"
            ],
            "image/png": "[encoded data removed]"
          },
          "metadata": {},
          "execution_count": 54
        }
      ]
    },
    {
      "cell_type": "markdown",
      "source": [
        "# 생성한 이미지를 파일로 저장"
      ],
      "metadata": {
        "id": "0iHw-ZsSrjMD"
      }
    },
    {
      "cell_type": "code",
      "source": [
        "img = qrcode.make(\"https://colab.research.google.com/notebooks/welcome\")\n",
        "img.save(\"C:\\workspace\\Python\\colab.png\")\n",
        "print(type(img))\n",
        "print(img.size)"
      ],
      "metadata": {
        "colab": {
          "base_uri": "https://localhost:8080/"
        },
        "id": "Cp-teSxZrmk2",
        "outputId": "29f5cf45-6595-4b54-e779-e1d0e43dfd16"
      },
      "execution_count": 55,
      "outputs": [
        {
          "output_type": "stream",
          "name": "stdout",
          "text": [
            "<class 'qrcode.image.pil.PilImage'>\n",
            "(410, 410)\n"
          ]
        }
      ]
    },
    {
      "cell_type": "code",
      "source": [
        "img"
      ],
      "metadata": {
        "colab": {
          "base_uri": "https://localhost:8080/",
          "height": 427
        },
        "id": "hB5GgVOLszQa",
        "outputId": "ea8bd050-fd2e-4399-dd97-e5c868a65694"
      },
      "execution_count": 56,
      "outputs": [
        {
          "output_type": "execute_result",
          "data": {
            "text/plain": [
              "<qrcode.image.pil.PilImage at 0x7f218a539510>"
            ],
            "image/png": "[encoded data removed]"
          },
          "metadata": {},
          "execution_count": 56
        }
      ]
    },
    {
      "cell_type": "markdown",
      "source": [
        "# 문자로 QRcode 생성\n",
        "\n",
        "주의할 점은 문자로 생성한 코드는 별도 QR 어플을 통해서만 확인이 됨\n",
        "\n",
        "url로 생성한 코드는 별도 인식 어플없이 기본 폰 카메라로 확인 가능"
      ],
      "metadata": {
        "id": "y7PwdIRls_LO"
      }
    },
    {
      "cell_type": "code",
      "source": [
        "message = qrcode.make(\"Hello world\")\n",
        "message.save(\"C:\\workspace\\Python\\hello.png\")\n",
        "print(type(message))\n",
        "print(message.size)"
      ],
      "metadata": {
        "colab": {
          "base_uri": "https://localhost:8080/"
        },
        "id": "o0Xmx4uLtfy-",
        "outputId": "7f52815a-0882-441d-a319-6822ba1ce68f"
      },
      "execution_count": 57,
      "outputs": [
        {
          "output_type": "stream",
          "name": "stdout",
          "text": [
            "<class 'qrcode.image.pil.PilImage'>\n",
            "(290, 290)\n"
          ]
        }
      ]
    },
    {
      "cell_type": "code",
      "source": [
        "message"
      ],
      "metadata": {
        "colab": {
          "base_uri": "https://localhost:8080/",
          "height": 307
        },
        "id": "5PM9IoaZuQma",
        "outputId": "3903decb-c2fe-49ae-e8ce-bfc101bc3251"
      },
      "execution_count": 58,
      "outputs": [
        {
          "output_type": "execute_result",
          "data": {
            "text/plain": [
              "<qrcode.image.pil.PilImage at 0x7f2188481c90>"
            ],
            "image/png": "[encoded data removed]"
          },
          "metadata": {},
          "execution_count": 58
        }
      ]
    }
  ]
}