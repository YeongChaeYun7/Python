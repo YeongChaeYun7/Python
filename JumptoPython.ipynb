{
  "nbformat": 4,
  "nbformat_minor": 0,
  "metadata": {
    "colab": {
      "name": "JumptoPython.ipynb",
      "provenance": [],
      "collapsed_sections": [],
      "authorship_tag": "ABX9TyPY7L29ZanLei+jJJCnh89X",
      "include_colab_link": true
    },
    "kernelspec": {
      "name": "python3",
      "display_name": "Python 3"
    },
    "language_info": {
      "name": "python"
    }
  },
  "cells": [
    {
      "cell_type": "markdown",
      "metadata": {
        "id": "view-in-github",
        "colab_type": "text"
      },
      "source": [
        "<a href=\"https://colab.research.google.com/github/YeongChaeYun7/Python/blob/main/JumptoPython.ipynb\" target=\"_parent\"><img src=\"https://colab.research.google.com/assets/colab-badge.svg\" alt=\"Open In Colab\"/></a>"
      ]
    },
    {
      "cell_type": "code",
      "execution_count": null,
      "metadata": {
        "id": "EH99FTmY9j-I",
        "colab": {
          "base_uri": "https://localhost:8080/"
        },
        "outputId": "f59d712b-a7a8-4493-dcff-5685b0dc6e1d"
      },
      "outputs": [
        {
          "output_type": "stream",
          "name": "stdout",
          "text": [
            "==================================================\n",
            "My Program\n",
            "==================================================\n"
          ]
        }
      ],
      "source": [
        "#문자열 곱하기\n",
        "print(\"=\"*50)\n",
        "print(\"My Program\")\n",
        "print(\"=\"*50)"
      ]
    },
    {
      "cell_type": "code",
      "source": [
        "#문자열 길이 구하기, len함수\n",
        "a=\"life is too short, you need Python\"\n",
        "print(len(a))\n",
        "#문자열 인덱싱\n",
        "print(a[3])\n",
        "#(-)뒤에서부터 읽기\n",
        "print(a[-1])"
      ],
      "metadata": {
        "colab": {
          "base_uri": "https://localhost:8080/"
        },
        "id": "3p86-Ego-ZkV",
        "outputId": "c7f1d109-1648-4bd9-e258-bbdd50d6133c"
      },
      "execution_count": null,
      "outputs": [
        {
          "output_type": "stream",
          "name": "stdout",
          "text": [
            "34\n",
            "e\n",
            "n\n"
          ]
        }
      ]
    },
    {
      "cell_type": "code",
      "source": [
        "#문자열 슬라이싱 [시작:끝+1 번호]\n",
        "a=\"life is too short, you need Python\"\n",
        "b=a[0]+a[1]+a[2]+a[3]\n",
        "print(b)\n",
        "print(a[0:4])\n",
        "print(a[5:7])\n",
        "print(a[:])\n",
        "#슬라이싱으로 문자열 나누기\n",
        "a=\"20010331Rainy\"\n",
        "year=a[:4]\n",
        "date=a[4:8]\n",
        "weather=a[8:]\n",
        "print(year)\n",
        "print(date)\n",
        "print(weather)"
      ],
      "metadata": {
        "colab": {
          "base_uri": "https://localhost:8080/"
        },
        "id": "S02uFklO-h8j",
        "outputId": "a1750d2f-9fd6-4ebc-b701-c3a3f51c4758"
      },
      "execution_count": null,
      "outputs": [
        {
          "output_type": "stream",
          "name": "stdout",
          "text": [
            "life\n",
            "life\n",
            "is\n",
            "life is too short, you need Python\n",
            "2001\n",
            "0331\n",
            "Rainy\n"
          ]
        }
      ]
    },
    {
      "cell_type": "code",
      "source": [
        "#문자열 문자변경/아이템 변경 불가능\n",
        "a=\"Pithon\"\n",
        "a[:1]+'y'+a[2:]"
      ],
      "metadata": {
        "colab": {
          "base_uri": "https://localhost:8080/",
          "height": 36
        },
        "id": "XF8cpgpf-kof",
        "outputId": "bdb32212-3b73-4be1-9f34-2c92fc2bf127"
      },
      "execution_count": null,
      "outputs": [
        {
          "output_type": "execute_result",
          "data": {
            "text/plain": [
              "'Python'"
            ],
            "application/vnd.google.colaboratory.intrinsic+json": {
              "type": "string"
            }
          },
          "metadata": {},
          "execution_count": 14
        }
      ]
    },
    {
      "cell_type": "code",
      "source": [
        "#문자열 포매팅. 문자열 안에 값 삽입\n",
        "#숫자 대입. 문자열 안에 정수 5 대입 / 문자열 포맷코드 %d\n",
        "print(\"I eat %d apples.\"%5)\n",
        "\n",
        "#숫자값을 나타내는 변수 대입\n",
        "number = 5\n",
        "print(\"I eat %d apples.\"%number)\n",
        "\n",
        "#문자열 대입 / 문자열 포맷코드 %s\n",
        "print(\"I eat %s apples.\"%\"five\")\n",
        "#%s는 어떤 타입이든 문자열로 자동 변환하여 인식\n",
        "print(\"I eat %s apples.\"%5)\n",
        "\n",
        "#2개 이상의 값 넣기\n",
        "day = \"two\"\n",
        "print(\"I ate %d apples. so I was sick for %s days.\"%(number, day))\n",
        "\n",
        "#문자 1개 대입\n",
        "print(\"I eat %c apples.\"%\"오\")\n",
        "\n",
        "#부동소수 대입\n",
        "print(\"I eat %f apples.\"%5)"
      ],
      "metadata": {
        "colab": {
          "base_uri": "https://localhost:8080/"
        },
        "id": "i3ahHQSsJGnp",
        "outputId": "1398d012-f0e0-45cc-d60e-f5c4bdd3606e"
      },
      "execution_count": null,
      "outputs": [
        {
          "output_type": "stream",
          "name": "stdout",
          "text": [
            "I eat 5 apples.\n",
            "I eat 5 apples.\n",
            "I eat five apples.\n",
            "I eat 5 apples.\n",
            "I ate 5 apples. so I was sick for two days.\n",
            "I eat 오 apples.\n",
            "I eat 5.000000 apples.\n"
          ]
        }
      ]
    },
    {
      "cell_type": "code",
      "source": [
        "#포맷 코드와 숫자 함께 사용\n",
        "#길이 10인 문자열 공간에서 오른쪽에 값 정렬, 나머지 공백 처리\n",
        "print(\"Yun %10s\"%\"hi\")\n",
        "\n",
        "#길이 10인 문자열 공간에서 왼쪽에 값 정렬, 나머지 공백 처리\n",
        "print(\"%-10s Yun\"%\"hi\")\n",
        "\n",
        "#소수점 표현. %0.(소수점 뒤 숫자 개수)f\n",
        "print(\"%0.4f\"%3.123456789)\n",
        "\n",
        "#길이 10인 문자열 공간에서 오른쪽에 값 정렬, 나머지 공백 처리\n",
        "print(\"%10.4f\"%3.123456789)"
      ],
      "metadata": {
        "colab": {
          "base_uri": "https://localhost:8080/"
        },
        "id": "6JDnaD6EOEqC",
        "outputId": "738f7450-6f63-490f-d96a-d50b63933dc5"
      },
      "execution_count": null,
      "outputs": [
        {
          "output_type": "stream",
          "name": "stdout",
          "text": [
            "Yun         hi\n",
            "hi         Yun\n",
            "3.1235\n",
            "    3.1235\n"
          ]
        }
      ]
    },
    {
      "cell_type": "code",
      "source": [
        "#format 함수를 사용한  formatting / .format()\n",
        "# 숫자 대입\n",
        "print(\"I eat {0} apples.\".format(5))\n",
        "#숫자값을 가진 변수 대입\n",
        "number = 5\n",
        "print(\"I eat {0} apples.\".format(number))\n",
        "\n",
        "#문자열 대입\n",
        "print(\"I eat {0} apples.\".format(\"five\"))\n",
        "\n",
        "#2개이상의 값 넣기 / 문자열의 인덱스 항복이 순차적으로 변환\n",
        "day = \"two\"\n",
        "print(\"I ate {0} apples. so I was sick for {1} days.\".format(number, day))\n",
        "\n",
        "#이름으로 대입\n",
        "print(\"I ate {a} apples. so I was sick for {b} days.\".format(a=5, b=\"two\"))\n",
        "\n",
        "#인덱스와 이름 혼용해서 대입\n",
        "print(\"I ate {0} apples. so I was sick for {day} days.\".format(5, day=\"2\"))"
      ],
      "metadata": {
        "colab": {
          "base_uri": "https://localhost:8080/"
        },
        "id": "ITN-4BwtJN3r",
        "outputId": "5fdb0749-6795-4396-a7e8-dc6d1c8db063"
      },
      "execution_count": null,
      "outputs": [
        {
          "output_type": "stream",
          "name": "stdout",
          "text": [
            "I eat 5 apples.\n",
            "I eat 5 apples.\n",
            "I eat five apples.\n",
            "I ate 5 apples. so I was sick for two days.\n",
            "I ate 5 apples. so I was sick for two days.\n",
            "I ate 5 apples. so I was sick for 2 days.\n"
          ]
        }
      ]
    },
    {
      "cell_type": "code",
      "source": [
        "#format 함수를 사용한  formatting / .format()\n",
        "#왼쪽 정렬 / ':<10 표현식으로 총 자릿 수10 제한 + 왼쪽 정렬\n",
        "print(\"{0:<10}\".format(\"hi\"))\n",
        "\n",
        "#오른쪽 정렬 / ':>10 표현식으로 총 자릿 수10 제한 + 오른쪽 정렬\n",
        "print(\"{0:>10}\".format(\"hi\"))\n",
        "\n",
        "#가운데 정렬 / ':<10 표현식으로 총 자릿 수10 제한 \n",
        "print(\"{0:^10}\".format(\"hi\"))\n",
        "\n",
        "#공백 채우기\n",
        "print(\"{0:=^10}\".format(\"hi\"))\n",
        "print(\"{0:!<10}\".format(\"hi\"))"
      ],
      "metadata": {
        "colab": {
          "base_uri": "https://localhost:8080/"
        },
        "id": "XzFExS9nSqFZ",
        "outputId": "30e1d8f1-972e-417c-f347-ccd02ab30a13"
      },
      "execution_count": null,
      "outputs": [
        {
          "output_type": "stream",
          "name": "stdout",
          "text": [
            "hi        \n",
            "        hi\n",
            "    hi    \n",
            "====hi====\n",
            "hi!!!!!!!!\n"
          ]
        }
      ]
    },
    {
      "cell_type": "code",
      "source": [
        "#format 함수를 사용한  formatting / .format()\n",
        "#'{'또는'}' 문자 표현\n",
        "#중괄호를 문자 그대로 사용하고 싶은 경우엔 2개 연속 사용\n",
        "\"{{and}}\".format()"
      ],
      "metadata": {
        "colab": {
          "base_uri": "https://localhost:8080/",
          "height": 36
        },
        "id": "4HGBo1ACTtqz",
        "outputId": "965ce444-44ed-4b1d-e932-aa60292675ae"
      },
      "execution_count": null,
      "outputs": [
        {
          "output_type": "execute_result",
          "data": {
            "text/plain": [
              "'{and}'"
            ],
            "application/vnd.google.colaboratory.intrinsic+json": {
              "type": "string"
            }
          },
          "metadata": {},
          "execution_count": 40
        }
      ]
    },
    {
      "cell_type": "code",
      "source": [
        "# f문자열 formatting / Python 3.6 이상부터 가능\n",
        "#문자열 앞에 접두사f 붙여 사용  \n",
        "#변수 값 생성 후, 그 값을 참조 가능, 표현식 지원\n",
        "name = \"홍길동\"\n",
        "age = 25\n",
        "print(f'내 이름은 {name}이고, 나이는 {age}살이다.')\n",
        "print(f'내년에 나는{age+1}살이 된다.')\n",
        "\n",
        "#f문자열 formatting에서 dictionary 활용\n",
        "d={'name':'홍길동','age':25}\n",
        "print(f'내 이름은 {d[\"name\"]}이고, 나이는 {d[\"age\"]}살 이다.')\n",
        "\n",
        "#왼쪽, 오른쪽, 가운데 정렬\n",
        "print(f'{\"hi\":<10}')\n",
        "print(f'{\"hi\":>10}')\n",
        "print(f'{\"hi\":^10}')\n",
        "\n",
        "#소수점 표현\n",
        "y = 3.123456789\n",
        "print(f'{y:0.4f}')\n",
        "print(f'{y:10.4f}')"
      ],
      "metadata": {
        "colab": {
          "base_uri": "https://localhost:8080/"
        },
        "id": "8-Cb1yunYhzi",
        "outputId": "3ab439a0-a4a1-4314-db63-a25f613b4395"
      },
      "execution_count": null,
      "outputs": [
        {
          "output_type": "stream",
          "name": "stdout",
          "text": [
            "내 이름은 홍길동이고, 나이는 25살이다.\n",
            "내년에 나는26살이 된다.\n",
            "내 이름은 홍길동이고, 나이는 25살 이다.\n",
            "hi        \n",
            "        hi\n",
            "    hi    \n",
            "3.1235\n",
            "    3.1235\n"
          ]
        }
      ]
    },
    {
      "cell_type": "code",
      "source": [
        "#문자열 내장 함수/ 문자열 변수명.함수명\n",
        "#특정 문자 개수 세기(count)\n",
        "a = \"hobby\"\n",
        "print(a.count('b'))\n",
        "\n",
        "#위치 알림(find, index)\n",
        "b = \"Python is best choice\"\n",
        "print(b.find('b')) \n",
        "print(b.find('k')) #찾는 값 없으면 -1 반환\n",
        "print(b.index('o')) #제일 처음 나온 위치 반환\n",
        "#index는 찾는 값 없으면 error. find와 차이점\n",
        "\n",
        "#삽입(join)/ 각각 아이템 사이에 삽입/ list, tuple가능\n",
        "print(\",\".join('abcd'))\n",
        "print(\",\".join(['a','b','c','d']))\n",
        "\n",
        "#대, 소문자 변환(upper, lower)\n",
        "c = \"hi\"\n",
        "print(c.upper())\n",
        "print(c.lower())"
      ],
      "metadata": {
        "colab": {
          "base_uri": "https://localhost:8080/"
        },
        "id": "EKXj-e48eL4Z",
        "outputId": "c7661cd6-4d78-450e-9dca-2e2e15c3518a"
      },
      "execution_count": null,
      "outputs": [
        {
          "output_type": "stream",
          "name": "stdout",
          "text": [
            "2\n",
            "10\n",
            "-1\n",
            "4\n",
            "a,b,c,d\n",
            "a,b,c,d\n",
            "HI\n",
            "hi\n"
          ]
        }
      ]
    },
    {
      "cell_type": "code",
      "source": [
        "#문자열 내장 함수(strip)\n",
        "#공백 지우기(왼쪽, 오른쪽, 양쪽)/ 아이템 사이x, 양 끝의 공백만\n",
        "a = \"     hi     \" \n",
        "b = \"~\"\n",
        "print(a.lstrip() + b)\n",
        "print(a.rstrip() + b)\n",
        "print(a.strip( )+ b)\n",
        "\n",
        "#문자열 변경(replace(바뀌게 될, 바꿀 문자열))\n",
        "c= \"Life is too short\"\n",
        "print(c.replace(\"Life\",\"Time\"))\n",
        "\n",
        "#문자열 나누기(split(구분자))\n",
        "d = \"a : b : c : d\"\n",
        "print(d.split(':')) \n",
        "print(c.split()) #괄호 공백은 공백 기준 나눔"
      ],
      "metadata": {
        "colab": {
          "base_uri": "https://localhost:8080/"
        },
        "id": "GiIx-kyAiak6",
        "outputId": "e32e690c-33ff-4cfa-ce1b-483359a91446"
      },
      "execution_count": null,
      "outputs": [
        {
          "output_type": "stream",
          "name": "stdout",
          "text": [
            "hi     ~\n",
            "     hi~\n",
            "hi~\n",
            "Time is too short\n",
            "['a ', ' b ', ' c ', ' d']\n",
            "['Life', 'is', 'too', 'short']\n"
          ]
        }
      ]
    },
    {
      "cell_type": "code",
      "source": [
        "#List indexing. 3차원 구조\n",
        "a = [1,2,['a','b',['Life','is']]]\n",
        "print(a[2][2][0])"
      ],
      "metadata": {
        "colab": {
          "base_uri": "https://localhost:8080/"
        },
        "id": "N9RXxbYtpcs9",
        "outputId": "3609cf16-ded4-4202-f69b-8ae20aeda181"
      },
      "execution_count": null,
      "outputs": [
        {
          "output_type": "stream",
          "name": "stdout",
          "text": [
            "Life\n"
          ]
        }
      ]
    },
    {
      "cell_type": "code",
      "source": [
        "#List slicing\n",
        "a = [1,2,3,['a','b','c'],4,5]\n",
        "print(a[3][:2])"
      ],
      "metadata": {
        "colab": {
          "base_uri": "https://localhost:8080/"
        },
        "id": "diSYJgk0rVI1",
        "outputId": "1d506659-9fc7-45b2-a98f-be062c09a00d"
      },
      "execution_count": null,
      "outputs": [
        {
          "output_type": "stream",
          "name": "stdout",
          "text": [
            "['a', 'b']\n"
          ]
        }
      ]
    },
    {
      "cell_type": "code",
      "source": [
        "#list 값 수정\n",
        "a = [1,2,3,4,5,6,7]\n",
        "a[2] = 4\n",
        "print(a)\n",
        "\n",
        "#list 요소 삭제(del(객체))\n",
        "del a[:4]\n",
        "print(a)"
      ],
      "metadata": {
        "colab": {
          "base_uri": "https://localhost:8080/"
        },
        "id": "eMSYGWygsAZB",
        "outputId": "dd790716-f07c-485a-e480-c87c807c05d8"
      },
      "execution_count": null,
      "outputs": [
        {
          "output_type": "stream",
          "name": "stdout",
          "text": [
            "[1, 2, 4, 4, 5, 6, 7]\n",
            "[5, 6, 7]\n"
          ]
        }
      ]
    },
    {
      "cell_type": "code",
      "source": [
        "#list 함수\n",
        "a = [1,2,3,4]\n",
        "b = [1,1,2,3,4]\n",
        "c = [4,3,5,1,2]\n",
        "\n",
        "#추가 append()\n",
        "a.append(5) #1개만 추가가능\n",
        "a.append([6,7])\n",
        "\n",
        "#삽입 insert(a,b) a번째에 값b 삽입\n",
        "a.insert(5,[1,2,3])#1개만 추가가능\n",
        "print(a)\n",
        "\n",
        "#제거 remove() 첫번째 값 제거\n",
        "b.remove(1)\n",
        "print(b)\n",
        "\n",
        "#끄집어내기 pop\n",
        "A = b.pop() #값 안넣으면 마지막 값 삭제\n",
        "print(A, b)\n",
        "\n",
        "#정렬 sort(), 뒤집기reverse()\n",
        "c.sort() #\n",
        "c.reverse()\n",
        "print(c)\n",
        "#위치반환 index()/ 값 없으면 error\n",
        "print(c.index(5))"
      ],
      "metadata": {
        "colab": {
          "base_uri": "https://localhost:8080/"
        },
        "id": "HvmKJFoLtjYS",
        "outputId": "0b0ee166-6158-4b60-8e5c-b9d4ea93e01a"
      },
      "execution_count": null,
      "outputs": [
        {
          "output_type": "stream",
          "name": "stdout",
          "text": [
            "[1, 2, 3, 4, 5, [1, 2, 3], [6, 7]]\n",
            "[1, 2, 3, 4]\n",
            "4 [1, 2, 3]\n",
            "[5, 4, 3, 2, 1]\n",
            "0\n"
          ]
        }
      ]
    },
    {
      "cell_type": "code",
      "source": [
        "#list 함수\n",
        "#요소 개수 세기count()\n",
        "a = [1,2,3,1]\n",
        "print(a.count(1))\n",
        "\n",
        "#list 확장 extend([x]) / x엔 list만 가능\n",
        "#a list + x list 하나의 list로 확장\n",
        "a.extend([4,5])\n",
        "print(a)"
      ],
      "metadata": {
        "id": "fsHE_CTntAOA",
        "colab": {
          "base_uri": "https://localhost:8080/"
        },
        "outputId": "be823193-504f-4b7c-e1fc-459e67bd7ef3"
      },
      "execution_count": null,
      "outputs": [
        {
          "output_type": "stream",
          "name": "stdout",
          "text": [
            "2\n",
            "[1, 2, 3, 1, 4, 5]\n"
          ]
        }
      ]
    },
    {
      "cell_type": "code",
      "source": [
        "#dictionary\n",
        "#dic 쌍 추가\n",
        "dic = {1:'a'}\n",
        "dic[2] = 'b' #2:'b' 쌍 추가\n",
        "print(dic)\n",
        "dic['key'] = [1,2,3]#'key':[1,2,3] 쌍 추가\n",
        "print(dic)\n",
        "\n",
        "#dic 요소 삭제\n",
        "del dic['key']# 해당 key의 쌍 삭제\n",
        "print(dic)"
      ],
      "metadata": {
        "colab": {
          "base_uri": "https://localhost:8080/"
        },
        "id": "f5BDDdhdsfGf",
        "outputId": "3ffa4f50-3686-4248-c503-f075711dd2e7"
      },
      "execution_count": null,
      "outputs": [
        {
          "output_type": "stream",
          "name": "stdout",
          "text": [
            "{1: 'a', 2: 'b'}\n",
            "{1: 'a', 2: 'b', 'key': [1, 2, 3]}\n",
            "{1: 'a', 2: 'b'}\n"
          ]
        }
      ]
    },
    {
      "cell_type": "code",
      "source": [
        "#dictionary활용\n",
        "#key 사용해 value얻기 \n",
        "#dic변수명[key]\n",
        "score = {'pey':10, 'jin':99}\n",
        "print(score['pey'])#없는 key 요청 시,error\n",
        "\n",
        "#get()\n",
        "print(score.get('pey'))\n",
        "print(score.get('x')) #없는 key 요청 시, None 반환"
      ],
      "metadata": {
        "colab": {
          "base_uri": "https://localhost:8080/"
        },
        "id": "JdNtKL9Fwe-e",
        "outputId": "0d93e77a-25cb-4379-90e9-f47a3b0f2e2e"
      },
      "execution_count": null,
      "outputs": [
        {
          "output_type": "stream",
          "name": "stdout",
          "text": [
            "10\n",
            "10\n",
            "None\n"
          ]
        }
      ]
    },
    {
      "cell_type": "code",
      "source": [
        "#dictionary 주의점\n",
        "#key값 중복 시, 하나 제외 나머지 무시\n",
        "a = {1:'a', 1:'b'} #key 중복\n",
        "print(a)"
      ],
      "metadata": {
        "colab": {
          "base_uri": "https://localhost:8080/"
        },
        "id": "QxCEZUHF1EAc",
        "outputId": "c51d454e-8899-44e2-c915-0ad955bf470b"
      },
      "execution_count": null,
      "outputs": [
        {
          "output_type": "stream",
          "name": "stdout",
          "text": [
            "{1: 'b'}\n"
          ]
        }
      ]
    },
    {
      "cell_type": "code",
      "source": [
        "#dictionary 함수\n",
        "#key 리스트 keys()\n",
        "a = {'name':'pey','phone':'0119933323','birth':'0722'}\n",
        "print(a.keys()) #key만 모아 dict_keys객체 반환\n",
        "print(list(a.keys())) #list로 출력\n",
        "\n",
        "#value 리스트 values()\n",
        "print(a.values())#value만 모아 dict_values객체 반환\n",
        "\n",
        "#key, value 쌍 얻기 items()\n",
        "print(a.items())#쌍을 tuple로 묶은 값 객체 반환 \n",
        "\n",
        "#key; value 쌍 삭제 clear()\n",
        "print(a.clear()) #dictionary 모든 요소 삭제. {}"
      ],
      "metadata": {
        "colab": {
          "base_uri": "https://localhost:8080/"
        },
        "id": "te0EMap61h2K",
        "outputId": "9af575c6-9f0e-447d-f563-4a7b12f500c1"
      },
      "execution_count": null,
      "outputs": [
        {
          "output_type": "stream",
          "name": "stdout",
          "text": [
            "dict_keys(['name', 'phone', 'birth'])\n",
            "['name', 'phone', 'birth']\n",
            "dict_values(['pey', '0119933323', '0722'])\n",
            "dict_items([('name', 'pey'), ('phone', '0119933323'), ('birth', '0722')])\n",
            "None\n"
          ]
        }
      ]
    },
    {
      "cell_type": "code",
      "source": [
        "#dictionary\n",
        "#key가 dictionary안에 있는지 조사 in\n",
        "a = {'name':'pey','phone':'0119933323','birth':'0722'}\n",
        "print('name' in a)\n",
        "print('x' in a)"
      ],
      "metadata": {
        "colab": {
          "base_uri": "https://localhost:8080/"
        },
        "id": "D4syn-_Y3j0L",
        "outputId": "86eb3c76-dc53-4b8f-b044-1102875a5a13"
      },
      "execution_count": null,
      "outputs": [
        {
          "output_type": "stream",
          "name": "stdout",
          "text": [
            "True\n",
            "False\n"
          ]
        }
      ]
    }
  ]
}