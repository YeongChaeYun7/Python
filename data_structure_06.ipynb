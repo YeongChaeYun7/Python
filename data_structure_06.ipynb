{
  "nbformat": 4,
  "nbformat_minor": 0,
  "metadata": {
    "colab": {
      "name": "data_structure_06.ipynb",
      "provenance": [],
      "collapsed_sections": [],
      "authorship_tag": "ABX9TyPYT/fI7/WLeicqraXwAgYd"
    },
    "kernelspec": {
      "name": "python3",
      "display_name": "Python 3"
    },
    "language_info": {
      "name": "python"
    }
  },
  "cells": [
    {
      "cell_type": "markdown",
      "source": [
        "\n",
        "# deque(double-ended queue)\n",
        "\n",
        "데이터를 양방향에서 추가하고 제거할 수 있는 자료구조\n",
        " \n",
        "전단과 후단 모두 삽입과 삭제가 가능하기에 스택, 큐보다 입출력 자유로움\n",
        "\n",
        "중간 삭제나 삽입은 허용 안함"
      ],
      "metadata": {
        "id": "8uMEiCX8nUWa"
      }
    },
    {
      "cell_type": "code",
      "source": [
        "class CircularQueue :\n",
        "    def __init__(self, MAX_QSIZE) :\t\t\n",
        "        self.front = 0 \n",
        "        self.rear = 0\t\t\t\n",
        "        self.MAX_QSIZE\t= MAX_QSIZE\t\n",
        "        self.items = [None] * MAX_QSIZE\t\n",
        "\n",
        "    def isEmpty(self) : return self.front == self.rear # front와 rear의 위치가 동일하면 빈 것으로 간주\n",
        "    def isFull(self) : return self.front == (self.rear+1) % self.MAX_QSIZE\n",
        "    def clear(self) : self.front = self.rear\n",
        "\n",
        "    def enqueue(self, item):\n",
        "        if not self.isFull(): # 원형 큐에선 빈 상태와 포화상태 구별을 위해 항상 하나 이상 공간이 비어있어야함\t\t\t            \n",
        "            self.rear = (self.rear+1) % self.MAX_QSIZE\n",
        "            self.items[self.rear] = item\n",
        "\n",
        "    def dequeue(self):\n",
        "        if not self.isEmpty(): # 큐가 비어있을 경우 처리할 데이터가 없기에 연산에서 제외\t\t\t            \n",
        "            self.front = (self.front+1)% self.MAX_QSIZE\t\n",
        "            return self.items[self.front]\t        \n",
        "\n",
        "    def peek(self):\n",
        "        if not self.isEmpty():\n",
        "            return self.items[(self.front + 1) % self.MAX_QSIZE]\n",
        "\n",
        "    def size(self) :\n",
        "       return (self.rear - self.front + self.MAX_QSIZE) % self.MAX_QSIZE\n",
        "\n",
        "    def display(self):\n",
        "        out = []\n",
        "        if self.front < self.rear :\n",
        "            out = self.items[self.front+1:self.rear+1]\n",
        "        else:\n",
        "            out = self.items[self.front+1: self.MAX_QSIZE] + self.items[0:self.rear+1]\t\t\n",
        "        print(\"[f=%s,r=%d] ==> \"%(self.front, self.rear), out)"
      ],
      "metadata": {
        "id": "cAy1oonSrZ9Y"
      },
      "execution_count": 7,
      "outputs": []
    },
    {
      "cell_type": "code",
      "source": [
        "# deque로 구현한 원형 큐\n",
        "class CirclularDequeue:\n",
        "  def __init__(self, MAX_QSIZE) :\t\t\n",
        "      self.front = 0 \n",
        "      self.rear = 0\t\t\n",
        "      self.MAX_QSIZE\t= MAX_QSIZE\t\t\n",
        "      self.items = [None] * MAX_QSIZE\t\n",
        "  def isEmpty(self) : return self.front == self.rear\n",
        "  def isFull(self) : return self.front == (self.rear+1) % self.MAX_QSIZE\n",
        "  def clear(self) : self.front = self.rear\n",
        "\n",
        "  def addRear(self, item): \n",
        "      if not self.isFull(): # 빈 상태와 포화상태 구별을 위해 빈 공간 있어야함\t\t            \n",
        "          self.rear = (self.rear+1)% self.MAX_QSIZE\n",
        "          self.items[self.rear] = item\n",
        "  def deleteFront(self): \n",
        "      if not self.isEmpty():             \n",
        "          self.front = (self.front+1)% self.MAX_QSIZE\t\n",
        "          return self.items[self.front]\t     \n",
        "  def getFront (self):\n",
        "      if not self.isEmpty():\n",
        "          return self.items[(self.front + 1) % self.MAX_QSIZE]\n",
        "  def addFront (self, item):\n",
        "      if not self.isFull():\n",
        "        self.items[self.front] = item # item을 댁의 맨 앞에 추가\n",
        "        self.front -= 1\n",
        "        if self.front < 0 : self.front = self.MAX_QSIZE -1\n",
        "  def deleteRear (self):\n",
        "      if not self.isEmpty():\n",
        "        item = self.items[self.rear];\n",
        "        self.rear -= 1\n",
        "        if self.rear < 0 : self.rear = self.MAX_QSIZE -1\n",
        "        return item\n",
        "  def getRear (self):\n",
        "    return self.items[self.rear] "
      ],
      "metadata": {
        "id": "iihvG3kAqRp7"
      },
      "execution_count": 8,
      "outputs": []
    },
    {
      "cell_type": "markdown",
      "source": [
        "# 우선순위 큐 (priority queue)\n",
        "\n",
        ": 우선순위 개념을 큐에 도입한 자료구조\n",
        "\n",
        "모든 데이터가 우선순위를 가지며, 순위순으로 출력\n",
        "\n",
        "시뮬레이션, 네트워크 트래픽 제어, A*알고리즘, 허프만 코딩 트리 등에 응용된다\n"
      ],
      "metadata": {
        "id": "5InTVNOAwkVO"
      }
    },
    {
      "cell_type": "code",
      "source": [
        "class PriorityQueue:\n",
        "  def __init__ (self):\n",
        "    self.items = []\n",
        "  def isEmpty (self):\n",
        "    return len(self.items) == 0\n",
        "  def size (self): return len(self.items)\n",
        "  def clear (self): self.items = []\n",
        "  def enqueue (self, item): # 우선순위를 가진 item 추가\n",
        "    self.items.append (item)\n",
        "  def findMaxIndex (self):\n",
        "    if self.isEmptyreturn(): return None\n",
        "    else:\n",
        "      highest = 0\n",
        "      for i in range (1, self.size()):\n",
        "        if self.items[i] > self.items[highest]:\n",
        "          highest = i\n",
        "    return highest\n",
        "  def dequeue (self): # 가장 우선순위가 높은 item 반환\n",
        "    highest = self.findMaxIndex()\n",
        "    if highest is not None:\n",
        "      return self.items.pop(highest)\n",
        "  def peek (self):\n",
        "    highest = self.findMaxIndex()\n",
        "    if highest is not None:\n",
        "     return self.items [highest]"
      ],
      "metadata": {
        "id": "RkfjhqtQxFSQ"
      },
      "execution_count": 6,
      "outputs": []
    }
  ]
}