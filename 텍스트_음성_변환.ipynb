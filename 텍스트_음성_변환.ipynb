{
  "nbformat": 4,
  "nbformat_minor": 0,
  "metadata": {
    "colab": {
      "provenance": [],
      "collapsed_sections": [],
      "authorship_tag": "ABX9TyPHpAMcaBU/5I4mF01UCDrL"
    },
    "kernelspec": {
      "name": "python3",
      "display_name": "Python 3"
    },
    "language_info": {
      "name": "python"
    }
  },
  "cells": [
    {
      "cell_type": "markdown",
      "source": [
        "텍스트를 영어, 한글 음성으로 변환하고 재생하는 것이 목적  \n",
        "구글에서 지원하는 파이썬의 음성 변환 모듈 gTTS(Google Text-to-Speech)을 활용함  \n",
        "\n",
        "네이버, 카카오 등 여러 회사에서 다양한 음성변환 모듈을 지원하지만  \n",
        "gTTS를 사용하는 이유는 구글 Colab 환경에서 코드를 작성하기 때문에 개발환경과 가장 잘맞는 모듈이라 판단하였다  \n"
      ],
      "metadata": {
        "id": "S-7qss1TLPii"
      }
    },
    {
      "cell_type": "markdown",
      "source": [
        "\n",
        "\n",
        "---\n",
        "\n"
      ],
      "metadata": {
        "id": "tc59iICZy56j"
      }
    },
    {
      "cell_type": "markdown",
      "source": [
        "gTTS 모듈 설치  \n",
        "  \n",
        "설치시 (!)와 gTTs 대소문자를 주의해야한다.   \n",
        "보통 느낌표 없이 'gtts'로 install 후 gTTs import로 넘어가는데  colab상에서는 다른 방식으로 설치해줘야 한다.   \n",
        "install시에는 무조건 (!)로 시작하여야 Python 코드가 아닌 명령 프롬프트 줄이라고 인식 가능함  \n",
        "보통 pip install 'gtts'로 설치하는데 colab은 gTTs로 설치해야 작동 가능하다.  "
      ],
      "metadata": {
        "id": "-1LRLQy-zP2A"
      }
    },
    {
      "cell_type": "code",
      "execution_count": 1,
      "metadata": {
        "colab": {
          "base_uri": "https://localhost:8080/"
        },
        "id": "plqoSANRLMNp",
        "outputId": "9fcb69ff-992f-4868-ee68-bbdc7481e45d"
      },
      "outputs": [
        {
          "output_type": "stream",
          "name": "stdout",
          "text": [
            "Looking in indexes: https://pypi.org/simple, https://us-python.pkg.dev/colab-wheels/public/simple/\n",
            "Requirement already satisfied: gTTS in /usr/local/lib/python3.7/dist-packages (2.2.4)\n",
            "Requirement already satisfied: click in /usr/local/lib/python3.7/dist-packages (from gTTS) (7.1.2)\n",
            "Requirement already satisfied: six in /usr/local/lib/python3.7/dist-packages (from gTTS) (1.15.0)\n",
            "Requirement already satisfied: requests in /usr/local/lib/python3.7/dist-packages (from gTTS) (2.23.0)\n",
            "Requirement already satisfied: certifi>=2017.4.17 in /usr/local/lib/python3.7/dist-packages (from requests->gTTS) (2022.6.15)\n",
            "Requirement already satisfied: urllib3!=1.25.0,!=1.25.1,<1.26,>=1.21.1 in /usr/local/lib/python3.7/dist-packages (from requests->gTTS) (1.24.3)\n",
            "Requirement already satisfied: chardet<4,>=3.0.2 in /usr/local/lib/python3.7/dist-packages (from requests->gTTS) (3.0.4)\n",
            "Requirement already satisfied: idna<3,>=2.5 in /usr/local/lib/python3.7/dist-packages (from requests->gTTS) (2.10)\n"
          ]
        }
      ],
      "source": [
        "!pip install gTTS \n",
        "from gtts import gTTS # 문자를 음성으로 변환해주는 라이브러리"
      ]
    },
    {
      "cell_type": "markdown",
      "source": [
        "playsound 모듈 설치  \n",
        "스피커를 통해 음성파일 재생하게 해주는 기능"
      ],
      "metadata": {
        "id": "bk_a4Ep32L73"
      }
    },
    {
      "cell_type": "code",
      "source": [
        "!pip install playsound\n",
        "\n",
        "from IPython.display import Audio # 음성파일 재생하게 해주는 라이브러리"
      ],
      "metadata": {
        "colab": {
          "base_uri": "https://localhost:8080/"
        },
        "id": "6Nkef9F7LgPA",
        "outputId": "d7a2a8bb-08fa-44f0-a94b-e3b5a98a1320"
      },
      "execution_count": 2,
      "outputs": [
        {
          "output_type": "stream",
          "name": "stdout",
          "text": [
            "Looking in indexes: https://pypi.org/simple, https://us-python.pkg.dev/colab-wheels/public/simple/\n",
            "Requirement already satisfied: playsound in /usr/local/lib/python3.7/dist-packages (1.3.0)\n"
          ]
        }
      ]
    },
    {
      "cell_type": "markdown",
      "source": [
        "텍스트를 음성으로 변환"
      ],
      "metadata": {
        "id": "biX65aBJMDGN"
      }
    },
    {
      "cell_type": "code",
      "source": [
        "tts = gTTS('hello! good morning') # 음성으로 변환 할 문자열\n",
        "\n",
        "tts.save('english.wav') # 음성으로 변환된 문자열을 wav file로 저장. wav 확장자 기준 코드이다\n",
        "\n",
        "sound_file = 'english.wav'\n",
        "Audio(sound_file, autoplay=True) "
      ],
      "metadata": {
        "colab": {
          "base_uri": "https://localhost:8080/",
          "height": 74
        },
        "id": "CJtrv4OQjqQa",
        "outputId": "450f8f87-2048-4cf3-8209-37e4451335ca"
      },
      "execution_count": 3,
      "outputs": [
        {
          "output_type": "execute_result",
          "data": {
            "text/plain": [
              "<IPython.lib.display.Audio object>"
            ],
            "text/html": [
              "\n",
              "                <audio  controls=\"controls\" autoplay=\"autoplay\">\n",
              "                    <source src=\"data:audio/x-wav;base64,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\" type=\"audio/x-wav\" />\n",
              "                    Your browser does not support the audio element.\n",
              "                </audio>\n",
              "              "
            ]
          },
          "metadata": {},
          "execution_count": 3
        }
      ]
    },
    {
      "cell_type": "markdown",
      "source": [
        "[gtts 지원 언어](https://cloud.google.com/speech-to-text/docs/languages?hl=ko)"
      ],
      "metadata": {
        "id": "UKqexbIX6SJG"
      }
    },
    {
      "cell_type": "code",
      "source": [
        "text = input(\"한글 입력 :\")\n",
        "# text = \"안녕하세요. 좋은 아침입니다.\"\n",
        "ko_tts = gTTS(text,lang = 'ko')  # text의 문자열을 한글로 변환하여 tts에 바인딩\n",
        "\n",
        "ko_tts.save('korea.wav')\n",
        "\n",
        "sound_file = 'korea.wav'\n",
        "Audio(sound_file, autoplay=True) # 파일 재생"
      ],
      "metadata": {
        "colab": {
          "base_uri": "https://localhost:8080/",
          "height": 93
        },
        "id": "jW-UObL6t7oi",
        "outputId": "1ad8bff4-18a1-4926-b05d-31fca8f319d9"
      },
      "execution_count": 4,
      "outputs": [
        {
          "name": "stdout",
          "output_type": "stream",
          "text": [
            "한글 입력 :가나다라마바사\n"
          ]
        },
        {
          "output_type": "execute_result",
          "data": {
            "text/plain": [
              "<IPython.lib.display.Audio object>"
            ],
            "text/html": [
              "\n",
              "                <audio  controls=\"controls\" autoplay=\"autoplay\">\n",
              "                    <source src=\"data:audio/x-wav;base64,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\" type=\"audio/x-wav\" />\n",
              "                    Your browser does not support the audio element.\n",
              "                </audio>\n",
              "              "
            ]
          },
          "metadata": {},
          "execution_count": 4
        }
      ]
    },
    {
      "cell_type": "markdown",
      "source": [
        "파일 형태가 가장 음성 변환을 활용하기 좋기에   \n",
        "미리 한글 txt 파일 업로드 후 아래 코드 실행 "
      ],
      "metadata": {
        "id": "zqTxRACs9ZAq"
      }
    },
    {
      "cell_type": "code",
      "source": [
        "# 파일을 읽어오는 코드\n",
        "file_path = r\"안녕하세요.txt\" # 읽어올 파일 경로 바인딩\n",
        "with open (file_path, 'rt', encoding='UTF8') as f : # f로 설정한 것은 편의도 있지만 관습적읜 면이 더 큼 \n",
        "  read_file = f.read() # 파일 전체를 읽어 바인딩\n",
        "print(read_file)"
      ],
      "metadata": {
        "colab": {
          "base_uri": "https://localhost:8080/"
        },
        "id": "Da1nu0S6A4Hd",
        "outputId": "abab6ab2-028d-41ae-d5f6-24e745d8d164"
      },
      "execution_count": 5,
      "outputs": [
        {
          "output_type": "stream",
          "name": "stdout",
          "text": [
            "안녕하세요, \n",
            "좋은 아침입니다~\n"
          ]
        }
      ]
    },
    {
      "cell_type": "code",
      "source": [
        "# 읽은 파일을 음성으로 변환하여 출력\n",
        "txt_tts = gTTS(read_file,lang = 'ko') \n",
        "\n",
        "with open('mix.wav','wb') as f:\n",
        "   txt_tts.write_to_fp(f)\n",
        "\n",
        "display(Audio('mix.wav', autoplay=True))"
      ],
      "metadata": {
        "colab": {
          "base_uri": "https://localhost:8080/",
          "height": 74
        },
        "id": "PtMYJY33BTaD",
        "outputId": "42be15c9-0252-4387-8521-0ad60d3cf1a1"
      },
      "execution_count": 6,
      "outputs": [
        {
          "output_type": "display_data",
          "data": {
            "text/plain": [
              "<IPython.lib.display.Audio object>"
            ],
            "text/html": [
              "\n",
              "                <audio  controls=\"controls\" autoplay=\"autoplay\">\n",
              "                    <source src=\"data:audio/x-wav;base64,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\" type=\"audio/x-wav\" />\n",
              "                    Your browser does not support the audio element.\n",
              "                </audio>\n",
              "              "
            ]
          },
          "metadata": {}
        }
      ]
    },
    {
      "cell_type": "markdown",
      "source": [
        "실행시켜보면 (.),(,),(!)등은 묵음 처리, (~)는 정직하게 '물결표'로 읽는다.  \n",
        "음성 출력되는 범위를 숙지하고 활용해야 할 것 같다"
      ],
      "metadata": {
        "id": "lkk7bBSE8kCJ"
      }
    }
  ]
}