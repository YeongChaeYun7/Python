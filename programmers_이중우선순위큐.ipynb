{
  "nbformat": 4,
  "nbformat_minor": 0,
  "metadata": {
    "colab": {
      "provenance": [],
      "authorship_tag": "ABX9TyPdXza197WtK/cZGe3EPgWX"
    },
    "kernelspec": {
      "name": "python3",
      "display_name": "Python 3"
    },
    "language_info": {
      "name": "python"
    }
  },
  "cells": [
    {
      "cell_type": "markdown",
      "source": [
        "[programmers 이중우선순위큐](https://school.programmers.co.kr/learn/courses/30/lessons/42628)  \n",
        "이중 우선순위 큐는 다음 연산을 할 수 있는 자료구조를 말합니다.  \n",
        "  \n",
        "명령어\t수신 탑(높이)  \n",
        "I 숫자\t큐에 주어진 숫자를 삽입합니다.  \n",
        "D 1\t큐에서 최댓값을 삭제합니다.  \n",
        "D -1\t큐에서 최솟값을 삭제합니다.  \n",
        "이중 우선순위 큐가 할 연산 operations가 매개변수로 주어질 때, 모든 연산을 처리한 후   \n",
        "큐가 비어있으면 [0,0] 비어있지 않으면 [최댓값, 최솟값]을 return 하도록 solution 함수를 구현해주세요.  \n",
        "  \n",
        ">제한사항  \n",
        "operations는 길이가 1 이상 1,000,000 이하인 문자열 배열입니다.  \n",
        "operations의 원소는 큐가 수행할 연산을 나타냅니다.  \n",
        "원소는 “명령어 데이터” 형식으로 주어집니다.- 최댓값/최솟값을 삭제하는 연산에서  \n",
        "최댓값/최솟값이 둘 이상인 경우, 하나만 삭제합니다.  \n",
        "빈 큐에 데이터를 삭제하라는 연산이 주어질 경우, 해당 연산은 무시합니다.  \n"
      ],
      "metadata": {
        "id": "dNuVoXcg66fo"
      }
    },
    {
      "cell_type": "code",
      "execution_count": 5,
      "metadata": {
        "id": "hNtZp1qk61ee"
      },
      "outputs": [],
      "source": [
        "# 입출력 예\n",
        "operations\t= [[\"I 16\", \"I -5643\", \"D -1\", \"D 1\", \"D 1\", \"I 123\", \"D -1\"],[\"I -45\", \"I 653\", \"D 1\", \"I -642\", \"I 45\", \"I 97\", \"D 1\", \"D -1\", \"I 333\"]]\n",
        "result = [[0,0], [333, -45]]"
      ]
    },
    {
      "cell_type": "markdown",
      "source": [
        "우선순위 큐는 배열, 연결리스트, 힙 3가지 방법으로 구현 가능한데,  \n",
        "이 중 우선 순위 큐를 위하여 만들어진 자료구조, 힙(heap)을 활용하여 해결함   \n",
        "데이터들이 우선순위를 가지고 있고 우선순위가 높은 데이터가 먼저 나가는 것을 힙의 삭제와 삽입을 이용하여 구현  \n",
        "heap 모듈을 사용하지 않고 list를 활용함\n"
      ],
      "metadata": {
        "id": "FvBRQGB68Jh5"
      }
    },
    {
      "cell_type": "code",
      "source": [
        "def solution(operations):\n",
        "    heap = [] # 리스트로 힙 구현\n",
        "    for operation in operations:\n",
        "        command, num = operation.split(' ') # 명령어와 숫자 분리하여 저장\n",
        "        if command == 'D':\n",
        "            if not heap:\n",
        "                continue\n",
        "            if num == '1': # 최댓값 삭제. 리스트 오름차순 정렬하여 맨 뒤의 값 pop 시킴\n",
        "                heap.sort()\n",
        "            else: # 최솟값 삭제. 내림차순으로 정렬해서 맨 뒤의 것을 pop 시킴\n",
        "                heap.sort(reverse=True)\n",
        "            heap.pop()\n",
        "        else: #  주어진 숫자 삽입.\n",
        "            heap.append(int(num))\n",
        "            \n",
        "    heap.sort()\n",
        "    return [0, 0] if not heap else [heap[-1], heap[0]] # 기본값[0,0]에 큐가 안비어 있으면 맨 뒤(최댓값)와 앞의 값(최솟값) 출력"
      ],
      "metadata": {
        "id": "Lik1VT24-Hq2"
      },
      "execution_count": 6,
      "outputs": []
    },
    {
      "cell_type": "code",
      "source": [
        "for i in range(len(operations)):\n",
        "  print(result[i] == solution(operations[i]))"
      ],
      "metadata": {
        "colab": {
          "base_uri": "https://localhost:8080/"
        },
        "id": "6B_KIgbfBJJq",
        "outputId": "58b81837-51a5-4d4a-bba8-2db5ee21a1b1"
      },
      "execution_count": 9,
      "outputs": [
        {
          "output_type": "stream",
          "name": "stdout",
          "text": [
            "True\n",
            "True\n"
          ]
        }
      ]
    }
  ]
}