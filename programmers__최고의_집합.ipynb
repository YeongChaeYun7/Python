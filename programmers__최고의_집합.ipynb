{
  "nbformat": 4,
  "nbformat_minor": 0,
  "metadata": {
    "colab": {
      "provenance": [],
      "collapsed_sections": [],
      "authorship_tag": "ABX9TyOUlZNz7X1Ahp4NCXZ6oIb0"
    },
    "kernelspec": {
      "name": "python3",
      "display_name": "Python 3"
    },
    "language_info": {
      "name": "python"
    }
  },
  "cells": [
    {
      "cell_type": "markdown",
      "source": [
        "[programmers 최고의 집합](https://school.programmers.co.kr/learn/courses/30/lessons/12938)  \n",
        "자연수 n 개로 이루어진 중복 집합(multi set, 편의상 이후에는 \"집합\"으로 통칭) 중에 다음 두 조건을 만족하는 집합을 최고의 집합이라고 합니다.  \n",
        "  \n",
        "1. 각 원소의 합이 S가 되는 수의 집합  \n",
        "2. 위 조건을 만족하면서 각 원소의 곱 이 최대가 되는 집합  \n",
        "예를 들어서 자연수 2개로 이루어진 집합 중 합이 9가 되는 집합은 다음과 같이 4개가 있습니다.  \n",
        "{ 1, 8 }, { 2, 7 }, { 3, 6 }, { 4, 5 }  \n",
        "그중 각 원소의 곱이 최대인 { 4, 5 }가 최고의 집합입니다.  \n",
        "  \n",
        "집합의 원소의 개수 n과 모든 원소들의 합 s가 매개변수로 주어질 때,   \n",
        "최고의 집합을 return 하는 solution 함수를 완성해주세요.  \n",
        "\n",
        ">제한사항  \n",
        "최고의 집합은 오름차순으로 정렬된 1차원 배열(list, vector) 로 return 해주세요.  \n",
        "만약 최고의 집합이 존재하지 않는 경우에 크기가 1인 1차원 배열(list, vector) 에 -1 을 채워서 return 해주세요.  \n",
        "자연수의 개수 n은 1 이상 10,000 이하의 자연수입니다.  \n",
        "모든 원소들의 합 s는 1 이상, 100,000,000 이하의 자연수입니다.  \n",
        "   \n"
      ],
      "metadata": {
        "id": "dNuVoXcg66fo"
      }
    },
    {
      "cell_type": "code",
      "execution_count": 1,
      "metadata": {
        "id": "hNtZp1qk61ee"
      },
      "outputs": [],
      "source": [
        "# 입출력 예\n",
        "n\t= [2, 2, 2]\n",
        "s\t= [9, 1, 8]\n",
        "result = [[4, 5], [-1], [4, 4]]"
      ]
    },
    {
      "cell_type": "markdown",
      "source": [
        "먼저 제한사항에 위배되는 경우를 먼저 쳐내야 겠다고 생각했다  \n",
        "최고의 조합이 존재하지 않는 경우는 1번 조건인 각 원소의 합이 s가 되는 수의 집합이기 때문에,  \n",
        "자연수는 최소 1의 값을 가지니깐 n <= s 일수밖에 없음  \n",
        "n <= s 반대인 n > s는 -1을 채워 연산을 끝냄  \n",
        "  \n",
        "1번 조건을 만족하면 각 원소의 곱이 최대가 되는 집합을 반환해야 하는데  \n",
        "곱의 최대는 원소의 차이가 적다.  \n",
        "따라서 s를 n으로 나눈 값이 가장 차이가 적고 곱의 최대인 조합이다.  \n",
        "s // n값의 원소가 n개인 조합을 기본값으로 지정  \n",
        "만약 s가 n으로 안떨어지면 나머지만큼의 원소 수에 +1 처리함으로 문제를 풀었다.  "
      ],
      "metadata": {
        "id": "FvBRQGB68Jh5"
      }
    },
    {
      "cell_type": "code",
      "source": [
        "def solution(n, s):\n",
        "\n",
        "    if s < n : # 최고의 조합이 존재하지 않는 경우\n",
        "        return [-1]\n",
        "    \n",
        "    result = [] # 보통 선언은 위에 정리하지만 1번 조건을 충족한 경우에 만드는게 실용적이라 생각했음\n",
        "    for _ in range(n):\n",
        "        result.append(s // n) # s/n의 몫을 가본값으로 세팅\n",
        "\n",
        "    remainder = len(result)-1 \n",
        "\n",
        "    for i in range(s % n):# s/n 나머지\n",
        "        result[remainder] += 1\n",
        "        remainder -= 1\n",
        "\n",
        "    return result\n",
        "    "
      ],
      "metadata": {
        "id": "Lik1VT24-Hq2"
      },
      "execution_count": 2,
      "outputs": []
    },
    {
      "cell_type": "code",
      "source": [
        "for i in range(len(n)):\n",
        "  print(result[i] == solution(n[i], s[i]))"
      ],
      "metadata": {
        "colab": {
          "base_uri": "https://localhost:8080/"
        },
        "id": "6B_KIgbfBJJq",
        "outputId": "e5e658cf-c1c0-47f3-a5e5-3b2e0bc31dea"
      },
      "execution_count": 3,
      "outputs": [
        {
          "output_type": "stream",
          "name": "stdout",
          "text": [
            "True\n",
            "True\n",
            "True\n"
          ]
        }
      ]
    }
  ]
}