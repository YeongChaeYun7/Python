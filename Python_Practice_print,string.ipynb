{
  "nbformat": 4,
  "nbformat_minor": 0,
  "metadata": {
    "colab": {
      "name": "Python_Practice_print,string.ipynb",
      "provenance": [],
      "collapsed_sections": [],
      "authorship_tag": "ABX9TyMjQ/kWwUQlzZ3dC6iMZEFv"
    },
    "kernelspec": {
      "name": "python3",
      "display_name": "Python 3"
    },
    "language_info": {
      "name": "python"
    }
  },
  "cells": [
    {
      "cell_type": "code",
      "execution_count": null,
      "metadata": {
        "colab": {
          "base_uri": "https://localhost:8080/"
        },
        "id": "jtZmdYkssTeN",
        "outputId": "72616609-bd53-4fb3-9ea6-aa98d709646e"
      },
      "outputs": [
        {
          "output_type": "stream",
          "name": "stdout",
          "text": [
            "Hello Word\n",
            "Mary's cosmetics\n",
            "신씨가 소리질렀다.\"도둑이야\".\n",
            "\"C:\\Windows\"\n",
            "안녕하세요.\n",
            "만나서\t\t반갑습니다.\n",
            "오늘은 일요일\n",
            "naver;kakao;sk;samsung\n",
            "naver;kakao;sk;samsung\n",
            "naver/kakao/sk/samsung\n",
            "firstsecond\n",
            "1.6666666666666667\n"
          ]
        }
      ],
      "source": [
        "# print 기초\n",
        "print(\"Hello Word\")\n",
        "print(\"Mary's cosmetics\")\n",
        "print(\"신씨가 소리질렀다.\\\"도둑이야\\\".\")\n",
        "print(\"\\\"C:\\Windows\\\"\")\n",
        "print(\"안녕하세요.\\n만나서\\t\\t반갑습니다.\")\n",
        "print(\"오늘은\",\"일요일\")\n",
        "print(\"naver;kakao;sk;samsung\")\n",
        "print(\"naver\",\"kakao\",\"sk\",\"samsung\",sep=\";\") ##\n",
        "print(\"naver\",\"kakao\",\"sk\",\"samsung\",sep=\"/\")\n",
        "print(\"first\",end=\"\");print(\"second\") ##\n",
        "print(5/3)\n",
        "print(2+2*3)\n",
        "\n",
        "s = \"hello\"\n",
        "t = \"python\"\n",
        "print(s,t)"
      ]
    },
    {
      "cell_type": "code",
      "source": [
        "# 파이선 변수는 자주 사용되는 값을 바인딩함\n",
        "삼성전자 = 50000\n",
        "총평가금액 = 삼성전자*10\n",
        "print(총평가금액)\n",
        "\n",
        "시가총액=298000000000000\n",
        "현재가=50000\n",
        "PER=15.79\n",
        "print(시가총액,type(시가총액))\n",
        "print(현재가,type(현재가))\n",
        "print(PER,type(PER))"
      ],
      "metadata": {
        "colab": {
          "base_uri": "https://localhost:8080/"
        },
        "id": "dPO5eKlBssas",
        "outputId": "bfe735f9-b67e-43c7-8994-a709c89709f3"
      },
      "execution_count": null,
      "outputs": [
        {
          "output_type": "stream",
          "name": "stdout",
          "text": [
            "500000\n",
            "298000000000000 <class 'int'>\n",
            "50000 <class 'int'>\n",
            "15.79 <class 'float'>\n"
          ]
        }
      ]
    },
    {
      "cell_type": "code",
      "source": [
        "# 변수 타입 전환\n",
        "num_str = \"720\"\n",
        "num_int = int(num_str)\n",
        "print(num_int,type(num_int))\n",
        "\n",
        "num = 100\n",
        "string = str(num)\n",
        "print(string,type(string))\n",
        "\n",
        "s = \"15.79\"\n",
        "f = float(s)\n",
        "print(f,type(f))\n",
        "\n",
        "year = \"2022\"\n",
        "year_int = int(year)\n",
        "print(year_int-2,year_int-1,year_int,sep=\"년\")"
      ],
      "metadata": {
        "colab": {
          "base_uri": "https://localhost:8080/"
        },
        "id": "n0BDwFwbzI9d",
        "outputId": "d2b3857c-d392-41b2-9e24-4834e66867a0"
      },
      "execution_count": null,
      "outputs": [
        {
          "output_type": "stream",
          "name": "stdout",
          "text": [
            "720 <class 'int'>\n",
            "100 <class 'str'>\n",
            "15.79 <class 'float'>\n",
            "2020년2021년2022\n"
          ]
        }
      ]
    },
    {
      "cell_type": "code",
      "source": [
        "#월 48,584원, 무이자 36개월 에어컨의 총 금액\n",
        "월납부 = 48584\n",
        "총금액 = 월납부*36\n",
        "print(\"에어컨이 촘 금액은\",총금액,\"원\")"
      ],
      "metadata": {
        "colab": {
          "base_uri": "https://localhost:8080/"
        },
        "id": "oNIC9KFY550G",
        "outputId": "8c58a489-952b-4faa-a353-185e6bfd79e5"
      },
      "execution_count": null,
      "outputs": [
        {
          "output_type": "stream",
          "name": "stdout",
          "text": [
            "에어컨이 촘 금액은 1749024 원\n"
          ]
        }
      ]
    },
    {
      "cell_type": "code",
      "source": [
        "#문자열 응용(인덱싱, 슬라이싱, 치환)\n",
        "letters = 'python'\n",
        "print(letters[0], letters[2])\n",
        "print(letters[2:])\n",
        "print(letters[::-1])\n",
        "\n",
        "홀짝 = \"홀짝홀짝홀짝\"\n",
        "print(홀짝[::2]) #슬라이싱 [시작:끝:오프셋]\n",
        "print(홀짝[::-1])\n",
        "\n",
        "phone = \"010-1111-2222\"\n",
        "print(phone[:3],phone[4:8],phone[9:])\n",
        "phone2 = phone.replace(\"-\",\"\") #\n",
        "print(phone2)\n",
        "\n",
        "url = \"http://share.book.kr\"\n",
        "print(\"도메인 출력:\",url[-2:])\n",
        "url_split = url.split('.') #split. (.)기준으로 분리\n",
        "print(url_split[-1])\n",
        "\n",
        "#문자열은 immutable. 수정 불가능\n",
        "\n",
        "#replace로 소문자a를 대문자A로 변경\n",
        "m = 'abcde1a2a3a'\n",
        "print(m.replace('a','A'))"
      ],
      "metadata": {
        "colab": {
          "base_uri": "https://localhost:8080/"
        },
        "id": "SdseSkWU6mgv",
        "outputId": "abd9ab31-730e-48a9-9e2b-076a923bb1c5"
      },
      "execution_count": null,
      "outputs": [
        {
          "output_type": "stream",
          "name": "stdout",
          "text": [
            "p t\n",
            "thon\n",
            "nohtyp\n",
            "홀홀홀\n",
            "짝홀짝홀짝홀\n",
            "010 1111 2222\n",
            "01011112222\n",
            "도메인 출력: kr\n",
            "kr\n",
            "Abcde1A2A3A\n"
          ]
        }
      ]
    },
    {
      "cell_type": "code",
      "source": [
        "#문자열 연산\n",
        "hi = 'hi'\n",
        "tom ='tom'\n",
        "print(hi+tom)\n",
        "star = '*'\n",
        "print(star*80)\n",
        "\n",
        "t1 = 'python'\n",
        "t2 = 'java'\n",
        "print((t1+' '+t2+' ')*4)\n",
        "\n",
        "#문자열 포매팅\n",
        "name = \"김민수\"\n",
        "age = 10\n",
        "print(\"이름: %s 나이: %d\"%(name,age)) # formatting\n",
        "print(\"이름: {} 나이: {}\".format(name,age)) # format() 타입상관없음\n",
        "print(f\"이름: {name} 나이: {age} \") # f-string 타입상관없음\n",
        "\n",
        "문자열수 = \"5,969,782,550\"\n",
        "정수 = int(문자열수.replace(',',''))\n",
        "print(정수,type(정수))\n",
        "\n",
        "분기 = \"2022/04(E) (IFRS연결)\"\n",
        "print(분기[:7])\n",
        "\n",
        "# (r,l)strip 문자열 좌우 공백 제거\n",
        "data = \"     데이터     \"\n",
        "data1 = data.strip()\n",
        "data2 = data.rstrip() #rsprip\n",
        "data3 = data.lstrip() #lsprip\n",
        "print(\"l\",data,\"l\")\n",
        "print(\"l\",data1,\"l\")\n",
        "print(\"l\",data2,\"l\")\n",
        "print(\"l\",data3,\"l\")"
      ],
      "metadata": {
        "colab": {
          "base_uri": "https://localhost:8080/"
        },
        "id": "jBjRq-0u94o6",
        "outputId": "16ae8002-9a1a-481f-b8fb-b56515691af6"
      },
      "execution_count": null,
      "outputs": [
        {
          "output_type": "stream",
          "name": "stdout",
          "text": [
            "hitom\n",
            "********************************************************************************\n",
            "python java python java python java python java \n",
            "이름: 김민수 나이: 10\n",
            "이름: 김민수 나이: 10\n",
            "이름: 김민수 나이: 10 \n",
            "5969782550 <class 'int'>\n",
            "2022/04\n",
            "l      데이터      l\n",
            "l 데이터 l\n",
            "l      데이터 l\n",
            "l 데이터      l\n"
          ]
        }
      ]
    },
    {
      "cell_type": "markdown",
      "source": [
        ""
      ],
      "metadata": {
        "id": "QBblhGHMNuER"
      }
    },
    {
      "cell_type": "code",
      "source": [
        "# 문자열 메서드\n",
        "# upper, lower 대소문자 변환\n",
        "ticker =  \"BTD_krw\"\n",
        "ticker_upper = ticker.upper()\n",
        "ticker_lower = ticker.lower()\n",
        "print(ticker_upper)\n",
        "print(ticker_lower)\n",
        "\n",
        "#capitalize 첫글자는 대문자, 뒤는 소문자로 변환\n",
        "a = \"hElLo\"\n",
        "a_cap = a.capitalize()\n",
        "print(a_cap)\n",
        "\n",
        "#startswith, endswith 문자열 시작, 끝부분 판별\n",
        "file = \"파일이름.xlsx\"\n",
        "print(file.startswith((\"파일\")))\n",
        "print(file.endswith((\"xlsx\",\"xls\")))\n",
        "\n",
        "#split 기준을 설정해 문자열 분할하여 리스트 출력 \n",
        "a = \"hello world\"\n",
        "print(a.split(\" \"))\n",
        "date = \"2020-05-01\"\n",
        "print(date.split(\"-\"))"
      ],
      "metadata": {
        "colab": {
          "base_uri": "https://localhost:8080/"
        },
        "id": "_sLGTool9tJK",
        "outputId": "c32c8d34-9c8c-44a2-ca74-1757f57e3acb"
      },
      "execution_count": null,
      "outputs": [
        {
          "output_type": "stream",
          "name": "stdout",
          "text": [
            "BTD_KRW\n",
            "btd_krw\n",
            "Hello\n",
            "True\n",
            "True\n",
            "['hello', 'world']\n",
            "['2020', '05', '01']\n"
          ]
        }
      ]
    }
  ]
}