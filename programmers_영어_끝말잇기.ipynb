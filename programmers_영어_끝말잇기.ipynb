{
  "nbformat": 4,
  "nbformat_minor": 0,
  "metadata": {
    "colab": {
      "provenance": [],
      "collapsed_sections": [],
      "authorship_tag": "ABX9TyMgPzIxAMFxsTyn3ecZ/P7K"
    },
    "kernelspec": {
      "name": "python3",
      "display_name": "Python 3"
    },
    "language_info": {
      "name": "python"
    }
  },
  "cells": [
    {
      "cell_type": "markdown",
      "source": [
        "[programmers 영어 끝말잇기](https://school.programmers.co.kr/learn/courses/30/lessons/12981)   \n",
        "1부터 n까지 번호가 붙어있는 n명의 사람이 영어 끝말잇기를 하고 있습니다.  \n",
        "영어 끝말잇기는 다음과 같은 규칙으로 진행됩니다.  \n",
        "  \n",
        "1번부터 번호 순서대로 한 사람씩 차례대로 단어를 말합니다.  \n",
        "마지막 사람이 단어를 말한 다음에는 다시 1번부터 시작합니다.  \n",
        "앞사람이 말한 단어의 마지막 문자로 시작하는 단어를 말해야 합니다.  \n",
        "이전에 등장했던 단어는 사용할 수 없습니다.  \n",
        "한 글자인 단어는 인정되지 않습니다.  \n",
        "다음은 3명이 끝말잇기를 하는 상황을 나타냅니다.  \n",
        "  \n",
        "tank → kick → know → wheel → land → dream → mother → robot → tank  \n",
        "\n",
        "위 끝말잇기는 다음과 같이 진행됩니다.  \n",
        "  \n",
        "1번 사람이 자신의 첫 번째 차례에 tank를 말합니다.  \n",
        "2번 사람이 자신의 첫 번째 차례에 kick을 말합니다.  \n",
        "3번 사람이 자신의 첫 번째 차례에 know를 말합니다.  \n",
        "1번 사람이 자신의 두 번째 차례에 wheel을 말합니다.  \n",
        "(계속 진행)  \n",
        "끝말잇기를 계속 진행해 나가다 보면, 3번 사람이 자신의 세 번째 차례에 말한 tank 라는 단어는 이전에 등장했던 단어이므로 탈락하게 됩니다.  \n",
        "\n",
        "사람의 수 n과 사람들이 순서대로 말한 단어 words 가 매개변수로 주어질 때,  \n",
        "가장 먼저 탈락하는 사람의 번호와 그 사람이 자신의 몇 번째 차례에 탈락하는지를 구해서 return 하도록 solution 함수를 완성해주세요.  \n",
        "\n",
        ">제한 사항  \n",
        "끝말잇기에 참여하는 사람의 수 n은 2 이상 10 이하의 자연수입니다.  \n",
        "words는 끝말잇기에 사용한 단어들이 순서대로 들어있는 배열이며, 길이는 n 이상 100 이하입니다.  \n",
        "단어의 길이는 2 이상 50 이하입니다.  \n",
        "모든 단어는 알파벳 소문자로만 이루어져 있습니다.  \n",
        "끝말잇기에 사용되는 단어의 뜻(의미)은 신경 쓰지 않으셔도 됩니다.  \n",
        "정답은 [ 번호, 차례 ] 형태로 return 해주세요.  \n",
        "만약 주어진 단어들로 탈락자가 생기지 않는다면, [0, 0]을 return 해주세요.  "
      ],
      "metadata": {
        "id": "HcHUoU4nKAyu"
      }
    },
    {
      "cell_type": "markdown",
      "source": [
        "이 문제의 핵심은 특정 알고리즘이 아니라 인덱스에 얼마나 익숙한지 인것 같다.  \n",
        "오답은 단순히 for문을 돌려서 글자를 비교하기만 하면 쉽게 찾을 수 있다  \n",
        "    \n",
        "오답을 찾으면 words에서 오답의 인덱스를 알 수 있는데,  \n",
        "여기에 사람 수n을 활용하여 오답자의 번호와 차례를 얻을 수 있다  \n",
        "  \n",
        "번호 = (index % n) + 1   \n",
        "차례 = (index // n) + 1"
      ],
      "metadata": {
        "id": "IbyFgliBc1oQ"
      }
    },
    {
      "cell_type": "code",
      "source": [
        "# 입출력 예\n",
        "n\t= [3,5,2]\n",
        "words\t= [[\"tank\", \"kick\", \"know\", \"wheel\", \"land\", \"dream\", \"mother\", \"robot\", \"tank\"], \n",
        "         [\"hello\", \"observe\", \"effect\", \"take\", \"either\", \"recognize\", \"encourage\", \"ensure\", \"establish\", \"hang\", \"gather\", \"refer\", \"reference\", \"estimate\", \"executive\"]\t, \n",
        "         [\"hello\", \"one\", \"even\", \"never\", \"now\", \"world\", \"draw\"]]\n",
        "result = [[3,3], [0,0], [1,3]]"
      ],
      "metadata": {
        "id": "1C9kQ5mb-pth"
      },
      "execution_count": null,
      "outputs": []
    },
    {
      "cell_type": "code",
      "execution_count": null,
      "metadata": {
        "id": "t00BuH0MJ7sE"
      },
      "outputs": [],
      "source": [
        "def solution(n, words):\n",
        "\n",
        "    for i in range(1,len(words)): # 두번째 단어부터 비교 \n",
        "        if words[i][0] != words[i-1][-1] or words[i] in words[:i]:\n",
        "            return [(i%n)+1, (i//n)+1]\n",
        "    \n",
        "    return [0,0] # 탈락자가 없을 경우"
      ]
    },
    {
      "cell_type": "code",
      "source": [
        "for i in range(len(n)):\n",
        "  print (result[i] == solution(n[i], words[i]))"
      ],
      "metadata": {
        "colab": {
          "base_uri": "https://localhost:8080/"
        },
        "id": "CkNmEhvz_SAn",
        "outputId": "f023db8a-ae5d-470a-b81a-b1e4e56ca818"
      },
      "execution_count": null,
      "outputs": [
        {
          "output_type": "stream",
          "name": "stdout",
          "text": [
            "True\n",
            "True\n",
            "True\n"
          ]
        }
      ]
    },
    {
      "cell_type": "markdown",
      "source": [
        "저장하지 않는 방법으로 할 때 반복문 범위는 1 ~ len(words)로 설정  \n",
        "(0~len(words) X)  \n",
        "비교 시 words[i][0] != words[i-1][-1]"
      ],
      "metadata": {
        "id": "Ni8cVAT1Kp8Z"
      }
    }
  ]
}