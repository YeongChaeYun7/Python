{
  "nbformat": 4,
  "nbformat_minor": 0,
  "metadata": {
    "colab": {
      "name": "Python_Practice_Module.ipynb",
      "provenance": [],
      "collapsed_sections": [],
      "authorship_tag": "ABX9TyMLSyjP3Kb7+2Px3sg2KVJr"
    },
    "kernelspec": {
      "name": "python3",
      "display_name": "Python 3"
    },
    "language_info": {
      "name": "python"
    }
  },
  "cells": [
    {
      "cell_type": "markdown",
      "source": [
        "파이썬 모듈 \n",
        "\n",
        ": 파이썬 정의 및 문장들 포함하는 확장자가 .py인 파일"
      ],
      "metadata": {
        "id": "V-2_hhYuT9qg"
      }
    },
    {
      "cell_type": "code",
      "execution_count": 1,
      "metadata": {
        "id": "2TnYI_JQTZO8"
      },
      "outputs": [],
      "source": [
        "import datetime"
      ]
    },
    {
      "cell_type": "code",
      "source": [
        "# 현재 시간\n",
        "now = datetime.datetime.now()\n",
        "print(now,'\\n',type(now))"
      ],
      "metadata": {
        "colab": {
          "base_uri": "https://localhost:8080/"
        },
        "id": "udj-1wR6UDJL",
        "outputId": "aa5e8743-55af-4c04-dc93-9720914eae98"
      },
      "execution_count": 2,
      "outputs": [
        {
          "output_type": "stream",
          "name": "stdout",
          "text": [
            "2022-05-18 08:29:00.084445 \n",
            " <class 'datetime.datetime'>\n"
          ]
        }
      ]
    },
    {
      "cell_type": "code",
      "source": [
        "# 현재 기준 5일 전 시간대까지 출력 timedelta()\n",
        "for day in range(5, 0, -1):\n",
        "    delta = datetime.timedelta(days=day)\n",
        "    date = now - delta\n",
        "    print(date)"
      ],
      "metadata": {
        "colab": {
          "base_uri": "https://localhost:8080/"
        },
        "id": "8X7Ffh52CoxT",
        "outputId": "61e38349-dfd3-4154-80a9-370f0f8c0495"
      },
      "execution_count": 3,
      "outputs": [
        {
          "output_type": "stream",
          "name": "stdout",
          "text": [
            "2022-05-13 08:29:00.084445\n",
            "2022-05-14 08:29:00.084445\n",
            "2022-05-15 08:29:00.084445\n",
            "2022-05-16 08:29:00.084445\n",
            "2022-05-17 08:29:00.084445\n"
          ]
        }
      ]
    },
    {
      "cell_type": "code",
      "source": [
        "# strftime\n",
        "print(now.strftime(\"%H:%M:%S\"))"
      ],
      "metadata": {
        "colab": {
          "base_uri": "https://localhost:8080/"
        },
        "id": "SjTWSRz_Heyn",
        "outputId": "38af3c66-74d9-4219-f346-f6ed7d498df8"
      },
      "execution_count": 4,
      "outputs": [
        {
          "output_type": "stream",
          "name": "stdout",
          "text": [
            "08:29:00\n"
          ]
        }
      ]
    },
    {
      "cell_type": "code",
      "source": [
        "# datetime.datetime.strptime은 문자열 시간을  datetime.datetime 타입의 사간 값으로 변환\n",
        "day = \"2020-05-04\"\n",
        "ret = datetime.datetime.strptime(day, \"%Y-%m-%d\")\n",
        "print(ret, type(ret))"
      ],
      "metadata": {
        "colab": {
          "base_uri": "https://localhost:8080/"
        },
        "id": "lcJJ_ngEHuMn",
        "outputId": "34b11ecd-3f9a-45bc-ccf3-6d45cf8457ff"
      },
      "execution_count": 5,
      "outputs": [
        {
          "output_type": "stream",
          "name": "stdout",
          "text": [
            "2020-05-04 00:00:00 <class 'datetime.datetime'>\n"
          ]
        }
      ]
    },
    {
      "cell_type": "code",
      "source": [
        "# sleep()\n",
        "# 1초에 한 번 현재 시간 출력 *10\n",
        "import time\n",
        "import datetime\n",
        "\n",
        "count = 0\n",
        "while count < 10:\n",
        "    now = datetime.datetime.now()\n",
        "    print(now)\n",
        "    time.sleep(1)\n",
        "    count += 1"
      ],
      "metadata": {
        "colab": {
          "base_uri": "https://localhost:8080/"
        },
        "id": "srFgv2ETIMrI",
        "outputId": "fb2af915-2418-47eb-a0c1-4fcd1dc53292"
      },
      "execution_count": 6,
      "outputs": [
        {
          "output_type": "stream",
          "name": "stdout",
          "text": [
            "2022-05-18 08:29:00.172322\n",
            "2022-05-18 08:29:01.173408\n",
            "2022-05-18 08:29:02.174393\n",
            "2022-05-18 08:29:03.175517\n",
            "2022-05-18 08:29:04.177381\n",
            "2022-05-18 08:29:05.178383\n",
            "2022-05-18 08:29:06.179666\n",
            "2022-05-18 08:29:07.180971\n",
            "2022-05-18 08:29:08.182244\n",
            "2022-05-18 08:29:09.183513\n"
          ]
        }
      ]
    },
    {
      "cell_type": "code",
      "source": [
        "#os모듈\n",
        "import os"
      ],
      "metadata": {
        "id": "pJt-XcVtI8sE"
      },
      "execution_count": 12,
      "outputs": []
    },
    {
      "cell_type": "code",
      "source": [
        "# 현재 디렉터리 경로를 화면에 출력\n",
        "ret = os.getcwd()\n",
        "print(ret, type(ret))"
      ],
      "metadata": {
        "colab": {
          "base_uri": "https://localhost:8080/"
        },
        "id": "lHoz8MTLoykx",
        "outputId": "85d49d12-6603-4820-ff96-f5326f95683a"
      },
      "execution_count": 8,
      "outputs": [
        {
          "output_type": "stream",
          "name": "stdout",
          "text": [
            "/content <class 'str'>\n"
          ]
        }
      ]
    },
    {
      "cell_type": "code",
      "source": [
        "# 바탕화면에 텍스트 파일을 생성한 후 \n",
        "# os 모듈의 rename 함수를 호출하여 해당 파일의 이름을 변경  .rename(변경 전이름의 파일 경로, 변경할 이름의 경로)\n",
        "os.rename('before.txt', 'after.txt')"
      ],
      "metadata": {
        "id": "0CuHpf3GJLNO"
      },
      "execution_count": 15,
      "outputs": []
    },
    {
      "cell_type": "code",
      "source": [
        "# numpy 모듈의 arange 함수를 사용해서 0.0 부터 5.0까지 0.1씩 증가하는 값을 화면에 출력\n",
        "import numpy\n",
        "for i in numpy.arange(0, 5, 0.1):\n",
        "    print(i)"
      ],
      "metadata": {
        "colab": {
          "base_uri": "https://localhost:8080/"
        },
        "id": "NVyezg0vJLIF",
        "outputId": "d1b13bb6-626d-4474-c8c2-b19b0b77eeee"
      },
      "execution_count": 10,
      "outputs": [
        {
          "output_type": "stream",
          "name": "stdout",
          "text": [
            "0.0\n",
            "0.1\n",
            "0.2\n",
            "0.30000000000000004\n",
            "0.4\n",
            "0.5\n",
            "0.6000000000000001\n",
            "0.7000000000000001\n",
            "0.8\n",
            "0.9\n",
            "1.0\n",
            "1.1\n",
            "1.2000000000000002\n",
            "1.3\n",
            "1.4000000000000001\n",
            "1.5\n",
            "1.6\n",
            "1.7000000000000002\n",
            "1.8\n",
            "1.9000000000000001\n",
            "2.0\n",
            "2.1\n",
            "2.2\n",
            "2.3000000000000003\n",
            "2.4000000000000004\n",
            "2.5\n",
            "2.6\n",
            "2.7\n",
            "2.8000000000000003\n",
            "2.9000000000000004\n",
            "3.0\n",
            "3.1\n",
            "3.2\n",
            "3.3000000000000003\n",
            "3.4000000000000004\n",
            "3.5\n",
            "3.6\n",
            "3.7\n",
            "3.8000000000000003\n",
            "3.9000000000000004\n",
            "4.0\n",
            "4.1000000000000005\n",
            "4.2\n",
            "4.3\n",
            "4.4\n",
            "4.5\n",
            "4.6000000000000005\n",
            "4.7\n",
            "4.800000000000001\n",
            "4.9\n"
          ]
        }
      ]
    }
  ]
}