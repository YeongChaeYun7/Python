{
  "nbformat": 4,
  "nbformat_minor": 0,
  "metadata": {
    "colab": {
      "name": "harshad number.ipynb",
      "provenance": [],
      "collapsed_sections": [],
      "authorship_tag": "ABX9TyOKv/l9Uc70Wzo/9DsePX55"
    },
    "kernelspec": {
      "name": "python3",
      "display_name": "Python 3"
    },
    "language_info": {
      "name": "python"
    }
  },
  "cells": [
    {
      "cell_type": "markdown",
      "source": [
        "하샤드 수: 양의 정수 x의 자릿수의 합으로 x가 나누어 떨어지는 것\n",
        "\n",
        "목표: 자연수 x를 입력받아 x가 하샤드 수인지 아닌지 검사하는 함수 \n",
        "\n",
        "\n",
        "10의 거듭제곱 / 1 이상의 한자릿수도 \n",
        "\n"
      ],
      "metadata": {
        "id": "5xP87bWzFVvy"
      }
    },
    {
      "cell_type": "code",
      "execution_count": 30,
      "metadata": {
        "id": "H0L97IzeAwgN"
      },
      "outputs": [],
      "source": [
        "class Harshad:\n",
        "  def __init__(self,num):\n",
        "    self.num = num\n",
        "\n",
        "  def chekOfSum (self):# 각 자릿 수 반환 / 2자릿수 이상만 받음\n",
        "    sum = []\n",
        "    count = 0\n",
        "    while 10**count < self.num :\n",
        "      count += 1\n",
        "      n = (self.num % (10**count))/10**(count-1)\n",
        "      sum.append(int(n))\n",
        "    return sum\n",
        "\n",
        "  def boolHarshad (self): #하샤드 여부 bool반환\n",
        "    if self.num < 2:\n",
        "      return False\n",
        "\n",
        "    elif self.num <10:\n",
        "      return True\n",
        "\n",
        "    else:\n",
        "      n = self.chekOfSum()\n",
        "      if self.num % sum(n) == 0:\n",
        "        return True\n",
        "      else: return False\n",
        "       \n",
        "  def check (self): # 정수값만 받음\n",
        "    if self.boolHarshad():\n",
        "      print('Harshad (O)')\n",
        "    else: \n",
        "      print('Harshad (X)')\n",
        "      "
      ]
    },
    {
      "cell_type": "code",
      "source": [
        "num = input('숫자 입력: ')\n",
        "h = Harshad(int(num))\n",
        "h.check()"
      ],
      "metadata": {
        "colab": {
          "base_uri": "https://localhost:8080/"
        },
        "id": "2UipbC0zpplL",
        "outputId": "8e57ce13-102c-47ef-c2ec-aa6b460d5fcd"
      },
      "execution_count": 31,
      "outputs": [
        {
          "output_type": "stream",
          "name": "stdout",
          "text": [
            "숫자 입력: 9990\n",
            "Harshad (O)\n"
          ]
        }
      ]
    }
  ]
}