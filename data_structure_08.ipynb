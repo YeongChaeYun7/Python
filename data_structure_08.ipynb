{
  "nbformat": 4,
  "nbformat_minor": 0,
  "metadata": {
    "colab": {
      "name": "data_structure_08.ipynb",
      "provenance": [],
      "collapsed_sections": [],
      "authorship_tag": "ABX9TyPypnHfq60rP/KhxmTyasBp"
    },
    "kernelspec": {
      "name": "python3",
      "display_name": "Python 3"
    },
    "language_info": {
      "name": "python"
    }
  },
  "cells": [
    {
      "cell_type": "markdown",
      "source": [
        "# 정렬(sorting)\n",
        "\n",
        ": 데이터를 어떤 기준에 맞춰 순서대로 재배열하는 것\n",
        "\n",
        "정렬에 따라 탐색의 효율성이 달라질 수 있음. \n",
        "\n",
        "= 내가 원하는 데이터가 앞에 올 수 있도록 정렬시켜 시간복잡도를 줄일 수 있음\n",
        "> 정의\n",
        "\n",
        "정렬: 레코드들을 키의 순서로 재배열 하는 것\n",
        "\n",
        "Record: 정렬의 대상. 여러 개의 속성을 가짐\n",
        "\n",
        "field: 레코드가 가지고 있는 다양한 속성\n",
        "\n",
        "key / sort key: 정렬의 기준이 되는 필드\n",
        "\n",
        ">정렬 장소에 따른 분류\n",
        "\n",
        "내부 정렬: 모든 데이터가 메인 메모리에 올라와 있는 정렬\n",
        "\n",
        "외부 정렬: 외부 기억장치에 대부분의 데이터가 있고, 일부만  메모리에 올려 정렬. 대용량 자료에 사용\n",
        "\n"
      ],
      "metadata": {
        "id": "z3oznU8C1853"
      }
    },
    {
      "cell_type": "markdown",
      "source": [
        "# 선택 정렬\n",
        "\n",
        ": 리스트에서 가장 작은 숫자를 택해서 앞쪽으로 옮기는 방법\n",
        "\n",
        "시간 복잡도: (n-1)+(n+2)+...+1 = n(n-1)/2 = O(n**2)\n",
        "\n",
        "\n",
        "제자리 정렬 방식(추가적인 배열 사용x)과 리스트를 2개로 나누어 정렬하는 방식 있음"
      ],
      "metadata": {
        "id": "vFWglZRK5ZMO"
      }
    },
    {
      "cell_type": "code",
      "source": [
        "a = [5,3,8,4,9,1,6,2,7]"
      ],
      "metadata": {
        "id": "ILVAkCBg9w5O"
      },
      "execution_count": null,
      "outputs": []
    },
    {
      "cell_type": "code",
      "execution_count": null,
      "metadata": {
        "id": "tsKTmohLcKkS",
        "colab": {
          "base_uri": "https://localhost:8080/"
        },
        "outputId": "21a06d7e-a96c-4418-939f-c9caa2135c77"
      },
      "outputs": [
        {
          "output_type": "stream",
          "name": "stdout",
          "text": [
            "Step 1 = [1, 3, 8, 4, 9, 5, 6, 2, 7]\n",
            "Step 2 = [1, 2, 8, 4, 9, 5, 6, 3, 7]\n",
            "Step 3 = [1, 2, 3, 4, 9, 5, 6, 8, 7]\n",
            "Step 4 = [1, 2, 3, 4, 9, 5, 6, 8, 7]\n",
            "Step 5 = [1, 2, 3, 4, 5, 9, 6, 8, 7]\n",
            "Step 6 = [1, 2, 3, 4, 5, 6, 9, 8, 7]\n",
            "Step 7 = [1, 2, 3, 4, 5, 6, 7, 8, 9]\n",
            "Step 8 = [1, 2, 3, 4, 5, 6, 7, 8, 9]\n"
          ]
        }
      ],
      "source": [
        "def selectionSort(a):\n",
        "  n = len(a)\n",
        "  for i in range(n-1):\n",
        "    least = i;\n",
        "    for j in range(i+1, n):\n",
        "      if (a[j] < a[least]):\n",
        "        least = j\n",
        "    a[i], a[least] = a[least], a[i]\n",
        "    printStep(a, i + 1) # i+1 = step\n",
        "\n",
        "def printStep(arr, val):\n",
        "  print('Step %d = '%val, end='')\n",
        "  print(arr)\n",
        "\n",
        "selectionSort(a)"
      ]
    },
    {
      "cell_type": "markdown",
      "source": [
        "# 삽입 정렬\n",
        "\n",
        ": 정렬되어 있는 부분에 새로운 레코드를 올바른 위치에 삽입하는 과정 반복\n",
        "\n",
        "입력 자료의 구성에 따라 시간 복잡도가 달라짐\n",
        "\n",
        "레코드의 수가 적거나, 레코드의 대부분이 정렬되있는 경우 사용"
      ],
      "metadata": {
        "id": "4rOWuzEE6vsD"
      }
    },
    {
      "cell_type": "code",
      "source": [
        "def insertionSort(a):\n",
        "  n = len(a)\n",
        "  for i in range(1, n):\n",
        "    key = a[i];\n",
        "    j = i-1\n",
        "    while j >= 0 and a[j]> key:\n",
        "      a[j+1] = a[j]\n",
        "      j -= 1\n",
        "    a[j+1] = key\n",
        "    printStep(a, i)\n",
        "\n",
        "insertionSort(a)"
      ],
      "metadata": {
        "id": "WoG_9zdr9vLZ",
        "colab": {
          "base_uri": "https://localhost:8080/"
        },
        "outputId": "9b025b98-0b4d-4c71-c89b-ecaf0812e3cd"
      },
      "execution_count": null,
      "outputs": [
        {
          "output_type": "stream",
          "name": "stdout",
          "text": [
            "Step 1 = [3, 5, 8, 4, 9, 1, 6, 2, 7]\n",
            "Step 2 = [3, 5, 8, 4, 9, 1, 6, 2, 7]\n",
            "Step 3 = [3, 4, 5, 8, 9, 1, 6, 2, 7]\n",
            "Step 4 = [3, 4, 5, 8, 9, 1, 6, 2, 7]\n",
            "Step 5 = [1, 3, 4, 5, 8, 9, 6, 2, 7]\n",
            "Step 6 = [1, 3, 4, 5, 6, 8, 9, 2, 7]\n",
            "Step 7 = [1, 2, 3, 4, 5, 6, 8, 9, 7]\n",
            "Step 8 = [1, 2, 3, 4, 5, 6, 7, 8, 9]\n"
          ]
        }
      ]
    },
    {
      "cell_type": "markdown",
      "source": [
        "# 버블 정렬\n",
        "\n",
        ": 인접한 2개의 레코드를 비교하여 크기 순서대로가 아니면 서로 교환하는 방법\n",
        "\n",
        "전체 리스트에 대한 비교-교환 과정 선행 후\n",
        "\n",
        "정렬된 위치를 제외한 남은 리스트에 대해 비교-교환 과정 반복 수행\n"
      ],
      "metadata": {
        "id": "xpgmiQWy8O03"
      }
    },
    {
      "cell_type": "code",
      "source": [
        "def bubbleSort(a):\n",
        "  n = len(a)\n",
        "  for i in range(n-1, 0, -1):\n",
        "    bChanged = False\n",
        "    for j in range(i):\n",
        "      if (a[j] > a[j+1]):\n",
        "        a[j], a[j+1] = a[j+1], a[j]\n",
        "        bChanged = True\n",
        "    if not bChanged: break;\n",
        "    printStep(a, n-i)\n",
        "\n",
        "bubbleSort(a)"
      ],
      "metadata": {
        "id": "a3F-qSjk9vr2",
        "colab": {
          "base_uri": "https://localhost:8080/"
        },
        "outputId": "139edc33-8fa4-4486-b24d-03e29e0168ee"
      },
      "execution_count": null,
      "outputs": [
        {
          "output_type": "stream",
          "name": "stdout",
          "text": [
            "Step 1 = [3, 5, 4, 8, 1, 6, 2, 7, 9]\n",
            "Step 2 = [3, 4, 5, 1, 6, 2, 7, 8, 9]\n",
            "Step 3 = [3, 4, 1, 5, 2, 6, 7, 8, 9]\n",
            "Step 4 = [3, 1, 4, 2, 5, 6, 7, 8, 9]\n",
            "Step 5 = [1, 3, 2, 4, 5, 6, 7, 8, 9]\n",
            "Step 6 = [1, 2, 3, 4, 5, 6, 7, 8, 9]\n"
          ]
        }
      ]
    }
  ]
}