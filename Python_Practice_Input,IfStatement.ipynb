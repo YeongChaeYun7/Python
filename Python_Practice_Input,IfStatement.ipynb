{
  "nbformat": 4,
  "nbformat_minor": 0,
  "metadata": {
    "colab": {
      "name": "Python_Practice_Input,IfStatement.ipynb",
      "provenance": [],
      "collapsed_sections": [],
      "authorship_tag": "ABX9TyMC1vKutsDaRFGX+jR42oqA"
    },
    "kernelspec": {
      "name": "python3",
      "display_name": "Python 3"
    },
    "language_info": {
      "name": "python"
    }
  },
  "cells": [
    {
      "cell_type": "code",
      "execution_count": null,
      "metadata": {
        "colab": {
          "base_uri": "https://localhost:8080/"
        },
        "id": "IfCXN_tnfnv7",
        "outputId": "3ba19046-8c24-4017-8345-de1dc4d012b1"
      },
      "outputs": [
        {
          "output_type": "stream",
          "name": "stdout",
          "text": [
            "문자열 입력:gg\n",
            "gggg\n",
            "숫자 입력:5\n",
            "10을 더한 수는 15\n",
            "입력한 숫자는 홀수\n",
            "숫자 입력:50\n",
            "입력값: 50 \n",
            "출력값:30\n"
          ]
        }
      ],
      "source": [
        "# 사용자 입력\n",
        "# 문자열\n",
        "user = input('문자열 입력:')\n",
        "print(user*2)\n",
        "\n",
        "# 숫자 입력받아 활용\n",
        "num = int(input('숫자 입력:'))\n",
        "print('10을 더한 수는',num + 10)\n",
        "\n",
        "if num%2 == 0:\n",
        "  print('입력한 숫자는 짝수')\n",
        "else:\n",
        "  print('입력한 숫자는 홀수')\n",
        "\n",
        "# 입력값에서 20뺀 값 출력. 출력 범위는 0~100\n",
        "in_num = int(input('숫자 입력:'))\n",
        "out_num = in_num - 20\n",
        "if out_num<0:\n",
        "  out_num == 0\n",
        "elif out_num>255:\n",
        "  out_num == 255\n",
        "else:\n",
        "  pass\n",
        "print('입력값: %d \\n출력값:%d'%(in_num,out_num))\n",
        "\n",
        "# 시간 입력\n",
        "time = input('현재 시간은 %d 시 %d 분')"
      ]
    },
    {
      "cell_type": "code",
      "source": [
        "# 시간 입력\n",
        "time = input('현재시간은?(00:00으로 작성)')\n",
        "if time[-2:] == '00':\n",
        "  print('현재시간 %s로 정각 입니다'%time[2:])\n",
        "else:\n",
        "  print('현재시간 %s로 정각이 아닙니다'%time[:])"
      ],
      "metadata": {
        "colab": {
          "base_uri": "https://localhost:8080/"
        },
        "id": "-Y28IFelp33j",
        "outputId": "f544cbbf-07dd-4ab0-b82f-fcfbaee2e580"
      },
      "execution_count": null,
      "outputs": [
        {
          "output_type": "stream",
          "name": "stdout",
          "text": [
            "현재시간은?(00:00으로 작성)05:00\n",
            "현재시간 :00로 정각 입니다\n"
          ]
        }
      ]
    },
    {
      "cell_type": "code",
      "source": [
        "# 사용자 입력이 리스트에 포함되는지 확인\n",
        "fruit = [\"사과\", \"포도\", \"홍시\"]\n",
        "user = input('과일 입력:')\n",
        "if user in fruit:\n",
        "  print('정답')\n",
        "else:\n",
        "  print('오답')\n",
        "\n",
        "warn_investment_list=['Google', 'Naver', 'Kakao', 'Samsung','LG']\n",
        "investment = input('투자 종목명:')\n",
        "if investment in warn_investment_list:\n",
        "  print('투자 경고 종목입니다')\n",
        "else:\n",
        "  print('투자 경고 종목이 아닙니다')"
      ],
      "metadata": {
        "id": "Lx8GGz92rZ4b",
        "colab": {
          "base_uri": "https://localhost:8080/"
        },
        "outputId": "4662b280-f3f7-478f-ba84-6d0705e83261"
      },
      "execution_count": 2,
      "outputs": [
        {
          "output_type": "stream",
          "name": "stdout",
          "text": [
            "과일 입력:사과\n",
            "정답\n",
            "투자 종목명:Kakao\n",
            "투자 경고 종목입니다\n"
          ]
        }
      ]
    },
    {
      "cell_type": "code",
      "source": [
        "# 사용자 입력이 딕셔너리 key에 포함되는지 확인\n",
        "fruit = {'봄':'딸기','여름':'토마토','가을':'사과'}\n",
        "key = input('계절 입력:')\n",
        "if key in fruit:\n",
        "  print('정답')\n",
        "else:\n",
        "  print('오답') \n",
        "\n",
        "# 사용자 입력이 딕셔너리 value에 포함되는지 확인v\n",
        "value =input('과일 입력:')\n",
        "if value in fruit:\n",
        "  print('정답')\n",
        "else:\n",
        "  print('오답') "
      ],
      "metadata": {
        "colab": {
          "base_uri": "https://localhost:8080/"
        },
        "id": "cUQXXM7S8zZt",
        "outputId": "25532fd0-e24e-4f40-8272-3639abeab8eb"
      },
      "execution_count": 3,
      "outputs": [
        {
          "output_type": "stream",
          "name": "stdout",
          "text": [
            "계절 입력:봄\n",
            "정답\n",
            "과일 입력:수박\n",
            "오답\n"
          ]
        }
      ]
    },
    {
      "cell_type": "code",
      "source": [
        "# 사용자로부터 문자 한 개를 입력 받고, \n",
        "# 소문자는 대문자로, 대문자는 소문자로 변경해서 출력\n",
        "user =input('알파벳 입력:')\n",
        "if user.islower(): # islower는 대소문자 판별, 소문자는 T, 대문자는 F반환\n",
        "  print(user.upper())\n",
        "else:\n",
        "  print(user.lower())"
      ],
      "metadata": {
        "colab": {
          "base_uri": "https://localhost:8080/"
        },
        "id": "E4ElsPnYBeff",
        "outputId": "a574fc33-4233-4b18-df4d-09c6aa3fc463"
      },
      "execution_count": 6,
      "outputs": [
        {
          "output_type": "stream",
          "name": "stdout",
          "text": [
            "알파벳 입력:a\n",
            "A\n"
          ]
        }
      ]
    },
    {
      "cell_type": "code",
      "source": [
        "# score를 입력받아 학점을 출력\n",
        "score = int(input('점수 입력:'))\n",
        "grade = 0\n",
        "if 81 < score:\n",
        "  grade = 'A'\n",
        "elif 61 < score:\n",
        "  grade = 'B'\n",
        "elif 41 < score:\n",
        "  grade = 'C'\n",
        "elif 21 < score:\n",
        "  grade = 'D'\n",
        "else:\n",
        "  grade = 'F'\n",
        "print('grade is',grade)"
      ],
      "metadata": {
        "colab": {
          "base_uri": "https://localhost:8080/"
        },
        "id": "ovQzo8HtMOBS",
        "outputId": "c9d3b164-57c1-4a2d-950e-d26ca47040c8"
      },
      "execution_count": 1,
      "outputs": [
        {
          "output_type": "stream",
          "name": "stdout",
          "text": [
            "점수 입력:50\n",
            "grade is C\n"
          ]
        }
      ]
    },
    {
      "cell_type": "code",
      "source": [
        "# 달러, 엔, 유로, 또는 위안 금액을 입력받은 후, 원으로 변환\n",
        "# 금액과 통화명 사이에 공백을 넣어 입력한다고 가정\n",
        "환율 = {'달러' : 1167,\n",
        "      '엔' : 1.096,\n",
        "      '유로' : 1268,\n",
        "      '위안' : 171}\n",
        "user = input('입력:')\n",
        "money, currency = user.split(' ')\n",
        "print(float(money)*환율[currency],'원 입니다.')"
      ],
      "metadata": {
        "colab": {
          "base_uri": "https://localhost:8080/"
        },
        "id": "xg4kwW4KBeVh",
        "outputId": "bf948e21-07c9-4167-af03-d490c22ee42c"
      },
      "execution_count": 7,
      "outputs": [
        {
          "output_type": "stream",
          "name": "stdout",
          "text": [
            "입력:1 달러\n",
            "1167.0 원 입니다.\n"
          ]
        }
      ]
    },
    {
      "cell_type": "code",
      "source": [
        "# 사용자로부터 세 개의 숫자를 입력 받은 후 가장 큰 숫자를 출력\n",
        "num = (list(map(int,input().split(' '))))\n",
        "max(num)"
      ],
      "metadata": {
        "colab": {
          "base_uri": "https://localhost:8080/"
        },
        "id": "5w741MeoMzIV",
        "outputId": "fba19dca-d7fb-464f-ad94-85936abdf706"
      },
      "execution_count": 8,
      "outputs": [
        {
          "name": "stdout",
          "output_type": "stream",
          "text": [
            "2 5 6\n"
          ]
        },
        {
          "output_type": "execute_result",
          "data": {
            "text/plain": [
              "6"
            ]
          },
          "metadata": {},
          "execution_count": 8
        }
      ]
    },
    {
      "cell_type": "code",
      "source": [
        "# 폰 번호 앞자리로 통신사 구분됨. 폰 번호를 입력 받고, 통신사를 출력\n",
        "# 하이픈 넣어 입력 한다고 가정\n",
        "number = input()\n",
        "com,_,_ = number.split('-')\n",
        "if com == '011':\n",
        "  print('SKT 사용자 입니다')\n",
        "elif com == '016':\n",
        "  print('KT 사용자 입니다')\n",
        "elif com == '019':\n",
        "  print('LGU 사용자 입니다')\n",
        "else:\n",
        "  print('통신사를 알 수 없습니다')"
      ],
      "metadata": {
        "colab": {
          "base_uri": "https://localhost:8080/"
        },
        "id": "-UnN0wKYAIMj",
        "outputId": "d030ddab-7a62-46b8-9b36-ae48f9464651"
      },
      "execution_count": 12,
      "outputs": [
        {
          "output_type": "stream",
          "name": "stdout",
          "text": [
            "019-111-1111\n",
            "LGU 사용자 입니다\n"
          ]
        }
      ]
    },
    {
      "cell_type": "code",
      "source": [
        "from collections import UserString\n",
        "# 주민등록번호를 입력 받은 후 성별 (남자, 여자)를 출력\n",
        "user = input('주민등록번호:')\n",
        "user = user.split('-')\n",
        "if user[1][0] == '1' or user[1][0] =='3':\n",
        "  print('남자')\n",
        "else:\n",
        "  print('여자')\n",
        "\n",
        "# 입력 받은 주민등록번호로 출생지 출력\n",
        "if 0<=int(user[1][1:3])<9:\n",
        "  print('출생지는 서울입니다')\n",
        "else:\n",
        "  print('출생지는 서울이 아닙니다')\n",
        "\n",
        "# 입력 받은 주민등록번호 유효지 출력\n",
        "# 앞에서부터 12개 숫자에 2, 3, 4, 5, 6, 7, 8, 9, 2, 3, 4, 5를 곱하여 총 합 연산\n",
        "# 총합을 11로 나눈 나머지를 11에서 뺀 값이 마지막 번호와 동일해야함\n",
        "user = user[0]+user[1]\n",
        "num = int(user[0])*2+int(user[1])*3+int(user[2])*4+int(user[3])*5+int(user[4])*6+int(user[5])*7+int(user[6])*8+int(user[7])*9+int(user[8])*2+int(user[9])*3+int(user[10])*4+int(user[11])*5\n",
        "if 11- (num%11)== int(user[-1]):\n",
        "  print('유효한 주민등록 번호입니다')\n",
        "else:\n",
        "    print('유효하지않은 주민등록 번호입니다')"
      ],
      "metadata": {
        "colab": {
          "base_uri": "https://localhost:8080/"
        },
        "id": "LoqAYxhfJVCH",
        "outputId": "6b1af24c-0149-4034-a25e-3b7bb8c70a38"
      },
      "execution_count": 49,
      "outputs": [
        {
          "output_type": "stream",
          "name": "stdout",
          "text": [
            "주민등록번호:111111-1234567\n",
            "남자\n",
            "출생지는 서울이 아닙니다\n",
            "유효하지않은 주민등록 번호입니다\n"
          ]
        }
      ]
    },
    {
      "cell_type": "code",
      "source": [
        "# 비트코인의 가격 정보를 딕셔너리로 가져옴\n",
        "# btc 딕셔너리 안에는 시가, 종가, 최고가, 최저가 등이 저장\n",
        "# 시가 + 변동폭이 최고가 보다 높을 경우 상승장, 아니면 하락장 출력\n",
        "import requests\n",
        "btc = requests.get(\"https://api.bithumb.com/public/ticker/\").json()['data']\n",
        "\n",
        "변동폭 = float(btc['max_price']) - float(btc['min_price'])\n",
        "시가 = float(btc['opening_price'])\n",
        "최고가 = float(btc['max_price'])\n",
        "\n",
        "if (시가+변동폭) > 최고가:\n",
        "    print(\"상승장\")\n",
        "else:\n",
        "    print(\"하락장\")"
      ],
      "metadata": {
        "id": "dZyyhC2tU7dg"
      },
      "execution_count": null,
      "outputs": []
    }
  ]
}