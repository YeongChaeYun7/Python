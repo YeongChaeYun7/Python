{
  "nbformat": 4,
  "nbformat_minor": 0,
  "metadata": {
    "colab": {
      "name": "data_structure_02.ipynb",
      "provenance": [],
      "collapsed_sections": [],
      "authorship_tag": "ABX9TyOyh1hSrHMTXT2Ad1MTh5PB"
    },
    "kernelspec": {
      "name": "python3",
      "display_name": "Python 3"
    },
    "language_info": {
      "name": "python"
    }
  },
  "cells": [
    {
      "cell_type": "markdown",
      "source": [
        "# 자료구조 리스트\n",
        "\n",
        ": 항목들이 차례대로 나열되있는 선형 자료\n",
        "\n",
        " 항목은 순서와 위치를 가짐\n",
        "\n",
        " 임의의 위치에 항목의 삽입/추가 가능\n",
        "\n",
        " 자료구조의 리스트와 파이썬의 리스트는 다르다.\n",
        "\n",
        "# 리스트 구현 방식\n",
        "\n",
        "- 배열 구조\n",
        "\n",
        "같은 자료형의 데이터를 한번에 만들 때 사용\n",
        "\n",
        "항목들이 메모리의 연속된 공간에 위치/항목접근의 시간 복잡도O(1)\n",
        "\n",
        "용량변경이 어렵고 배열 중간에 대한 연산이 비효율적\n",
        "\n",
        "- 연결된 구조\n",
        "\n",
        "링크를 이용해 다음 항목의 위치만 인지\n",
        "\n",
        "항목들이 메모리의 인접한 위치에 있다는 보장 불가\n",
        "\n",
        "용량변경이 용이하고 삽입과 삭제 효율적"
      ],
      "metadata": {
        "id": "RAsl4vwOjV61"
      }
    },
    {
      "cell_type": "code",
      "source": [
        "# 리스트 ADT 구현\n",
        "class List:\n",
        "  def __init__(self):\n",
        "    self.L = []\n",
        "\n",
        "  def insert(self,pos,e):\n",
        "    if len(self.L) > pos: \n",
        "      self.L.insert(pos,e)\n",
        "      print('리스트의 %s 위치에 %s 추가'%(pos,e))\n",
        "    else:\n",
        "      print('인덱스 오류')\n",
        "    \n",
        "  def delete (self,pos):\n",
        "    if len(self.L) > pos: \n",
        "      self.L.pop(pos)\n",
        "      print('리스트의 [%s] 위치  삭제'%pos)\n",
        "    else:\n",
        "      print('인덱스 오류')\n",
        "    \n",
        "  def isEntry(self):\n",
        "      if len(self.L) == 0:\n",
        "        print('리스트 비어있음')\n",
        "      else:\n",
        "        print('리스트 비어있지 않음')\n",
        "\n",
        "  def getEntry (self,pos):\n",
        "    if len(self.L) > pos:\n",
        "      print('리스트의 %s 인덱스 위치'%pos,self.L[pos])\n",
        "    else:\n",
        "      print('인덱스 오류')\n",
        "\n",
        "  def size(self):\n",
        "      count = 0\n",
        "      for i in self.ㅣ:\n",
        "        count += len(i)\n",
        "      print('리스트안의 요소의 개수는 %s개'%count)\n",
        "\n",
        "  def clear(self):\n",
        "    self.L.clear()\n",
        "    print('리스트 비움')\n",
        "\n",
        "  def find(self,item):\n",
        "    print('%s의 인덱스 위치는[%s]'%(item,self.L.index(item)))\n",
        "\n",
        "  def replace(self,pos,item):\n",
        "    self.L.replace()\n",
        "    print('리스트 요소 %s를 %s로 변경'%(pos,item))\n",
        "\n",
        "  def sort(self,updown):# updown은 정렬 방식. up과 down으로 입력받음\n",
        "      if updown == 'up':\n",
        "       print('리스트 오름차순 정렬',sorted(self.L))\n",
        "      elif updown == 'down':\n",
        "        self.L.sort()\n",
        "        self.L.reverse()\n",
        "        print('리스트 내림차순 정렬',self.L)\n",
        "      else:\n",
        "        print('_sort()안에 up/down으로 입력하세요')\n",
        "      \n",
        "  def merge(self,lst): \n",
        "    self.L.append(lst)\n",
        "    print('리스트에 리스트%s 추가'%lst)\n",
        "\n",
        "  def display(self):\n",
        "    print(self.L)\n",
        "\n",
        "  def append(self,e):\n",
        "    self.L.append(e)\n",
        "    print('리스트의 끝에 %s 추가'%e)"
      ],
      "metadata": {
        "id": "qsNNqLXbjlU8"
      },
      "execution_count": null,
      "outputs": []
    },
    {
      "cell_type": "code",
      "source": [
        "L = List()\n",
        "\n",
        "L.append(1)\n",
        "L.merge([2,3,4])\n",
        "L.insert(0,5)\n",
        "L.find(5)\n",
        "L.display()"
      ],
      "metadata": {
        "colab": {
          "base_uri": "https://localhost:8080/"
        },
        "id": "-ECM-e-_p3fj",
        "outputId": "733b4d83-1867-4053-b662-6edf362ef357"
      },
      "execution_count": null,
      "outputs": [
        {
          "output_type": "stream",
          "name": "stdout",
          "text": [
            "리스트의 끝에 1 추가\n",
            "리스트에 리스트[2, 3, 4] 추가\n",
            "리스트의 0 위치에 5 추가\n",
            "5의 인덱스 위치는[0]\n",
            "[5, 1, [2, 3, 4]]\n"
          ]
        }
      ]
    },
    {
      "cell_type": "markdown",
      "source": [
        "\n",
        "- 리스트 응용 - 라인편집기\n",
        "\n",
        "i: 라인 삽입 . 행 번호와 문자열을 입력하면 그 행에 한 라인 추가\n",
        "\n",
        "d: 한 라인 삭제 . 행 번호를 입력하면 그 행을 삭제\n",
        "\n",
        "r: 한 라인 변경 . 행 번호와 문자열을 입력하면 그 행의 내용을 변경\n",
        "\n",
        "p: 현재 내용 출력 . 현재 문서의 모든 내용을 라인 번호와 함께 출력\n",
        "\n",
        "l: 파일 입력 . 지정된 (test.txt) 파일로부터 라인을 읽어 들임\n",
        "\n",
        "s: 파일 출력 . 지정된 (test.txt) 파일로 편집 내용을 저장\n",
        "\n",
        "q: 편집기 종료"
      ],
      "metadata": {
        "id": "3BKKXCRG6NQ7"
      }
    },
    {
      "cell_type": "code",
      "source": [
        "def LineEditor():\n",
        "  list = List()\n",
        "  while True:\n",
        "    command = input('[메뉴선택] i-입력, d-삭제, r-변경, p-출력, l-파일읽기, s-저장, q-종료 => ')\n",
        "    if command == 'i':\n",
        "      pos = int(input(' 입력행 번호: '))\n",
        "      str =  input(' 입력행 내용: ')\n",
        "      list.insert(pos, str)\n",
        "    elif command == 'd':\n",
        "      pos = int(input(' 삭제행 번호: '))\n",
        "      list.delete(pos)\n",
        "    elif command == 'r':\n",
        "      pos = int(input('변경행 번호: '))\n",
        "      str =  input(' 변경행 내용: ')\n",
        "      list.replace(pos,str)\n",
        "    elif command == 'q': return\n",
        "    elif command == 'p':\n",
        "      print('Line Editor')\n",
        "      for line in range(list.size()):\n",
        "        print('[%d]'%line, end='') \n",
        "        print(list.getEntry(line))\n",
        "      print()\n",
        "    elif command == 'l':\n",
        "      filename = 'test.txt'\n",
        "      with open (filename,'r') as f:\n",
        "        lines = f.readlines()\n",
        "        list.clear()\n",
        "        for line in lines:\n",
        "          line.insert(list.size(),line.restrip('\\n'))\n",
        "    elif command == 's':\n",
        "      filename = 'test.txt'\n",
        "      with open (filename,'w') as f:\n",
        "        for i in range(list.size()):\n",
        "          f.write(list.getEntry(i)+'\\n')"
      ],
      "metadata": {
        "id": "R0vXhmzl6cSX"
      },
      "execution_count": null,
      "outputs": []
    }
  ]
}