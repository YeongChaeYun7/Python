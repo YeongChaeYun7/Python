{
  "nbformat": 4,
  "nbformat_minor": 0,
  "metadata": {
    "colab": {
      "name": "Python_Practice_list,tuple.ipynb",
      "provenance": [],
      "collapsed_sections": [],
      "authorship_tag": "ABX9TyOusg+UjOJIzc800BjDkK8z"
    },
    "kernelspec": {
      "name": "python3",
      "display_name": "Python 3"
    },
    "language_info": {
      "name": "python"
    }
  },
  "cells": [
    {
      "cell_type": "code",
      "execution_count": null,
      "metadata": {
        "id": "j-zA9IEayvwU",
        "colab": {
          "base_uri": "https://localhost:8080/"
        },
        "outputId": "0f96f9bd-fc6b-4ca2-c853-cb1814aa5164"
      },
      "outputs": [
        {
          "output_type": "stream",
          "name": "stdout",
          "text": [
            "['C', 'C+', 'JAVA', 'C#', 'Python', 'JAVA']\n",
            "max: 7\n",
            "min: 1\n",
            "28\n",
            "7\n",
            "average: 4.0\n"
          ]
        }
      ],
      "source": [
        "#list: 순서가 있고 수정 가능한 자료 구조\n",
        "movie = ['앵커', '신비한 동물사전','모비우스']#list 생성\n",
        "movie.append('해리포터') #값 추가\n",
        "movie.insert(1,'닥터 스트레인지') #인덱스 위치지정 값 추가\n",
        "del movie[:2] # 값 삭제\n",
        "\n",
        "#list 덧셈. 요소가 합쳐져 1차 리스트로 출력\n",
        "lang1 = ['C','C+','JAVA']\n",
        "lang2 = ['C#','Python','JAVA']\n",
        "langs = lang1 + lang2\n",
        "print(langs)\n",
        "\n",
        "#함수 활용\n",
        "nums = [1,2,3,4,5,6,7]\n",
        "print('max:',max(nums))\n",
        "print('min:',min(nums))\n",
        "print(sum(nums))\n",
        "print(len(nums))\n",
        "print('average:',sum(nums)/len(nums))"
      ]
    },
    {
      "cell_type": "code",
      "source": [
        "#list 슬라이싱\n",
        "price = ['20180728',100,130,140,150,160,170]\n",
        "print(price[1:])\n",
        "\n",
        "n = [1,2,3,4,5,6,7,8,9,10]\n",
        "print(n[::2])\n",
        "print(n[1::2])\n",
        "print(n[::-1])\n",
        "\n",
        "# join, split 메서드\n",
        "interest = ['네이버','구글','카카오','삼성']\n",
        "del interest[1]\n",
        "print(interest)\n",
        "print(interest, sep=' ') #리스트 형식 출력\n",
        "print(' '.join(interest)) #요소만 출력\n",
        "print('\\n'.join(interest)) \n",
        "string = '네이버/카카오/삼성'\n",
        "print(string.split('/'))\n",
        "\n",
        "#list 정렬\n",
        "a = [3,1,6,8,26,4,74]\n",
        "print(sorted(a)) #정렬. 오름차순\n",
        "a.sort()\n",
        "print(a) #정렬2\n",
        "a.reverse()\n",
        "print(a)#역정렬. 내림차순"
      ],
      "metadata": {
        "colab": {
          "base_uri": "https://localhost:8080/"
        },
        "id": "7-wlCOqnpfvY",
        "outputId": "10feda87-6626-4bf0-d0cc-59f309b7d34d"
      },
      "execution_count": null,
      "outputs": [
        {
          "output_type": "stream",
          "name": "stdout",
          "text": [
            "[100, 130, 140, 150, 160, 170]\n",
            "[1, 3, 5, 7, 9]\n",
            "[2, 4, 6, 8, 10]\n",
            "[10, 9, 8, 7, 6, 5, 4, 3, 2, 1]\n",
            "['네이버', '카카오', '삼성']\n",
            "['네이버', '카카오', '삼성']\n",
            "네이버 카카오 삼성\n",
            "네이버\n",
            "카카오\n",
            "삼성\n",
            "['네이버', '카카오', '삼성']\n",
            "[1, 3, 4, 6, 8, 26, 74]\n",
            "[1, 3, 4, 6, 8, 26, 74]\n",
            "[74, 26, 8, 6, 4, 3, 1]\n"
          ]
        }
      ]
    },
    {
      "cell_type": "code",
      "source": [
        "# tuple\n",
        "my_tuple = (1,) # tule은 값 하나라도 (,)붙여야 튜플로 인식\n",
        "t =1,2,3,4\n",
        "print(type(t)) #튜플은 괄호 생략 가능\n",
        "\n",
        "#튜플은 수정 불가능\n",
        "#튜플을 가리키는 변수가 다른 튜플을 가리키도록 수정 \n",
        "a = ('a','b','c')\n",
        "aa = list(a)\n",
        "aa[0]='A'\n",
        "a = tuple(aa)\n",
        "print(a, type(a))\n",
        "\n",
        "# range함수\n",
        "# !~99중 짝수만 저장된 튜플 생성\n",
        "data = tuple(range(2,100,2))\n",
        "print(data, type(data))"
      ],
      "metadata": {
        "id": "baPO9yvOpf6B",
        "colab": {
          "base_uri": "https://localhost:8080/"
        },
        "outputId": "928a126e-c06b-4f3b-80a8-bef6b64dc2e8"
      },
      "execution_count": 10,
      "outputs": [
        {
          "output_type": "stream",
          "name": "stdout",
          "text": [
            "<class 'tuple'>\n",
            "('A', 'b', 'c') <class 'tuple'>\n",
            "(2, 4, 6, 8, 10, 12, 14, 16, 18, 20, 22, 24, 26, 28, 30, 32, 34, 36, 38, 40, 42, 44, 46, 48, 50, 52, 54, 56, 58, 60, 62, 64, 66, 68, 70, 72, 74, 76, 78, 80, 82, 84, 86, 88, 90, 92, 94, 96, 98) <class 'tuple'>\n"
          ]
        }
      ]
    }
  ]
}