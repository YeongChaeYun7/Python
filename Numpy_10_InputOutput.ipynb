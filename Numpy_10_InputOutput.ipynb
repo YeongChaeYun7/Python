{
  "nbformat": 4,
  "nbformat_minor": 0,
  "metadata": {
    "colab": {
      "name": "Numpy_10_InputOutput.ipynb",
      "provenance": [],
      "collapsed_sections": [],
      "authorship_tag": "ABX9TyPWWqdOtQJ11m45Wwhm7/NO"
    },
    "kernelspec": {
      "name": "python3",
      "display_name": "Python 3"
    },
    "language_info": {
      "name": "python"
    }
  },
  "cells": [
    {
      "cell_type": "code",
      "execution_count": 14,
      "metadata": {
        "id": "BZeevu2asNG9"
      },
      "outputs": [],
      "source": [
        "import numpy as np"
      ]
    },
    {
      "cell_type": "markdown",
      "source": [
        "# save, load\n",
        "\n",
        "Array 데이터를 외부 파일로 저장(save), 외부 파일을 배열로 불러오는(load)하는 방법\n",
        "\n",
        "np.save \n",
        ": 1개의 배열을 NumPy format의 바이너리 파일로 저장\n",
        "\n",
        "\n",
        "np.load\n",
        ": np.save()로 저장된 *.npy 파일을 배열로 불러오기\n"
      ],
      "metadata": {
        "id": "UgmG1rUBR6iK"
      }
    },
    {
      "cell_type": "code",
      "source": [
        "# 아래 스크립트 파일을 *.npy로 저장\n",
        "x = np.arange(100).reshape(10, 10)\n",
        "np.save('test', x)"
      ],
      "metadata": {
        "id": "toTFnxemR4ej"
      },
      "execution_count": 15,
      "outputs": []
    },
    {
      "cell_type": "code",
      "source": [
        "x = np.load('test.npy')\n",
        "print(x)"
      ],
      "metadata": {
        "colab": {
          "base_uri": "https://localhost:8080/"
        },
        "id": "MiNStsEfSY_J",
        "outputId": "d46bb71a-13a1-4a0a-9cbc-2dcaeb6de9a6"
      },
      "execution_count": 16,
      "outputs": [
        {
          "output_type": "stream",
          "name": "stdout",
          "text": [
            "[[ 0  1  2  3  4  5  6  7  8  9]\n",
            " [10 11 12 13 14 15 16 17 18 19]\n",
            " [20 21 22 23 24 25 26 27 28 29]\n",
            " [30 31 32 33 34 35 36 37 38 39]\n",
            " [40 41 42 43 44 45 46 47 48 49]\n",
            " [50 51 52 53 54 55 56 57 58 59]\n",
            " [60 61 62 63 64 65 66 67 68 69]\n",
            " [70 71 72 73 74 75 76 77 78 79]\n",
            " [80 81 82 83 84 85 86 87 88 89]\n",
            " [90 91 92 93 94 95 96 97 98 99]]\n"
          ]
        }
      ]
    },
    {
      "cell_type": "markdown",
      "source": [
        "# savz\n",
        "\n",
        "여러개의 배열을 1개의 압축되지 않은 *.npz 포맷 파일로 저장\n",
        "\n"
      ],
      "metadata": {
        "id": "X8IdzCmbSnVt"
      }
    },
    {
      "cell_type": "code",
      "source": [
        "x = np.array([1, 3, 5, 7, 9])\n",
        "y = np.linspace(0, 1, 11)\n",
        "z = np.arange(100).reshape(10, 10)\n",
        "\n",
        "np.savez('test', x=x, y=y, z=z) # 스크립트 파일을 *.npz로 저장"
      ],
      "metadata": {
        "id": "jNDBFYNcSY8m"
      },
      "execution_count": 17,
      "outputs": []
    },
    {
      "cell_type": "code",
      "source": [
        "npzfile = np.load('test.npz') # np.savez()로 저장된 *.npz 파일을 배열로 불러옴\n",
        "\n",
        "x = npzfile['x']\n",
        "y = npzfile['y']\n",
        "z = npzfile['z']\n",
        "\n",
        "print(x)\n",
        "print(y)\n",
        "print(z)"
      ],
      "metadata": {
        "colab": {
          "base_uri": "https://localhost:8080/"
        },
        "id": "NuVidCAISY6K",
        "outputId": "aea6e85a-5db6-4fd2-a564-18cf8338fe0a"
      },
      "execution_count": 18,
      "outputs": [
        {
          "output_type": "stream",
          "name": "stdout",
          "text": [
            "[1 3 5 7 9]\n",
            "[0.  0.1 0.2 0.3 0.4 0.5 0.6 0.7 0.8 0.9 1. ]\n",
            "[[ 0  1  2  3  4  5  6  7  8  9]\n",
            " [10 11 12 13 14 15 16 17 18 19]\n",
            " [20 21 22 23 24 25 26 27 28 29]\n",
            " [30 31 32 33 34 35 36 37 38 39]\n",
            " [40 41 42 43 44 45 46 47 48 49]\n",
            " [50 51 52 53 54 55 56 57 58 59]\n",
            " [60 61 62 63 64 65 66 67 68 69]\n",
            " [70 71 72 73 74 75 76 77 78 79]\n",
            " [80 81 82 83 84 85 86 87 88 89]\n",
            " [90 91 92 93 94 95 96 97 98 99]]\n"
          ]
        }
      ]
    },
    {
      "cell_type": "markdown",
      "source": [
        "# savetxt, loadtxt\n",
        "\n",
        "np. savetxt\n",
        ": 여러개의 배열을 텍스트 파일로 저장\n",
        "\n",
        "np.loadtext \n",
        ": 텍스트 파일을 배열로 불러오기\n"
      ],
      "metadata": {
        "id": "XuAmgsdjSJkb"
      }
    },
    {
      "cell_type": "code",
      "source": [
        "x = np.arange(100).reshape(10, 10)\n",
        "np.savetxt('test.txt', x) #  스크립트 파일을 *.txt로 저장하고 실행"
      ],
      "metadata": {
        "id": "lWUIX0drR4b7"
      },
      "execution_count": 19,
      "outputs": []
    },
    {
      "cell_type": "code",
      "source": [
        "x = np.loadtxt('test.txt')\n",
        "print(x)"
      ],
      "metadata": {
        "colab": {
          "base_uri": "https://localhost:8080/"
        },
        "id": "tuGr4ZVRR4Zi",
        "outputId": "fbca92a8-d4a3-4fa5-896d-a28b04a4560f"
      },
      "execution_count": 20,
      "outputs": [
        {
          "output_type": "stream",
          "name": "stdout",
          "text": [
            "[[ 0.  1.  2.  3.  4.  5.  6.  7.  8.  9.]\n",
            " [10. 11. 12. 13. 14. 15. 16. 17. 18. 19.]\n",
            " [20. 21. 22. 23. 24. 25. 26. 27. 28. 29.]\n",
            " [30. 31. 32. 33. 34. 35. 36. 37. 38. 39.]\n",
            " [40. 41. 42. 43. 44. 45. 46. 47. 48. 49.]\n",
            " [50. 51. 52. 53. 54. 55. 56. 57. 58. 59.]\n",
            " [60. 61. 62. 63. 64. 65. 66. 67. 68. 69.]\n",
            " [70. 71. 72. 73. 74. 75. 76. 77. 78. 79.]\n",
            " [80. 81. 82. 83. 84. 85. 86. 87. 88. 89.]\n",
            " [90. 91. 92. 93. 94. 95. 96. 97. 98. 99.]]\n"
          ]
        }
      ]
    }
  ]
}