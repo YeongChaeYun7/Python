{
  "nbformat": 4,
  "nbformat_minor": 0,
  "metadata": {
    "colab": {
      "name": "data_structure_05.ipynb",
      "provenance": [],
      "collapsed_sections": [],
      "authorship_tag": "ABX9TyPFRzXBR5QxFXrL3gdjdPvU"
    },
    "kernelspec": {
      "name": "python3",
      "display_name": "Python 3"
    },
    "language_info": {
      "name": "python"
    }
  },
  "cells": [
    {
      "cell_type": "markdown",
      "source": [
        "# Queue\n",
        "\n",
        "선입선출(FIFO) 형태의 자료구조\n",
        "\n",
        "스택 후단(rear)으로 삽입, 전단(fornt)으로 삭제하는 구조\n",
        "너비 우선 탐색(BFS)에 주로 사용함\n",
        "\n",
        "다음은 Queue 자료 구조에서 쓰이는 용어를 정리한 것이다.\n",
        "\n",
        "Enqueue : 큐 맨 뒤에 어떠한 요소를 추가\n",
        "\n",
        "Dequeue : 큐 맨 앞쪽의 요소를 삭제\n",
        "\n",
        "Peek : front에 위치한 데이터를 읽음\n",
        "\n",
        "front : 큐의 맨 앞의 위치(인덱스)\n",
        "\n",
        "rear : 큐의 맨 뒤의 위치(인덱스)"
      ],
      "metadata": {
        "id": "s9sz8fx_UbyD"
      }
    },
    {
      "cell_type": "code",
      "execution_count": 4,
      "metadata": {
        "id": "2Q3dykxBEpZt"
      },
      "outputs": [],
      "source": [
        "# 선형 큐\n",
        "class queue:\n",
        "  def __init__(self) :\t\t\n",
        "      self.items = []\n",
        "\n",
        "  def isEmpty(self):\n",
        "      return len(self.items) == 0\t\n",
        "\n",
        "  def enqueue(self):\n",
        "      self.items.append(self.item)\t\t\n",
        "\n",
        "  def dequeue(self):\n",
        "      if not self.isEmpty():\t\t\n",
        "          return self.items.pop(0)\t\n",
        "\n",
        "  def peek(self):\t\t\t        \n",
        "      if not self.isEmpty(): return self.items[-1]\n",
        "\n",
        "  def size(self):\n",
        "      return len(self.items)\n",
        "\n",
        "  def clear(self):\n",
        "      self.items = []"
      ]
    },
    {
      "cell_type": "code",
      "source": [
        "# 원형 큐\n",
        "class CircularQueue :\n",
        "    def __init__(self, MAX_QSIZE) :\t\t\n",
        "        self.front = 0 \n",
        "        self.rear = 0\t\t\t\n",
        "        self.items = [None] * MAX_QSIZE\t\n",
        "\n",
        "    def isEmpty(self) : return self.front == self.rear # front와 rear의 위치가 동일하면 빈 것으로 간주\n",
        "    def isFull(self) : return self.front == (self.rear+1)%MAX_QSIZE\n",
        "    def clear(self) : self.front = self.rear\n",
        "\n",
        "    def enqueue(self, item):\n",
        "        if not self.isFull(): # 원형 큐에선 빈 상태와 포화상태 구별을 위해 항상 하나 이상 공간이 비어있어야함\t\t\t            \n",
        "            self.rear = (self.rear+1)% MAX_QSIZE\n",
        "            self.items[self.rear] = item\n",
        "\n",
        "    def dequeue(self):\n",
        "        if not self.isEmpty(): # 큐가 비어있을 경우 처리할 데이터가 없기에 연산에서 제외\t\t\t            \n",
        "            self.front = (self.front+1)% MAX_QSIZE\t\n",
        "            return self.items[self.front]\t        \n",
        "\n",
        "    def peek(self):\n",
        "        if not self.isEmpty():\n",
        "            return self.items[(self.front + 1) % MAX_QSIZE]\n",
        "\n",
        "    def size(self) :\n",
        "       return (self.rear - self.front + MAX_QSIZE) % MAX_QSIZE\n",
        "\n",
        "    def display(self):\n",
        "        out = []\n",
        "        if self.front < self.rear :\n",
        "            out = self.items[self.front+1:self.rear+1]\n",
        "        else:\n",
        "            out = self.items[self.front+1:MAX_QSIZE] + self.items[0:self.rear+1]\t\t\n",
        "        print(\"[f=%s,r=%d] ==> \"%(self.front, self.rear), out)"
      ],
      "metadata": {
        "id": "4qLJfiACFtQK"
      },
      "execution_count": 5,
      "outputs": []
    },
    {
      "cell_type": "code",
      "source": [
        "MAX_QSIZE = 10\n",
        "q = CircularQueue(MAX_QSIZE)\t\t\t       \n",
        "for i in range(8): q.enqueue(i)\t\t\n",
        "q.display()\t\t\t            \t\n",
        "for i in range(5): q.dequeue();\t\t\n",
        "q.display()\n",
        "for i in range(8,14): q.enqueue(i)\t\n",
        "q.display()"
      ],
      "metadata": {
        "id": "cos1cXdwW7Bi",
        "colab": {
          "base_uri": "https://localhost:8080/"
        },
        "outputId": "05a17f67-76d0-4c99-e8f2-6dc21e349f1e"
      },
      "execution_count": 6,
      "outputs": [
        {
          "output_type": "stream",
          "name": "stdout",
          "text": [
            "[f=0,r=8] ==>  [0, 1, 2, 3, 4, 5, 6, 7]\n",
            "[f=5,r=8] ==>  [5, 6, 7]\n",
            "[f=5,r=4] ==>  [5, 6, 7, 8, 9, 10, 11, 12, 13]\n"
          ]
        }
      ]
    }
  ]
}