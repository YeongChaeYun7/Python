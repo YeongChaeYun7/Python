{
  "nbformat": 4,
  "nbformat_minor": 0,
  "metadata": {
    "colab": {
      "name": "csv_파일생성.ipynb",
      "provenance": [],
      "collapsed_sections": []
    },
    "kernelspec": {
      "name": "python3",
      "display_name": "Python 3"
    },
    "language_info": {
      "name": "python"
    }
  },
  "cells": [
    {
      "cell_type": "markdown",
      "source": [
        "임의의 숫자를 생성하여 새 파일에 저장\n",
        "\n",
        "첫 줄에는 1~10 범위 내 5개 숫자 입력,\n",
        "\n",
        "둘째 줄에는 20~30 범위 내 3개 숫자 입력,\n",
        "\n",
        "셋째 줄에는 1~100 범위 내 10개 숫자 입력하여\n",
        "\n",
        "readline()과 readlines()을 이용하여 파일을 열어 출력\n"
      ],
      "metadata": {
        "id": "U4a6WMujUO4i"
      }
    },
    {
      "cell_type": "code",
      "execution_count": 2,
      "metadata": {
        "id": "0HEB7K6RlyoG"
      },
      "outputs": [],
      "source": [
        "import random\n",
        "import csv"
      ]
    },
    {
      "cell_type": "markdown",
      "source": [
        "# #1"
      ],
      "metadata": {
        "id": "Ew5_812GfVaU"
      }
    },
    {
      "cell_type": "code",
      "source": [
        "# 파일 생성\n",
        "def F (a,b,c): #a는 시작 숫자, b는 끝 숫자, c는 출력할 개수\n",
        "  L = []\n",
        "  while c > 0:\n",
        "    c -= 1\n",
        "    L.append(random.randint(a,b))\n",
        "  \n",
        "  return L"
      ],
      "metadata": {
        "id": "KX9s6KiofNRR"
      },
      "execution_count": 6,
      "outputs": []
    },
    {
      "cell_type": "code",
      "source": [
        "with open('file.csv',mode='w', encoding='utf-8-sig') as f: # -sig는 cvs파일의 한글깨짐 문제 해결을 위해 encoding 설정 \n",
        "  f.write (' '.join(map(str, (F(1,10,5))))+'\\n')\n",
        "  f.write (' '.join(map(str, (F(20,30,3))))+'\\n')\n",
        "  f.write (' '.join(map(str, (F(1,100,10)))))"
      ],
      "metadata": {
        "id": "cMSaJyEufNNB"
      },
      "execution_count": 7,
      "outputs": []
    },
    {
      "cell_type": "code",
      "source": [
        "# readline() \n",
        "f = open(r'file.csv','r') \n",
        "while True:\n",
        "  line = f.readline() \n",
        "  if not line: break\n",
        "  print(line)\n",
        "f.close()"
      ],
      "metadata": {
        "colab": {
          "base_uri": "https://localhost:8080/"
        },
        "id": "APrfLIKnfNJl",
        "outputId": "254bfe1a-21be-4b9f-cc29-18b6c1605718"
      },
      "execution_count": 8,
      "outputs": [
        {
          "output_type": "stream",
          "name": "stdout",
          "text": [
            "9 8 10 5 3\n",
            "\n",
            "24 20 24\n",
            "\n",
            "94 43 45 71 49 17 53 83 10 93\n"
          ]
        }
      ]
    },
    {
      "cell_type": "code",
      "source": [
        "# readlines() \n",
        "f= open(r'file.csv','r')\n",
        "lines = f.readlines()\n",
        "for line in lines:\n",
        "  print(line)\n",
        "  f.close"
      ],
      "metadata": {
        "colab": {
          "base_uri": "https://localhost:8080/"
        },
        "id": "ezsq3LypfNE_",
        "outputId": "6c739efe-e1d2-4cde-d190-0d5ab454bdb3"
      },
      "execution_count": 9,
      "outputs": [
        {
          "output_type": "stream",
          "name": "stdout",
          "text": [
            "9 8 10 5 3\n",
            "\n",
            "24 20 24\n",
            "\n",
            "94 43 45 71 49 17 53 83 10 93\n"
          ]
        }
      ]
    },
    {
      "cell_type": "markdown",
      "source": [
        "# #2"
      ],
      "metadata": {
        "id": "v7RvPQKafY4v"
      }
    },
    {
      "cell_type": "code",
      "source": [
        "def rand_num_gen(_nums, _min, _max):\n",
        "    res = []\n",
        "    for i in range(_nums):\n",
        "        num = random.randint(_min, _max)        \n",
        "        res.append(num)\n",
        "    return res"
      ],
      "metadata": {
        "id": "Mz4GSGSImIrN"
      },
      "execution_count": null,
      "outputs": []
    },
    {
      "cell_type": "code",
      "source": [
        "raw_datas = []\n",
        "raw_data = rand_num_gen(5, 1, 10)\n",
        "raw_datas.append(raw_data)    \n",
        "raw_data = rand_num_gen(3, 20, 30)\n",
        "raw_datas.append(raw_data)\n",
        "raw_data = rand_num_gen(10, 1, 10)\n",
        "raw_datas.append(raw_data)\n",
        "print(raw_datas) \n",
        "\n",
        "with open(\"ex_randint.csv\", mode = 'w+', encoding = 'utf-8-sig') as f:\n",
        "    w = csv.writer(f)\n",
        "    for i in raw_datas:\n",
        "        w.writerow(i)\n",
        "        print(i)    "
      ],
      "metadata": {
        "colab": {
          "base_uri": "https://localhost:8080/"
        },
        "id": "FekymRJJmci4",
        "outputId": "610d2c3e-fe17-4cbc-8524-950b0ab057b4"
      },
      "execution_count": null,
      "outputs": [
        {
          "output_type": "stream",
          "name": "stdout",
          "text": [
            "[[1, 8, 6, 9, 10], [29, 25, 21], [2, 5, 10, 2, 8, 7, 7, 1, 4, 10]]\n",
            "[1, 8, 6, 9, 10]\n",
            "[29, 25, 21]\n",
            "[2, 5, 10, 2, 8, 7, 7, 1, 4, 10]\n"
          ]
        }
      ]
    },
    {
      "cell_type": "code",
      "source": [
        "# 파일 읽기\n",
        "with open(\"ex_randint.csv\", mode = 'r', encoding = 'utf-8-sig') as f:\n",
        "    raw_data = f.readline()\n",
        "    print(raw_data)\n",
        "    raw_datas = f.readlines()\n",
        "    print(raw_datas)\n",
        "    f.seek(0)\n",
        "    raw_datas = f.readlines()\n",
        "    print(raw_datas)"
      ],
      "metadata": {
        "colab": {
          "base_uri": "https://localhost:8080/"
        },
        "id": "pbUoFeQ1nUVq",
        "outputId": "fb972534-8eca-4cda-c136-980ed38d1efb"
      },
      "execution_count": null,
      "outputs": [
        {
          "output_type": "stream",
          "name": "stdout",
          "text": [
            "1,8,6,9,10\n",
            "\n",
            "['29,25,21\\n', '2,5,10,2,8,7,7,1,4,10\\n']\n",
            "['1,8,6,9,10\\n', '29,25,21\\n', '2,5,10,2,8,7,7,1,4,10\\n']\n"
          ]
        }
      ]
    },
    {
      "cell_type": "markdown",
      "source": [
        "# #3"
      ],
      "metadata": {
        "id": "lUsuZqk7iH-n"
      }
    },
    {
      "cell_type": "code",
      "source": [
        "with open(\"ex_randint2.csv\", mode = 'w+', encoding = 'utf-8-sig') as f:\n",
        "    raw_datas = []\n",
        "    raw_data = rand_num_gen(5, 1, 10)\n",
        "    raw_datas.append(raw_data)    \n",
        "    raw_data = rand_num_gen(3, 20, 30)\n",
        "    raw_datas.append(raw_data)\n",
        "    raw_data = rand_num_gen(10, 1, 10)\n",
        "    raw_datas.append(raw_data)\n",
        "    print(raw_datas)\n",
        "\n",
        "    for row in raw_datas:\n",
        "        row_len = len(row)\n",
        "        for col in range(len(row)):\n",
        "            f.write(str(row[col]))\n",
        "            if col < row_len-1:\n",
        "                f.write(\",\")\n",
        "            else:\n",
        "                f.write(\"\\n\")"
      ],
      "metadata": {
        "colab": {
          "base_uri": "https://localhost:8080/"
        },
        "id": "v8gb7eENExKv",
        "outputId": "88589e56-cc24-4d87-f93d-f6b449649a75"
      },
      "execution_count": null,
      "outputs": [
        {
          "output_type": "stream",
          "name": "stdout",
          "text": [
            "[[4, 2, 5, 5, 1], [25, 27, 30], [2, 7, 4, 7, 10, 9, 5, 8, 3, 3]]\n"
          ]
        }
      ]
    },
    {
      "cell_type": "code",
      "source": [
        "# 파일 읽기\n",
        "with open(\"ex_randint2.csv\", mode = 'r', encoding = 'utf-8-sig') as f:\n",
        "    raw_data = f.readline()\n",
        "    print(raw_data)\n",
        "    raw_datas = f.readlines()\n",
        "    print(raw_datas)\n",
        "    f.seek(0)\n",
        "    raw_datas = f.readlines()\n",
        "    print(raw_datas)"
      ],
      "metadata": {
        "colab": {
          "base_uri": "https://localhost:8080/"
        },
        "id": "cu_h1k2DFkIC",
        "outputId": "707a0ec3-8cf6-4c00-bfca-aa8ef95417b9"
      },
      "execution_count": null,
      "outputs": [
        {
          "output_type": "stream",
          "name": "stdout",
          "text": [
            "4,2,5,5,1\n",
            "\n",
            "['25,27,30\\n', '2,7,4,7,10,9,5,8,3,3\\n']\n",
            "['4,2,5,5,1\\n', '25,27,30\\n', '2,7,4,7,10,9,5,8,3,3\\n']\n"
          ]
        }
      ]
    }
  ]
}