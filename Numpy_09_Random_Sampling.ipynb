{
  "nbformat": 4,
  "nbformat_minor": 0,
  "metadata": {
    "colab": {
      "name": "Numpy_09_Random Sampling.ipynb",
      "provenance": [],
      "collapsed_sections": [],
      "authorship_tag": "ABX9TyPklMgdKh2fmFTsdIJjxKVm"
    },
    "kernelspec": {
      "name": "python3",
      "display_name": "Python 3"
    },
    "language_info": {
      "name": "python"
    }
  },
  "cells": [
    {
      "cell_type": "markdown",
      "source": [
        "# Random Sampling\n",
        "Random module을 활용한 난수 생성 실습\n"
      ],
      "metadata": {
        "id": "xcR16Q21cVjf"
      }
    },
    {
      "cell_type": "code",
      "execution_count": 1,
      "metadata": {
        "id": "hPuuzZ0Au9jO"
      },
      "outputs": [],
      "source": [
        "import numpy as np"
      ]
    },
    {
      "cell_type": "markdown",
      "source": [
        "# random.rand\n",
        "\n",
        "주어진 형태의 0에서 1사이의 난수 array 생성"
      ],
      "metadata": {
        "id": "l9ngwCVoCzvy"
      }
    },
    {
      "cell_type": "code",
      "source": [
        "a = np.random.rand(5)\n",
        "a"
      ],
      "metadata": {
        "colab": {
          "base_uri": "https://localhost:8080/"
        },
        "id": "kKwOUcHPctKN",
        "outputId": "9707fddb-2a1e-41c6-c5f1-cf54ea056fb9"
      },
      "execution_count": 2,
      "outputs": [
        {
          "output_type": "execute_result",
          "data": {
            "text/plain": [
              "array([0.04011567, 0.41316488, 0.01152101, 0.38465461, 0.62506964])"
            ]
          },
          "metadata": {},
          "execution_count": 2
        }
      ]
    },
    {
      "cell_type": "code",
      "source": [
        "b = np.random.rand(2,3)\n",
        "b"
      ],
      "metadata": {
        "colab": {
          "base_uri": "https://localhost:8080/"
        },
        "id": "moAvM1xectCr",
        "outputId": "d00153ef-2301-4bf9-ac8f-1769a5252231"
      },
      "execution_count": 3,
      "outputs": [
        {
          "output_type": "execute_result",
          "data": {
            "text/plain": [
              "array([[0.58033444, 0.31445729, 0.76533255],\n",
              "       [0.90797725, 0.65913287, 0.35951941]])"
            ]
          },
          "metadata": {},
          "execution_count": 3
        }
      ]
    },
    {
      "cell_type": "markdown",
      "source": [
        "# random.randint\n",
        "\n",
        "주어진 범위의 임의의 정수 array 생성\n",
        "\n",
        "randint(범위 시작점(option), 끝점, 생성할 array 형태)"
      ],
      "metadata": {
        "id": "A5_qVExyDBId"
      }
    },
    {
      "cell_type": "code",
      "source": [
        "a = np.random.randint(10, size=5)\n",
        "a"
      ],
      "metadata": {
        "colab": {
          "base_uri": "https://localhost:8080/"
        },
        "id": "9sdkYJLlfeCu",
        "outputId": "b6b3ba70-0ec0-49d1-a342-90bd479330fc"
      },
      "execution_count": 4,
      "outputs": [
        {
          "output_type": "execute_result",
          "data": {
            "text/plain": [
              "array([4, 0, 8, 7, 8])"
            ]
          },
          "metadata": {},
          "execution_count": 4
        }
      ]
    },
    {
      "cell_type": "code",
      "source": [
        "b = np.random.randint(5,10,5)\n",
        "b"
      ],
      "metadata": {
        "colab": {
          "base_uri": "https://localhost:8080/"
        },
        "id": "iG1qee-mfd_L",
        "outputId": "b208b2d5-0f3e-4855-8455-318c0bcfbbf3"
      },
      "execution_count": 5,
      "outputs": [
        {
          "output_type": "execute_result",
          "data": {
            "text/plain": [
              "array([9, 5, 8, 6, 6])"
            ]
          },
          "metadata": {},
          "execution_count": 5
        }
      ]
    },
    {
      "cell_type": "code",
      "source": [
        "c = np.random.randint(1,5,size=(2,3))\n",
        "c"
      ],
      "metadata": {
        "colab": {
          "base_uri": "https://localhost:8080/"
        },
        "id": "uCw12Xhifd8n",
        "outputId": "82c4b446-a8c4-49af-b92e-7a1ecc0dae33"
      },
      "execution_count": 6,
      "outputs": [
        {
          "output_type": "execute_result",
          "data": {
            "text/plain": [
              "array([[1, 1, 4],\n",
              "       [2, 1, 1]])"
            ]
          },
          "metadata": {},
          "execution_count": 6
        }
      ]
    },
    {
      "cell_type": "markdown",
      "source": [
        "# random.choice \n",
        "\n",
        "주어진 1차원 array로 부터 임의의 샘플을 생성"
      ],
      "metadata": {
        "id": "6BbCcYm_DOyJ"
      }
    },
    {
      "cell_type": "code",
      "source": [
        "a = np.random.choice(10,5) # np.arange(10)에서 5개의 임의의 샘플 뽑음\n",
        "a"
      ],
      "metadata": {
        "colab": {
          "base_uri": "https://localhost:8080/"
        },
        "id": "gtSK5m4Wg3N5",
        "outputId": "3a0beaf3-1a37-4707-d431-0d1d992feb18"
      },
      "execution_count": 7,
      "outputs": [
        {
          "output_type": "execute_result",
          "data": {
            "text/plain": [
              "array([9, 8, 4, 2, 4])"
            ]
          },
          "metadata": {},
          "execution_count": 7
        }
      ]
    },
    {
      "cell_type": "code",
      "source": [
        "b = np.random.choice(10,(4,3)) \n",
        "b"
      ],
      "metadata": {
        "colab": {
          "base_uri": "https://localhost:8080/"
        },
        "id": "7c9HIidZg3Kv",
        "outputId": "3c5d54c9-a2c1-47dc-9657-28e765c739eb"
      },
      "execution_count": 8,
      "outputs": [
        {
          "output_type": "execute_result",
          "data": {
            "text/plain": [
              "array([[8, 9, 3],\n",
              "       [7, 3, 6],\n",
              "       [9, 8, 9],\n",
              "       [5, 3, 0]])"
            ]
          },
          "metadata": {},
          "execution_count": 8
        }
      ]
    },
    {
      "cell_type": "markdown",
      "source": [
        "# random.seed \n",
        "난수 생성에 필요한 시드 설정"
      ],
      "metadata": {
        "id": "n-9v_MzcI0yf"
      }
    },
    {
      "cell_type": "code",
      "source": [
        "np.random.seed(0) \n",
        "print(np.random.rand(2,3)) #(2,3)형태 난수 array생성. 코드 생성시마다 동일한 난수 생성"
      ],
      "metadata": {
        "colab": {
          "base_uri": "https://localhost:8080/"
        },
        "id": "fVlCY2R6g3Hd",
        "outputId": "56366fd0-4c82-458d-b72b-af87d2b5d617"
      },
      "execution_count": 9,
      "outputs": [
        {
          "output_type": "stream",
          "name": "stdout",
          "text": [
            "[[0.5488135  0.71518937 0.60276338]\n",
            " [0.54488318 0.4236548  0.64589411]]\n"
          ]
        }
      ]
    },
    {
      "cell_type": "markdown",
      "source": [
        "# random.permutation\n",
        "\n",
        "배열이 저장된 변수 자체를 변경하는 것이 아니라 랜덤으로 섞은 배열만 다시 반환"
      ],
      "metadata": {
        "id": "x56zgnSiI6m8"
      }
    },
    {
      "cell_type": "code",
      "source": [
        "x = np.arange(10)\n",
        "print(x)\n",
        "print(np.random.permutation(x))\n",
        "print(x)"
      ],
      "metadata": {
        "colab": {
          "base_uri": "https://localhost:8080/"
        },
        "id": "D0FjX1XUGGEm",
        "outputId": "d7aaaa8f-5b16-43c5-ed54-20290d23c9bf"
      },
      "execution_count": 10,
      "outputs": [
        {
          "output_type": "stream",
          "name": "stdout",
          "text": [
            "[0 1 2 3 4 5 6 7 8 9]\n",
            "[3 5 1 2 9 8 0 6 7 4]\n",
            "[0 1 2 3 4 5 6 7 8 9]\n"
          ]
        }
      ]
    },
    {
      "cell_type": "markdown",
      "source": [
        "# random.uniform\n",
        "\n",
        "특정 구간 사이의 값을 균등분포의 형태로 추출"
      ],
      "metadata": {
        "id": "59GnZYENrhIL"
      }
    },
    {
      "cell_type": "code",
      "source": [
        "np.random.uniform()"
      ],
      "metadata": {
        "colab": {
          "base_uri": "https://localhost:8080/"
        },
        "id": "VQBzU8nVw78c",
        "outputId": "3ab63078-c843-42fd-a990-be376597179a"
      },
      "execution_count": 11,
      "outputs": [
        {
          "output_type": "execute_result",
          "data": {
            "text/plain": [
              "0.8121687287754932"
            ]
          },
          "metadata": {},
          "execution_count": 11
        }
      ]
    },
    {
      "cell_type": "code",
      "source": [
        "np.random.uniform(5, 9)"
      ],
      "metadata": {
        "colab": {
          "base_uri": "https://localhost:8080/"
        },
        "id": "SxTu2OwLw718",
        "outputId": "f5699588-9bed-48f5-80bc-dd11db36c6e7"
      },
      "execution_count": 12,
      "outputs": [
        {
          "output_type": "execute_result",
          "data": {
            "text/plain": [
              "6.919908689500229"
            ]
          },
          "metadata": {},
          "execution_count": 12
        }
      ]
    },
    {
      "cell_type": "code",
      "source": [
        "a = np.random.uniform(5, 9, size=(6, 6))\n",
        "a"
      ],
      "metadata": {
        "colab": {
          "base_uri": "https://localhost:8080/"
        },
        "id": "GJElt0Asw7zR",
        "outputId": "a184ce1c-9042-4d71-8014-1df3809de660"
      },
      "execution_count": 14,
      "outputs": [
        {
          "output_type": "execute_result",
          "data": {
            "text/plain": [
              "array([[7.43132267, 6.30018892, 5.15370171, 7.53709623, 8.83579707,\n",
              "        7.61116127],\n",
              "       [7.54023549, 8.98119827, 7.32740132, 6.65747435, 6.89879001,\n",
              "        7.4940404 ],\n",
              "       [6.35203046, 7.69900929, 6.26880697, 8.11338193, 8.79828421,\n",
              "        7.65010747],\n",
              "       [5.05428654, 7.49138438, 7.69463852, 8.88778001, 8.51277389,\n",
              "        7.03849751],\n",
              "       [5.22285877, 6.80463686, 5.07995066, 6.76684368, 8.91834692,\n",
              "        6.43777786],\n",
              "       [6.92357412, 7.75464473, 8.52190356, 8.67294187, 5.86728855,\n",
              "        7.26075547]])"
            ]
          },
          "metadata": {},
          "execution_count": 14
        }
      ]
    },
    {
      "cell_type": "code",
      "source": [
        "import matplotlib.pyplot as plt\n",
        "\n",
        "x = range(1000)\n",
        "y = np.random.uniform(5, 9, size=1000)\n",
        "\n",
        "plt.scatter(x, y, s=1, c='k')\n",
        "plt.show()"
      ],
      "metadata": {
        "colab": {
          "base_uri": "https://localhost:8080/",
          "height": 265
        },
        "id": "d1BXWgihw7xC",
        "outputId": "4e5f6303-58d6-49ab-f8ad-852f47623511"
      },
      "execution_count": 15,
      "outputs": [
        {
          "output_type": "display_data",
          "data": {
            "text/plain": [
              "<Figure size 432x288 with 1 Axes>"
            ],
            "image/png": "[encoded data removed]"
          },
          "metadata": {
            "needs_background": "light"
          }
        }
      ]
    }
  ]
}