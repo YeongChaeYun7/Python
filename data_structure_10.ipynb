{
  "nbformat": 4,
  "nbformat_minor": 0,
  "metadata": {
    "colab": {
      "name": "data_structure_10.ipynb",
      "provenance": [],
      "collapsed_sections": [],
      "authorship_tag": "ABX9TyNZUOw/N2lvj0FD7zjDcUzs"
    },
    "kernelspec": {
      "name": "python3",
      "display_name": "Python 3"
    },
    "language_info": {
      "name": "python"
    }
  },
  "cells": [
    {
      "cell_type": "markdown",
      "source": [
        "# 해싱(hashing)\n",
        ": 탐색키와 각 레코드의 키값을 비교하는 과정의 반복을 통해 원하는 항목을 찾음\n",
        "\n",
        ">키값에 대한 산술적 연산에 의해 원하는 테이블의 주소를 계산\n",
        "\n",
        "계산된 위치에 레코드가 있는지 확인\n",
        "\n",
        "해시 함수(hash function): \n",
        "\n",
        "해시 주소(hash address): \n",
        "\n",
        "해시 테이블(hash table): \n",
        "\n",
        "버킷(bucket): 해시테이블의 구성요소\n",
        "\n",
        "슬럿(slot): 버킷의 구성요소\n",
        "\n",
        "해시테이블은 key-value가 1:1로 매핑되어 있기 때문에 삽입, 삭제, 검색의 과정에서 모두 평균적으로 O(1)의 시간복잡도를 가짐\n",
        "\n",
        "이상적인 해시함수는 키들의 분포를 균등하게 해시테이블의 인덱스로 변환하는 것이다.\n",
        "\n",
        "해시의 장점은 신속인데 키가 뭉쳐있으면 해시값을 만드는데 시간이 오래걸리기 때문. \n",
        "\n",
        "테이블이 채워질수록 충돌확률이 높아지고 성능이 낮아진다는 전제하에 탐색방법의 성능을 예측한다.\n"
      ],
      "metadata": {
        "id": "j2Mitj7ykIxH"
      }
    },
    {
      "cell_type": "markdown",
      "source": [
        " \n",
        ">해싱의 충돌과 오버플로(이론)\n",
        "\n",
        " 충돌(collision): 서로 다른 키가 해시 함수에 의해 같은 주소로 계산되는 상황(버킷 부족등이 원인)\n",
        "\n",
        " 오버플로(over flow): 충돌이 슬롯 수보다 더 많이 발생하는 상황\n",
        "\n",
        ">일반적인 충돌 대처법\n",
        "선형 조사법(linear probing): 해시함수로 계산된 버킷이 차있으면 그 다음 버킷의 빈 슬롯을 찾는 방법\n",
        "\n",
        "(h(k)+i) % m -> 가장 많이 쓰는 해시 함수. m은 소수로 사용(0인 값이 나오는 경우를 줄이려고)\n",
        "\n",
        "i가 1씩 증가 (ex- 0,1,2,3,4,5...)\n",
        "\n",
        "-> 군집화(clustering) 현상. 탐색효율 저하\n",
        "\n",
        "> 군집화 완화 방법\n",
        "\n",
        "이차 조사법(quadratic probing)\n",
        "\n",
        ": 충돌 발생 시에 다음 조사 위치를 아랠 수식으로 결정\n",
        "\n",
        "(h(k)+i*i) % m for i -> i의 증가 간격이 점점 커짐(ex-0,1,4,9...)\n",
        "\n",
        "이중 해싱법(double probing, rehashing)\n",
        "\n",
        "\n",
        ": 충돌 발생 시에 원래 해시함수와 다른 별개의 해시 함수 이용\n",
        "\n",
        "> 오버플로 처리 방법 - 체이닝(chaining)\n",
        "\n",
        ": 하나의 버킷에 여러개의 레코드를 저장. 버킷은 연결리스트로 구현한다.\n",
        "\n",
        "\n"
      ],
      "metadata": {
        "id": "LrTlMS0P-lK3"
      }
    },
    {
      "cell_type": "markdown",
      "source": [
        "# 해시함수 종류\n",
        "\n",
        "* 중간 제곱(mid-square) 함수\n",
        "\n",
        " : 탐색키 제곱 -> 일부분의 비트만 이용하여 해시 주소 생성. 비교적 고른 분산.\n",
        "\n",
        "* 비트 추출 함수\n",
        "\n",
        " : 해시 테이블의 크기가 M = 2**k, 탐색키를 이진수로 간주하여 임의 위치의 k개의 비트를 해시 주소 활용\n",
        "\n",
        " 탐색키의 일부 주소만 이용하면 해시주소의 군집화 확률 높아짐\n",
        "\n",
        "* 숫자 분석 방법\n",
        "\n",
        ": 탐색키에서 표준이 되지않는 수들을 제외하고 재조합하여 해시 주소로 사용 \n",
        "\n",
        "*탐색키가 문자열인 경우, 문자를 정수로 대응하여 사용(아스키 코드값)"
      ],
      "metadata": {
        "id": "mUcQrBJ3zoN_"
      }
    },
    {
      "cell_type": "code",
      "source": [
        "# 탐색키가 문자열인 경우\n",
        "# 아스키 코드 전환 내장함수 ord()\n",
        "str_key = 'ASCII'\n",
        "int_key = []\n",
        "for k in str_key:\n",
        "  int_key.append(ord(k))\n",
        "\n",
        "int_key"
      ],
      "metadata": {
        "colab": {
          "base_uri": "https://localhost:8080/"
        },
        "id": "lJcO6F7plXZd",
        "outputId": "9a5f0e77-6b7c-4070-c8ef-b25c1ad6650e"
      },
      "execution_count": null,
      "outputs": [
        {
          "output_type": "execute_result",
          "data": {
            "text/plain": [
              "[65, 83, 67, 73, 73]"
            ]
          },
          "metadata": {},
          "execution_count": 10
        }
      ]
    }
  ]
}