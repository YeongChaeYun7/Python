{
  "nbformat": 4,
  "nbformat_minor": 0,
  "metadata": {
    "colab": {
      "provenance": [],
      "authorship_tag": "ABX9TyOxSyo5s/myUa0LxtxSjwbY"
    },
    "kernelspec": {
      "name": "python3",
      "display_name": "Python 3"
    },
    "language_info": {
      "name": "python"
    }
  },
  "cells": [
    {
      "cell_type": "markdown",
      "source": [
        "[programmers 입국심사](https://school.programmers.co.kr/learn/courses/30/lessons/43238)  \n",
        "n명이 입국심사를 위해 줄을 서서 기다리고 있습니다.   \n",
        "각 입국심사대에 있는 심사관마다 심사하는데 걸리는 시간은 다릅니다.  \n",
        "  \n",
        "처음에 모든 심사대는 비어있습니다.   \n",
        "한 심사대에서는 동시에 한 명만 심사를 할 수 있습니다.   \n",
        "가장 앞에 서 있는 사람은 비어 있는 심사대로 가서 심사를 받을 수 있습니다.  \n",
        "하지만 더 빨리 끝나는 심사대가 있으면 기다렸다가 그곳으로 가서 심사를 받을 수도 있습니다.  \n",
        "  \n",
        "\n",
        "\n",
        "모든 사람이 심사를 받는데 걸리는 시간을 최소로 하고 싶습니다.  \n",
        "  \n",
        "입국심사를 기다리는 사람 수 n, 각 심사관이 한 명을 심사하는데 걸리는 시간이 담긴 배열 times가 매개변수로 주어질 때,   \n",
        "모든 사람이 심사를 받는데 걸리는 시간의 최솟값을 return 하도록 solution 함수를 작성해주세요.  \n",
        "  \n",
        ">제한사항  \n",
        "입국심사를 기다리는 사람은 1명 이상 1,000,000,000명 이하입니다.  \n",
        "각 심사관이 한 명을 심사하는데 걸리는 시간은 1분 이상 1,000,000,000분 이하입니다.  \n",
        "심사관은 1명 이상 100,000명 이하입니다.  \n",
        "\n",
        "- 입출력 예  \n",
        "n\t= 6\t  \n",
        "times = [7, 10]  \n",
        "return = \t28  \n",
        "  \n",
        "- 입출력 예 설명  \n",
        "  \n",
        "가장 첫 두 사람은 바로 심사를 받으러 갑니다.  \n",
        "7분이 되었을 때, 첫 번째 심사대가 비고 3번째 사람이 심사를 받습니다.  \n",
        "10분이 되었을 때, 두 번째 심사대가 비고 4번째 사람이 심사를 받습니다.  \n",
        "14분이 되었을 때, 첫 번째 심사대가 비고 5번째 사람이 심사를 받습니다.  \n",
        "20분이 되었을 때, 두 번째 심사대가 비지만 6번째 사람이 그곳에서 심사를 받지 않고 1분을 더 기다린 후에   \n",
        "첫 번째 심사대에서 심사를 받으면 28분에 모든 사람의 심사가 끝납니다.  \n",
        "\n"
      ],
      "metadata": {
        "id": "Myl-qbE7D0iD"
      }
    },
    {
      "cell_type": "markdown",
      "source": [
        "이진탐색 문제  \n",
        "가장 최적의 시간으로 심사를 마칠려면 빠른 심사대에서 최대한 많은 심사를 해야 한다.  \n",
        "전체 로직은 주어진 심사대와 인원 수에서 가장 비효율적인 심사 시간을 max로 두고,   \n",
        "시간을 이진 탐색 하면서 mid(현재 탐색하는 시간)동안 심사가 가능한지 판단함.   \n",
        " \n",
        "심사해야 하는 인원수보다 현재 심사 가능한 인원수가 더 작다면 위쪽(mid+1)에서 다시 찾고,   \n",
        "더 많은 인원을 심사할 수 있다면 현재 탐색한 시간보다 아래쪽(mid-1)에서 다시 찾는다 "
      ],
      "metadata": {
        "id": "4S8x2O8LEd6q"
      }
    },
    {
      "cell_type": "code",
      "source": [
        "def solution(n, times):\n",
        "    answer = 0\n",
        "    left = min(times)\n",
        "    right = max(times)*n # 가장 비효율적인 심사 시간 = 가장 오래 걸리는 심사관에게 전원 심사받는 경우\n",
        "    while left <= right:\n",
        "        mid = (left+ right) // 2\n",
        "        checked = 0\n",
        "        for time in times:\n",
        "            checked += mid // time # 모든 심사관들이 mid분 동안 심사한 사람의 수\n",
        "            if checked >= n: # 심사관을 모두 안거쳐도 mid분 동안 n명 이상의 심사 채우면 반복문 나감\n",
        "                break\n",
        "        \n",
        "        if checked >= n: # 심사한 사람의 수가 n(심사 받을 사람)보다 많거나 같을 경우\n",
        "            answer = mid\n",
        "            right = mid - 1\n",
        "        elif checked < n:# 심사한 사람의 수가 n보다 작을 경우\n",
        "            left = mid + 1\n",
        "            \n",
        "    return answer"
      ],
      "metadata": {
        "id": "uY6-b7F3EaNI"
      },
      "execution_count": 2,
      "outputs": []
    }
  ]
}